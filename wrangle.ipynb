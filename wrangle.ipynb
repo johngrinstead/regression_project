{
 "cells": [
  {
   "cell_type": "code",
   "execution_count": 1,
   "metadata": {},
   "outputs": [],
   "source": [
    "import warnings\n",
    "warnings.filterwarnings(\"ignore\")\n",
    "\n",
    "import pandas as pd\n",
    "import matplotlib.pyplot as plt\n",
    "import seaborn as sns\n",
    "import numpy as np\n",
    "import env\n",
    "\n",
    "from sklearn.model_selection import train_test_split"
   ]
  },
  {
   "cell_type": "code",
   "execution_count": 2,
   "metadata": {},
   "outputs": [],
   "source": [
    "def get_connection(db, user=env.user, host=env.host, password=env.password):\n",
    "    return f'mysql+pymysql://{user}:{password}@{host}/{db}'"
   ]
  },
  {
   "cell_type": "code",
   "execution_count": 3,
   "metadata": {},
   "outputs": [],
   "source": [
    "sql = '''\n",
    "select parcelid, calculatedfinishedsquarefeet as square_feet, bedroomcnt as bedrooms, bathroomcnt as bathrooms, taxamount as taxes, taxvaluedollarcnt as tax_value, yearbuilt, regionidcounty as county, lotsizesquarefeet as lot_size\n",
    "from properties_2017\n",
    "join predictions_2017 using(parcelid)\n",
    "where transactiondate between \"2017-05-01\" and \"2017-06-30\"\n",
    "and unitcnt = 1;\n",
    "'''"
   ]
  },
  {
   "cell_type": "code",
   "execution_count": 4,
   "metadata": {},
   "outputs": [],
   "source": [
    "df = pd.read_sql(sql, get_connection('zillow'))"
   ]
  },
  {
   "cell_type": "code",
   "execution_count": 5,
   "metadata": {},
   "outputs": [
    {
     "data": {
      "text/html": [
       "<div>\n",
       "<style scoped>\n",
       "    .dataframe tbody tr th:only-of-type {\n",
       "        vertical-align: middle;\n",
       "    }\n",
       "\n",
       "    .dataframe tbody tr th {\n",
       "        vertical-align: top;\n",
       "    }\n",
       "\n",
       "    .dataframe thead th {\n",
       "        text-align: right;\n",
       "    }\n",
       "</style>\n",
       "<table border=\"1\" class=\"dataframe\">\n",
       "  <thead>\n",
       "    <tr style=\"text-align: right;\">\n",
       "      <th></th>\n",
       "      <th>parcelid</th>\n",
       "      <th>square_feet</th>\n",
       "      <th>bedrooms</th>\n",
       "      <th>bathrooms</th>\n",
       "      <th>taxes</th>\n",
       "      <th>tax_value</th>\n",
       "      <th>yearbuilt</th>\n",
       "      <th>county</th>\n",
       "      <th>lot_size</th>\n",
       "    </tr>\n",
       "  </thead>\n",
       "  <tbody>\n",
       "    <tr>\n",
       "      <th>0</th>\n",
       "      <td>11289917</td>\n",
       "      <td>1458.0</td>\n",
       "      <td>3.0</td>\n",
       "      <td>2.0</td>\n",
       "      <td>2319.90</td>\n",
       "      <td>136104.0</td>\n",
       "      <td>1970.0</td>\n",
       "      <td>3101.0</td>\n",
       "      <td>8284.0</td>\n",
       "    </tr>\n",
       "    <tr>\n",
       "      <th>1</th>\n",
       "      <td>11705026</td>\n",
       "      <td>1421.0</td>\n",
       "      <td>2.0</td>\n",
       "      <td>1.0</td>\n",
       "      <td>543.69</td>\n",
       "      <td>35606.0</td>\n",
       "      <td>1911.0</td>\n",
       "      <td>3101.0</td>\n",
       "      <td>6707.0</td>\n",
       "    </tr>\n",
       "    <tr>\n",
       "      <th>2</th>\n",
       "      <td>11389003</td>\n",
       "      <td>1650.0</td>\n",
       "      <td>3.0</td>\n",
       "      <td>2.0</td>\n",
       "      <td>7673.19</td>\n",
       "      <td>614000.0</td>\n",
       "      <td>1949.0</td>\n",
       "      <td>3101.0</td>\n",
       "      <td>7300.0</td>\n",
       "    </tr>\n",
       "    <tr>\n",
       "      <th>3</th>\n",
       "      <td>11967869</td>\n",
       "      <td>693.0</td>\n",
       "      <td>2.0</td>\n",
       "      <td>1.0</td>\n",
       "      <td>3267.47</td>\n",
       "      <td>274237.0</td>\n",
       "      <td>1921.0</td>\n",
       "      <td>3101.0</td>\n",
       "      <td>2908.0</td>\n",
       "    </tr>\n",
       "    <tr>\n",
       "      <th>4</th>\n",
       "      <td>12035176</td>\n",
       "      <td>812.0</td>\n",
       "      <td>1.0</td>\n",
       "      <td>1.0</td>\n",
       "      <td>2926.19</td>\n",
       "      <td>245906.0</td>\n",
       "      <td>1966.0</td>\n",
       "      <td>3101.0</td>\n",
       "      <td>93226.0</td>\n",
       "    </tr>\n",
       "  </tbody>\n",
       "</table>\n",
       "</div>"
      ],
      "text/plain": [
       "   parcelid  square_feet  bedrooms  bathrooms    taxes  tax_value  yearbuilt  \\\n",
       "0  11289917       1458.0       3.0        2.0  2319.90   136104.0     1970.0   \n",
       "1  11705026       1421.0       2.0        1.0   543.69    35606.0     1911.0   \n",
       "2  11389003       1650.0       3.0        2.0  7673.19   614000.0     1949.0   \n",
       "3  11967869        693.0       2.0        1.0  3267.47   274237.0     1921.0   \n",
       "4  12035176        812.0       1.0        1.0  2926.19   245906.0     1966.0   \n",
       "\n",
       "   county  lot_size  \n",
       "0  3101.0    8284.0  \n",
       "1  3101.0    6707.0  \n",
       "2  3101.0    7300.0  \n",
       "3  3101.0    2908.0  \n",
       "4  3101.0   93226.0  "
      ]
     },
     "execution_count": 5,
     "metadata": {},
     "output_type": "execute_result"
    }
   ],
   "source": [
    "df.head()"
   ]
  },
  {
   "cell_type": "code",
   "execution_count": 6,
   "metadata": {},
   "outputs": [
    {
     "data": {
      "text/plain": [
       "(13309, 9)"
      ]
     },
     "execution_count": 6,
     "metadata": {},
     "output_type": "execute_result"
    }
   ],
   "source": [
    "df.shape"
   ]
  },
  {
   "cell_type": "code",
   "execution_count": 7,
   "metadata": {},
   "outputs": [
    {
     "name": "stdout",
     "output_type": "stream",
     "text": [
      "<class 'pandas.core.frame.DataFrame'>\n",
      "RangeIndex: 13309 entries, 0 to 13308\n",
      "Data columns (total 9 columns):\n",
      " #   Column       Non-Null Count  Dtype  \n",
      "---  ------       --------------  -----  \n",
      " 0   parcelid     13309 non-null  int64  \n",
      " 1   square_feet  13308 non-null  float64\n",
      " 2   bedrooms     13309 non-null  float64\n",
      " 3   bathrooms    13309 non-null  float64\n",
      " 4   taxes        13308 non-null  float64\n",
      " 5   tax_value    13309 non-null  float64\n",
      " 6   yearbuilt    13303 non-null  float64\n",
      " 7   county       13309 non-null  float64\n",
      " 8   lot_size     12976 non-null  float64\n",
      "dtypes: float64(8), int64(1)\n",
      "memory usage: 935.9 KB\n"
     ]
    }
   ],
   "source": [
    "df.info()"
   ]
  },
  {
   "cell_type": "code",
   "execution_count": 9,
   "metadata": {},
   "outputs": [
    {
     "name": "stdout",
     "output_type": "stream",
     "text": [
      "parcelid         0\n",
      "square_feet      1\n",
      "bedrooms         0\n",
      "bathrooms        0\n",
      "taxes            1\n",
      "tax_value        0\n",
      "yearbuilt        6\n",
      "county           0\n",
      "lot_size       333\n",
      "dtype: int64\n"
     ]
    }
   ],
   "source": [
    "print(df.isnull().sum())"
   ]
  },
  {
   "cell_type": "code",
   "execution_count": 10,
   "metadata": {},
   "outputs": [
    {
     "name": "stdout",
     "output_type": "stream",
     "text": [
      "Index(['square_feet', 'taxes', 'yearbuilt', 'lot_size'], dtype='object')\n"
     ]
    }
   ],
   "source": [
    "print(df.columns[df.isnull().any()])"
   ]
  },
  {
   "cell_type": "code",
   "execution_count": 8,
   "metadata": {},
   "outputs": [],
   "source": [
    "df.to_csv(\"zillow.csv\") "
   ]
  },
  {
   "cell_type": "code",
   "execution_count": 11,
   "metadata": {},
   "outputs": [],
   "source": [
    "df = df.dropna()"
   ]
  },
  {
   "cell_type": "code",
   "execution_count": 12,
   "metadata": {},
   "outputs": [
    {
     "data": {
      "text/plain": [
       "(12968, 9)"
      ]
     },
     "execution_count": 12,
     "metadata": {},
     "output_type": "execute_result"
    }
   ],
   "source": [
    "df.shape"
   ]
  },
  {
   "cell_type": "code",
   "execution_count": 13,
   "metadata": {},
   "outputs": [
    {
     "name": "stdout",
     "output_type": "stream",
     "text": [
      "<class 'pandas.core.frame.DataFrame'>\n",
      "Int64Index: 12968 entries, 0 to 13308\n",
      "Data columns (total 9 columns):\n",
      " #   Column       Non-Null Count  Dtype  \n",
      "---  ------       --------------  -----  \n",
      " 0   parcelid     12968 non-null  int64  \n",
      " 1   square_feet  12968 non-null  float64\n",
      " 2   bedrooms     12968 non-null  float64\n",
      " 3   bathrooms    12968 non-null  float64\n",
      " 4   taxes        12968 non-null  float64\n",
      " 5   tax_value    12968 non-null  float64\n",
      " 6   yearbuilt    12968 non-null  float64\n",
      " 7   county       12968 non-null  float64\n",
      " 8   lot_size     12968 non-null  float64\n",
      "dtypes: float64(8), int64(1)\n",
      "memory usage: 1013.1 KB\n"
     ]
    }
   ],
   "source": [
    "df.info()"
   ]
  },
  {
   "cell_type": "code",
   "execution_count": 14,
   "metadata": {},
   "outputs": [
    {
     "name": "stdout",
     "output_type": "stream",
     "text": [
      "parcelid       0\n",
      "square_feet    0\n",
      "bedrooms       0\n",
      "bathrooms      0\n",
      "taxes          0\n",
      "tax_value      0\n",
      "yearbuilt      0\n",
      "county         0\n",
      "lot_size       0\n",
      "dtype: int64\n"
     ]
    }
   ],
   "source": [
    "print(df.isnull().sum())"
   ]
  },
  {
   "cell_type": "code",
   "execution_count": 15,
   "metadata": {},
   "outputs": [
    {
     "data": {
      "text/html": [
       "<div>\n",
       "<style scoped>\n",
       "    .dataframe tbody tr th:only-of-type {\n",
       "        vertical-align: middle;\n",
       "    }\n",
       "\n",
       "    .dataframe tbody tr th {\n",
       "        vertical-align: top;\n",
       "    }\n",
       "\n",
       "    .dataframe thead th {\n",
       "        text-align: right;\n",
       "    }\n",
       "</style>\n",
       "<table border=\"1\" class=\"dataframe\">\n",
       "  <thead>\n",
       "    <tr style=\"text-align: right;\">\n",
       "      <th></th>\n",
       "      <th>square_feet</th>\n",
       "      <th>bedrooms</th>\n",
       "      <th>bathrooms</th>\n",
       "      <th>taxes</th>\n",
       "      <th>tax_value</th>\n",
       "      <th>yearbuilt</th>\n",
       "      <th>county</th>\n",
       "      <th>lot_size</th>\n",
       "    </tr>\n",
       "    <tr>\n",
       "      <th>parcelid</th>\n",
       "      <th></th>\n",
       "      <th></th>\n",
       "      <th></th>\n",
       "      <th></th>\n",
       "      <th></th>\n",
       "      <th></th>\n",
       "      <th></th>\n",
       "      <th></th>\n",
       "    </tr>\n",
       "  </thead>\n",
       "  <tbody>\n",
       "    <tr>\n",
       "      <th>11289917</th>\n",
       "      <td>1458.0</td>\n",
       "      <td>3.0</td>\n",
       "      <td>2.0</td>\n",
       "      <td>2319.90</td>\n",
       "      <td>136104.0</td>\n",
       "      <td>1970.0</td>\n",
       "      <td>3101.0</td>\n",
       "      <td>8284.0</td>\n",
       "    </tr>\n",
       "    <tr>\n",
       "      <th>11705026</th>\n",
       "      <td>1421.0</td>\n",
       "      <td>2.0</td>\n",
       "      <td>1.0</td>\n",
       "      <td>543.69</td>\n",
       "      <td>35606.0</td>\n",
       "      <td>1911.0</td>\n",
       "      <td>3101.0</td>\n",
       "      <td>6707.0</td>\n",
       "    </tr>\n",
       "    <tr>\n",
       "      <th>11389003</th>\n",
       "      <td>1650.0</td>\n",
       "      <td>3.0</td>\n",
       "      <td>2.0</td>\n",
       "      <td>7673.19</td>\n",
       "      <td>614000.0</td>\n",
       "      <td>1949.0</td>\n",
       "      <td>3101.0</td>\n",
       "      <td>7300.0</td>\n",
       "    </tr>\n",
       "    <tr>\n",
       "      <th>11967869</th>\n",
       "      <td>693.0</td>\n",
       "      <td>2.0</td>\n",
       "      <td>1.0</td>\n",
       "      <td>3267.47</td>\n",
       "      <td>274237.0</td>\n",
       "      <td>1921.0</td>\n",
       "      <td>3101.0</td>\n",
       "      <td>2908.0</td>\n",
       "    </tr>\n",
       "    <tr>\n",
       "      <th>12035176</th>\n",
       "      <td>812.0</td>\n",
       "      <td>1.0</td>\n",
       "      <td>1.0</td>\n",
       "      <td>2926.19</td>\n",
       "      <td>245906.0</td>\n",
       "      <td>1966.0</td>\n",
       "      <td>3101.0</td>\n",
       "      <td>93226.0</td>\n",
       "    </tr>\n",
       "    <tr>\n",
       "      <th>...</th>\n",
       "      <td>...</td>\n",
       "      <td>...</td>\n",
       "      <td>...</td>\n",
       "      <td>...</td>\n",
       "      <td>...</td>\n",
       "      <td>...</td>\n",
       "      <td>...</td>\n",
       "      <td>...</td>\n",
       "    </tr>\n",
       "    <tr>\n",
       "      <th>12832732</th>\n",
       "      <td>1740.0</td>\n",
       "      <td>3.0</td>\n",
       "      <td>3.0</td>\n",
       "      <td>5192.45</td>\n",
       "      <td>436000.0</td>\n",
       "      <td>1978.0</td>\n",
       "      <td>3101.0</td>\n",
       "      <td>1733.0</td>\n",
       "    </tr>\n",
       "    <tr>\n",
       "      <th>12945108</th>\n",
       "      <td>1536.0</td>\n",
       "      <td>3.0</td>\n",
       "      <td>2.0</td>\n",
       "      <td>3519.78</td>\n",
       "      <td>297097.0</td>\n",
       "      <td>1955.0</td>\n",
       "      <td>3101.0</td>\n",
       "      <td>8818.0</td>\n",
       "    </tr>\n",
       "    <tr>\n",
       "      <th>11464823</th>\n",
       "      <td>2305.0</td>\n",
       "      <td>4.0</td>\n",
       "      <td>3.0</td>\n",
       "      <td>6996.21</td>\n",
       "      <td>579047.0</td>\n",
       "      <td>1949.0</td>\n",
       "      <td>3101.0</td>\n",
       "      <td>5742.0</td>\n",
       "    </tr>\n",
       "    <tr>\n",
       "      <th>11534364</th>\n",
       "      <td>1997.0</td>\n",
       "      <td>3.0</td>\n",
       "      <td>2.0</td>\n",
       "      <td>7587.79</td>\n",
       "      <td>630933.0</td>\n",
       "      <td>1966.0</td>\n",
       "      <td>3101.0</td>\n",
       "      <td>73857.0</td>\n",
       "    </tr>\n",
       "    <tr>\n",
       "      <th>12942897</th>\n",
       "      <td>1840.0</td>\n",
       "      <td>4.0</td>\n",
       "      <td>3.0</td>\n",
       "      <td>3893.77</td>\n",
       "      <td>337683.0</td>\n",
       "      <td>1997.0</td>\n",
       "      <td>3101.0</td>\n",
       "      <td>3088.0</td>\n",
       "    </tr>\n",
       "  </tbody>\n",
       "</table>\n",
       "<p>12968 rows × 8 columns</p>\n",
       "</div>"
      ],
      "text/plain": [
       "          square_feet  bedrooms  bathrooms    taxes  tax_value  yearbuilt  \\\n",
       "parcelid                                                                    \n",
       "11289917       1458.0       3.0        2.0  2319.90   136104.0     1970.0   \n",
       "11705026       1421.0       2.0        1.0   543.69    35606.0     1911.0   \n",
       "11389003       1650.0       3.0        2.0  7673.19   614000.0     1949.0   \n",
       "11967869        693.0       2.0        1.0  3267.47   274237.0     1921.0   \n",
       "12035176        812.0       1.0        1.0  2926.19   245906.0     1966.0   \n",
       "...               ...       ...        ...      ...        ...        ...   \n",
       "12832732       1740.0       3.0        3.0  5192.45   436000.0     1978.0   \n",
       "12945108       1536.0       3.0        2.0  3519.78   297097.0     1955.0   \n",
       "11464823       2305.0       4.0        3.0  6996.21   579047.0     1949.0   \n",
       "11534364       1997.0       3.0        2.0  7587.79   630933.0     1966.0   \n",
       "12942897       1840.0       4.0        3.0  3893.77   337683.0     1997.0   \n",
       "\n",
       "          county  lot_size  \n",
       "parcelid                    \n",
       "11289917  3101.0    8284.0  \n",
       "11705026  3101.0    6707.0  \n",
       "11389003  3101.0    7300.0  \n",
       "11967869  3101.0    2908.0  \n",
       "12035176  3101.0   93226.0  \n",
       "...          ...       ...  \n",
       "12832732  3101.0    1733.0  \n",
       "12945108  3101.0    8818.0  \n",
       "11464823  3101.0    5742.0  \n",
       "11534364  3101.0   73857.0  \n",
       "12942897  3101.0    3088.0  \n",
       "\n",
       "[12968 rows x 8 columns]"
      ]
     },
     "execution_count": 15,
     "metadata": {},
     "output_type": "execute_result"
    }
   ],
   "source": [
    "df.set_index(\"parcelid\")"
   ]
  },
  {
   "cell_type": "code",
   "execution_count": 16,
   "metadata": {},
   "outputs": [],
   "source": [
    "def wrangle_zillow():\n",
    "    data = pd.read_csv(\"zillow.csv\")\n",
    "    \n",
    "    data = data.set_index(\"parcelid\")\n",
    "    \n",
    "    data = data.dropna()\n",
    "    # remove all NaN values\n",
    "    \n",
    "    return data"
   ]
  },
  {
   "cell_type": "code",
   "execution_count": 17,
   "metadata": {},
   "outputs": [],
   "source": [
    "def split(df, stratify_by=None):\n",
    "    \"\"\"\n",
    "    Crude train, validate, test split\n",
    "    To stratify, send in a column name\n",
    "    \"\"\"\n",
    "    \n",
    "    if stratify_by == None:\n",
    "        train, test = train_test_split(df, test_size=.2, random_state=319)\n",
    "        train, validate = train_test_split(train, test_size=.3, random_state=319)\n",
    "    else:\n",
    "        train, test = train_test_split(df, test_size=.2, random_state=319, stratify=df[stratify_by])\n",
    "        train, validate = train_test_split(train, test_size=.3, random_state=319, stratify=train[stratify_by])\n",
    "    \n",
    "    return train, validate, test"
   ]
  },
  {
   "cell_type": "code",
   "execution_count": 18,
   "metadata": {},
   "outputs": [],
   "source": [
    "df2 = wrangle_zillow()"
   ]
  },
  {
   "cell_type": "code",
   "execution_count": 19,
   "metadata": {},
   "outputs": [
    {
     "data": {
      "text/html": [
       "<div>\n",
       "<style scoped>\n",
       "    .dataframe tbody tr th:only-of-type {\n",
       "        vertical-align: middle;\n",
       "    }\n",
       "\n",
       "    .dataframe tbody tr th {\n",
       "        vertical-align: top;\n",
       "    }\n",
       "\n",
       "    .dataframe thead th {\n",
       "        text-align: right;\n",
       "    }\n",
       "</style>\n",
       "<table border=\"1\" class=\"dataframe\">\n",
       "  <thead>\n",
       "    <tr style=\"text-align: right;\">\n",
       "      <th></th>\n",
       "      <th>parcelid</th>\n",
       "      <th>square_feet</th>\n",
       "      <th>bedrooms</th>\n",
       "      <th>bathrooms</th>\n",
       "      <th>taxes</th>\n",
       "      <th>tax_value</th>\n",
       "      <th>yearbuilt</th>\n",
       "      <th>county</th>\n",
       "      <th>lot_size</th>\n",
       "    </tr>\n",
       "  </thead>\n",
       "  <tbody>\n",
       "    <tr>\n",
       "      <th>0</th>\n",
       "      <td>11289917</td>\n",
       "      <td>1458.0</td>\n",
       "      <td>3.0</td>\n",
       "      <td>2.0</td>\n",
       "      <td>2319.90</td>\n",
       "      <td>136104.0</td>\n",
       "      <td>1970.0</td>\n",
       "      <td>3101.0</td>\n",
       "      <td>8284.0</td>\n",
       "    </tr>\n",
       "    <tr>\n",
       "      <th>1</th>\n",
       "      <td>11705026</td>\n",
       "      <td>1421.0</td>\n",
       "      <td>2.0</td>\n",
       "      <td>1.0</td>\n",
       "      <td>543.69</td>\n",
       "      <td>35606.0</td>\n",
       "      <td>1911.0</td>\n",
       "      <td>3101.0</td>\n",
       "      <td>6707.0</td>\n",
       "    </tr>\n",
       "    <tr>\n",
       "      <th>2</th>\n",
       "      <td>11389003</td>\n",
       "      <td>1650.0</td>\n",
       "      <td>3.0</td>\n",
       "      <td>2.0</td>\n",
       "      <td>7673.19</td>\n",
       "      <td>614000.0</td>\n",
       "      <td>1949.0</td>\n",
       "      <td>3101.0</td>\n",
       "      <td>7300.0</td>\n",
       "    </tr>\n",
       "    <tr>\n",
       "      <th>3</th>\n",
       "      <td>11967869</td>\n",
       "      <td>693.0</td>\n",
       "      <td>2.0</td>\n",
       "      <td>1.0</td>\n",
       "      <td>3267.47</td>\n",
       "      <td>274237.0</td>\n",
       "      <td>1921.0</td>\n",
       "      <td>3101.0</td>\n",
       "      <td>2908.0</td>\n",
       "    </tr>\n",
       "    <tr>\n",
       "      <th>4</th>\n",
       "      <td>12035176</td>\n",
       "      <td>812.0</td>\n",
       "      <td>1.0</td>\n",
       "      <td>1.0</td>\n",
       "      <td>2926.19</td>\n",
       "      <td>245906.0</td>\n",
       "      <td>1966.0</td>\n",
       "      <td>3101.0</td>\n",
       "      <td>93226.0</td>\n",
       "    </tr>\n",
       "  </tbody>\n",
       "</table>\n",
       "</div>"
      ],
      "text/plain": [
       "   parcelid  square_feet  bedrooms  bathrooms    taxes  tax_value  yearbuilt  \\\n",
       "0  11289917       1458.0       3.0        2.0  2319.90   136104.0     1970.0   \n",
       "1  11705026       1421.0       2.0        1.0   543.69    35606.0     1911.0   \n",
       "2  11389003       1650.0       3.0        2.0  7673.19   614000.0     1949.0   \n",
       "3  11967869        693.0       2.0        1.0  3267.47   274237.0     1921.0   \n",
       "4  12035176        812.0       1.0        1.0  2926.19   245906.0     1966.0   \n",
       "\n",
       "   county  lot_size  \n",
       "0  3101.0    8284.0  \n",
       "1  3101.0    6707.0  \n",
       "2  3101.0    7300.0  \n",
       "3  3101.0    2908.0  \n",
       "4  3101.0   93226.0  "
      ]
     },
     "execution_count": 19,
     "metadata": {},
     "output_type": "execute_result"
    }
   ],
   "source": [
    "df.head()"
   ]
  },
  {
   "cell_type": "code",
   "execution_count": 21,
   "metadata": {},
   "outputs": [
    {
     "data": {
      "text/plain": [
       "(12968, 9)"
      ]
     },
     "execution_count": 21,
     "metadata": {},
     "output_type": "execute_result"
    }
   ],
   "source": [
    "df2.shape"
   ]
  },
  {
   "cell_type": "code",
   "execution_count": 22,
   "metadata": {},
   "outputs": [
    {
     "name": "stdout",
     "output_type": "stream",
     "text": [
      "<class 'pandas.core.frame.DataFrame'>\n",
      "Int64Index: 12968 entries, 11289917 to 12942897\n",
      "Data columns (total 9 columns):\n",
      " #   Column       Non-Null Count  Dtype  \n",
      "---  ------       --------------  -----  \n",
      " 0   Unnamed: 0   12968 non-null  int64  \n",
      " 1   square_feet  12968 non-null  float64\n",
      " 2   bedrooms     12968 non-null  float64\n",
      " 3   bathrooms    12968 non-null  float64\n",
      " 4   taxes        12968 non-null  float64\n",
      " 5   tax_value    12968 non-null  float64\n",
      " 6   yearbuilt    12968 non-null  float64\n",
      " 7   county       12968 non-null  float64\n",
      " 8   lot_size     12968 non-null  float64\n",
      "dtypes: float64(8), int64(1)\n",
      "memory usage: 1013.1 KB\n"
     ]
    }
   ],
   "source": [
    "df2.info()"
   ]
  },
  {
   "cell_type": "code",
   "execution_count": 23,
   "metadata": {},
   "outputs": [
    {
     "data": {
      "text/html": [
       "<div>\n",
       "<style scoped>\n",
       "    .dataframe tbody tr th:only-of-type {\n",
       "        vertical-align: middle;\n",
       "    }\n",
       "\n",
       "    .dataframe tbody tr th {\n",
       "        vertical-align: top;\n",
       "    }\n",
       "\n",
       "    .dataframe thead th {\n",
       "        text-align: right;\n",
       "    }\n",
       "</style>\n",
       "<table border=\"1\" class=\"dataframe\">\n",
       "  <thead>\n",
       "    <tr style=\"text-align: right;\">\n",
       "      <th></th>\n",
       "      <th>Unnamed: 0</th>\n",
       "      <th>square_feet</th>\n",
       "      <th>bedrooms</th>\n",
       "      <th>bathrooms</th>\n",
       "      <th>taxes</th>\n",
       "      <th>tax_value</th>\n",
       "      <th>yearbuilt</th>\n",
       "      <th>county</th>\n",
       "      <th>lot_size</th>\n",
       "    </tr>\n",
       "  </thead>\n",
       "  <tbody>\n",
       "    <tr>\n",
       "      <th>count</th>\n",
       "      <td>12968.000000</td>\n",
       "      <td>12968.000000</td>\n",
       "      <td>12968.000000</td>\n",
       "      <td>12968.00000</td>\n",
       "      <td>12968.000000</td>\n",
       "      <td>1.296800e+04</td>\n",
       "      <td>12968.000000</td>\n",
       "      <td>12968.000000</td>\n",
       "      <td>1.296800e+04</td>\n",
       "    </tr>\n",
       "    <tr>\n",
       "      <th>mean</th>\n",
       "      <td>6649.067474</td>\n",
       "      <td>1716.235734</td>\n",
       "      <td>2.973782</td>\n",
       "      <td>2.24599</td>\n",
       "      <td>6072.324209</td>\n",
       "      <td>4.831626e+05</td>\n",
       "      <td>1964.021823</td>\n",
       "      <td>3100.720080</td>\n",
       "      <td>3.729806e+04</td>\n",
       "    </tr>\n",
       "    <tr>\n",
       "      <th>std</th>\n",
       "      <td>3839.958292</td>\n",
       "      <td>969.886945</td>\n",
       "      <td>1.009826</td>\n",
       "      <td>0.99607</td>\n",
       "      <td>8367.906469</td>\n",
       "      <td>7.143507e+05</td>\n",
       "      <td>23.585510</td>\n",
       "      <td>22.539194</td>\n",
       "      <td>1.091630e+05</td>\n",
       "    </tr>\n",
       "    <tr>\n",
       "      <th>min</th>\n",
       "      <td>0.000000</td>\n",
       "      <td>242.000000</td>\n",
       "      <td>0.000000</td>\n",
       "      <td>0.00000</td>\n",
       "      <td>120.840000</td>\n",
       "      <td>1.050400e+04</td>\n",
       "      <td>1878.000000</td>\n",
       "      <td>1286.000000</td>\n",
       "      <td>7.360000e+02</td>\n",
       "    </tr>\n",
       "    <tr>\n",
       "      <th>25%</th>\n",
       "      <td>3321.750000</td>\n",
       "      <td>1144.000000</td>\n",
       "      <td>2.000000</td>\n",
       "      <td>2.00000</td>\n",
       "      <td>2600.902500</td>\n",
       "      <td>1.863795e+05</td>\n",
       "      <td>1950.000000</td>\n",
       "      <td>3101.000000</td>\n",
       "      <td>6.000000e+03</td>\n",
       "    </tr>\n",
       "    <tr>\n",
       "      <th>50%</th>\n",
       "      <td>6653.500000</td>\n",
       "      <td>1483.500000</td>\n",
       "      <td>3.000000</td>\n",
       "      <td>2.00000</td>\n",
       "      <td>4303.090000</td>\n",
       "      <td>3.304800e+05</td>\n",
       "      <td>1961.000000</td>\n",
       "      <td>3101.000000</td>\n",
       "      <td>7.620000e+03</td>\n",
       "    </tr>\n",
       "    <tr>\n",
       "      <th>75%</th>\n",
       "      <td>9967.250000</td>\n",
       "      <td>1995.250000</td>\n",
       "      <td>4.000000</td>\n",
       "      <td>3.00000</td>\n",
       "      <td>6774.167500</td>\n",
       "      <td>5.437448e+05</td>\n",
       "      <td>1983.000000</td>\n",
       "      <td>3101.000000</td>\n",
       "      <td>1.732425e+04</td>\n",
       "    </tr>\n",
       "    <tr>\n",
       "      <th>max</th>\n",
       "      <td>13308.000000</td>\n",
       "      <td>35640.000000</td>\n",
       "      <td>11.000000</td>\n",
       "      <td>11.00000</td>\n",
       "      <td>276797.830000</td>\n",
       "      <td>2.385837e+07</td>\n",
       "      <td>2015.000000</td>\n",
       "      <td>3101.000000</td>\n",
       "      <td>3.589145e+06</td>\n",
       "    </tr>\n",
       "  </tbody>\n",
       "</table>\n",
       "</div>"
      ],
      "text/plain": [
       "         Unnamed: 0   square_feet      bedrooms    bathrooms          taxes  \\\n",
       "count  12968.000000  12968.000000  12968.000000  12968.00000   12968.000000   \n",
       "mean    6649.067474   1716.235734      2.973782      2.24599    6072.324209   \n",
       "std     3839.958292    969.886945      1.009826      0.99607    8367.906469   \n",
       "min        0.000000    242.000000      0.000000      0.00000     120.840000   \n",
       "25%     3321.750000   1144.000000      2.000000      2.00000    2600.902500   \n",
       "50%     6653.500000   1483.500000      3.000000      2.00000    4303.090000   \n",
       "75%     9967.250000   1995.250000      4.000000      3.00000    6774.167500   \n",
       "max    13308.000000  35640.000000     11.000000     11.00000  276797.830000   \n",
       "\n",
       "          tax_value     yearbuilt        county      lot_size  \n",
       "count  1.296800e+04  12968.000000  12968.000000  1.296800e+04  \n",
       "mean   4.831626e+05   1964.021823   3100.720080  3.729806e+04  \n",
       "std    7.143507e+05     23.585510     22.539194  1.091630e+05  \n",
       "min    1.050400e+04   1878.000000   1286.000000  7.360000e+02  \n",
       "25%    1.863795e+05   1950.000000   3101.000000  6.000000e+03  \n",
       "50%    3.304800e+05   1961.000000   3101.000000  7.620000e+03  \n",
       "75%    5.437448e+05   1983.000000   3101.000000  1.732425e+04  \n",
       "max    2.385837e+07   2015.000000   3101.000000  3.589145e+06  "
      ]
     },
     "execution_count": 23,
     "metadata": {},
     "output_type": "execute_result"
    }
   ],
   "source": [
    "df2.describe()"
   ]
  },
  {
   "cell_type": "code",
   "execution_count": 24,
   "metadata": {},
   "outputs": [],
   "source": [
    "train, validate, test = split(df)"
   ]
  },
  {
   "cell_type": "code",
   "execution_count": 25,
   "metadata": {},
   "outputs": [
    {
     "data": {
      "text/plain": [
       "(7261, 9)"
      ]
     },
     "execution_count": 25,
     "metadata": {},
     "output_type": "execute_result"
    }
   ],
   "source": [
    "train.shape"
   ]
  },
  {
   "cell_type": "code",
   "execution_count": 27,
   "metadata": {},
   "outputs": [
    {
     "name": "stdout",
     "output_type": "stream",
     "text": [
      "<class 'pandas.core.frame.DataFrame'>\n",
      "Int64Index: 7261 entries, 6196 to 11571\n",
      "Data columns (total 9 columns):\n",
      " #   Column       Non-Null Count  Dtype  \n",
      "---  ------       --------------  -----  \n",
      " 0   parcelid     7261 non-null   int64  \n",
      " 1   square_feet  7261 non-null   float64\n",
      " 2   bedrooms     7261 non-null   float64\n",
      " 3   bathrooms    7261 non-null   float64\n",
      " 4   taxes        7261 non-null   float64\n",
      " 5   tax_value    7261 non-null   float64\n",
      " 6   yearbuilt    7261 non-null   float64\n",
      " 7   county       7261 non-null   float64\n",
      " 8   lot_size     7261 non-null   float64\n",
      "dtypes: float64(8), int64(1)\n",
      "memory usage: 567.3 KB\n"
     ]
    }
   ],
   "source": [
    "train.info()"
   ]
  },
  {
   "cell_type": "code",
   "execution_count": 28,
   "metadata": {},
   "outputs": [
    {
     "data": {
      "text/plain": [
       "(3113, 9)"
      ]
     },
     "execution_count": 28,
     "metadata": {},
     "output_type": "execute_result"
    }
   ],
   "source": [
    "validate.shape"
   ]
  },
  {
   "cell_type": "code",
   "execution_count": 29,
   "metadata": {},
   "outputs": [
    {
     "data": {
      "text/plain": [
       "(2594, 9)"
      ]
     },
     "execution_count": 29,
     "metadata": {},
     "output_type": "execute_result"
    }
   ],
   "source": [
    "test.shape"
   ]
  },
  {
   "cell_type": "code",
   "execution_count": null,
   "metadata": {},
   "outputs": [],
   "source": []
  }
 ],
 "metadata": {
  "kernelspec": {
   "display_name": "Python 3",
   "language": "python",
   "name": "python3"
  },
  "language_info": {
   "codemirror_mode": {
    "name": "ipython",
    "version": 3
   },
   "file_extension": ".py",
   "mimetype": "text/x-python",
   "name": "python",
   "nbconvert_exporter": "python",
   "pygments_lexer": "ipython3",
   "version": "3.8.5"
  }
 },
 "nbformat": 4,
 "nbformat_minor": 4
}
