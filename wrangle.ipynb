{
 "cells": [
  {
   "cell_type": "code",
   "execution_count": 45,
   "metadata": {},
   "outputs": [],
   "source": [
    "import warnings\n",
    "warnings.filterwarnings(\"ignore\")\n",
    "\n",
    "import pandas as pd\n",
    "import matplotlib.pyplot as plt\n",
    "import seaborn as sns\n",
    "import numpy as np\n",
    "import env\n",
    "\n",
    "import sklearn\n",
    "from sklearn.model_selection import train_test_split\n",
    "from sklearn.preprocessing import MinMaxScaler"
   ]
  },
  {
   "cell_type": "code",
   "execution_count": 2,
   "metadata": {},
   "outputs": [],
   "source": [
    "def get_connection(db, user=env.user, host=env.host, password=env.password):\n",
    "    return f'mysql+pymysql://{user}:{password}@{host}/{db}'"
   ]
  },
  {
   "cell_type": "code",
   "execution_count": 3,
   "metadata": {},
   "outputs": [],
   "source": [
    "## you will need to use the properties_2017 and predictions_2017 tables.\n",
    "\n",
    "## square feet of the house (\"living square feet\"), number of bedrooms, number of bathrooms, the assess value of the house by the tax appraisal district ('taxvaluedollarcnt'...this will be your target variable in the project), and 2-3 other variables\n",
    "\n",
    "## may, june, july or august (date is in predictions_2017 table)\n",
    "\n",
    "## single unit property values"
   ]
  },
  {
   "cell_type": "code",
   "execution_count": 4,
   "metadata": {},
   "outputs": [],
   "source": [
    "sql = '''\n",
    "select parcelid, calculatedfinishedsquarefeet as square_feet, bedroomcnt as bedrooms, bathroomcnt as bathrooms, taxamount as taxes, yearbuilt, regionidcounty as county, lotsizesquarefeet as lot_size, taxvaluedollarcnt as tax_value\n",
    "from properties_2017\n",
    "join predictions_2017 using(parcelid)\n",
    "where transactiondate between \"2017-05-01\" and \"2017-08-31\"\n",
    "AND propertylandusetypeid > 250\n",
    "AND propertylandusetypeid < 280 \n",
    "AND propertylandusetypeid != 270 \n",
    "AND propertylandusetypeid != 271\n",
    "OR  unitcnt = 1;\n",
    "'''"
   ]
  },
  {
   "cell_type": "code",
   "execution_count": 5,
   "metadata": {},
   "outputs": [],
   "source": [
    "df = pd.read_sql(sql, get_connection('zillow'))"
   ]
  },
  {
   "cell_type": "code",
   "execution_count": 6,
   "metadata": {},
   "outputs": [
    {
     "data": {
      "text/html": [
       "<div>\n",
       "<style scoped>\n",
       "    .dataframe tbody tr th:only-of-type {\n",
       "        vertical-align: middle;\n",
       "    }\n",
       "\n",
       "    .dataframe tbody tr th {\n",
       "        vertical-align: top;\n",
       "    }\n",
       "\n",
       "    .dataframe thead th {\n",
       "        text-align: right;\n",
       "    }\n",
       "</style>\n",
       "<table border=\"1\" class=\"dataframe\">\n",
       "  <thead>\n",
       "    <tr style=\"text-align: right;\">\n",
       "      <th></th>\n",
       "      <th>parcelid</th>\n",
       "      <th>square_feet</th>\n",
       "      <th>bedrooms</th>\n",
       "      <th>bathrooms</th>\n",
       "      <th>taxes</th>\n",
       "      <th>yearbuilt</th>\n",
       "      <th>county</th>\n",
       "      <th>lot_size</th>\n",
       "      <th>tax_value</th>\n",
       "    </tr>\n",
       "  </thead>\n",
       "  <tbody>\n",
       "    <tr>\n",
       "      <th>0</th>\n",
       "      <td>12177905</td>\n",
       "      <td>2376.0</td>\n",
       "      <td>4.0</td>\n",
       "      <td>3.0</td>\n",
       "      <td>1777.51</td>\n",
       "      <td>1970.0</td>\n",
       "      <td>3101.0</td>\n",
       "      <td>13038.0</td>\n",
       "      <td>145143.0</td>\n",
       "    </tr>\n",
       "    <tr>\n",
       "      <th>1</th>\n",
       "      <td>10887214</td>\n",
       "      <td>1312.0</td>\n",
       "      <td>3.0</td>\n",
       "      <td>3.0</td>\n",
       "      <td>1533.89</td>\n",
       "      <td>1964.0</td>\n",
       "      <td>3101.0</td>\n",
       "      <td>278581.0</td>\n",
       "      <td>119407.0</td>\n",
       "    </tr>\n",
       "    <tr>\n",
       "      <th>2</th>\n",
       "      <td>12095076</td>\n",
       "      <td>2962.0</td>\n",
       "      <td>4.0</td>\n",
       "      <td>3.0</td>\n",
       "      <td>9516.26</td>\n",
       "      <td>1950.0</td>\n",
       "      <td>3101.0</td>\n",
       "      <td>63000.0</td>\n",
       "      <td>773303.0</td>\n",
       "    </tr>\n",
       "    <tr>\n",
       "      <th>3</th>\n",
       "      <td>12069064</td>\n",
       "      <td>738.0</td>\n",
       "      <td>2.0</td>\n",
       "      <td>1.0</td>\n",
       "      <td>2366.08</td>\n",
       "      <td>1922.0</td>\n",
       "      <td>3101.0</td>\n",
       "      <td>4214.0</td>\n",
       "      <td>218552.0</td>\n",
       "    </tr>\n",
       "    <tr>\n",
       "      <th>4</th>\n",
       "      <td>12790562</td>\n",
       "      <td>3039.0</td>\n",
       "      <td>4.0</td>\n",
       "      <td>3.0</td>\n",
       "      <td>3104.19</td>\n",
       "      <td>1970.0</td>\n",
       "      <td>3101.0</td>\n",
       "      <td>20028.0</td>\n",
       "      <td>220583.0</td>\n",
       "    </tr>\n",
       "  </tbody>\n",
       "</table>\n",
       "</div>"
      ],
      "text/plain": [
       "   parcelid  square_feet  bedrooms  bathrooms    taxes  yearbuilt  county  \\\n",
       "0  12177905       2376.0       4.0        3.0  1777.51     1970.0  3101.0   \n",
       "1  10887214       1312.0       3.0        3.0  1533.89     1964.0  3101.0   \n",
       "2  12095076       2962.0       4.0        3.0  9516.26     1950.0  3101.0   \n",
       "3  12069064        738.0       2.0        1.0  2366.08     1922.0  3101.0   \n",
       "4  12790562       3039.0       4.0        3.0  3104.19     1970.0  3101.0   \n",
       "\n",
       "   lot_size  tax_value  \n",
       "0   13038.0   145143.0  \n",
       "1  278581.0   119407.0  \n",
       "2   63000.0   773303.0  \n",
       "3    4214.0   218552.0  \n",
       "4   20028.0   220583.0  "
      ]
     },
     "execution_count": 6,
     "metadata": {},
     "output_type": "execute_result"
    }
   ],
   "source": [
    "df.head()"
   ]
  },
  {
   "cell_type": "code",
   "execution_count": 7,
   "metadata": {},
   "outputs": [
    {
     "data": {
      "text/plain": [
       "(62159, 9)"
      ]
     },
     "execution_count": 7,
     "metadata": {},
     "output_type": "execute_result"
    }
   ],
   "source": [
    "df.shape"
   ]
  },
  {
   "cell_type": "code",
   "execution_count": 8,
   "metadata": {},
   "outputs": [
    {
     "name": "stdout",
     "output_type": "stream",
     "text": [
      "<class 'pandas.core.frame.DataFrame'>\n",
      "RangeIndex: 62159 entries, 0 to 62158\n",
      "Data columns (total 9 columns):\n",
      " #   Column       Non-Null Count  Dtype  \n",
      "---  ------       --------------  -----  \n",
      " 0   parcelid     62159 non-null  int64  \n",
      " 1   square_feet  62040 non-null  float64\n",
      " 2   bedrooms     62159 non-null  float64\n",
      " 3   bathrooms    62159 non-null  float64\n",
      " 4   taxes        62155 non-null  float64\n",
      " 5   yearbuilt    62015 non-null  float64\n",
      " 6   county       62159 non-null  float64\n",
      " 7   lot_size     57158 non-null  float64\n",
      " 8   tax_value    62158 non-null  float64\n",
      "dtypes: float64(8), int64(1)\n",
      "memory usage: 4.3 MB\n"
     ]
    }
   ],
   "source": [
    "df.info()"
   ]
  },
  {
   "cell_type": "code",
   "execution_count": 9,
   "metadata": {},
   "outputs": [
    {
     "name": "stdout",
     "output_type": "stream",
     "text": [
      "parcelid          0\n",
      "square_feet     119\n",
      "bedrooms          0\n",
      "bathrooms         0\n",
      "taxes             4\n",
      "yearbuilt       144\n",
      "county            0\n",
      "lot_size       5001\n",
      "tax_value         1\n",
      "dtype: int64\n"
     ]
    }
   ],
   "source": [
    "print(df.isnull().sum())"
   ]
  },
  {
   "cell_type": "code",
   "execution_count": 10,
   "metadata": {},
   "outputs": [
    {
     "name": "stdout",
     "output_type": "stream",
     "text": [
      "Index(['square_feet', 'taxes', 'yearbuilt', 'lot_size', 'tax_value'], dtype='object')\n"
     ]
    }
   ],
   "source": [
    "print(df.columns[df.isnull().any()])"
   ]
  },
  {
   "cell_type": "code",
   "execution_count": 11,
   "metadata": {},
   "outputs": [],
   "source": [
    "df.to_csv(\"zillow.csv\") "
   ]
  },
  {
   "cell_type": "code",
   "execution_count": 12,
   "metadata": {},
   "outputs": [],
   "source": [
    "df = df.dropna()"
   ]
  },
  {
   "cell_type": "code",
   "execution_count": 13,
   "metadata": {},
   "outputs": [
    {
     "data": {
      "text/plain": [
       "(57057, 9)"
      ]
     },
     "execution_count": 13,
     "metadata": {},
     "output_type": "execute_result"
    }
   ],
   "source": [
    "df.shape"
   ]
  },
  {
   "cell_type": "code",
   "execution_count": 14,
   "metadata": {},
   "outputs": [
    {
     "name": "stdout",
     "output_type": "stream",
     "text": [
      "<class 'pandas.core.frame.DataFrame'>\n",
      "Int64Index: 57057 entries, 0 to 62158\n",
      "Data columns (total 9 columns):\n",
      " #   Column       Non-Null Count  Dtype  \n",
      "---  ------       --------------  -----  \n",
      " 0   parcelid     57057 non-null  int64  \n",
      " 1   square_feet  57057 non-null  float64\n",
      " 2   bedrooms     57057 non-null  float64\n",
      " 3   bathrooms    57057 non-null  float64\n",
      " 4   taxes        57057 non-null  float64\n",
      " 5   yearbuilt    57057 non-null  float64\n",
      " 6   county       57057 non-null  float64\n",
      " 7   lot_size     57057 non-null  float64\n",
      " 8   tax_value    57057 non-null  float64\n",
      "dtypes: float64(8), int64(1)\n",
      "memory usage: 4.4 MB\n"
     ]
    }
   ],
   "source": [
    "df.info()"
   ]
  },
  {
   "cell_type": "code",
   "execution_count": 15,
   "metadata": {},
   "outputs": [
    {
     "name": "stdout",
     "output_type": "stream",
     "text": [
      "parcelid       0\n",
      "square_feet    0\n",
      "bedrooms       0\n",
      "bathrooms      0\n",
      "taxes          0\n",
      "yearbuilt      0\n",
      "county         0\n",
      "lot_size       0\n",
      "tax_value      0\n",
      "dtype: int64\n"
     ]
    }
   ],
   "source": [
    "print(df.isnull().sum())"
   ]
  },
  {
   "cell_type": "code",
   "execution_count": 16,
   "metadata": {},
   "outputs": [
    {
     "data": {
      "text/html": [
       "<div>\n",
       "<style scoped>\n",
       "    .dataframe tbody tr th:only-of-type {\n",
       "        vertical-align: middle;\n",
       "    }\n",
       "\n",
       "    .dataframe tbody tr th {\n",
       "        vertical-align: top;\n",
       "    }\n",
       "\n",
       "    .dataframe thead th {\n",
       "        text-align: right;\n",
       "    }\n",
       "</style>\n",
       "<table border=\"1\" class=\"dataframe\">\n",
       "  <thead>\n",
       "    <tr style=\"text-align: right;\">\n",
       "      <th></th>\n",
       "      <th>square_feet</th>\n",
       "      <th>bedrooms</th>\n",
       "      <th>bathrooms</th>\n",
       "      <th>taxes</th>\n",
       "      <th>yearbuilt</th>\n",
       "      <th>county</th>\n",
       "      <th>lot_size</th>\n",
       "      <th>tax_value</th>\n",
       "    </tr>\n",
       "    <tr>\n",
       "      <th>parcelid</th>\n",
       "      <th></th>\n",
       "      <th></th>\n",
       "      <th></th>\n",
       "      <th></th>\n",
       "      <th></th>\n",
       "      <th></th>\n",
       "      <th></th>\n",
       "      <th></th>\n",
       "    </tr>\n",
       "  </thead>\n",
       "  <tbody>\n",
       "    <tr>\n",
       "      <th>12177905</th>\n",
       "      <td>2376.0</td>\n",
       "      <td>4.0</td>\n",
       "      <td>3.0</td>\n",
       "      <td>1777.51</td>\n",
       "      <td>1970.0</td>\n",
       "      <td>3101.0</td>\n",
       "      <td>13038.0</td>\n",
       "      <td>145143.0</td>\n",
       "    </tr>\n",
       "    <tr>\n",
       "      <th>10887214</th>\n",
       "      <td>1312.0</td>\n",
       "      <td>3.0</td>\n",
       "      <td>3.0</td>\n",
       "      <td>1533.89</td>\n",
       "      <td>1964.0</td>\n",
       "      <td>3101.0</td>\n",
       "      <td>278581.0</td>\n",
       "      <td>119407.0</td>\n",
       "    </tr>\n",
       "    <tr>\n",
       "      <th>12095076</th>\n",
       "      <td>2962.0</td>\n",
       "      <td>4.0</td>\n",
       "      <td>3.0</td>\n",
       "      <td>9516.26</td>\n",
       "      <td>1950.0</td>\n",
       "      <td>3101.0</td>\n",
       "      <td>63000.0</td>\n",
       "      <td>773303.0</td>\n",
       "    </tr>\n",
       "    <tr>\n",
       "      <th>12069064</th>\n",
       "      <td>738.0</td>\n",
       "      <td>2.0</td>\n",
       "      <td>1.0</td>\n",
       "      <td>2366.08</td>\n",
       "      <td>1922.0</td>\n",
       "      <td>3101.0</td>\n",
       "      <td>4214.0</td>\n",
       "      <td>218552.0</td>\n",
       "    </tr>\n",
       "    <tr>\n",
       "      <th>12790562</th>\n",
       "      <td>3039.0</td>\n",
       "      <td>4.0</td>\n",
       "      <td>3.0</td>\n",
       "      <td>3104.19</td>\n",
       "      <td>1970.0</td>\n",
       "      <td>3101.0</td>\n",
       "      <td>20028.0</td>\n",
       "      <td>220583.0</td>\n",
       "    </tr>\n",
       "    <tr>\n",
       "      <th>...</th>\n",
       "      <td>...</td>\n",
       "      <td>...</td>\n",
       "      <td>...</td>\n",
       "      <td>...</td>\n",
       "      <td>...</td>\n",
       "      <td>...</td>\n",
       "      <td>...</td>\n",
       "      <td>...</td>\n",
       "    </tr>\n",
       "    <tr>\n",
       "      <th>10833991</th>\n",
       "      <td>1741.0</td>\n",
       "      <td>3.0</td>\n",
       "      <td>3.0</td>\n",
       "      <td>4685.34</td>\n",
       "      <td>1980.0</td>\n",
       "      <td>3101.0</td>\n",
       "      <td>59487.0</td>\n",
       "      <td>379000.0</td>\n",
       "    </tr>\n",
       "    <tr>\n",
       "      <th>11000655</th>\n",
       "      <td>1286.0</td>\n",
       "      <td>2.0</td>\n",
       "      <td>2.0</td>\n",
       "      <td>4478.43</td>\n",
       "      <td>1940.0</td>\n",
       "      <td>3101.0</td>\n",
       "      <td>47405.0</td>\n",
       "      <td>354621.0</td>\n",
       "    </tr>\n",
       "    <tr>\n",
       "      <th>12773139</th>\n",
       "      <td>1032.0</td>\n",
       "      <td>3.0</td>\n",
       "      <td>1.0</td>\n",
       "      <td>876.43</td>\n",
       "      <td>1954.0</td>\n",
       "      <td>3101.0</td>\n",
       "      <td>5074.0</td>\n",
       "      <td>49546.0</td>\n",
       "    </tr>\n",
       "    <tr>\n",
       "      <th>12826780</th>\n",
       "      <td>1762.0</td>\n",
       "      <td>3.0</td>\n",
       "      <td>2.0</td>\n",
       "      <td>6317.15</td>\n",
       "      <td>1955.0</td>\n",
       "      <td>3101.0</td>\n",
       "      <td>6347.0</td>\n",
       "      <td>522000.0</td>\n",
       "    </tr>\n",
       "    <tr>\n",
       "      <th>13083743</th>\n",
       "      <td>1050.0</td>\n",
       "      <td>3.0</td>\n",
       "      <td>2.0</td>\n",
       "      <td>3345.78</td>\n",
       "      <td>1960.0</td>\n",
       "      <td>3101.0</td>\n",
       "      <td>5927.0</td>\n",
       "      <td>259334.0</td>\n",
       "    </tr>\n",
       "  </tbody>\n",
       "</table>\n",
       "<p>57057 rows × 8 columns</p>\n",
       "</div>"
      ],
      "text/plain": [
       "          square_feet  bedrooms  bathrooms    taxes  yearbuilt  county  \\\n",
       "parcelid                                                                 \n",
       "12177905       2376.0       4.0        3.0  1777.51     1970.0  3101.0   \n",
       "10887214       1312.0       3.0        3.0  1533.89     1964.0  3101.0   \n",
       "12095076       2962.0       4.0        3.0  9516.26     1950.0  3101.0   \n",
       "12069064        738.0       2.0        1.0  2366.08     1922.0  3101.0   \n",
       "12790562       3039.0       4.0        3.0  3104.19     1970.0  3101.0   \n",
       "...               ...       ...        ...      ...        ...     ...   \n",
       "10833991       1741.0       3.0        3.0  4685.34     1980.0  3101.0   \n",
       "11000655       1286.0       2.0        2.0  4478.43     1940.0  3101.0   \n",
       "12773139       1032.0       3.0        1.0   876.43     1954.0  3101.0   \n",
       "12826780       1762.0       3.0        2.0  6317.15     1955.0  3101.0   \n",
       "13083743       1050.0       3.0        2.0  3345.78     1960.0  3101.0   \n",
       "\n",
       "          lot_size  tax_value  \n",
       "parcelid                       \n",
       "12177905   13038.0   145143.0  \n",
       "10887214  278581.0   119407.0  \n",
       "12095076   63000.0   773303.0  \n",
       "12069064    4214.0   218552.0  \n",
       "12790562   20028.0   220583.0  \n",
       "...            ...        ...  \n",
       "10833991   59487.0   379000.0  \n",
       "11000655   47405.0   354621.0  \n",
       "12773139    5074.0    49546.0  \n",
       "12826780    6347.0   522000.0  \n",
       "13083743    5927.0   259334.0  \n",
       "\n",
       "[57057 rows x 8 columns]"
      ]
     },
     "execution_count": 16,
     "metadata": {},
     "output_type": "execute_result"
    }
   ],
   "source": [
    "df.set_index(\"parcelid\")"
   ]
  },
  {
   "cell_type": "code",
   "execution_count": 17,
   "metadata": {},
   "outputs": [],
   "source": [
    "def wrangle_zillow():\n",
    "    data = pd.read_csv(\"zillow.csv\")\n",
    "    \n",
    "    data = data.drop(columns = 'Unnamed: 0')\n",
    "    \n",
    "    data = data.set_index(\"parcelid\")\n",
    "    \n",
    "    data = data.dropna()\n",
    "    # remove all NaN values\n",
    "    \n",
    "    return data"
   ]
  },
  {
   "cell_type": "code",
   "execution_count": 18,
   "metadata": {},
   "outputs": [],
   "source": [
    "def split(df, stratify_by=None):\n",
    "    \"\"\"\n",
    "    Crude train, validate, test split\n",
    "    To stratify, send in a column name\n",
    "    \"\"\"\n",
    "    \n",
    "    if stratify_by == None:\n",
    "        train, test = train_test_split(df, test_size=.2, random_state=319)\n",
    "        train, validate = train_test_split(train, test_size=.3, random_state=319)\n",
    "    else:\n",
    "        train, test = train_test_split(df, test_size=.2, random_state=319, stratify=df[stratify_by])\n",
    "        train, validate = train_test_split(train, test_size=.3, random_state=319, stratify=train[stratify_by])\n",
    "    \n",
    "    return train, validate, test"
   ]
  },
  {
   "cell_type": "code",
   "execution_count": 19,
   "metadata": {},
   "outputs": [],
   "source": [
    "df2 = wrangle_zillow()"
   ]
  },
  {
   "cell_type": "code",
   "execution_count": 20,
   "metadata": {},
   "outputs": [
    {
     "data": {
      "text/html": [
       "<div>\n",
       "<style scoped>\n",
       "    .dataframe tbody tr th:only-of-type {\n",
       "        vertical-align: middle;\n",
       "    }\n",
       "\n",
       "    .dataframe tbody tr th {\n",
       "        vertical-align: top;\n",
       "    }\n",
       "\n",
       "    .dataframe thead th {\n",
       "        text-align: right;\n",
       "    }\n",
       "</style>\n",
       "<table border=\"1\" class=\"dataframe\">\n",
       "  <thead>\n",
       "    <tr style=\"text-align: right;\">\n",
       "      <th></th>\n",
       "      <th>square_feet</th>\n",
       "      <th>bedrooms</th>\n",
       "      <th>bathrooms</th>\n",
       "      <th>taxes</th>\n",
       "      <th>yearbuilt</th>\n",
       "      <th>county</th>\n",
       "      <th>lot_size</th>\n",
       "      <th>tax_value</th>\n",
       "    </tr>\n",
       "    <tr>\n",
       "      <th>parcelid</th>\n",
       "      <th></th>\n",
       "      <th></th>\n",
       "      <th></th>\n",
       "      <th></th>\n",
       "      <th></th>\n",
       "      <th></th>\n",
       "      <th></th>\n",
       "      <th></th>\n",
       "    </tr>\n",
       "  </thead>\n",
       "  <tbody>\n",
       "    <tr>\n",
       "      <th>12177905</th>\n",
       "      <td>2376.0</td>\n",
       "      <td>4.0</td>\n",
       "      <td>3.0</td>\n",
       "      <td>1777.51</td>\n",
       "      <td>1970.0</td>\n",
       "      <td>3101.0</td>\n",
       "      <td>13038.0</td>\n",
       "      <td>145143.0</td>\n",
       "    </tr>\n",
       "    <tr>\n",
       "      <th>10887214</th>\n",
       "      <td>1312.0</td>\n",
       "      <td>3.0</td>\n",
       "      <td>3.0</td>\n",
       "      <td>1533.89</td>\n",
       "      <td>1964.0</td>\n",
       "      <td>3101.0</td>\n",
       "      <td>278581.0</td>\n",
       "      <td>119407.0</td>\n",
       "    </tr>\n",
       "    <tr>\n",
       "      <th>12095076</th>\n",
       "      <td>2962.0</td>\n",
       "      <td>4.0</td>\n",
       "      <td>3.0</td>\n",
       "      <td>9516.26</td>\n",
       "      <td>1950.0</td>\n",
       "      <td>3101.0</td>\n",
       "      <td>63000.0</td>\n",
       "      <td>773303.0</td>\n",
       "    </tr>\n",
       "    <tr>\n",
       "      <th>12069064</th>\n",
       "      <td>738.0</td>\n",
       "      <td>2.0</td>\n",
       "      <td>1.0</td>\n",
       "      <td>2366.08</td>\n",
       "      <td>1922.0</td>\n",
       "      <td>3101.0</td>\n",
       "      <td>4214.0</td>\n",
       "      <td>218552.0</td>\n",
       "    </tr>\n",
       "    <tr>\n",
       "      <th>12790562</th>\n",
       "      <td>3039.0</td>\n",
       "      <td>4.0</td>\n",
       "      <td>3.0</td>\n",
       "      <td>3104.19</td>\n",
       "      <td>1970.0</td>\n",
       "      <td>3101.0</td>\n",
       "      <td>20028.0</td>\n",
       "      <td>220583.0</td>\n",
       "    </tr>\n",
       "  </tbody>\n",
       "</table>\n",
       "</div>"
      ],
      "text/plain": [
       "          square_feet  bedrooms  bathrooms    taxes  yearbuilt  county  \\\n",
       "parcelid                                                                 \n",
       "12177905       2376.0       4.0        3.0  1777.51     1970.0  3101.0   \n",
       "10887214       1312.0       3.0        3.0  1533.89     1964.0  3101.0   \n",
       "12095076       2962.0       4.0        3.0  9516.26     1950.0  3101.0   \n",
       "12069064        738.0       2.0        1.0  2366.08     1922.0  3101.0   \n",
       "12790562       3039.0       4.0        3.0  3104.19     1970.0  3101.0   \n",
       "\n",
       "          lot_size  tax_value  \n",
       "parcelid                       \n",
       "12177905   13038.0   145143.0  \n",
       "10887214  278581.0   119407.0  \n",
       "12095076   63000.0   773303.0  \n",
       "12069064    4214.0   218552.0  \n",
       "12790562   20028.0   220583.0  "
      ]
     },
     "execution_count": 20,
     "metadata": {},
     "output_type": "execute_result"
    }
   ],
   "source": [
    "df2.head()"
   ]
  },
  {
   "cell_type": "code",
   "execution_count": 21,
   "metadata": {},
   "outputs": [
    {
     "data": {
      "text/plain": [
       "(57057, 8)"
      ]
     },
     "execution_count": 21,
     "metadata": {},
     "output_type": "execute_result"
    }
   ],
   "source": [
    "df2.shape"
   ]
  },
  {
   "cell_type": "code",
   "execution_count": 22,
   "metadata": {},
   "outputs": [
    {
     "name": "stdout",
     "output_type": "stream",
     "text": [
      "<class 'pandas.core.frame.DataFrame'>\n",
      "Int64Index: 57057 entries, 12177905 to 13083743\n",
      "Data columns (total 8 columns):\n",
      " #   Column       Non-Null Count  Dtype  \n",
      "---  ------       --------------  -----  \n",
      " 0   square_feet  57057 non-null  float64\n",
      " 1   bedrooms     57057 non-null  float64\n",
      " 2   bathrooms    57057 non-null  float64\n",
      " 3   taxes        57057 non-null  float64\n",
      " 4   yearbuilt    57057 non-null  float64\n",
      " 5   county       57057 non-null  float64\n",
      " 6   lot_size     57057 non-null  float64\n",
      " 7   tax_value    57057 non-null  float64\n",
      "dtypes: float64(8)\n",
      "memory usage: 3.9 MB\n"
     ]
    }
   ],
   "source": [
    "df2.info()"
   ]
  },
  {
   "cell_type": "code",
   "execution_count": 23,
   "metadata": {},
   "outputs": [
    {
     "data": {
      "text/html": [
       "<div>\n",
       "<style scoped>\n",
       "    .dataframe tbody tr th:only-of-type {\n",
       "        vertical-align: middle;\n",
       "    }\n",
       "\n",
       "    .dataframe tbody tr th {\n",
       "        vertical-align: top;\n",
       "    }\n",
       "\n",
       "    .dataframe thead th {\n",
       "        text-align: right;\n",
       "    }\n",
       "</style>\n",
       "<table border=\"1\" class=\"dataframe\">\n",
       "  <thead>\n",
       "    <tr style=\"text-align: right;\">\n",
       "      <th></th>\n",
       "      <th>square_feet</th>\n",
       "      <th>bedrooms</th>\n",
       "      <th>bathrooms</th>\n",
       "      <th>taxes</th>\n",
       "      <th>yearbuilt</th>\n",
       "      <th>county</th>\n",
       "      <th>lot_size</th>\n",
       "      <th>tax_value</th>\n",
       "    </tr>\n",
       "  </thead>\n",
       "  <tbody>\n",
       "    <tr>\n",
       "      <th>count</th>\n",
       "      <td>57057.000000</td>\n",
       "      <td>57057.000000</td>\n",
       "      <td>57057.000000</td>\n",
       "      <td>57057.000000</td>\n",
       "      <td>57057.000000</td>\n",
       "      <td>57057.000000</td>\n",
       "      <td>5.705700e+04</td>\n",
       "      <td>5.705700e+04</td>\n",
       "    </tr>\n",
       "    <tr>\n",
       "      <th>mean</th>\n",
       "      <td>1765.189267</td>\n",
       "      <td>3.044517</td>\n",
       "      <td>2.270834</td>\n",
       "      <td>6000.181325</td>\n",
       "      <td>1966.119565</td>\n",
       "      <td>2796.600452</td>\n",
       "      <td>3.445027e+04</td>\n",
       "      <td>4.864494e+05</td>\n",
       "    </tr>\n",
       "    <tr>\n",
       "      <th>std</th>\n",
       "      <td>946.854611</td>\n",
       "      <td>1.011406</td>\n",
       "      <td>0.975278</td>\n",
       "      <td>7738.204208</td>\n",
       "      <td>23.077203</td>\n",
       "      <td>647.646948</td>\n",
       "      <td>1.347859e+05</td>\n",
       "      <td>6.622019e+05</td>\n",
       "    </tr>\n",
       "    <tr>\n",
       "      <th>min</th>\n",
       "      <td>152.000000</td>\n",
       "      <td>0.000000</td>\n",
       "      <td>0.000000</td>\n",
       "      <td>19.920000</td>\n",
       "      <td>1878.000000</td>\n",
       "      <td>1286.000000</td>\n",
       "      <td>2.360000e+02</td>\n",
       "      <td>1.000000e+03</td>\n",
       "    </tr>\n",
       "    <tr>\n",
       "      <th>25%</th>\n",
       "      <td>1175.000000</td>\n",
       "      <td>2.000000</td>\n",
       "      <td>2.000000</td>\n",
       "      <td>2627.890000</td>\n",
       "      <td>1951.000000</td>\n",
       "      <td>3101.000000</td>\n",
       "      <td>5.876000e+03</td>\n",
       "      <td>1.934810e+05</td>\n",
       "    </tr>\n",
       "    <tr>\n",
       "      <th>50%</th>\n",
       "      <td>1527.000000</td>\n",
       "      <td>3.000000</td>\n",
       "      <td>2.000000</td>\n",
       "      <td>4374.100000</td>\n",
       "      <td>1965.000000</td>\n",
       "      <td>3101.000000</td>\n",
       "      <td>7.442000e+03</td>\n",
       "      <td>3.458950e+05</td>\n",
       "    </tr>\n",
       "    <tr>\n",
       "      <th>75%</th>\n",
       "      <td>2084.000000</td>\n",
       "      <td>4.000000</td>\n",
       "      <td>3.000000</td>\n",
       "      <td>6863.030000</td>\n",
       "      <td>1984.000000</td>\n",
       "      <td>3101.000000</td>\n",
       "      <td>1.406200e+04</td>\n",
       "      <td>5.632820e+05</td>\n",
       "    </tr>\n",
       "    <tr>\n",
       "      <th>max</th>\n",
       "      <td>35640.000000</td>\n",
       "      <td>11.000000</td>\n",
       "      <td>13.000000</td>\n",
       "      <td>290998.060000</td>\n",
       "      <td>2016.000000</td>\n",
       "      <td>3101.000000</td>\n",
       "      <td>6.971010e+06</td>\n",
       "      <td>2.538125e+07</td>\n",
       "    </tr>\n",
       "  </tbody>\n",
       "</table>\n",
       "</div>"
      ],
      "text/plain": [
       "        square_feet      bedrooms     bathrooms          taxes     yearbuilt  \\\n",
       "count  57057.000000  57057.000000  57057.000000   57057.000000  57057.000000   \n",
       "mean    1765.189267      3.044517      2.270834    6000.181325   1966.119565   \n",
       "std      946.854611      1.011406      0.975278    7738.204208     23.077203   \n",
       "min      152.000000      0.000000      0.000000      19.920000   1878.000000   \n",
       "25%     1175.000000      2.000000      2.000000    2627.890000   1951.000000   \n",
       "50%     1527.000000      3.000000      2.000000    4374.100000   1965.000000   \n",
       "75%     2084.000000      4.000000      3.000000    6863.030000   1984.000000   \n",
       "max    35640.000000     11.000000     13.000000  290998.060000   2016.000000   \n",
       "\n",
       "             county      lot_size     tax_value  \n",
       "count  57057.000000  5.705700e+04  5.705700e+04  \n",
       "mean    2796.600452  3.445027e+04  4.864494e+05  \n",
       "std      647.646948  1.347859e+05  6.622019e+05  \n",
       "min     1286.000000  2.360000e+02  1.000000e+03  \n",
       "25%     3101.000000  5.876000e+03  1.934810e+05  \n",
       "50%     3101.000000  7.442000e+03  3.458950e+05  \n",
       "75%     3101.000000  1.406200e+04  5.632820e+05  \n",
       "max     3101.000000  6.971010e+06  2.538125e+07  "
      ]
     },
     "execution_count": 23,
     "metadata": {},
     "output_type": "execute_result"
    }
   ],
   "source": [
    "df2.describe()"
   ]
  },
  {
   "cell_type": "code",
   "execution_count": 24,
   "metadata": {},
   "outputs": [],
   "source": [
    "train, validate, test = split(df2)"
   ]
  },
  {
   "cell_type": "code",
   "execution_count": 25,
   "metadata": {},
   "outputs": [
    {
     "data": {
      "text/plain": [
       "(31951, 8)"
      ]
     },
     "execution_count": 25,
     "metadata": {},
     "output_type": "execute_result"
    }
   ],
   "source": [
    "train.shape"
   ]
  },
  {
   "cell_type": "code",
   "execution_count": 26,
   "metadata": {},
   "outputs": [
    {
     "name": "stdout",
     "output_type": "stream",
     "text": [
      "<class 'pandas.core.frame.DataFrame'>\n",
      "Int64Index: 31951 entries, 12794645 to 10902239\n",
      "Data columns (total 8 columns):\n",
      " #   Column       Non-Null Count  Dtype  \n",
      "---  ------       --------------  -----  \n",
      " 0   square_feet  31951 non-null  float64\n",
      " 1   bedrooms     31951 non-null  float64\n",
      " 2   bathrooms    31951 non-null  float64\n",
      " 3   taxes        31951 non-null  float64\n",
      " 4   yearbuilt    31951 non-null  float64\n",
      " 5   county       31951 non-null  float64\n",
      " 6   lot_size     31951 non-null  float64\n",
      " 7   tax_value    31951 non-null  float64\n",
      "dtypes: float64(8)\n",
      "memory usage: 2.2 MB\n"
     ]
    }
   ],
   "source": [
    "train.info()"
   ]
  },
  {
   "cell_type": "code",
   "execution_count": 27,
   "metadata": {},
   "outputs": [
    {
     "data": {
      "text/plain": [
       "(13694, 8)"
      ]
     },
     "execution_count": 27,
     "metadata": {},
     "output_type": "execute_result"
    }
   ],
   "source": [
    "validate.shape"
   ]
  },
  {
   "cell_type": "code",
   "execution_count": 28,
   "metadata": {},
   "outputs": [
    {
     "data": {
      "text/plain": [
       "(11412, 8)"
      ]
     },
     "execution_count": 28,
     "metadata": {},
     "output_type": "execute_result"
    }
   ],
   "source": [
    "test.shape"
   ]
  },
  {
   "cell_type": "code",
   "execution_count": 29,
   "metadata": {},
   "outputs": [],
   "source": [
    "def scale_data(train, validate, test):\n",
    "    \n",
    "    '''\n",
    "    This function will scale numeric data using Min Max transform after \n",
    "    it has already been split into train, validate, and test.\n",
    "    '''\n",
    "    \n",
    "    # Make the thing\n",
    "    scaler = sklearn.preprocessing.MinMaxScaler()\n",
    "    \n",
    "    # We fit on the training data\n",
    "    # we only .fit on the training data\n",
    "    scaler.fit(train)\n",
    "    \n",
    "    train_scaled = scaler.transform(train)\n",
    "    validate_scaled = scaler.transform(validate)\n",
    "    test_scaled = scaler.transform(test)\n",
    "    \n",
    "    # turn the numpy arrays into dataframes\n",
    "    train_scaled = pd.DataFrame(train_scaled, columns=train.columns)\n",
    "    validate_scaled = pd.DataFrame(validate_scaled, columns=train.columns)\n",
    "    test_scaled = pd.DataFrame(test_scaled, columns=train.columns)\n",
    "    \n",
    "    return train_scaled, validate_scaled, test_scaled"
   ]
  },
  {
   "cell_type": "code",
   "execution_count": 30,
   "metadata": {},
   "outputs": [],
   "source": [
    "X_train = train.drop(columns=['tax_value'])\n",
    "y_train = train.tax_value\n",
    "\n",
    "X_validate = validate.drop(columns=['tax_value'])\n",
    "y_validate = validate.tax_value\n",
    "\n",
    "X_test = test.drop(columns=['tax_value'])\n",
    "y_test = test.tax_value"
   ]
  },
  {
   "cell_type": "code",
   "execution_count": 31,
   "metadata": {},
   "outputs": [
    {
     "data": {
      "text/plain": [
       "(31951, 7)"
      ]
     },
     "execution_count": 31,
     "metadata": {},
     "output_type": "execute_result"
    }
   ],
   "source": [
    "X_train.shape"
   ]
  },
  {
   "cell_type": "code",
   "execution_count": 32,
   "metadata": {},
   "outputs": [
    {
     "data": {
      "text/plain": [
       "(31951,)"
      ]
     },
     "execution_count": 32,
     "metadata": {},
     "output_type": "execute_result"
    }
   ],
   "source": [
    "y_train.shape"
   ]
  },
  {
   "cell_type": "code",
   "execution_count": 33,
   "metadata": {},
   "outputs": [],
   "source": [
    "def seperate_y(train, validate, test):\n",
    "    X_train = train.drop(columns=['tax_value'])\n",
    "    y_train = train.tax_value\n",
    "\n",
    "    X_validate = validate.drop(columns=['tax_value'])\n",
    "    y_validate = validate.tax_value\n",
    "\n",
    "    X_test = test.drop(columns=['tax_value'])\n",
    "    y_test = test.tax_value\n",
    "    \n",
    "    return X_train, y_train, X_validate, y_validate, X_test, y_test"
   ]
  },
  {
   "cell_type": "code",
   "execution_count": 34,
   "metadata": {},
   "outputs": [],
   "source": [
    "X_train, y_train, X_validate, y_validate, X_test, y_test = seperate_y(train, validate, test)"
   ]
  },
  {
   "cell_type": "code",
   "execution_count": 35,
   "metadata": {},
   "outputs": [
    {
     "data": {
      "text/plain": [
       "(31951, 7)"
      ]
     },
     "execution_count": 35,
     "metadata": {},
     "output_type": "execute_result"
    }
   ],
   "source": [
    "X_train.shape"
   ]
  },
  {
   "cell_type": "code",
   "execution_count": 36,
   "metadata": {},
   "outputs": [
    {
     "data": {
      "text/plain": [
       "(31951,)"
      ]
     },
     "execution_count": 36,
     "metadata": {},
     "output_type": "execute_result"
    }
   ],
   "source": [
    "y_train.shape"
   ]
  },
  {
   "cell_type": "code",
   "execution_count": 37,
   "metadata": {},
   "outputs": [
    {
     "data": {
      "text/plain": [
       "(13694, 7)"
      ]
     },
     "execution_count": 37,
     "metadata": {},
     "output_type": "execute_result"
    }
   ],
   "source": [
    "X_validate.shape"
   ]
  },
  {
   "cell_type": "code",
   "execution_count": 38,
   "metadata": {},
   "outputs": [
    {
     "data": {
      "text/plain": [
       "(13694,)"
      ]
     },
     "execution_count": 38,
     "metadata": {},
     "output_type": "execute_result"
    }
   ],
   "source": [
    "y_validate.shape"
   ]
  },
  {
   "cell_type": "code",
   "execution_count": 39,
   "metadata": {},
   "outputs": [
    {
     "data": {
      "text/plain": [
       "(11412, 7)"
      ]
     },
     "execution_count": 39,
     "metadata": {},
     "output_type": "execute_result"
    }
   ],
   "source": [
    "X_test.shape"
   ]
  },
  {
   "cell_type": "code",
   "execution_count": 40,
   "metadata": {},
   "outputs": [
    {
     "data": {
      "text/plain": [
       "(11412,)"
      ]
     },
     "execution_count": 40,
     "metadata": {},
     "output_type": "execute_result"
    }
   ],
   "source": [
    "y_test.shape"
   ]
  },
  {
   "cell_type": "code",
   "execution_count": 41,
   "metadata": {},
   "outputs": [
    {
     "data": {
      "text/html": [
       "<div>\n",
       "<style scoped>\n",
       "    .dataframe tbody tr th:only-of-type {\n",
       "        vertical-align: middle;\n",
       "    }\n",
       "\n",
       "    .dataframe tbody tr th {\n",
       "        vertical-align: top;\n",
       "    }\n",
       "\n",
       "    .dataframe thead th {\n",
       "        text-align: right;\n",
       "    }\n",
       "</style>\n",
       "<table border=\"1\" class=\"dataframe\">\n",
       "  <thead>\n",
       "    <tr style=\"text-align: right;\">\n",
       "      <th></th>\n",
       "      <th>square_feet</th>\n",
       "      <th>bedrooms</th>\n",
       "      <th>bathrooms</th>\n",
       "      <th>taxes</th>\n",
       "      <th>yearbuilt</th>\n",
       "      <th>county</th>\n",
       "      <th>lot_size</th>\n",
       "    </tr>\n",
       "    <tr>\n",
       "      <th>parcelid</th>\n",
       "      <th></th>\n",
       "      <th></th>\n",
       "      <th></th>\n",
       "      <th></th>\n",
       "      <th></th>\n",
       "      <th></th>\n",
       "      <th></th>\n",
       "    </tr>\n",
       "  </thead>\n",
       "  <tbody>\n",
       "    <tr>\n",
       "      <th>12794645</th>\n",
       "      <td>1467.0</td>\n",
       "      <td>3.0</td>\n",
       "      <td>2.0</td>\n",
       "      <td>1206.35</td>\n",
       "      <td>1958.0</td>\n",
       "      <td>3101.0</td>\n",
       "      <td>9743.0</td>\n",
       "    </tr>\n",
       "    <tr>\n",
       "      <th>11150935</th>\n",
       "      <td>2086.0</td>\n",
       "      <td>3.0</td>\n",
       "      <td>3.0</td>\n",
       "      <td>7874.20</td>\n",
       "      <td>2005.0</td>\n",
       "      <td>3101.0</td>\n",
       "      <td>19215.0</td>\n",
       "    </tr>\n",
       "    <tr>\n",
       "      <th>12819463</th>\n",
       "      <td>1472.0</td>\n",
       "      <td>4.0</td>\n",
       "      <td>3.0</td>\n",
       "      <td>3693.69</td>\n",
       "      <td>1954.0</td>\n",
       "      <td>3101.0</td>\n",
       "      <td>5517.0</td>\n",
       "    </tr>\n",
       "    <tr>\n",
       "      <th>11621154</th>\n",
       "      <td>1800.0</td>\n",
       "      <td>2.0</td>\n",
       "      <td>2.0</td>\n",
       "      <td>8455.09</td>\n",
       "      <td>1974.0</td>\n",
       "      <td>3101.0</td>\n",
       "      <td>25059.0</td>\n",
       "    </tr>\n",
       "    <tr>\n",
       "      <th>12772236</th>\n",
       "      <td>968.0</td>\n",
       "      <td>3.0</td>\n",
       "      <td>1.0</td>\n",
       "      <td>4954.28</td>\n",
       "      <td>1954.0</td>\n",
       "      <td>3101.0</td>\n",
       "      <td>5118.0</td>\n",
       "    </tr>\n",
       "  </tbody>\n",
       "</table>\n",
       "</div>"
      ],
      "text/plain": [
       "          square_feet  bedrooms  bathrooms    taxes  yearbuilt  county  \\\n",
       "parcelid                                                                 \n",
       "12794645       1467.0       3.0        2.0  1206.35     1958.0  3101.0   \n",
       "11150935       2086.0       3.0        3.0  7874.20     2005.0  3101.0   \n",
       "12819463       1472.0       4.0        3.0  3693.69     1954.0  3101.0   \n",
       "11621154       1800.0       2.0        2.0  8455.09     1974.0  3101.0   \n",
       "12772236        968.0       3.0        1.0  4954.28     1954.0  3101.0   \n",
       "\n",
       "          lot_size  \n",
       "parcelid            \n",
       "12794645    9743.0  \n",
       "11150935   19215.0  \n",
       "12819463    5517.0  \n",
       "11621154   25059.0  \n",
       "12772236    5118.0  "
      ]
     },
     "execution_count": 41,
     "metadata": {},
     "output_type": "execute_result"
    }
   ],
   "source": [
    "X_train.head()"
   ]
  },
  {
   "cell_type": "code",
   "execution_count": 42,
   "metadata": {},
   "outputs": [
    {
     "data": {
      "text/html": [
       "<div>\n",
       "<style scoped>\n",
       "    .dataframe tbody tr th:only-of-type {\n",
       "        vertical-align: middle;\n",
       "    }\n",
       "\n",
       "    .dataframe tbody tr th {\n",
       "        vertical-align: top;\n",
       "    }\n",
       "\n",
       "    .dataframe thead th {\n",
       "        text-align: right;\n",
       "    }\n",
       "</style>\n",
       "<table border=\"1\" class=\"dataframe\">\n",
       "  <thead>\n",
       "    <tr style=\"text-align: right;\">\n",
       "      <th></th>\n",
       "      <th>square_feet</th>\n",
       "      <th>bedrooms</th>\n",
       "      <th>bathrooms</th>\n",
       "      <th>taxes</th>\n",
       "      <th>yearbuilt</th>\n",
       "      <th>county</th>\n",
       "      <th>lot_size</th>\n",
       "    </tr>\n",
       "    <tr>\n",
       "      <th>parcelid</th>\n",
       "      <th></th>\n",
       "      <th></th>\n",
       "      <th></th>\n",
       "      <th></th>\n",
       "      <th></th>\n",
       "      <th></th>\n",
       "      <th></th>\n",
       "    </tr>\n",
       "  </thead>\n",
       "  <tbody>\n",
       "    <tr>\n",
       "      <th>12979856</th>\n",
       "      <td>984.0</td>\n",
       "      <td>2.0</td>\n",
       "      <td>1.0</td>\n",
       "      <td>2159.23</td>\n",
       "      <td>1953.0</td>\n",
       "      <td>3101.0</td>\n",
       "      <td>5937.0</td>\n",
       "    </tr>\n",
       "    <tr>\n",
       "      <th>14098411</th>\n",
       "      <td>1673.0</td>\n",
       "      <td>4.0</td>\n",
       "      <td>2.0</td>\n",
       "      <td>6571.12</td>\n",
       "      <td>1968.0</td>\n",
       "      <td>1286.0</td>\n",
       "      <td>5005.0</td>\n",
       "    </tr>\n",
       "    <tr>\n",
       "      <th>12745593</th>\n",
       "      <td>1440.0</td>\n",
       "      <td>4.0</td>\n",
       "      <td>2.0</td>\n",
       "      <td>1086.60</td>\n",
       "      <td>1963.0</td>\n",
       "      <td>3101.0</td>\n",
       "      <td>5029.0</td>\n",
       "    </tr>\n",
       "    <tr>\n",
       "      <th>14362589</th>\n",
       "      <td>1919.0</td>\n",
       "      <td>4.0</td>\n",
       "      <td>2.5</td>\n",
       "      <td>7925.90</td>\n",
       "      <td>1993.0</td>\n",
       "      <td>1286.0</td>\n",
       "      <td>4600.0</td>\n",
       "    </tr>\n",
       "    <tr>\n",
       "      <th>12070788</th>\n",
       "      <td>958.0</td>\n",
       "      <td>1.0</td>\n",
       "      <td>1.0</td>\n",
       "      <td>3795.89</td>\n",
       "      <td>1975.0</td>\n",
       "      <td>3101.0</td>\n",
       "      <td>40709.0</td>\n",
       "    </tr>\n",
       "  </tbody>\n",
       "</table>\n",
       "</div>"
      ],
      "text/plain": [
       "          square_feet  bedrooms  bathrooms    taxes  yearbuilt  county  \\\n",
       "parcelid                                                                 \n",
       "12979856        984.0       2.0        1.0  2159.23     1953.0  3101.0   \n",
       "14098411       1673.0       4.0        2.0  6571.12     1968.0  1286.0   \n",
       "12745593       1440.0       4.0        2.0  1086.60     1963.0  3101.0   \n",
       "14362589       1919.0       4.0        2.5  7925.90     1993.0  1286.0   \n",
       "12070788        958.0       1.0        1.0  3795.89     1975.0  3101.0   \n",
       "\n",
       "          lot_size  \n",
       "parcelid            \n",
       "12979856    5937.0  \n",
       "14098411    5005.0  \n",
       "12745593    5029.0  \n",
       "14362589    4600.0  \n",
       "12070788   40709.0  "
      ]
     },
     "execution_count": 42,
     "metadata": {},
     "output_type": "execute_result"
    }
   ],
   "source": [
    "X_validate.head()"
   ]
  },
  {
   "cell_type": "code",
   "execution_count": 43,
   "metadata": {},
   "outputs": [
    {
     "data": {
      "text/html": [
       "<div>\n",
       "<style scoped>\n",
       "    .dataframe tbody tr th:only-of-type {\n",
       "        vertical-align: middle;\n",
       "    }\n",
       "\n",
       "    .dataframe tbody tr th {\n",
       "        vertical-align: top;\n",
       "    }\n",
       "\n",
       "    .dataframe thead th {\n",
       "        text-align: right;\n",
       "    }\n",
       "</style>\n",
       "<table border=\"1\" class=\"dataframe\">\n",
       "  <thead>\n",
       "    <tr style=\"text-align: right;\">\n",
       "      <th></th>\n",
       "      <th>square_feet</th>\n",
       "      <th>bedrooms</th>\n",
       "      <th>bathrooms</th>\n",
       "      <th>taxes</th>\n",
       "      <th>yearbuilt</th>\n",
       "      <th>county</th>\n",
       "      <th>lot_size</th>\n",
       "    </tr>\n",
       "    <tr>\n",
       "      <th>parcelid</th>\n",
       "      <th></th>\n",
       "      <th></th>\n",
       "      <th></th>\n",
       "      <th></th>\n",
       "      <th></th>\n",
       "      <th></th>\n",
       "      <th></th>\n",
       "    </tr>\n",
       "  </thead>\n",
       "  <tbody>\n",
       "    <tr>\n",
       "      <th>12197745</th>\n",
       "      <td>1445.0</td>\n",
       "      <td>2.0</td>\n",
       "      <td>1.0</td>\n",
       "      <td>593.73</td>\n",
       "      <td>1931.0</td>\n",
       "      <td>3101.0</td>\n",
       "      <td>5743.0</td>\n",
       "    </tr>\n",
       "    <tr>\n",
       "      <th>12538651</th>\n",
       "      <td>655.0</td>\n",
       "      <td>1.0</td>\n",
       "      <td>1.0</td>\n",
       "      <td>1066.94</td>\n",
       "      <td>1957.0</td>\n",
       "      <td>3101.0</td>\n",
       "      <td>15001.0</td>\n",
       "    </tr>\n",
       "    <tr>\n",
       "      <th>13973106</th>\n",
       "      <td>1493.0</td>\n",
       "      <td>3.0</td>\n",
       "      <td>1.0</td>\n",
       "      <td>3084.40</td>\n",
       "      <td>1952.0</td>\n",
       "      <td>1286.0</td>\n",
       "      <td>6018.0</td>\n",
       "    </tr>\n",
       "    <tr>\n",
       "      <th>11887550</th>\n",
       "      <td>3070.0</td>\n",
       "      <td>3.0</td>\n",
       "      <td>3.0</td>\n",
       "      <td>14967.95</td>\n",
       "      <td>1950.0</td>\n",
       "      <td>3101.0</td>\n",
       "      <td>21944.0</td>\n",
       "    </tr>\n",
       "    <tr>\n",
       "      <th>11420117</th>\n",
       "      <td>1194.0</td>\n",
       "      <td>3.0</td>\n",
       "      <td>2.0</td>\n",
       "      <td>3283.20</td>\n",
       "      <td>1954.0</td>\n",
       "      <td>3101.0</td>\n",
       "      <td>5824.0</td>\n",
       "    </tr>\n",
       "  </tbody>\n",
       "</table>\n",
       "</div>"
      ],
      "text/plain": [
       "          square_feet  bedrooms  bathrooms     taxes  yearbuilt  county  \\\n",
       "parcelid                                                                  \n",
       "12197745       1445.0       2.0        1.0    593.73     1931.0  3101.0   \n",
       "12538651        655.0       1.0        1.0   1066.94     1957.0  3101.0   \n",
       "13973106       1493.0       3.0        1.0   3084.40     1952.0  1286.0   \n",
       "11887550       3070.0       3.0        3.0  14967.95     1950.0  3101.0   \n",
       "11420117       1194.0       3.0        2.0   3283.20     1954.0  3101.0   \n",
       "\n",
       "          lot_size  \n",
       "parcelid            \n",
       "12197745    5743.0  \n",
       "12538651   15001.0  \n",
       "13973106    6018.0  \n",
       "11887550   21944.0  \n",
       "11420117    5824.0  "
      ]
     },
     "execution_count": 43,
     "metadata": {},
     "output_type": "execute_result"
    }
   ],
   "source": [
    "X_test.head()"
   ]
  },
  {
   "cell_type": "code",
   "execution_count": 46,
   "metadata": {},
   "outputs": [],
   "source": [
    "train_scaled, validate_scaled, test_scaled = scale_data(X_train, X_validate, X_test)"
   ]
  },
  {
   "cell_type": "code",
   "execution_count": 47,
   "metadata": {},
   "outputs": [
    {
     "data": {
      "text/html": [
       "<div>\n",
       "<style scoped>\n",
       "    .dataframe tbody tr th:only-of-type {\n",
       "        vertical-align: middle;\n",
       "    }\n",
       "\n",
       "    .dataframe tbody tr th {\n",
       "        vertical-align: top;\n",
       "    }\n",
       "\n",
       "    .dataframe thead th {\n",
       "        text-align: right;\n",
       "    }\n",
       "</style>\n",
       "<table border=\"1\" class=\"dataframe\">\n",
       "  <thead>\n",
       "    <tr style=\"text-align: right;\">\n",
       "      <th></th>\n",
       "      <th>square_feet</th>\n",
       "      <th>bedrooms</th>\n",
       "      <th>bathrooms</th>\n",
       "      <th>taxes</th>\n",
       "      <th>yearbuilt</th>\n",
       "      <th>county</th>\n",
       "      <th>lot_size</th>\n",
       "    </tr>\n",
       "  </thead>\n",
       "  <tbody>\n",
       "    <tr>\n",
       "      <th>0</th>\n",
       "      <td>0.056572</td>\n",
       "      <td>0.3</td>\n",
       "      <td>0.153846</td>\n",
       "      <td>0.003970</td>\n",
       "      <td>0.579710</td>\n",
       "      <td>1.0</td>\n",
       "      <td>0.001335</td>\n",
       "    </tr>\n",
       "    <tr>\n",
       "      <th>1</th>\n",
       "      <td>0.085112</td>\n",
       "      <td>0.3</td>\n",
       "      <td>0.230769</td>\n",
       "      <td>0.026888</td>\n",
       "      <td>0.920290</td>\n",
       "      <td>1.0</td>\n",
       "      <td>0.002694</td>\n",
       "    </tr>\n",
       "    <tr>\n",
       "      <th>2</th>\n",
       "      <td>0.056803</td>\n",
       "      <td>0.4</td>\n",
       "      <td>0.230769</td>\n",
       "      <td>0.012519</td>\n",
       "      <td>0.550725</td>\n",
       "      <td>1.0</td>\n",
       "      <td>0.000729</td>\n",
       "    </tr>\n",
       "    <tr>\n",
       "      <th>3</th>\n",
       "      <td>0.071926</td>\n",
       "      <td>0.2</td>\n",
       "      <td>0.153846</td>\n",
       "      <td>0.028884</td>\n",
       "      <td>0.695652</td>\n",
       "      <td>1.0</td>\n",
       "      <td>0.003533</td>\n",
       "    </tr>\n",
       "    <tr>\n",
       "      <th>4</th>\n",
       "      <td>0.033565</td>\n",
       "      <td>0.3</td>\n",
       "      <td>0.076923</td>\n",
       "      <td>0.016852</td>\n",
       "      <td>0.550725</td>\n",
       "      <td>1.0</td>\n",
       "      <td>0.000672</td>\n",
       "    </tr>\n",
       "  </tbody>\n",
       "</table>\n",
       "</div>"
      ],
      "text/plain": [
       "   square_feet  bedrooms  bathrooms     taxes  yearbuilt  county  lot_size\n",
       "0     0.056572       0.3   0.153846  0.003970   0.579710     1.0  0.001335\n",
       "1     0.085112       0.3   0.230769  0.026888   0.920290     1.0  0.002694\n",
       "2     0.056803       0.4   0.230769  0.012519   0.550725     1.0  0.000729\n",
       "3     0.071926       0.2   0.153846  0.028884   0.695652     1.0  0.003533\n",
       "4     0.033565       0.3   0.076923  0.016852   0.550725     1.0  0.000672"
      ]
     },
     "execution_count": 47,
     "metadata": {},
     "output_type": "execute_result"
    }
   ],
   "source": [
    "train_scaled.head()"
   ]
  },
  {
   "cell_type": "code",
   "execution_count": 48,
   "metadata": {},
   "outputs": [
    {
     "data": {
      "text/html": [
       "<div>\n",
       "<style scoped>\n",
       "    .dataframe tbody tr th:only-of-type {\n",
       "        vertical-align: middle;\n",
       "    }\n",
       "\n",
       "    .dataframe tbody tr th {\n",
       "        vertical-align: top;\n",
       "    }\n",
       "\n",
       "    .dataframe thead th {\n",
       "        text-align: right;\n",
       "    }\n",
       "</style>\n",
       "<table border=\"1\" class=\"dataframe\">\n",
       "  <thead>\n",
       "    <tr style=\"text-align: right;\">\n",
       "      <th></th>\n",
       "      <th>square_feet</th>\n",
       "      <th>bedrooms</th>\n",
       "      <th>bathrooms</th>\n",
       "      <th>taxes</th>\n",
       "      <th>yearbuilt</th>\n",
       "      <th>county</th>\n",
       "      <th>lot_size</th>\n",
       "    </tr>\n",
       "  </thead>\n",
       "  <tbody>\n",
       "    <tr>\n",
       "      <th>0</th>\n",
       "      <td>0.034303</td>\n",
       "      <td>0.2</td>\n",
       "      <td>0.076923</td>\n",
       "      <td>0.007245</td>\n",
       "      <td>0.543478</td>\n",
       "      <td>1.0</td>\n",
       "      <td>0.000789</td>\n",
       "    </tr>\n",
       "    <tr>\n",
       "      <th>1</th>\n",
       "      <td>0.066070</td>\n",
       "      <td>0.4</td>\n",
       "      <td>0.153846</td>\n",
       "      <td>0.022409</td>\n",
       "      <td>0.652174</td>\n",
       "      <td>0.0</td>\n",
       "      <td>0.000656</td>\n",
       "    </tr>\n",
       "    <tr>\n",
       "      <th>2</th>\n",
       "      <td>0.055328</td>\n",
       "      <td>0.4</td>\n",
       "      <td>0.153846</td>\n",
       "      <td>0.003559</td>\n",
       "      <td>0.615942</td>\n",
       "      <td>1.0</td>\n",
       "      <td>0.000659</td>\n",
       "    </tr>\n",
       "    <tr>\n",
       "      <th>3</th>\n",
       "      <td>0.077413</td>\n",
       "      <td>0.4</td>\n",
       "      <td>0.192308</td>\n",
       "      <td>0.027066</td>\n",
       "      <td>0.833333</td>\n",
       "      <td>0.0</td>\n",
       "      <td>0.000598</td>\n",
       "    </tr>\n",
       "    <tr>\n",
       "      <th>4</th>\n",
       "      <td>0.033104</td>\n",
       "      <td>0.1</td>\n",
       "      <td>0.076923</td>\n",
       "      <td>0.012870</td>\n",
       "      <td>0.702899</td>\n",
       "      <td>1.0</td>\n",
       "      <td>0.005778</td>\n",
       "    </tr>\n",
       "  </tbody>\n",
       "</table>\n",
       "</div>"
      ],
      "text/plain": [
       "   square_feet  bedrooms  bathrooms     taxes  yearbuilt  county  lot_size\n",
       "0     0.034303       0.2   0.076923  0.007245   0.543478     1.0  0.000789\n",
       "1     0.066070       0.4   0.153846  0.022409   0.652174     0.0  0.000656\n",
       "2     0.055328       0.4   0.153846  0.003559   0.615942     1.0  0.000659\n",
       "3     0.077413       0.4   0.192308  0.027066   0.833333     0.0  0.000598\n",
       "4     0.033104       0.1   0.076923  0.012870   0.702899     1.0  0.005778"
      ]
     },
     "execution_count": 48,
     "metadata": {},
     "output_type": "execute_result"
    }
   ],
   "source": [
    "validate_scaled.head()"
   ]
  },
  {
   "cell_type": "code",
   "execution_count": 49,
   "metadata": {},
   "outputs": [
    {
     "data": {
      "text/html": [
       "<div>\n",
       "<style scoped>\n",
       "    .dataframe tbody tr th:only-of-type {\n",
       "        vertical-align: middle;\n",
       "    }\n",
       "\n",
       "    .dataframe tbody tr th {\n",
       "        vertical-align: top;\n",
       "    }\n",
       "\n",
       "    .dataframe thead th {\n",
       "        text-align: right;\n",
       "    }\n",
       "</style>\n",
       "<table border=\"1\" class=\"dataframe\">\n",
       "  <thead>\n",
       "    <tr style=\"text-align: right;\">\n",
       "      <th></th>\n",
       "      <th>square_feet</th>\n",
       "      <th>bedrooms</th>\n",
       "      <th>bathrooms</th>\n",
       "      <th>taxes</th>\n",
       "      <th>yearbuilt</th>\n",
       "      <th>county</th>\n",
       "      <th>lot_size</th>\n",
       "    </tr>\n",
       "  </thead>\n",
       "  <tbody>\n",
       "    <tr>\n",
       "      <th>0</th>\n",
       "      <td>0.055558</td>\n",
       "      <td>0.2</td>\n",
       "      <td>0.076923</td>\n",
       "      <td>0.001864</td>\n",
       "      <td>0.384058</td>\n",
       "      <td>1.0</td>\n",
       "      <td>0.000761</td>\n",
       "    </tr>\n",
       "    <tr>\n",
       "      <th>1</th>\n",
       "      <td>0.019134</td>\n",
       "      <td>0.1</td>\n",
       "      <td>0.076923</td>\n",
       "      <td>0.003491</td>\n",
       "      <td>0.572464</td>\n",
       "      <td>1.0</td>\n",
       "      <td>0.002090</td>\n",
       "    </tr>\n",
       "    <tr>\n",
       "      <th>2</th>\n",
       "      <td>0.057771</td>\n",
       "      <td>0.3</td>\n",
       "      <td>0.076923</td>\n",
       "      <td>0.010425</td>\n",
       "      <td>0.536232</td>\n",
       "      <td>0.0</td>\n",
       "      <td>0.000801</td>\n",
       "    </tr>\n",
       "    <tr>\n",
       "      <th>3</th>\n",
       "      <td>0.130481</td>\n",
       "      <td>0.3</td>\n",
       "      <td>0.230769</td>\n",
       "      <td>0.051269</td>\n",
       "      <td>0.521739</td>\n",
       "      <td>1.0</td>\n",
       "      <td>0.003086</td>\n",
       "    </tr>\n",
       "    <tr>\n",
       "      <th>4</th>\n",
       "      <td>0.043985</td>\n",
       "      <td>0.3</td>\n",
       "      <td>0.153846</td>\n",
       "      <td>0.011108</td>\n",
       "      <td>0.550725</td>\n",
       "      <td>1.0</td>\n",
       "      <td>0.000773</td>\n",
       "    </tr>\n",
       "  </tbody>\n",
       "</table>\n",
       "</div>"
      ],
      "text/plain": [
       "   square_feet  bedrooms  bathrooms     taxes  yearbuilt  county  lot_size\n",
       "0     0.055558       0.2   0.076923  0.001864   0.384058     1.0  0.000761\n",
       "1     0.019134       0.1   0.076923  0.003491   0.572464     1.0  0.002090\n",
       "2     0.057771       0.3   0.076923  0.010425   0.536232     0.0  0.000801\n",
       "3     0.130481       0.3   0.230769  0.051269   0.521739     1.0  0.003086\n",
       "4     0.043985       0.3   0.153846  0.011108   0.550725     1.0  0.000773"
      ]
     },
     "execution_count": 49,
     "metadata": {},
     "output_type": "execute_result"
    }
   ],
   "source": [
    "test_scaled.head()"
   ]
  },
  {
   "cell_type": "code",
   "execution_count": null,
   "metadata": {},
   "outputs": [],
   "source": []
  }
 ],
 "metadata": {
  "kernelspec": {
   "display_name": "Python 3",
   "language": "python",
   "name": "python3"
  },
  "language_info": {
   "codemirror_mode": {
    "name": "ipython",
    "version": 3
   },
   "file_extension": ".py",
   "mimetype": "text/x-python",
   "name": "python",
   "nbconvert_exporter": "python",
   "pygments_lexer": "ipython3",
   "version": "3.8.5"
  }
 },
 "nbformat": 4,
 "nbformat_minor": 4
}
