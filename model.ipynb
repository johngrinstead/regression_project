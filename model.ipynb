{
 "cells": [
  {
   "cell_type": "code",
   "execution_count": 1,
   "metadata": {},
   "outputs": [],
   "source": [
    "import pandas as pd\n",
    "import numpy as np\n",
    "import wrangle\n",
    "import matplotlib.pyplot as plt\n",
    "\n",
    "# modeling methods\n",
    "from sklearn.metrics import mean_squared_error\n",
    "from sklearn.linear_model import LinearRegression, LassoLars, TweedieRegressor\n",
    "from sklearn.preprocessing import PolynomialFeatures\n",
    "\n",
    "import warnings\n",
    "warnings.filterwarnings(\"ignore\")"
   ]
  },
  {
   "cell_type": "markdown",
   "metadata": {},
   "source": [
    "# Wrangle Data"
   ]
  },
  {
   "cell_type": "code",
   "execution_count": 2,
   "metadata": {},
   "outputs": [],
   "source": [
    "import wrangle\n",
    "\n",
    "from wrangle import wrangle_zillow\n",
    "from wrangle import split\n",
    "from wrangle import seperate_y\n",
    "from wrangle import scale_data"
   ]
  },
  {
   "cell_type": "markdown",
   "metadata": {},
   "source": [
    "### Acquire"
   ]
  },
  {
   "cell_type": "code",
   "execution_count": 3,
   "metadata": {},
   "outputs": [],
   "source": [
    "df = wrangle_zillow()"
   ]
  },
  {
   "cell_type": "code",
   "execution_count": 4,
   "metadata": {},
   "outputs": [
    {
     "data": {
      "text/html": [
       "<div>\n",
       "<style scoped>\n",
       "    .dataframe tbody tr th:only-of-type {\n",
       "        vertical-align: middle;\n",
       "    }\n",
       "\n",
       "    .dataframe tbody tr th {\n",
       "        vertical-align: top;\n",
       "    }\n",
       "\n",
       "    .dataframe thead th {\n",
       "        text-align: right;\n",
       "    }\n",
       "</style>\n",
       "<table border=\"1\" class=\"dataframe\">\n",
       "  <thead>\n",
       "    <tr style=\"text-align: right;\">\n",
       "      <th></th>\n",
       "      <th>square_feet</th>\n",
       "      <th>bedrooms</th>\n",
       "      <th>bathrooms</th>\n",
       "      <th>tax_value</th>\n",
       "      <th>house_age</th>\n",
       "    </tr>\n",
       "    <tr>\n",
       "      <th>parcelid</th>\n",
       "      <th></th>\n",
       "      <th></th>\n",
       "      <th></th>\n",
       "      <th></th>\n",
       "      <th></th>\n",
       "    </tr>\n",
       "  </thead>\n",
       "  <tbody>\n",
       "    <tr>\n",
       "      <th>12177905</th>\n",
       "      <td>2376.0</td>\n",
       "      <td>4</td>\n",
       "      <td>3</td>\n",
       "      <td>145143.0</td>\n",
       "      <td>51</td>\n",
       "    </tr>\n",
       "    <tr>\n",
       "      <th>10887214</th>\n",
       "      <td>1312.0</td>\n",
       "      <td>3</td>\n",
       "      <td>3</td>\n",
       "      <td>119407.0</td>\n",
       "      <td>57</td>\n",
       "    </tr>\n",
       "    <tr>\n",
       "      <th>12095076</th>\n",
       "      <td>2962.0</td>\n",
       "      <td>4</td>\n",
       "      <td>3</td>\n",
       "      <td>773303.0</td>\n",
       "      <td>71</td>\n",
       "    </tr>\n",
       "    <tr>\n",
       "      <th>12069064</th>\n",
       "      <td>738.0</td>\n",
       "      <td>2</td>\n",
       "      <td>1</td>\n",
       "      <td>218552.0</td>\n",
       "      <td>99</td>\n",
       "    </tr>\n",
       "    <tr>\n",
       "      <th>12790562</th>\n",
       "      <td>3039.0</td>\n",
       "      <td>4</td>\n",
       "      <td>3</td>\n",
       "      <td>220583.0</td>\n",
       "      <td>51</td>\n",
       "    </tr>\n",
       "  </tbody>\n",
       "</table>\n",
       "</div>"
      ],
      "text/plain": [
       "          square_feet  bedrooms  bathrooms  tax_value  house_age\n",
       "parcelid                                                        \n",
       "12177905       2376.0         4          3   145143.0         51\n",
       "10887214       1312.0         3          3   119407.0         57\n",
       "12095076       2962.0         4          3   773303.0         71\n",
       "12069064        738.0         2          1   218552.0         99\n",
       "12790562       3039.0         4          3   220583.0         51"
      ]
     },
     "execution_count": 4,
     "metadata": {},
     "output_type": "execute_result"
    }
   ],
   "source": [
    "df.head()"
   ]
  },
  {
   "cell_type": "code",
   "execution_count": 5,
   "metadata": {},
   "outputs": [
    {
     "data": {
      "text/plain": [
       "(58088, 5)"
      ]
     },
     "execution_count": 5,
     "metadata": {},
     "output_type": "execute_result"
    }
   ],
   "source": [
    "df.shape"
   ]
  },
  {
   "cell_type": "code",
   "execution_count": 6,
   "metadata": {},
   "outputs": [
    {
     "name": "stdout",
     "output_type": "stream",
     "text": [
      "<class 'pandas.core.frame.DataFrame'>\n",
      "Int64Index: 58088 entries, 12177905 to 13083743\n",
      "Data columns (total 5 columns):\n",
      " #   Column       Non-Null Count  Dtype  \n",
      "---  ------       --------------  -----  \n",
      " 0   square_feet  58088 non-null  float64\n",
      " 1   bedrooms     58088 non-null  int64  \n",
      " 2   bathrooms    58088 non-null  int64  \n",
      " 3   tax_value    58088 non-null  float64\n",
      " 4   house_age    58088 non-null  int64  \n",
      "dtypes: float64(2), int64(3)\n",
      "memory usage: 2.7 MB\n"
     ]
    }
   ],
   "source": [
    "df.info()"
   ]
  },
  {
   "cell_type": "code",
   "execution_count": 7,
   "metadata": {},
   "outputs": [
    {
     "data": {
      "text/html": [
       "<div>\n",
       "<style scoped>\n",
       "    .dataframe tbody tr th:only-of-type {\n",
       "        vertical-align: middle;\n",
       "    }\n",
       "\n",
       "    .dataframe tbody tr th {\n",
       "        vertical-align: top;\n",
       "    }\n",
       "\n",
       "    .dataframe thead th {\n",
       "        text-align: right;\n",
       "    }\n",
       "</style>\n",
       "<table border=\"1\" class=\"dataframe\">\n",
       "  <thead>\n",
       "    <tr style=\"text-align: right;\">\n",
       "      <th></th>\n",
       "      <th>square_feet</th>\n",
       "      <th>bedrooms</th>\n",
       "      <th>bathrooms</th>\n",
       "      <th>tax_value</th>\n",
       "      <th>house_age</th>\n",
       "    </tr>\n",
       "  </thead>\n",
       "  <tbody>\n",
       "    <tr>\n",
       "      <th>count</th>\n",
       "      <td>58088.000000</td>\n",
       "      <td>58088.000000</td>\n",
       "      <td>58088.000000</td>\n",
       "      <td>5.808800e+04</td>\n",
       "      <td>58088.000000</td>\n",
       "    </tr>\n",
       "    <tr>\n",
       "      <th>mean</th>\n",
       "      <td>1592.589416</td>\n",
       "      <td>2.924150</td>\n",
       "      <td>2.108077</td>\n",
       "      <td>3.901672e+05</td>\n",
       "      <td>53.509296</td>\n",
       "    </tr>\n",
       "    <tr>\n",
       "      <th>std</th>\n",
       "      <td>612.744758</td>\n",
       "      <td>0.931132</td>\n",
       "      <td>0.770176</td>\n",
       "      <td>2.781329e+05</td>\n",
       "      <td>23.182622</td>\n",
       "    </tr>\n",
       "    <tr>\n",
       "      <th>min</th>\n",
       "      <td>152.000000</td>\n",
       "      <td>1.000000</td>\n",
       "      <td>1.000000</td>\n",
       "      <td>1.000000e+03</td>\n",
       "      <td>5.000000</td>\n",
       "    </tr>\n",
       "    <tr>\n",
       "      <th>25%</th>\n",
       "      <td>1144.000000</td>\n",
       "      <td>2.000000</td>\n",
       "      <td>2.000000</td>\n",
       "      <td>1.909848e+05</td>\n",
       "      <td>36.000000</td>\n",
       "    </tr>\n",
       "    <tr>\n",
       "      <th>50%</th>\n",
       "      <td>1465.000000</td>\n",
       "      <td>3.000000</td>\n",
       "      <td>2.000000</td>\n",
       "      <td>3.328755e+05</td>\n",
       "      <td>54.000000</td>\n",
       "    </tr>\n",
       "    <tr>\n",
       "      <th>75%</th>\n",
       "      <td>1921.000000</td>\n",
       "      <td>4.000000</td>\n",
       "      <td>3.000000</td>\n",
       "      <td>5.128345e+05</td>\n",
       "      <td>69.000000</td>\n",
       "    </tr>\n",
       "    <tr>\n",
       "      <th>max</th>\n",
       "      <td>3499.000000</td>\n",
       "      <td>9.000000</td>\n",
       "      <td>7.000000</td>\n",
       "      <td>1.679968e+06</td>\n",
       "      <td>143.000000</td>\n",
       "    </tr>\n",
       "  </tbody>\n",
       "</table>\n",
       "</div>"
      ],
      "text/plain": [
       "        square_feet      bedrooms     bathrooms     tax_value     house_age\n",
       "count  58088.000000  58088.000000  58088.000000  5.808800e+04  58088.000000\n",
       "mean    1592.589416      2.924150      2.108077  3.901672e+05     53.509296\n",
       "std      612.744758      0.931132      0.770176  2.781329e+05     23.182622\n",
       "min      152.000000      1.000000      1.000000  1.000000e+03      5.000000\n",
       "25%     1144.000000      2.000000      2.000000  1.909848e+05     36.000000\n",
       "50%     1465.000000      3.000000      2.000000  3.328755e+05     54.000000\n",
       "75%     1921.000000      4.000000      3.000000  5.128345e+05     69.000000\n",
       "max     3499.000000      9.000000      7.000000  1.679968e+06    143.000000"
      ]
     },
     "execution_count": 7,
     "metadata": {},
     "output_type": "execute_result"
    }
   ],
   "source": [
    "df.describe()"
   ]
  },
  {
   "cell_type": "markdown",
   "metadata": {},
   "source": [
    "### Split"
   ]
  },
  {
   "cell_type": "code",
   "execution_count": 8,
   "metadata": {},
   "outputs": [],
   "source": [
    "train, validate, test = split(df)"
   ]
  },
  {
   "cell_type": "code",
   "execution_count": 9,
   "metadata": {},
   "outputs": [
    {
     "data": {
      "text/html": [
       "<div>\n",
       "<style scoped>\n",
       "    .dataframe tbody tr th:only-of-type {\n",
       "        vertical-align: middle;\n",
       "    }\n",
       "\n",
       "    .dataframe tbody tr th {\n",
       "        vertical-align: top;\n",
       "    }\n",
       "\n",
       "    .dataframe thead th {\n",
       "        text-align: right;\n",
       "    }\n",
       "</style>\n",
       "<table border=\"1\" class=\"dataframe\">\n",
       "  <thead>\n",
       "    <tr style=\"text-align: right;\">\n",
       "      <th></th>\n",
       "      <th>square_feet</th>\n",
       "      <th>bedrooms</th>\n",
       "      <th>bathrooms</th>\n",
       "      <th>tax_value</th>\n",
       "      <th>house_age</th>\n",
       "    </tr>\n",
       "    <tr>\n",
       "      <th>parcelid</th>\n",
       "      <th></th>\n",
       "      <th></th>\n",
       "      <th></th>\n",
       "      <th></th>\n",
       "      <th></th>\n",
       "    </tr>\n",
       "  </thead>\n",
       "  <tbody>\n",
       "    <tr>\n",
       "      <th>11201390</th>\n",
       "      <td>1898.0</td>\n",
       "      <td>3</td>\n",
       "      <td>2</td>\n",
       "      <td>69945.0</td>\n",
       "      <td>62</td>\n",
       "    </tr>\n",
       "    <tr>\n",
       "      <th>14125345</th>\n",
       "      <td>2164.0</td>\n",
       "      <td>4</td>\n",
       "      <td>3</td>\n",
       "      <td>294236.0</td>\n",
       "      <td>44</td>\n",
       "    </tr>\n",
       "    <tr>\n",
       "      <th>12621955</th>\n",
       "      <td>2184.0</td>\n",
       "      <td>4</td>\n",
       "      <td>3</td>\n",
       "      <td>565665.0</td>\n",
       "      <td>55</td>\n",
       "    </tr>\n",
       "    <tr>\n",
       "      <th>13026675</th>\n",
       "      <td>1532.0</td>\n",
       "      <td>3</td>\n",
       "      <td>3</td>\n",
       "      <td>383116.0</td>\n",
       "      <td>9</td>\n",
       "    </tr>\n",
       "    <tr>\n",
       "      <th>12395470</th>\n",
       "      <td>1478.0</td>\n",
       "      <td>3</td>\n",
       "      <td>2</td>\n",
       "      <td>416252.0</td>\n",
       "      <td>23</td>\n",
       "    </tr>\n",
       "  </tbody>\n",
       "</table>\n",
       "</div>"
      ],
      "text/plain": [
       "          square_feet  bedrooms  bathrooms  tax_value  house_age\n",
       "parcelid                                                        \n",
       "11201390       1898.0         3          2    69945.0         62\n",
       "14125345       2164.0         4          3   294236.0         44\n",
       "12621955       2184.0         4          3   565665.0         55\n",
       "13026675       1532.0         3          3   383116.0          9\n",
       "12395470       1478.0         3          2   416252.0         23"
      ]
     },
     "execution_count": 9,
     "metadata": {},
     "output_type": "execute_result"
    }
   ],
   "source": [
    "train.head()"
   ]
  },
  {
   "cell_type": "code",
   "execution_count": 10,
   "metadata": {},
   "outputs": [
    {
     "data": {
      "text/plain": [
       "(32529, 5)"
      ]
     },
     "execution_count": 10,
     "metadata": {},
     "output_type": "execute_result"
    }
   ],
   "source": [
    "train.shape"
   ]
  },
  {
   "cell_type": "code",
   "execution_count": 11,
   "metadata": {},
   "outputs": [
    {
     "data": {
      "text/plain": [
       "(13941, 5)"
      ]
     },
     "execution_count": 11,
     "metadata": {},
     "output_type": "execute_result"
    }
   ],
   "source": [
    "validate.shape"
   ]
  },
  {
   "cell_type": "code",
   "execution_count": 12,
   "metadata": {},
   "outputs": [
    {
     "data": {
      "text/plain": [
       "(11618, 5)"
      ]
     },
     "execution_count": 12,
     "metadata": {},
     "output_type": "execute_result"
    }
   ],
   "source": [
    "test.shape"
   ]
  },
  {
   "cell_type": "markdown",
   "metadata": {},
   "source": [
    "### Seperate Target "
   ]
  },
  {
   "cell_type": "code",
   "execution_count": 13,
   "metadata": {},
   "outputs": [],
   "source": [
    "X_train, y_train, X_validate, y_validate, X_test, y_test = seperate_y(train, validate, test)"
   ]
  },
  {
   "cell_type": "code",
   "execution_count": 14,
   "metadata": {},
   "outputs": [
    {
     "data": {
      "text/plain": [
       "(32529, 4)"
      ]
     },
     "execution_count": 14,
     "metadata": {},
     "output_type": "execute_result"
    }
   ],
   "source": [
    "X_train.shape"
   ]
  },
  {
   "cell_type": "code",
   "execution_count": 15,
   "metadata": {},
   "outputs": [
    {
     "data": {
      "text/plain": [
       "(32529,)"
      ]
     },
     "execution_count": 15,
     "metadata": {},
     "output_type": "execute_result"
    }
   ],
   "source": [
    "y_train.shape"
   ]
  },
  {
   "cell_type": "code",
   "execution_count": 16,
   "metadata": {},
   "outputs": [
    {
     "data": {
      "text/plain": [
       "(13941, 4)"
      ]
     },
     "execution_count": 16,
     "metadata": {},
     "output_type": "execute_result"
    }
   ],
   "source": [
    "X_validate.shape"
   ]
  },
  {
   "cell_type": "code",
   "execution_count": 17,
   "metadata": {},
   "outputs": [
    {
     "data": {
      "text/plain": [
       "(13941,)"
      ]
     },
     "execution_count": 17,
     "metadata": {},
     "output_type": "execute_result"
    }
   ],
   "source": [
    "y_validate.shape"
   ]
  },
  {
   "cell_type": "code",
   "execution_count": 18,
   "metadata": {},
   "outputs": [
    {
     "data": {
      "text/plain": [
       "(11618, 4)"
      ]
     },
     "execution_count": 18,
     "metadata": {},
     "output_type": "execute_result"
    }
   ],
   "source": [
    "X_test.shape"
   ]
  },
  {
   "cell_type": "code",
   "execution_count": 19,
   "metadata": {},
   "outputs": [
    {
     "data": {
      "text/plain": [
       "(11618,)"
      ]
     },
     "execution_count": 19,
     "metadata": {},
     "output_type": "execute_result"
    }
   ],
   "source": [
    "y_test.shape"
   ]
  },
  {
   "cell_type": "markdown",
   "metadata": {},
   "source": [
    "### Scale data"
   ]
  },
  {
   "cell_type": "code",
   "execution_count": 20,
   "metadata": {},
   "outputs": [],
   "source": [
    "train_scaled, validate_scaled, test_scaled = scale_data(X_train, X_validate, X_test)"
   ]
  },
  {
   "cell_type": "code",
   "execution_count": 21,
   "metadata": {},
   "outputs": [
    {
     "data": {
      "text/html": [
       "<div>\n",
       "<style scoped>\n",
       "    .dataframe tbody tr th:only-of-type {\n",
       "        vertical-align: middle;\n",
       "    }\n",
       "\n",
       "    .dataframe tbody tr th {\n",
       "        vertical-align: top;\n",
       "    }\n",
       "\n",
       "    .dataframe thead th {\n",
       "        text-align: right;\n",
       "    }\n",
       "</style>\n",
       "<table border=\"1\" class=\"dataframe\">\n",
       "  <thead>\n",
       "    <tr style=\"text-align: right;\">\n",
       "      <th></th>\n",
       "      <th>square_feet</th>\n",
       "      <th>bedrooms</th>\n",
       "      <th>bathrooms</th>\n",
       "      <th>house_age</th>\n",
       "    </tr>\n",
       "    <tr>\n",
       "      <th>parcelid</th>\n",
       "      <th></th>\n",
       "      <th></th>\n",
       "      <th></th>\n",
       "      <th></th>\n",
       "    </tr>\n",
       "  </thead>\n",
       "  <tbody>\n",
       "    <tr>\n",
       "      <th>11201390</th>\n",
       "      <td>1898.0</td>\n",
       "      <td>3</td>\n",
       "      <td>2</td>\n",
       "      <td>62</td>\n",
       "    </tr>\n",
       "    <tr>\n",
       "      <th>14125345</th>\n",
       "      <td>2164.0</td>\n",
       "      <td>4</td>\n",
       "      <td>3</td>\n",
       "      <td>44</td>\n",
       "    </tr>\n",
       "    <tr>\n",
       "      <th>12621955</th>\n",
       "      <td>2184.0</td>\n",
       "      <td>4</td>\n",
       "      <td>3</td>\n",
       "      <td>55</td>\n",
       "    </tr>\n",
       "    <tr>\n",
       "      <th>13026675</th>\n",
       "      <td>1532.0</td>\n",
       "      <td>3</td>\n",
       "      <td>3</td>\n",
       "      <td>9</td>\n",
       "    </tr>\n",
       "    <tr>\n",
       "      <th>12395470</th>\n",
       "      <td>1478.0</td>\n",
       "      <td>3</td>\n",
       "      <td>2</td>\n",
       "      <td>23</td>\n",
       "    </tr>\n",
       "  </tbody>\n",
       "</table>\n",
       "</div>"
      ],
      "text/plain": [
       "          square_feet  bedrooms  bathrooms  house_age\n",
       "parcelid                                             \n",
       "11201390       1898.0         3          2         62\n",
       "14125345       2164.0         4          3         44\n",
       "12621955       2184.0         4          3         55\n",
       "13026675       1532.0         3          3          9\n",
       "12395470       1478.0         3          2         23"
      ]
     },
     "execution_count": 21,
     "metadata": {},
     "output_type": "execute_result"
    }
   ],
   "source": [
    "X_train.head()"
   ]
  },
  {
   "cell_type": "code",
   "execution_count": 22,
   "metadata": {},
   "outputs": [
    {
     "data": {
      "text/html": [
       "<div>\n",
       "<style scoped>\n",
       "    .dataframe tbody tr th:only-of-type {\n",
       "        vertical-align: middle;\n",
       "    }\n",
       "\n",
       "    .dataframe tbody tr th {\n",
       "        vertical-align: top;\n",
       "    }\n",
       "\n",
       "    .dataframe thead th {\n",
       "        text-align: right;\n",
       "    }\n",
       "</style>\n",
       "<table border=\"1\" class=\"dataframe\">\n",
       "  <thead>\n",
       "    <tr style=\"text-align: right;\">\n",
       "      <th></th>\n",
       "      <th>square_feet</th>\n",
       "      <th>bedrooms</th>\n",
       "      <th>bathrooms</th>\n",
       "      <th>house_age</th>\n",
       "    </tr>\n",
       "  </thead>\n",
       "  <tbody>\n",
       "    <tr>\n",
       "      <th>0</th>\n",
       "      <td>0.490590</td>\n",
       "      <td>0.250</td>\n",
       "      <td>0.166667</td>\n",
       "      <td>0.413043</td>\n",
       "    </tr>\n",
       "    <tr>\n",
       "      <th>1</th>\n",
       "      <td>0.575439</td>\n",
       "      <td>0.375</td>\n",
       "      <td>0.333333</td>\n",
       "      <td>0.282609</td>\n",
       "    </tr>\n",
       "    <tr>\n",
       "      <th>2</th>\n",
       "      <td>0.581818</td>\n",
       "      <td>0.375</td>\n",
       "      <td>0.333333</td>\n",
       "      <td>0.362319</td>\n",
       "    </tr>\n",
       "    <tr>\n",
       "      <th>3</th>\n",
       "      <td>0.373844</td>\n",
       "      <td>0.250</td>\n",
       "      <td>0.333333</td>\n",
       "      <td>0.028986</td>\n",
       "    </tr>\n",
       "    <tr>\n",
       "      <th>4</th>\n",
       "      <td>0.356619</td>\n",
       "      <td>0.250</td>\n",
       "      <td>0.166667</td>\n",
       "      <td>0.130435</td>\n",
       "    </tr>\n",
       "  </tbody>\n",
       "</table>\n",
       "</div>"
      ],
      "text/plain": [
       "   square_feet  bedrooms  bathrooms  house_age\n",
       "0     0.490590     0.250   0.166667   0.413043\n",
       "1     0.575439     0.375   0.333333   0.282609\n",
       "2     0.581818     0.375   0.333333   0.362319\n",
       "3     0.373844     0.250   0.333333   0.028986\n",
       "4     0.356619     0.250   0.166667   0.130435"
      ]
     },
     "execution_count": 22,
     "metadata": {},
     "output_type": "execute_result"
    }
   ],
   "source": [
    "train_scaled.head()"
   ]
  },
  {
   "cell_type": "code",
   "execution_count": 23,
   "metadata": {},
   "outputs": [
    {
     "data": {
      "text/html": [
       "<div>\n",
       "<style scoped>\n",
       "    .dataframe tbody tr th:only-of-type {\n",
       "        vertical-align: middle;\n",
       "    }\n",
       "\n",
       "    .dataframe tbody tr th {\n",
       "        vertical-align: top;\n",
       "    }\n",
       "\n",
       "    .dataframe thead th {\n",
       "        text-align: right;\n",
       "    }\n",
       "</style>\n",
       "<table border=\"1\" class=\"dataframe\">\n",
       "  <thead>\n",
       "    <tr style=\"text-align: right;\">\n",
       "      <th></th>\n",
       "      <th>square_feet</th>\n",
       "      <th>bedrooms</th>\n",
       "      <th>bathrooms</th>\n",
       "      <th>house_age</th>\n",
       "    </tr>\n",
       "    <tr>\n",
       "      <th>parcelid</th>\n",
       "      <th></th>\n",
       "      <th></th>\n",
       "      <th></th>\n",
       "      <th></th>\n",
       "    </tr>\n",
       "  </thead>\n",
       "  <tbody>\n",
       "    <tr>\n",
       "      <th>12607830</th>\n",
       "      <td>1117.0</td>\n",
       "      <td>1</td>\n",
       "      <td>2</td>\n",
       "      <td>58</td>\n",
       "    </tr>\n",
       "    <tr>\n",
       "      <th>13859990</th>\n",
       "      <td>1386.0</td>\n",
       "      <td>3</td>\n",
       "      <td>2</td>\n",
       "      <td>49</td>\n",
       "    </tr>\n",
       "    <tr>\n",
       "      <th>11436076</th>\n",
       "      <td>1199.0</td>\n",
       "      <td>3</td>\n",
       "      <td>2</td>\n",
       "      <td>36</td>\n",
       "    </tr>\n",
       "    <tr>\n",
       "      <th>12655781</th>\n",
       "      <td>1517.0</td>\n",
       "      <td>3</td>\n",
       "      <td>2</td>\n",
       "      <td>31</td>\n",
       "    </tr>\n",
       "    <tr>\n",
       "      <th>10875142</th>\n",
       "      <td>1399.0</td>\n",
       "      <td>3</td>\n",
       "      <td>1</td>\n",
       "      <td>73</td>\n",
       "    </tr>\n",
       "  </tbody>\n",
       "</table>\n",
       "</div>"
      ],
      "text/plain": [
       "          square_feet  bedrooms  bathrooms  house_age\n",
       "parcelid                                             \n",
       "12607830       1117.0         1          2         58\n",
       "13859990       1386.0         3          2         49\n",
       "11436076       1199.0         3          2         36\n",
       "12655781       1517.0         3          2         31\n",
       "10875142       1399.0         3          1         73"
      ]
     },
     "execution_count": 23,
     "metadata": {},
     "output_type": "execute_result"
    }
   ],
   "source": [
    "X_validate.head()"
   ]
  },
  {
   "cell_type": "code",
   "execution_count": 24,
   "metadata": {},
   "outputs": [
    {
     "data": {
      "text/html": [
       "<div>\n",
       "<style scoped>\n",
       "    .dataframe tbody tr th:only-of-type {\n",
       "        vertical-align: middle;\n",
       "    }\n",
       "\n",
       "    .dataframe tbody tr th {\n",
       "        vertical-align: top;\n",
       "    }\n",
       "\n",
       "    .dataframe thead th {\n",
       "        text-align: right;\n",
       "    }\n",
       "</style>\n",
       "<table border=\"1\" class=\"dataframe\">\n",
       "  <thead>\n",
       "    <tr style=\"text-align: right;\">\n",
       "      <th></th>\n",
       "      <th>square_feet</th>\n",
       "      <th>bedrooms</th>\n",
       "      <th>bathrooms</th>\n",
       "      <th>house_age</th>\n",
       "    </tr>\n",
       "  </thead>\n",
       "  <tbody>\n",
       "    <tr>\n",
       "      <th>0</th>\n",
       "      <td>0.241467</td>\n",
       "      <td>0.00</td>\n",
       "      <td>0.166667</td>\n",
       "      <td>0.384058</td>\n",
       "    </tr>\n",
       "    <tr>\n",
       "      <th>1</th>\n",
       "      <td>0.327273</td>\n",
       "      <td>0.25</td>\n",
       "      <td>0.166667</td>\n",
       "      <td>0.318841</td>\n",
       "    </tr>\n",
       "    <tr>\n",
       "      <th>2</th>\n",
       "      <td>0.267624</td>\n",
       "      <td>0.25</td>\n",
       "      <td>0.166667</td>\n",
       "      <td>0.224638</td>\n",
       "    </tr>\n",
       "    <tr>\n",
       "      <th>3</th>\n",
       "      <td>0.369059</td>\n",
       "      <td>0.25</td>\n",
       "      <td>0.166667</td>\n",
       "      <td>0.188406</td>\n",
       "    </tr>\n",
       "    <tr>\n",
       "      <th>4</th>\n",
       "      <td>0.331419</td>\n",
       "      <td>0.25</td>\n",
       "      <td>0.000000</td>\n",
       "      <td>0.492754</td>\n",
       "    </tr>\n",
       "  </tbody>\n",
       "</table>\n",
       "</div>"
      ],
      "text/plain": [
       "   square_feet  bedrooms  bathrooms  house_age\n",
       "0     0.241467      0.00   0.166667   0.384058\n",
       "1     0.327273      0.25   0.166667   0.318841\n",
       "2     0.267624      0.25   0.166667   0.224638\n",
       "3     0.369059      0.25   0.166667   0.188406\n",
       "4     0.331419      0.25   0.000000   0.492754"
      ]
     },
     "execution_count": 24,
     "metadata": {},
     "output_type": "execute_result"
    }
   ],
   "source": [
    "validate_scaled.head()"
   ]
  },
  {
   "cell_type": "code",
   "execution_count": 25,
   "metadata": {},
   "outputs": [
    {
     "data": {
      "text/html": [
       "<div>\n",
       "<style scoped>\n",
       "    .dataframe tbody tr th:only-of-type {\n",
       "        vertical-align: middle;\n",
       "    }\n",
       "\n",
       "    .dataframe tbody tr th {\n",
       "        vertical-align: top;\n",
       "    }\n",
       "\n",
       "    .dataframe thead th {\n",
       "        text-align: right;\n",
       "    }\n",
       "</style>\n",
       "<table border=\"1\" class=\"dataframe\">\n",
       "  <thead>\n",
       "    <tr style=\"text-align: right;\">\n",
       "      <th></th>\n",
       "      <th>square_feet</th>\n",
       "      <th>bedrooms</th>\n",
       "      <th>bathrooms</th>\n",
       "      <th>house_age</th>\n",
       "    </tr>\n",
       "    <tr>\n",
       "      <th>parcelid</th>\n",
       "      <th></th>\n",
       "      <th></th>\n",
       "      <th></th>\n",
       "      <th></th>\n",
       "    </tr>\n",
       "  </thead>\n",
       "  <tbody>\n",
       "    <tr>\n",
       "      <th>11108242</th>\n",
       "      <td>1118.0</td>\n",
       "      <td>3</td>\n",
       "      <td>2</td>\n",
       "      <td>61</td>\n",
       "    </tr>\n",
       "    <tr>\n",
       "      <th>11617049</th>\n",
       "      <td>2445.0</td>\n",
       "      <td>2</td>\n",
       "      <td>3</td>\n",
       "      <td>32</td>\n",
       "    </tr>\n",
       "    <tr>\n",
       "      <th>12784869</th>\n",
       "      <td>1767.0</td>\n",
       "      <td>3</td>\n",
       "      <td>2</td>\n",
       "      <td>60</td>\n",
       "    </tr>\n",
       "    <tr>\n",
       "      <th>12892055</th>\n",
       "      <td>1037.0</td>\n",
       "      <td>2</td>\n",
       "      <td>2</td>\n",
       "      <td>32</td>\n",
       "    </tr>\n",
       "    <tr>\n",
       "      <th>17141638</th>\n",
       "      <td>2122.0</td>\n",
       "      <td>4</td>\n",
       "      <td>2</td>\n",
       "      <td>43</td>\n",
       "    </tr>\n",
       "  </tbody>\n",
       "</table>\n",
       "</div>"
      ],
      "text/plain": [
       "          square_feet  bedrooms  bathrooms  house_age\n",
       "parcelid                                             \n",
       "11108242       1118.0         3          2         61\n",
       "11617049       2445.0         2          3         32\n",
       "12784869       1767.0         3          2         60\n",
       "12892055       1037.0         2          2         32\n",
       "17141638       2122.0         4          2         43"
      ]
     },
     "execution_count": 25,
     "metadata": {},
     "output_type": "execute_result"
    }
   ],
   "source": [
    "X_test.head()"
   ]
  },
  {
   "cell_type": "code",
   "execution_count": 26,
   "metadata": {},
   "outputs": [
    {
     "data": {
      "text/html": [
       "<div>\n",
       "<style scoped>\n",
       "    .dataframe tbody tr th:only-of-type {\n",
       "        vertical-align: middle;\n",
       "    }\n",
       "\n",
       "    .dataframe tbody tr th {\n",
       "        vertical-align: top;\n",
       "    }\n",
       "\n",
       "    .dataframe thead th {\n",
       "        text-align: right;\n",
       "    }\n",
       "</style>\n",
       "<table border=\"1\" class=\"dataframe\">\n",
       "  <thead>\n",
       "    <tr style=\"text-align: right;\">\n",
       "      <th></th>\n",
       "      <th>square_feet</th>\n",
       "      <th>bedrooms</th>\n",
       "      <th>bathrooms</th>\n",
       "      <th>house_age</th>\n",
       "    </tr>\n",
       "  </thead>\n",
       "  <tbody>\n",
       "    <tr>\n",
       "      <th>0</th>\n",
       "      <td>0.241786</td>\n",
       "      <td>0.250</td>\n",
       "      <td>0.166667</td>\n",
       "      <td>0.405797</td>\n",
       "    </tr>\n",
       "    <tr>\n",
       "      <th>1</th>\n",
       "      <td>0.665072</td>\n",
       "      <td>0.125</td>\n",
       "      <td>0.333333</td>\n",
       "      <td>0.195652</td>\n",
       "    </tr>\n",
       "    <tr>\n",
       "      <th>2</th>\n",
       "      <td>0.448804</td>\n",
       "      <td>0.250</td>\n",
       "      <td>0.166667</td>\n",
       "      <td>0.398551</td>\n",
       "    </tr>\n",
       "    <tr>\n",
       "      <th>3</th>\n",
       "      <td>0.215949</td>\n",
       "      <td>0.125</td>\n",
       "      <td>0.166667</td>\n",
       "      <td>0.195652</td>\n",
       "    </tr>\n",
       "    <tr>\n",
       "      <th>4</th>\n",
       "      <td>0.562041</td>\n",
       "      <td>0.375</td>\n",
       "      <td>0.166667</td>\n",
       "      <td>0.275362</td>\n",
       "    </tr>\n",
       "  </tbody>\n",
       "</table>\n",
       "</div>"
      ],
      "text/plain": [
       "   square_feet  bedrooms  bathrooms  house_age\n",
       "0     0.241786     0.250   0.166667   0.405797\n",
       "1     0.665072     0.125   0.333333   0.195652\n",
       "2     0.448804     0.250   0.166667   0.398551\n",
       "3     0.215949     0.125   0.166667   0.195652\n",
       "4     0.562041     0.375   0.166667   0.275362"
      ]
     },
     "execution_count": 26,
     "metadata": {},
     "output_type": "execute_result"
    }
   ],
   "source": [
    "test_scaled.head()"
   ]
  },
  {
   "cell_type": "markdown",
   "metadata": {},
   "source": [
    "## Target Distribution"
   ]
  },
  {
   "cell_type": "code",
   "execution_count": 27,
   "metadata": {},
   "outputs": [
    {
     "data": {
      "image/png": "[encoded data removed]",
      "text/plain": [
       "<Figure size 432x288 with 1 Axes>"
      ]
     },
     "metadata": {
      "needs_background": "light"
     },
     "output_type": "display_data"
    }
   ],
   "source": [
    "plt.hist(y_train)\n",
    "plt.xlabel(\"Tax Value\")\n",
    "plt.ylabel(\"Number of Homes\")\n",
    "plt.show()"
   ]
  },
  {
   "cell_type": "markdown",
   "metadata": {},
   "source": [
    "# Baseline"
   ]
  },
  {
   "cell_type": "code",
   "execution_count": 28,
   "metadata": {},
   "outputs": [],
   "source": [
    "# We need y_train and y_validate to be dataframes to append the new columns with predicted values. \n",
    "y_train = pd.DataFrame(y_train)\n",
    "y_validate = pd.DataFrame(y_validate)"
   ]
  },
  {
   "cell_type": "code",
   "execution_count": 29,
   "metadata": {},
   "outputs": [],
   "source": [
    "# 1. Predict tax_pred_mean\n",
    "tax_pred_mean = y_train['tax_value'].mean()\n",
    "y_train['tax_pred_mean'] = tax_pred_mean\n",
    "y_validate['tax_pred_mean'] = tax_pred_mean"
   ]
  },
  {
   "cell_type": "code",
   "execution_count": 30,
   "metadata": {},
   "outputs": [
    {
     "data": {
      "text/plain": [
       "389646.24448953243"
      ]
     },
     "execution_count": 30,
     "metadata": {},
     "output_type": "execute_result"
    }
   ],
   "source": [
    "tax_pred_mean"
   ]
  },
  {
   "cell_type": "code",
   "execution_count": 31,
   "metadata": {},
   "outputs": [],
   "source": [
    "# 2. compute tax_pred_median\n",
    "tax_pred_median = y_train['tax_value'].median()\n",
    "y_train['tax_pred_median'] = tax_pred_median\n",
    "y_validate['tax_pred_median'] = tax_pred_median"
   ]
  },
  {
   "cell_type": "code",
   "execution_count": 32,
   "metadata": {},
   "outputs": [
    {
     "data": {
      "text/plain": [
       "332250.0"
      ]
     },
     "execution_count": 32,
     "metadata": {},
     "output_type": "execute_result"
    }
   ],
   "source": [
    "tax_pred_median"
   ]
  },
  {
   "cell_type": "code",
   "execution_count": 33,
   "metadata": {},
   "outputs": [
    {
     "data": {
      "text/html": [
       "<div>\n",
       "<style scoped>\n",
       "    .dataframe tbody tr th:only-of-type {\n",
       "        vertical-align: middle;\n",
       "    }\n",
       "\n",
       "    .dataframe tbody tr th {\n",
       "        vertical-align: top;\n",
       "    }\n",
       "\n",
       "    .dataframe thead th {\n",
       "        text-align: right;\n",
       "    }\n",
       "</style>\n",
       "<table border=\"1\" class=\"dataframe\">\n",
       "  <thead>\n",
       "    <tr style=\"text-align: right;\">\n",
       "      <th></th>\n",
       "      <th>tax_value</th>\n",
       "      <th>tax_pred_mean</th>\n",
       "      <th>tax_pred_median</th>\n",
       "    </tr>\n",
       "    <tr>\n",
       "      <th>parcelid</th>\n",
       "      <th></th>\n",
       "      <th></th>\n",
       "      <th></th>\n",
       "    </tr>\n",
       "  </thead>\n",
       "  <tbody>\n",
       "    <tr>\n",
       "      <th>11201390</th>\n",
       "      <td>69945.0</td>\n",
       "      <td>389646.24449</td>\n",
       "      <td>332250.0</td>\n",
       "    </tr>\n",
       "    <tr>\n",
       "      <th>14125345</th>\n",
       "      <td>294236.0</td>\n",
       "      <td>389646.24449</td>\n",
       "      <td>332250.0</td>\n",
       "    </tr>\n",
       "    <tr>\n",
       "      <th>12621955</th>\n",
       "      <td>565665.0</td>\n",
       "      <td>389646.24449</td>\n",
       "      <td>332250.0</td>\n",
       "    </tr>\n",
       "    <tr>\n",
       "      <th>13026675</th>\n",
       "      <td>383116.0</td>\n",
       "      <td>389646.24449</td>\n",
       "      <td>332250.0</td>\n",
       "    </tr>\n",
       "    <tr>\n",
       "      <th>12395470</th>\n",
       "      <td>416252.0</td>\n",
       "      <td>389646.24449</td>\n",
       "      <td>332250.0</td>\n",
       "    </tr>\n",
       "  </tbody>\n",
       "</table>\n",
       "</div>"
      ],
      "text/plain": [
       "          tax_value  tax_pred_mean  tax_pred_median\n",
       "parcelid                                           \n",
       "11201390    69945.0   389646.24449         332250.0\n",
       "14125345   294236.0   389646.24449         332250.0\n",
       "12621955   565665.0   389646.24449         332250.0\n",
       "13026675   383116.0   389646.24449         332250.0\n",
       "12395470   416252.0   389646.24449         332250.0"
      ]
     },
     "execution_count": 33,
     "metadata": {},
     "output_type": "execute_result"
    }
   ],
   "source": [
    "y_train.head()"
   ]
  },
  {
   "cell_type": "code",
   "execution_count": 34,
   "metadata": {},
   "outputs": [
    {
     "data": {
      "text/html": [
       "<div>\n",
       "<style scoped>\n",
       "    .dataframe tbody tr th:only-of-type {\n",
       "        vertical-align: middle;\n",
       "    }\n",
       "\n",
       "    .dataframe tbody tr th {\n",
       "        vertical-align: top;\n",
       "    }\n",
       "\n",
       "    .dataframe thead th {\n",
       "        text-align: right;\n",
       "    }\n",
       "</style>\n",
       "<table border=\"1\" class=\"dataframe\">\n",
       "  <thead>\n",
       "    <tr style=\"text-align: right;\">\n",
       "      <th></th>\n",
       "      <th>tax_value</th>\n",
       "      <th>tax_pred_mean</th>\n",
       "      <th>tax_pred_median</th>\n",
       "    </tr>\n",
       "    <tr>\n",
       "      <th>parcelid</th>\n",
       "      <th></th>\n",
       "      <th></th>\n",
       "      <th></th>\n",
       "    </tr>\n",
       "  </thead>\n",
       "  <tbody>\n",
       "    <tr>\n",
       "      <th>12607830</th>\n",
       "      <td>297087.0</td>\n",
       "      <td>389646.24449</td>\n",
       "      <td>332250.0</td>\n",
       "    </tr>\n",
       "    <tr>\n",
       "      <th>13859990</th>\n",
       "      <td>670065.0</td>\n",
       "      <td>389646.24449</td>\n",
       "      <td>332250.0</td>\n",
       "    </tr>\n",
       "    <tr>\n",
       "      <th>11436076</th>\n",
       "      <td>17032.0</td>\n",
       "      <td>389646.24449</td>\n",
       "      <td>332250.0</td>\n",
       "    </tr>\n",
       "    <tr>\n",
       "      <th>12655781</th>\n",
       "      <td>91415.0</td>\n",
       "      <td>389646.24449</td>\n",
       "      <td>332250.0</td>\n",
       "    </tr>\n",
       "    <tr>\n",
       "      <th>10875142</th>\n",
       "      <td>78238.0</td>\n",
       "      <td>389646.24449</td>\n",
       "      <td>332250.0</td>\n",
       "    </tr>\n",
       "  </tbody>\n",
       "</table>\n",
       "</div>"
      ],
      "text/plain": [
       "          tax_value  tax_pred_mean  tax_pred_median\n",
       "parcelid                                           \n",
       "12607830   297087.0   389646.24449         332250.0\n",
       "13859990   670065.0   389646.24449         332250.0\n",
       "11436076    17032.0   389646.24449         332250.0\n",
       "12655781    91415.0   389646.24449         332250.0\n",
       "10875142    78238.0   389646.24449         332250.0"
      ]
     },
     "execution_count": 34,
     "metadata": {},
     "output_type": "execute_result"
    }
   ],
   "source": [
    "y_validate.head()"
   ]
  },
  {
   "cell_type": "code",
   "execution_count": 35,
   "metadata": {},
   "outputs": [],
   "source": [
    "# find residuals\n",
    "\n",
    "y_train['residual_mean'] = y_train['tax_pred_mean'] - y_train['tax_value']\n",
    "y_train['residual_median'] = y_train['tax_pred_median'] - y_train['tax_value']\n",
    "\n",
    "y_validate['residual_mean'] = y_validate['tax_pred_mean'] - y_validate['tax_value']\n",
    "y_validate['residual_median'] = y_validate['tax_pred_median'] - y_validate['tax_value']"
   ]
  },
  {
   "cell_type": "code",
   "execution_count": 36,
   "metadata": {},
   "outputs": [
    {
     "data": {
      "text/html": [
       "<div>\n",
       "<style scoped>\n",
       "    .dataframe tbody tr th:only-of-type {\n",
       "        vertical-align: middle;\n",
       "    }\n",
       "\n",
       "    .dataframe tbody tr th {\n",
       "        vertical-align: top;\n",
       "    }\n",
       "\n",
       "    .dataframe thead th {\n",
       "        text-align: right;\n",
       "    }\n",
       "</style>\n",
       "<table border=\"1\" class=\"dataframe\">\n",
       "  <thead>\n",
       "    <tr style=\"text-align: right;\">\n",
       "      <th></th>\n",
       "      <th>tax_value</th>\n",
       "      <th>tax_pred_mean</th>\n",
       "      <th>tax_pred_median</th>\n",
       "      <th>residual_mean</th>\n",
       "      <th>residual_median</th>\n",
       "    </tr>\n",
       "    <tr>\n",
       "      <th>parcelid</th>\n",
       "      <th></th>\n",
       "      <th></th>\n",
       "      <th></th>\n",
       "      <th></th>\n",
       "      <th></th>\n",
       "    </tr>\n",
       "  </thead>\n",
       "  <tbody>\n",
       "    <tr>\n",
       "      <th>11201390</th>\n",
       "      <td>69945.0</td>\n",
       "      <td>389646.24449</td>\n",
       "      <td>332250.0</td>\n",
       "      <td>319701.24449</td>\n",
       "      <td>262305.0</td>\n",
       "    </tr>\n",
       "    <tr>\n",
       "      <th>14125345</th>\n",
       "      <td>294236.0</td>\n",
       "      <td>389646.24449</td>\n",
       "      <td>332250.0</td>\n",
       "      <td>95410.24449</td>\n",
       "      <td>38014.0</td>\n",
       "    </tr>\n",
       "    <tr>\n",
       "      <th>12621955</th>\n",
       "      <td>565665.0</td>\n",
       "      <td>389646.24449</td>\n",
       "      <td>332250.0</td>\n",
       "      <td>-176018.75551</td>\n",
       "      <td>-233415.0</td>\n",
       "    </tr>\n",
       "    <tr>\n",
       "      <th>13026675</th>\n",
       "      <td>383116.0</td>\n",
       "      <td>389646.24449</td>\n",
       "      <td>332250.0</td>\n",
       "      <td>6530.24449</td>\n",
       "      <td>-50866.0</td>\n",
       "    </tr>\n",
       "    <tr>\n",
       "      <th>12395470</th>\n",
       "      <td>416252.0</td>\n",
       "      <td>389646.24449</td>\n",
       "      <td>332250.0</td>\n",
       "      <td>-26605.75551</td>\n",
       "      <td>-84002.0</td>\n",
       "    </tr>\n",
       "  </tbody>\n",
       "</table>\n",
       "</div>"
      ],
      "text/plain": [
       "          tax_value  tax_pred_mean  tax_pred_median  residual_mean  \\\n",
       "parcelid                                                             \n",
       "11201390    69945.0   389646.24449         332250.0   319701.24449   \n",
       "14125345   294236.0   389646.24449         332250.0    95410.24449   \n",
       "12621955   565665.0   389646.24449         332250.0  -176018.75551   \n",
       "13026675   383116.0   389646.24449         332250.0     6530.24449   \n",
       "12395470   416252.0   389646.24449         332250.0   -26605.75551   \n",
       "\n",
       "          residual_median  \n",
       "parcelid                   \n",
       "11201390         262305.0  \n",
       "14125345          38014.0  \n",
       "12621955        -233415.0  \n",
       "13026675         -50866.0  \n",
       "12395470         -84002.0  "
      ]
     },
     "execution_count": 36,
     "metadata": {},
     "output_type": "execute_result"
    }
   ],
   "source": [
    "y_train.head()"
   ]
  },
  {
   "cell_type": "code",
   "execution_count": 37,
   "metadata": {},
   "outputs": [
    {
     "data": {
      "text/html": [
       "<div>\n",
       "<style scoped>\n",
       "    .dataframe tbody tr th:only-of-type {\n",
       "        vertical-align: middle;\n",
       "    }\n",
       "\n",
       "    .dataframe tbody tr th {\n",
       "        vertical-align: top;\n",
       "    }\n",
       "\n",
       "    .dataframe thead th {\n",
       "        text-align: right;\n",
       "    }\n",
       "</style>\n",
       "<table border=\"1\" class=\"dataframe\">\n",
       "  <thead>\n",
       "    <tr style=\"text-align: right;\">\n",
       "      <th></th>\n",
       "      <th>tax_value</th>\n",
       "      <th>tax_pred_mean</th>\n",
       "      <th>tax_pred_median</th>\n",
       "      <th>residual_mean</th>\n",
       "      <th>residual_median</th>\n",
       "    </tr>\n",
       "    <tr>\n",
       "      <th>parcelid</th>\n",
       "      <th></th>\n",
       "      <th></th>\n",
       "      <th></th>\n",
       "      <th></th>\n",
       "      <th></th>\n",
       "    </tr>\n",
       "  </thead>\n",
       "  <tbody>\n",
       "    <tr>\n",
       "      <th>12607830</th>\n",
       "      <td>297087.0</td>\n",
       "      <td>389646.24449</td>\n",
       "      <td>332250.0</td>\n",
       "      <td>92559.24449</td>\n",
       "      <td>35163.0</td>\n",
       "    </tr>\n",
       "    <tr>\n",
       "      <th>13859990</th>\n",
       "      <td>670065.0</td>\n",
       "      <td>389646.24449</td>\n",
       "      <td>332250.0</td>\n",
       "      <td>-280418.75551</td>\n",
       "      <td>-337815.0</td>\n",
       "    </tr>\n",
       "    <tr>\n",
       "      <th>11436076</th>\n",
       "      <td>17032.0</td>\n",
       "      <td>389646.24449</td>\n",
       "      <td>332250.0</td>\n",
       "      <td>372614.24449</td>\n",
       "      <td>315218.0</td>\n",
       "    </tr>\n",
       "    <tr>\n",
       "      <th>12655781</th>\n",
       "      <td>91415.0</td>\n",
       "      <td>389646.24449</td>\n",
       "      <td>332250.0</td>\n",
       "      <td>298231.24449</td>\n",
       "      <td>240835.0</td>\n",
       "    </tr>\n",
       "    <tr>\n",
       "      <th>10875142</th>\n",
       "      <td>78238.0</td>\n",
       "      <td>389646.24449</td>\n",
       "      <td>332250.0</td>\n",
       "      <td>311408.24449</td>\n",
       "      <td>254012.0</td>\n",
       "    </tr>\n",
       "  </tbody>\n",
       "</table>\n",
       "</div>"
      ],
      "text/plain": [
       "          tax_value  tax_pred_mean  tax_pred_median  residual_mean  \\\n",
       "parcelid                                                             \n",
       "12607830   297087.0   389646.24449         332250.0    92559.24449   \n",
       "13859990   670065.0   389646.24449         332250.0  -280418.75551   \n",
       "11436076    17032.0   389646.24449         332250.0   372614.24449   \n",
       "12655781    91415.0   389646.24449         332250.0   298231.24449   \n",
       "10875142    78238.0   389646.24449         332250.0   311408.24449   \n",
       "\n",
       "          residual_median  \n",
       "parcelid                   \n",
       "12607830          35163.0  \n",
       "13859990        -337815.0  \n",
       "11436076         315218.0  \n",
       "12655781         240835.0  \n",
       "10875142         254012.0  "
      ]
     },
     "execution_count": 37,
     "metadata": {},
     "output_type": "execute_result"
    }
   ],
   "source": [
    "y_validate.head()"
   ]
  },
  {
   "cell_type": "code",
   "execution_count": 38,
   "metadata": {},
   "outputs": [
    {
     "data": {
      "text/html": [
       "<div>\n",
       "<style scoped>\n",
       "    .dataframe tbody tr th:only-of-type {\n",
       "        vertical-align: middle;\n",
       "    }\n",
       "\n",
       "    .dataframe tbody tr th {\n",
       "        vertical-align: top;\n",
       "    }\n",
       "\n",
       "    .dataframe thead th {\n",
       "        text-align: right;\n",
       "    }\n",
       "</style>\n",
       "<table border=\"1\" class=\"dataframe\">\n",
       "  <thead>\n",
       "    <tr style=\"text-align: right;\">\n",
       "      <th></th>\n",
       "      <th>tax_value</th>\n",
       "      <th>tax_pred_mean</th>\n",
       "      <th>tax_pred_median</th>\n",
       "      <th>residual_mean</th>\n",
       "      <th>residual_median</th>\n",
       "      <th>residual_mean^2</th>\n",
       "      <th>residual_median^2</th>\n",
       "    </tr>\n",
       "    <tr>\n",
       "      <th>parcelid</th>\n",
       "      <th></th>\n",
       "      <th></th>\n",
       "      <th></th>\n",
       "      <th></th>\n",
       "      <th></th>\n",
       "      <th></th>\n",
       "      <th></th>\n",
       "    </tr>\n",
       "  </thead>\n",
       "  <tbody>\n",
       "    <tr>\n",
       "      <th>11201390</th>\n",
       "      <td>69945.0</td>\n",
       "      <td>389646.24449</td>\n",
       "      <td>332250.0</td>\n",
       "      <td>319701.24449</td>\n",
       "      <td>262305.0</td>\n",
       "      <td>1.022089e+11</td>\n",
       "      <td>6.880391e+10</td>\n",
       "    </tr>\n",
       "    <tr>\n",
       "      <th>14125345</th>\n",
       "      <td>294236.0</td>\n",
       "      <td>389646.24449</td>\n",
       "      <td>332250.0</td>\n",
       "      <td>95410.24449</td>\n",
       "      <td>38014.0</td>\n",
       "      <td>9.103115e+09</td>\n",
       "      <td>1.445064e+09</td>\n",
       "    </tr>\n",
       "    <tr>\n",
       "      <th>12621955</th>\n",
       "      <td>565665.0</td>\n",
       "      <td>389646.24449</td>\n",
       "      <td>332250.0</td>\n",
       "      <td>-176018.75551</td>\n",
       "      <td>-233415.0</td>\n",
       "      <td>3.098260e+10</td>\n",
       "      <td>5.448256e+10</td>\n",
       "    </tr>\n",
       "  </tbody>\n",
       "</table>\n",
       "</div>"
      ],
      "text/plain": [
       "          tax_value  tax_pred_mean  tax_pred_median  residual_mean  \\\n",
       "parcelid                                                             \n",
       "11201390    69945.0   389646.24449         332250.0   319701.24449   \n",
       "14125345   294236.0   389646.24449         332250.0    95410.24449   \n",
       "12621955   565665.0   389646.24449         332250.0  -176018.75551   \n",
       "\n",
       "          residual_median  residual_mean^2  residual_median^2  \n",
       "parcelid                                                       \n",
       "11201390         262305.0     1.022089e+11       6.880391e+10  \n",
       "14125345          38014.0     9.103115e+09       1.445064e+09  \n",
       "12621955        -233415.0     3.098260e+10       5.448256e+10  "
      ]
     },
     "execution_count": 38,
     "metadata": {},
     "output_type": "execute_result"
    }
   ],
   "source": [
    "# square each residual value\n",
    "y_train['residual_mean^2'] = y_train.residual_mean ** 2\n",
    "y_train['residual_median^2'] = y_train.residual_median ** 2\n",
    "\n",
    "y_validate['residual_mean^2'] = y_validate.residual_mean ** 2\n",
    "y_validate['residual_median^2'] = y_validate.residual_median ** 2\n",
    "\n",
    "y_train.head(3)"
   ]
  },
  {
   "cell_type": "code",
   "execution_count": 39,
   "metadata": {},
   "outputs": [
    {
     "data": {
      "text/html": [
       "<div>\n",
       "<style scoped>\n",
       "    .dataframe tbody tr th:only-of-type {\n",
       "        vertical-align: middle;\n",
       "    }\n",
       "\n",
       "    .dataframe tbody tr th {\n",
       "        vertical-align: top;\n",
       "    }\n",
       "\n",
       "    .dataframe thead th {\n",
       "        text-align: right;\n",
       "    }\n",
       "</style>\n",
       "<table border=\"1\" class=\"dataframe\">\n",
       "  <thead>\n",
       "    <tr style=\"text-align: right;\">\n",
       "      <th></th>\n",
       "      <th>tax_value</th>\n",
       "      <th>tax_pred_mean</th>\n",
       "      <th>tax_pred_median</th>\n",
       "      <th>residual_mean</th>\n",
       "      <th>residual_median</th>\n",
       "      <th>residual_mean^2</th>\n",
       "      <th>residual_median^2</th>\n",
       "    </tr>\n",
       "    <tr>\n",
       "      <th>parcelid</th>\n",
       "      <th></th>\n",
       "      <th></th>\n",
       "      <th></th>\n",
       "      <th></th>\n",
       "      <th></th>\n",
       "      <th></th>\n",
       "      <th></th>\n",
       "    </tr>\n",
       "  </thead>\n",
       "  <tbody>\n",
       "    <tr>\n",
       "      <th>12607830</th>\n",
       "      <td>297087.0</td>\n",
       "      <td>389646.24449</td>\n",
       "      <td>332250.0</td>\n",
       "      <td>92559.24449</td>\n",
       "      <td>35163.0</td>\n",
       "      <td>8.567214e+09</td>\n",
       "      <td>1.236437e+09</td>\n",
       "    </tr>\n",
       "    <tr>\n",
       "      <th>13859990</th>\n",
       "      <td>670065.0</td>\n",
       "      <td>389646.24449</td>\n",
       "      <td>332250.0</td>\n",
       "      <td>-280418.75551</td>\n",
       "      <td>-337815.0</td>\n",
       "      <td>7.863468e+10</td>\n",
       "      <td>1.141190e+11</td>\n",
       "    </tr>\n",
       "    <tr>\n",
       "      <th>11436076</th>\n",
       "      <td>17032.0</td>\n",
       "      <td>389646.24449</td>\n",
       "      <td>332250.0</td>\n",
       "      <td>372614.24449</td>\n",
       "      <td>315218.0</td>\n",
       "      <td>1.388414e+11</td>\n",
       "      <td>9.936239e+10</td>\n",
       "    </tr>\n",
       "  </tbody>\n",
       "</table>\n",
       "</div>"
      ],
      "text/plain": [
       "          tax_value  tax_pred_mean  tax_pred_median  residual_mean  \\\n",
       "parcelid                                                             \n",
       "12607830   297087.0   389646.24449         332250.0    92559.24449   \n",
       "13859990   670065.0   389646.24449         332250.0  -280418.75551   \n",
       "11436076    17032.0   389646.24449         332250.0   372614.24449   \n",
       "\n",
       "          residual_median  residual_mean^2  residual_median^2  \n",
       "parcelid                                                       \n",
       "12607830          35163.0     8.567214e+09       1.236437e+09  \n",
       "13859990        -337815.0     7.863468e+10       1.141190e+11  \n",
       "11436076         315218.0     1.388414e+11       9.936239e+10  "
      ]
     },
     "execution_count": 39,
     "metadata": {},
     "output_type": "execute_result"
    }
   ],
   "source": [
    "y_validate.head(3)"
   ]
  },
  {
   "cell_type": "code",
   "execution_count": 40,
   "metadata": {},
   "outputs": [
    {
     "name": "stdout",
     "output_type": "stream",
     "text": [
      "SSE of Mean (Train) =  2499736094512953.5\n",
      "SSE of Median (Train) =  2606897318699333.0\n"
     ]
    }
   ],
   "source": [
    "# SSE\n",
    "SSE_mean = sum(y_train['residual_mean^2'])\n",
    "SSE_median = sum(y_train['residual_median^2'])\n",
    "\n",
    "print(\"SSE of Mean (Train) = \", SSE_mean)\n",
    "print(\"SSE of Median (Train) = \", SSE_median)"
   ]
  },
  {
   "cell_type": "code",
   "execution_count": 41,
   "metadata": {},
   "outputs": [
    {
     "name": "stdout",
     "output_type": "stream",
     "text": [
      "SSE of Mean (Validate) =  1096726219873894.0\n",
      "SSE of Median (Validate) =  1147125900705834.0\n"
     ]
    }
   ],
   "source": [
    "# SSE\n",
    "SSE_mean_v = sum(y_validate['residual_mean^2'])\n",
    "SSE_median_v = sum(y_validate['residual_median^2'])\n",
    "\n",
    "print(\"SSE of Mean (Validate) = \", SSE_mean_v)\n",
    "print(\"SSE of Median (Validate) = \", SSE_median_v)"
   ]
  },
  {
   "cell_type": "code",
   "execution_count": 42,
   "metadata": {},
   "outputs": [
    {
     "name": "stdout",
     "output_type": "stream",
     "text": [
      "MSE_mean (Train) =  76846386132.7724\n",
      "MSE_median (Train) =  80140715014.27443\n"
     ]
    }
   ],
   "source": [
    "MSE_mean = SSE_mean/len(y_train)\n",
    "MSE_median = SSE_median/len(y_train)\n",
    "\n",
    "print(\"MSE_mean (Train) = \", MSE_mean)\n",
    "print(\"MSE_median (Train) = \", MSE_median)"
   ]
  },
  {
   "cell_type": "code",
   "execution_count": 43,
   "metadata": {},
   "outputs": [
    {
     "name": "stdout",
     "output_type": "stream",
     "text": [
      "MSE_mean (Validate)=  33715337694.792156\n",
      "MSE_median (Validate)=  35264714584.08909\n"
     ]
    }
   ],
   "source": [
    "MSE_mean_v = SSE_mean_v/len(y_train)\n",
    "MSE_median_v = SSE_median_v/len(y_train)\n",
    "\n",
    "print(\"MSE_mean (Validate)= \", MSE_mean_v)\n",
    "print(\"MSE_median (Validate)= \", MSE_median_v)"
   ]
  },
  {
   "cell_type": "code",
   "execution_count": 44,
   "metadata": {},
   "outputs": [
    {
     "name": "stdout",
     "output_type": "stream",
     "text": [
      "RMSE_mean (Train) =  277211.8073473286\n",
      "RMSE_median (Train) =  283091.3545382028\n"
     ]
    }
   ],
   "source": [
    "from math import sqrt\n",
    "RMSE_mean = sqrt(MSE_mean)\n",
    "RMSE_median = sqrt(MSE_median)\n",
    "\n",
    "print(\"RMSE_mean (Train) = \", RMSE_mean)\n",
    "print(\"RMSE_median (Train) = \", RMSE_median)"
   ]
  },
  {
   "cell_type": "code",
   "execution_count": 45,
   "metadata": {},
   "outputs": [
    {
     "name": "stdout",
     "output_type": "stream",
     "text": [
      "RMSE_mean (Validate) =  183617.36762842495\n",
      "RMSE_median (Validate) =  187789.0161433546\n"
     ]
    }
   ],
   "source": [
    "RMSE_mean_v = sqrt(MSE_mean_v)\n",
    "RMSE_median_v = sqrt(MSE_median_v)\n",
    "\n",
    "print(\"RMSE_mean (Validate) = \", RMSE_mean_v)\n",
    "print(\"RMSE_median (Validate) = \", RMSE_median_v)"
   ]
  },
  {
   "cell_type": "markdown",
   "metadata": {},
   "source": [
    "# LinearRegression (OLS)"
   ]
  },
  {
   "cell_type": "code",
   "execution_count": 46,
   "metadata": {},
   "outputs": [],
   "source": [
    "# create the model object\n",
    "lm = LinearRegression(normalize=True)"
   ]
  },
  {
   "cell_type": "code",
   "execution_count": 47,
   "metadata": {},
   "outputs": [
    {
     "data": {
      "text/plain": [
       "LinearRegression(normalize=True)"
      ]
     },
     "execution_count": 47,
     "metadata": {},
     "output_type": "execute_result"
    }
   ],
   "source": [
    "# fit the model to our training data. We must specify the column in y_train, \n",
    "# since we have converted it to a dataframe from a series! \n",
    "lm.fit(train_scaled, y_train.tax_value)"
   ]
  },
  {
   "cell_type": "code",
   "execution_count": 48,
   "metadata": {},
   "outputs": [],
   "source": [
    "# predict train\n",
    "y_train['tax_pred_lm'] = lm.predict(train_scaled)"
   ]
  },
  {
   "cell_type": "code",
   "execution_count": 49,
   "metadata": {},
   "outputs": [
    {
     "data": {
      "text/html": [
       "<div>\n",
       "<style scoped>\n",
       "    .dataframe tbody tr th:only-of-type {\n",
       "        vertical-align: middle;\n",
       "    }\n",
       "\n",
       "    .dataframe tbody tr th {\n",
       "        vertical-align: top;\n",
       "    }\n",
       "\n",
       "    .dataframe thead th {\n",
       "        text-align: right;\n",
       "    }\n",
       "</style>\n",
       "<table border=\"1\" class=\"dataframe\">\n",
       "  <thead>\n",
       "    <tr style=\"text-align: right;\">\n",
       "      <th></th>\n",
       "      <th>tax_value</th>\n",
       "      <th>tax_pred_mean</th>\n",
       "      <th>tax_pred_median</th>\n",
       "      <th>residual_mean</th>\n",
       "      <th>residual_median</th>\n",
       "      <th>residual_mean^2</th>\n",
       "      <th>residual_median^2</th>\n",
       "      <th>tax_pred_lm</th>\n",
       "    </tr>\n",
       "    <tr>\n",
       "      <th>parcelid</th>\n",
       "      <th></th>\n",
       "      <th></th>\n",
       "      <th></th>\n",
       "      <th></th>\n",
       "      <th></th>\n",
       "      <th></th>\n",
       "      <th></th>\n",
       "      <th></th>\n",
       "    </tr>\n",
       "  </thead>\n",
       "  <tbody>\n",
       "    <tr>\n",
       "      <th>11201390</th>\n",
       "      <td>69945.0</td>\n",
       "      <td>389646.24449</td>\n",
       "      <td>332250.0</td>\n",
       "      <td>319701.24449</td>\n",
       "      <td>262305.0</td>\n",
       "      <td>1.022089e+11</td>\n",
       "      <td>6.880391e+10</td>\n",
       "      <td>457313.923908</td>\n",
       "    </tr>\n",
       "    <tr>\n",
       "      <th>14125345</th>\n",
       "      <td>294236.0</td>\n",
       "      <td>389646.24449</td>\n",
       "      <td>332250.0</td>\n",
       "      <td>95410.24449</td>\n",
       "      <td>38014.0</td>\n",
       "      <td>9.103115e+09</td>\n",
       "      <td>1.445064e+09</td>\n",
       "      <td>492994.648074</td>\n",
       "    </tr>\n",
       "    <tr>\n",
       "      <th>12621955</th>\n",
       "      <td>565665.0</td>\n",
       "      <td>389646.24449</td>\n",
       "      <td>332250.0</td>\n",
       "      <td>-176018.75551</td>\n",
       "      <td>-233415.0</td>\n",
       "      <td>3.098260e+10</td>\n",
       "      <td>5.448256e+10</td>\n",
       "      <td>501237.847363</td>\n",
       "    </tr>\n",
       "    <tr>\n",
       "      <th>13026675</th>\n",
       "      <td>383116.0</td>\n",
       "      <td>389646.24449</td>\n",
       "      <td>332250.0</td>\n",
       "      <td>6530.24449</td>\n",
       "      <td>-50866.0</td>\n",
       "      <td>4.264409e+07</td>\n",
       "      <td>2.587350e+09</td>\n",
       "      <td>393505.732470</td>\n",
       "    </tr>\n",
       "    <tr>\n",
       "      <th>12395470</th>\n",
       "      <td>416252.0</td>\n",
       "      <td>389646.24449</td>\n",
       "      <td>332250.0</td>\n",
       "      <td>-26605.75551</td>\n",
       "      <td>-84002.0</td>\n",
       "      <td>7.078662e+08</td>\n",
       "      <td>7.056336e+09</td>\n",
       "      <td>342128.081736</td>\n",
       "    </tr>\n",
       "  </tbody>\n",
       "</table>\n",
       "</div>"
      ],
      "text/plain": [
       "          tax_value  tax_pred_mean  tax_pred_median  residual_mean  \\\n",
       "parcelid                                                             \n",
       "11201390    69945.0   389646.24449         332250.0   319701.24449   \n",
       "14125345   294236.0   389646.24449         332250.0    95410.24449   \n",
       "12621955   565665.0   389646.24449         332250.0  -176018.75551   \n",
       "13026675   383116.0   389646.24449         332250.0     6530.24449   \n",
       "12395470   416252.0   389646.24449         332250.0   -26605.75551   \n",
       "\n",
       "          residual_median  residual_mean^2  residual_median^2    tax_pred_lm  \n",
       "parcelid                                                                      \n",
       "11201390         262305.0     1.022089e+11       6.880391e+10  457313.923908  \n",
       "14125345          38014.0     9.103115e+09       1.445064e+09  492994.648074  \n",
       "12621955        -233415.0     3.098260e+10       5.448256e+10  501237.847363  \n",
       "13026675         -50866.0     4.264409e+07       2.587350e+09  393505.732470  \n",
       "12395470         -84002.0     7.078662e+08       7.056336e+09  342128.081736  "
      ]
     },
     "execution_count": 49,
     "metadata": {},
     "output_type": "execute_result"
    }
   ],
   "source": [
    "y_train.head()"
   ]
  },
  {
   "cell_type": "code",
   "execution_count": 50,
   "metadata": {},
   "outputs": [
    {
     "data": {
      "text/plain": [
       "239658.81740285383"
      ]
     },
     "execution_count": 50,
     "metadata": {},
     "output_type": "execute_result"
    }
   ],
   "source": [
    "# evaluate: rmse\n",
    "rmse_train_lm = sqrt(mean_squared_error(y_train.tax_value, y_train.tax_pred_lm))\n",
    "\n",
    "rmse_train_lm"
   ]
  },
  {
   "cell_type": "code",
   "execution_count": 51,
   "metadata": {},
   "outputs": [
    {
     "data": {
      "text/html": [
       "<div>\n",
       "<style scoped>\n",
       "    .dataframe tbody tr th:only-of-type {\n",
       "        vertical-align: middle;\n",
       "    }\n",
       "\n",
       "    .dataframe tbody tr th {\n",
       "        vertical-align: top;\n",
       "    }\n",
       "\n",
       "    .dataframe thead th {\n",
       "        text-align: right;\n",
       "    }\n",
       "</style>\n",
       "<table border=\"1\" class=\"dataframe\">\n",
       "  <thead>\n",
       "    <tr style=\"text-align: right;\">\n",
       "      <th></th>\n",
       "      <th>tax_value</th>\n",
       "      <th>tax_pred_mean</th>\n",
       "      <th>tax_pred_median</th>\n",
       "      <th>residual_mean</th>\n",
       "      <th>residual_median</th>\n",
       "      <th>residual_mean^2</th>\n",
       "      <th>residual_median^2</th>\n",
       "      <th>tax_pred_lm</th>\n",
       "    </tr>\n",
       "    <tr>\n",
       "      <th>parcelid</th>\n",
       "      <th></th>\n",
       "      <th></th>\n",
       "      <th></th>\n",
       "      <th></th>\n",
       "      <th></th>\n",
       "      <th></th>\n",
       "      <th></th>\n",
       "      <th></th>\n",
       "    </tr>\n",
       "  </thead>\n",
       "  <tbody>\n",
       "    <tr>\n",
       "      <th>12607830</th>\n",
       "      <td>297087.0</td>\n",
       "      <td>389646.24449</td>\n",
       "      <td>332250.0</td>\n",
       "      <td>92559.24449</td>\n",
       "      <td>35163.0</td>\n",
       "      <td>8.567214e+09</td>\n",
       "      <td>1.236437e+09</td>\n",
       "      <td>397180.209126</td>\n",
       "    </tr>\n",
       "    <tr>\n",
       "      <th>13859990</th>\n",
       "      <td>670065.0</td>\n",
       "      <td>389646.24449</td>\n",
       "      <td>332250.0</td>\n",
       "      <td>-280418.75551</td>\n",
       "      <td>-337815.0</td>\n",
       "      <td>7.863468e+10</td>\n",
       "      <td>1.141190e+11</td>\n",
       "      <td>327317.567436</td>\n",
       "    </tr>\n",
       "    <tr>\n",
       "      <th>11436076</th>\n",
       "      <td>17032.0</td>\n",
       "      <td>389646.24449</td>\n",
       "      <td>332250.0</td>\n",
       "      <td>372614.24449</td>\n",
       "      <td>315218.0</td>\n",
       "      <td>1.388414e+11</td>\n",
       "      <td>9.936239e+10</td>\n",
       "      <td>277349.032519</td>\n",
       "    </tr>\n",
       "    <tr>\n",
       "      <th>12655781</th>\n",
       "      <td>91415.0</td>\n",
       "      <td>389646.24449</td>\n",
       "      <td>332250.0</td>\n",
       "      <td>298231.24449</td>\n",
       "      <td>240835.0</td>\n",
       "      <td>8.894188e+10</td>\n",
       "      <td>5.800150e+10</td>\n",
       "      <td>354144.809611</td>\n",
       "    </tr>\n",
       "    <tr>\n",
       "      <th>10875142</th>\n",
       "      <td>78238.0</td>\n",
       "      <td>389646.24449</td>\n",
       "      <td>332250.0</td>\n",
       "      <td>311408.24449</td>\n",
       "      <td>254012.0</td>\n",
       "      <td>9.697509e+10</td>\n",
       "      <td>6.452210e+10</td>\n",
       "      <td>295454.696526</td>\n",
       "    </tr>\n",
       "  </tbody>\n",
       "</table>\n",
       "</div>"
      ],
      "text/plain": [
       "          tax_value  tax_pred_mean  tax_pred_median  residual_mean  \\\n",
       "parcelid                                                             \n",
       "12607830   297087.0   389646.24449         332250.0    92559.24449   \n",
       "13859990   670065.0   389646.24449         332250.0  -280418.75551   \n",
       "11436076    17032.0   389646.24449         332250.0   372614.24449   \n",
       "12655781    91415.0   389646.24449         332250.0   298231.24449   \n",
       "10875142    78238.0   389646.24449         332250.0   311408.24449   \n",
       "\n",
       "          residual_median  residual_mean^2  residual_median^2    tax_pred_lm  \n",
       "parcelid                                                                      \n",
       "12607830          35163.0     8.567214e+09       1.236437e+09  397180.209126  \n",
       "13859990        -337815.0     7.863468e+10       1.141190e+11  327317.567436  \n",
       "11436076         315218.0     1.388414e+11       9.936239e+10  277349.032519  \n",
       "12655781         240835.0     8.894188e+10       5.800150e+10  354144.809611  \n",
       "10875142         254012.0     9.697509e+10       6.452210e+10  295454.696526  "
      ]
     },
     "execution_count": 51,
     "metadata": {},
     "output_type": "execute_result"
    }
   ],
   "source": [
    "# predict validate\n",
    "y_validate['tax_pred_lm'] = lm.predict(validate_scaled)\n",
    "\n",
    "y_validate.head()"
   ]
  },
  {
   "cell_type": "code",
   "execution_count": 52,
   "metadata": {},
   "outputs": [
    {
     "data": {
      "text/plain": [
       "245632.99167847406"
      ]
     },
     "execution_count": 52,
     "metadata": {},
     "output_type": "execute_result"
    }
   ],
   "source": [
    "# evaluate: rmse\n",
    "rmse_validate_lm = sqrt(mean_squared_error(y_validate.tax_value, y_validate.tax_pred_lm))\n",
    "\n",
    "rmse_validate_lm"
   ]
  },
  {
   "cell_type": "code",
   "execution_count": 53,
   "metadata": {},
   "outputs": [
    {
     "name": "stdout",
     "output_type": "stream",
     "text": [
      "RMSE for OLS using LinearRegression\n",
      "Training/In-Sample:  239658.81740285383 \n",
      "Validation/Out-of-Sample:  245632.99167847406\n"
     ]
    }
   ],
   "source": [
    "print(\"RMSE for OLS using LinearRegression\\nTraining/In-Sample: \", rmse_train_lm, \n",
    "      \"\\nValidation/Out-of-Sample: \", rmse_validate_lm)"
   ]
  },
  {
   "cell_type": "markdown",
   "metadata": {},
   "source": [
    "# LassoLars"
   ]
  },
  {
   "cell_type": "code",
   "execution_count": 54,
   "metadata": {},
   "outputs": [],
   "source": [
    "# create the model object\n",
    "lars = LassoLars(alpha=1.0)"
   ]
  },
  {
   "cell_type": "code",
   "execution_count": 55,
   "metadata": {},
   "outputs": [
    {
     "data": {
      "text/plain": [
       "LassoLars()"
      ]
     },
     "execution_count": 55,
     "metadata": {},
     "output_type": "execute_result"
    }
   ],
   "source": [
    "# fit the model to our training data. We must specify the column in y_train, \n",
    "# since we have converted it to a dataframe from a series! \n",
    "lars.fit(train_scaled, y_train.tax_value)"
   ]
  },
  {
   "cell_type": "code",
   "execution_count": 56,
   "metadata": {},
   "outputs": [
    {
     "data": {
      "text/html": [
       "<div>\n",
       "<style scoped>\n",
       "    .dataframe tbody tr th:only-of-type {\n",
       "        vertical-align: middle;\n",
       "    }\n",
       "\n",
       "    .dataframe tbody tr th {\n",
       "        vertical-align: top;\n",
       "    }\n",
       "\n",
       "    .dataframe thead th {\n",
       "        text-align: right;\n",
       "    }\n",
       "</style>\n",
       "<table border=\"1\" class=\"dataframe\">\n",
       "  <thead>\n",
       "    <tr style=\"text-align: right;\">\n",
       "      <th></th>\n",
       "      <th>tax_value</th>\n",
       "      <th>tax_pred_mean</th>\n",
       "      <th>tax_pred_median</th>\n",
       "      <th>residual_mean</th>\n",
       "      <th>residual_median</th>\n",
       "      <th>residual_mean^2</th>\n",
       "      <th>residual_median^2</th>\n",
       "      <th>tax_pred_lm</th>\n",
       "      <th>tax_pred_lars</th>\n",
       "    </tr>\n",
       "    <tr>\n",
       "      <th>parcelid</th>\n",
       "      <th></th>\n",
       "      <th></th>\n",
       "      <th></th>\n",
       "      <th></th>\n",
       "      <th></th>\n",
       "      <th></th>\n",
       "      <th></th>\n",
       "      <th></th>\n",
       "      <th></th>\n",
       "    </tr>\n",
       "  </thead>\n",
       "  <tbody>\n",
       "    <tr>\n",
       "      <th>11201390</th>\n",
       "      <td>69945.0</td>\n",
       "      <td>389646.24449</td>\n",
       "      <td>332250.0</td>\n",
       "      <td>319701.24449</td>\n",
       "      <td>262305.0</td>\n",
       "      <td>1.022089e+11</td>\n",
       "      <td>6.880391e+10</td>\n",
       "      <td>457313.923908</td>\n",
       "      <td>457037.282865</td>\n",
       "    </tr>\n",
       "    <tr>\n",
       "      <th>14125345</th>\n",
       "      <td>294236.0</td>\n",
       "      <td>389646.24449</td>\n",
       "      <td>332250.0</td>\n",
       "      <td>95410.24449</td>\n",
       "      <td>38014.0</td>\n",
       "      <td>9.103115e+09</td>\n",
       "      <td>1.445064e+09</td>\n",
       "      <td>492994.648074</td>\n",
       "      <td>493058.524901</td>\n",
       "    </tr>\n",
       "    <tr>\n",
       "      <th>12621955</th>\n",
       "      <td>565665.0</td>\n",
       "      <td>389646.24449</td>\n",
       "      <td>332250.0</td>\n",
       "      <td>-176018.75551</td>\n",
       "      <td>-233415.0</td>\n",
       "      <td>3.098260e+10</td>\n",
       "      <td>5.448256e+10</td>\n",
       "      <td>501237.847363</td>\n",
       "      <td>501091.931318</td>\n",
       "    </tr>\n",
       "    <tr>\n",
       "      <th>13026675</th>\n",
       "      <td>383116.0</td>\n",
       "      <td>389646.24449</td>\n",
       "      <td>332250.0</td>\n",
       "      <td>6530.24449</td>\n",
       "      <td>-50866.0</td>\n",
       "      <td>4.264409e+07</td>\n",
       "      <td>2.587350e+09</td>\n",
       "      <td>393505.732470</td>\n",
       "      <td>393972.133705</td>\n",
       "    </tr>\n",
       "    <tr>\n",
       "      <th>12395470</th>\n",
       "      <td>416252.0</td>\n",
       "      <td>389646.24449</td>\n",
       "      <td>332250.0</td>\n",
       "      <td>-26605.75551</td>\n",
       "      <td>-84002.0</td>\n",
       "      <td>7.078662e+08</td>\n",
       "      <td>7.056336e+09</td>\n",
       "      <td>342128.081736</td>\n",
       "      <td>342860.358411</td>\n",
       "    </tr>\n",
       "  </tbody>\n",
       "</table>\n",
       "</div>"
      ],
      "text/plain": [
       "          tax_value  tax_pred_mean  tax_pred_median  residual_mean  \\\n",
       "parcelid                                                             \n",
       "11201390    69945.0   389646.24449         332250.0   319701.24449   \n",
       "14125345   294236.0   389646.24449         332250.0    95410.24449   \n",
       "12621955   565665.0   389646.24449         332250.0  -176018.75551   \n",
       "13026675   383116.0   389646.24449         332250.0     6530.24449   \n",
       "12395470   416252.0   389646.24449         332250.0   -26605.75551   \n",
       "\n",
       "          residual_median  residual_mean^2  residual_median^2    tax_pred_lm  \\\n",
       "parcelid                                                                       \n",
       "11201390         262305.0     1.022089e+11       6.880391e+10  457313.923908   \n",
       "14125345          38014.0     9.103115e+09       1.445064e+09  492994.648074   \n",
       "12621955        -233415.0     3.098260e+10       5.448256e+10  501237.847363   \n",
       "13026675         -50866.0     4.264409e+07       2.587350e+09  393505.732470   \n",
       "12395470         -84002.0     7.078662e+08       7.056336e+09  342128.081736   \n",
       "\n",
       "          tax_pred_lars  \n",
       "parcelid                 \n",
       "11201390  457037.282865  \n",
       "14125345  493058.524901  \n",
       "12621955  501091.931318  \n",
       "13026675  393972.133705  \n",
       "12395470  342860.358411  "
      ]
     },
     "execution_count": 56,
     "metadata": {},
     "output_type": "execute_result"
    }
   ],
   "source": [
    "# predict train\n",
    "y_train['tax_pred_lars'] = lars.predict(train_scaled)\n",
    "\n",
    "y_train.head()"
   ]
  },
  {
   "cell_type": "code",
   "execution_count": 57,
   "metadata": {},
   "outputs": [
    {
     "data": {
      "text/plain": [
       "239659.52858695143"
      ]
     },
     "execution_count": 57,
     "metadata": {},
     "output_type": "execute_result"
    }
   ],
   "source": [
    "# evaluate: rmse\n",
    "rmse_train_lars = sqrt(mean_squared_error(y_train.tax_value, y_train.tax_pred_lars))\n",
    "\n",
    "rmse_train_lars"
   ]
  },
  {
   "cell_type": "code",
   "execution_count": 59,
   "metadata": {},
   "outputs": [
    {
     "data": {
      "text/html": [
       "<div>\n",
       "<style scoped>\n",
       "    .dataframe tbody tr th:only-of-type {\n",
       "        vertical-align: middle;\n",
       "    }\n",
       "\n",
       "    .dataframe tbody tr th {\n",
       "        vertical-align: top;\n",
       "    }\n",
       "\n",
       "    .dataframe thead th {\n",
       "        text-align: right;\n",
       "    }\n",
       "</style>\n",
       "<table border=\"1\" class=\"dataframe\">\n",
       "  <thead>\n",
       "    <tr style=\"text-align: right;\">\n",
       "      <th></th>\n",
       "      <th>tax_value</th>\n",
       "      <th>tax_pred_mean</th>\n",
       "      <th>tax_pred_median</th>\n",
       "      <th>residual_mean</th>\n",
       "      <th>residual_median</th>\n",
       "      <th>residual_mean^2</th>\n",
       "      <th>residual_median^2</th>\n",
       "      <th>tax_pred_lm</th>\n",
       "      <th>tax_pred_lars</th>\n",
       "    </tr>\n",
       "    <tr>\n",
       "      <th>parcelid</th>\n",
       "      <th></th>\n",
       "      <th></th>\n",
       "      <th></th>\n",
       "      <th></th>\n",
       "      <th></th>\n",
       "      <th></th>\n",
       "      <th></th>\n",
       "      <th></th>\n",
       "      <th></th>\n",
       "    </tr>\n",
       "  </thead>\n",
       "  <tbody>\n",
       "    <tr>\n",
       "      <th>12607830</th>\n",
       "      <td>297087.0</td>\n",
       "      <td>389646.24449</td>\n",
       "      <td>332250.0</td>\n",
       "      <td>92559.24449</td>\n",
       "      <td>35163.0</td>\n",
       "      <td>8.567214e+09</td>\n",
       "      <td>1.236437e+09</td>\n",
       "      <td>397180.209126</td>\n",
       "      <td>396174.190201</td>\n",
       "    </tr>\n",
       "    <tr>\n",
       "      <th>13859990</th>\n",
       "      <td>670065.0</td>\n",
       "      <td>389646.24449</td>\n",
       "      <td>332250.0</td>\n",
       "      <td>-280418.75551</td>\n",
       "      <td>-337815.0</td>\n",
       "      <td>7.863468e+10</td>\n",
       "      <td>1.141190e+11</td>\n",
       "      <td>327317.567436</td>\n",
       "      <td>327659.736546</td>\n",
       "    </tr>\n",
       "    <tr>\n",
       "      <th>11436076</th>\n",
       "      <td>17032.0</td>\n",
       "      <td>389646.24449</td>\n",
       "      <td>332250.0</td>\n",
       "      <td>372614.24449</td>\n",
       "      <td>315218.0</td>\n",
       "      <td>1.388414e+11</td>\n",
       "      <td>9.936239e+10</td>\n",
       "      <td>277349.032519</td>\n",
       "      <td>278063.200275</td>\n",
       "    </tr>\n",
       "    <tr>\n",
       "      <th>12655781</th>\n",
       "      <td>91415.0</td>\n",
       "      <td>389646.24449</td>\n",
       "      <td>332250.0</td>\n",
       "      <td>298231.24449</td>\n",
       "      <td>240835.0</td>\n",
       "      <td>8.894188e+10</td>\n",
       "      <td>5.800150e+10</td>\n",
       "      <td>354144.809611</td>\n",
       "      <td>354705.938379</td>\n",
       "    </tr>\n",
       "    <tr>\n",
       "      <th>10875142</th>\n",
       "      <td>78238.0</td>\n",
       "      <td>389646.24449</td>\n",
       "      <td>332250.0</td>\n",
       "      <td>311408.24449</td>\n",
       "      <td>254012.0</td>\n",
       "      <td>9.697509e+10</td>\n",
       "      <td>6.452210e+10</td>\n",
       "      <td>295454.696526</td>\n",
       "      <td>295834.946777</td>\n",
       "    </tr>\n",
       "  </tbody>\n",
       "</table>\n",
       "</div>"
      ],
      "text/plain": [
       "          tax_value  tax_pred_mean  tax_pred_median  residual_mean  \\\n",
       "parcelid                                                             \n",
       "12607830   297087.0   389646.24449         332250.0    92559.24449   \n",
       "13859990   670065.0   389646.24449         332250.0  -280418.75551   \n",
       "11436076    17032.0   389646.24449         332250.0   372614.24449   \n",
       "12655781    91415.0   389646.24449         332250.0   298231.24449   \n",
       "10875142    78238.0   389646.24449         332250.0   311408.24449   \n",
       "\n",
       "          residual_median  residual_mean^2  residual_median^2    tax_pred_lm  \\\n",
       "parcelid                                                                       \n",
       "12607830          35163.0     8.567214e+09       1.236437e+09  397180.209126   \n",
       "13859990        -337815.0     7.863468e+10       1.141190e+11  327317.567436   \n",
       "11436076         315218.0     1.388414e+11       9.936239e+10  277349.032519   \n",
       "12655781         240835.0     8.894188e+10       5.800150e+10  354144.809611   \n",
       "10875142         254012.0     9.697509e+10       6.452210e+10  295454.696526   \n",
       "\n",
       "          tax_pred_lars  \n",
       "parcelid                 \n",
       "12607830  396174.190201  \n",
       "13859990  327659.736546  \n",
       "11436076  278063.200275  \n",
       "12655781  354705.938379  \n",
       "10875142  295834.946777  "
      ]
     },
     "execution_count": 59,
     "metadata": {},
     "output_type": "execute_result"
    }
   ],
   "source": [
    "# predict validate\n",
    "y_validate['tax_pred_lars'] = lars.predict(validate_scaled)\n",
    "\n",
    "y_validate.head()"
   ]
  },
  {
   "cell_type": "code",
   "execution_count": 60,
   "metadata": {},
   "outputs": [
    {
     "data": {
      "text/plain": [
       "245635.8013209567"
      ]
     },
     "execution_count": 60,
     "metadata": {},
     "output_type": "execute_result"
    }
   ],
   "source": [
    "# evaluate: rmse\n",
    "rmse_validate_lars = sqrt(mean_squared_error(y_validate.tax_value, y_validate.tax_pred_lars))\n",
    "\n",
    "rmse_validate_lars"
   ]
  },
  {
   "cell_type": "code",
   "execution_count": 62,
   "metadata": {},
   "outputs": [
    {
     "name": "stdout",
     "output_type": "stream",
     "text": [
      "RMSE for Lasso + Lars\n",
      "Training/In-Sample:  239659.52858695143 \n",
      "Validation/Out-of-Sample:  245635.8013209567\n"
     ]
    }
   ],
   "source": [
    "print(\"RMSE for Lasso + Lars\\nTraining/In-Sample: \", rmse_train_lars, \n",
    "      \"\\nValidation/Out-of-Sample: \", rmse_validate_lars)"
   ]
  },
  {
   "cell_type": "markdown",
   "metadata": {},
   "source": [
    "# TweedieRegressor (GLM)"
   ]
  },
  {
   "cell_type": "code",
   "execution_count": 63,
   "metadata": {},
   "outputs": [],
   "source": [
    "# create the model object\n",
    "glm = TweedieRegressor(power=1, alpha=0)"
   ]
  },
  {
   "cell_type": "code",
   "execution_count": 64,
   "metadata": {},
   "outputs": [
    {
     "data": {
      "text/plain": [
       "TweedieRegressor(alpha=0, power=1)"
      ]
     },
     "execution_count": 64,
     "metadata": {},
     "output_type": "execute_result"
    }
   ],
   "source": [
    "# fit the model to our training data. We must specify the column in y_train, \n",
    "# since we have converted it to a dataframe from a series! \n",
    "glm.fit(train_scaled, y_train.tax_value)"
   ]
  },
  {
   "cell_type": "code",
   "execution_count": 65,
   "metadata": {},
   "outputs": [
    {
     "data": {
      "text/html": [
       "<div>\n",
       "<style scoped>\n",
       "    .dataframe tbody tr th:only-of-type {\n",
       "        vertical-align: middle;\n",
       "    }\n",
       "\n",
       "    .dataframe tbody tr th {\n",
       "        vertical-align: top;\n",
       "    }\n",
       "\n",
       "    .dataframe thead th {\n",
       "        text-align: right;\n",
       "    }\n",
       "</style>\n",
       "<table border=\"1\" class=\"dataframe\">\n",
       "  <thead>\n",
       "    <tr style=\"text-align: right;\">\n",
       "      <th></th>\n",
       "      <th>tax_value</th>\n",
       "      <th>tax_pred_mean</th>\n",
       "      <th>tax_pred_median</th>\n",
       "      <th>residual_mean</th>\n",
       "      <th>residual_median</th>\n",
       "      <th>residual_mean^2</th>\n",
       "      <th>residual_median^2</th>\n",
       "      <th>tax_pred_lm</th>\n",
       "      <th>tax_pred_lars</th>\n",
       "      <th>tax_pred_glm</th>\n",
       "    </tr>\n",
       "    <tr>\n",
       "      <th>parcelid</th>\n",
       "      <th></th>\n",
       "      <th></th>\n",
       "      <th></th>\n",
       "      <th></th>\n",
       "      <th></th>\n",
       "      <th></th>\n",
       "      <th></th>\n",
       "      <th></th>\n",
       "      <th></th>\n",
       "      <th></th>\n",
       "    </tr>\n",
       "  </thead>\n",
       "  <tbody>\n",
       "    <tr>\n",
       "      <th>11201390</th>\n",
       "      <td>69945.0</td>\n",
       "      <td>389646.24449</td>\n",
       "      <td>332250.0</td>\n",
       "      <td>319701.24449</td>\n",
       "      <td>262305.0</td>\n",
       "      <td>1.022089e+11</td>\n",
       "      <td>6.880391e+10</td>\n",
       "      <td>457313.923908</td>\n",
       "      <td>457037.282865</td>\n",
       "      <td>424711.562491</td>\n",
       "    </tr>\n",
       "    <tr>\n",
       "      <th>14125345</th>\n",
       "      <td>294236.0</td>\n",
       "      <td>389646.24449</td>\n",
       "      <td>332250.0</td>\n",
       "      <td>95410.24449</td>\n",
       "      <td>38014.0</td>\n",
       "      <td>9.103115e+09</td>\n",
       "      <td>1.445064e+09</td>\n",
       "      <td>492994.648074</td>\n",
       "      <td>493058.524901</td>\n",
       "      <td>470683.257206</td>\n",
       "    </tr>\n",
       "    <tr>\n",
       "      <th>12621955</th>\n",
       "      <td>565665.0</td>\n",
       "      <td>389646.24449</td>\n",
       "      <td>332250.0</td>\n",
       "      <td>-176018.75551</td>\n",
       "      <td>-233415.0</td>\n",
       "      <td>3.098260e+10</td>\n",
       "      <td>5.448256e+10</td>\n",
       "      <td>501237.847363</td>\n",
       "      <td>501091.931318</td>\n",
       "      <td>477849.714032</td>\n",
       "    </tr>\n",
       "    <tr>\n",
       "      <th>13026675</th>\n",
       "      <td>383116.0</td>\n",
       "      <td>389646.24449</td>\n",
       "      <td>332250.0</td>\n",
       "      <td>6530.24449</td>\n",
       "      <td>-50866.0</td>\n",
       "      <td>4.264409e+07</td>\n",
       "      <td>2.587350e+09</td>\n",
       "      <td>393505.732470</td>\n",
       "      <td>393972.133705</td>\n",
       "      <td>384180.979049</td>\n",
       "    </tr>\n",
       "    <tr>\n",
       "      <th>12395470</th>\n",
       "      <td>416252.0</td>\n",
       "      <td>389646.24449</td>\n",
       "      <td>332250.0</td>\n",
       "      <td>-26605.75551</td>\n",
       "      <td>-84002.0</td>\n",
       "      <td>7.078662e+08</td>\n",
       "      <td>7.056336e+09</td>\n",
       "      <td>342128.081736</td>\n",
       "      <td>342860.358411</td>\n",
       "      <td>335327.321210</td>\n",
       "    </tr>\n",
       "  </tbody>\n",
       "</table>\n",
       "</div>"
      ],
      "text/plain": [
       "          tax_value  tax_pred_mean  tax_pred_median  residual_mean  \\\n",
       "parcelid                                                             \n",
       "11201390    69945.0   389646.24449         332250.0   319701.24449   \n",
       "14125345   294236.0   389646.24449         332250.0    95410.24449   \n",
       "12621955   565665.0   389646.24449         332250.0  -176018.75551   \n",
       "13026675   383116.0   389646.24449         332250.0     6530.24449   \n",
       "12395470   416252.0   389646.24449         332250.0   -26605.75551   \n",
       "\n",
       "          residual_median  residual_mean^2  residual_median^2    tax_pred_lm  \\\n",
       "parcelid                                                                       \n",
       "11201390         262305.0     1.022089e+11       6.880391e+10  457313.923908   \n",
       "14125345          38014.0     9.103115e+09       1.445064e+09  492994.648074   \n",
       "12621955        -233415.0     3.098260e+10       5.448256e+10  501237.847363   \n",
       "13026675         -50866.0     4.264409e+07       2.587350e+09  393505.732470   \n",
       "12395470         -84002.0     7.078662e+08       7.056336e+09  342128.081736   \n",
       "\n",
       "          tax_pred_lars   tax_pred_glm  \n",
       "parcelid                                \n",
       "11201390  457037.282865  424711.562491  \n",
       "14125345  493058.524901  470683.257206  \n",
       "12621955  501091.931318  477849.714032  \n",
       "13026675  393972.133705  384180.979049  \n",
       "12395470  342860.358411  335327.321210  "
      ]
     },
     "execution_count": 65,
     "metadata": {},
     "output_type": "execute_result"
    }
   ],
   "source": [
    "# predict train\n",
    "y_train['tax_pred_glm'] = glm.predict(train_scaled)\n",
    "\n",
    "y_train.head()"
   ]
  },
  {
   "cell_type": "code",
   "execution_count": 66,
   "metadata": {},
   "outputs": [
    {
     "data": {
      "text/plain": [
       "240676.28435966163"
      ]
     },
     "execution_count": 66,
     "metadata": {},
     "output_type": "execute_result"
    }
   ],
   "source": [
    "# evaluate: rmse\n",
    "rmse_train_glm = sqrt(mean_squared_error(y_train.tax_value, y_train.tax_pred_glm))\n",
    "\n",
    "rmse_train_glm"
   ]
  },
  {
   "cell_type": "code",
   "execution_count": 67,
   "metadata": {},
   "outputs": [
    {
     "data": {
      "text/html": [
       "<div>\n",
       "<style scoped>\n",
       "    .dataframe tbody tr th:only-of-type {\n",
       "        vertical-align: middle;\n",
       "    }\n",
       "\n",
       "    .dataframe tbody tr th {\n",
       "        vertical-align: top;\n",
       "    }\n",
       "\n",
       "    .dataframe thead th {\n",
       "        text-align: right;\n",
       "    }\n",
       "</style>\n",
       "<table border=\"1\" class=\"dataframe\">\n",
       "  <thead>\n",
       "    <tr style=\"text-align: right;\">\n",
       "      <th></th>\n",
       "      <th>tax_value</th>\n",
       "      <th>tax_pred_mean</th>\n",
       "      <th>tax_pred_median</th>\n",
       "      <th>residual_mean</th>\n",
       "      <th>residual_median</th>\n",
       "      <th>residual_mean^2</th>\n",
       "      <th>residual_median^2</th>\n",
       "      <th>tax_pred_lm</th>\n",
       "      <th>tax_pred_lars</th>\n",
       "      <th>tax_pred_glm</th>\n",
       "    </tr>\n",
       "    <tr>\n",
       "      <th>parcelid</th>\n",
       "      <th></th>\n",
       "      <th></th>\n",
       "      <th></th>\n",
       "      <th></th>\n",
       "      <th></th>\n",
       "      <th></th>\n",
       "      <th></th>\n",
       "      <th></th>\n",
       "      <th></th>\n",
       "      <th></th>\n",
       "    </tr>\n",
       "  </thead>\n",
       "  <tbody>\n",
       "    <tr>\n",
       "      <th>12607830</th>\n",
       "      <td>297087.0</td>\n",
       "      <td>389646.24449</td>\n",
       "      <td>332250.0</td>\n",
       "      <td>92559.24449</td>\n",
       "      <td>35163.0</td>\n",
       "      <td>8.567214e+09</td>\n",
       "      <td>1.236437e+09</td>\n",
       "      <td>397180.209126</td>\n",
       "      <td>396174.190201</td>\n",
       "      <td>374630.827477</td>\n",
       "    </tr>\n",
       "    <tr>\n",
       "      <th>13859990</th>\n",
       "      <td>670065.0</td>\n",
       "      <td>389646.24449</td>\n",
       "      <td>332250.0</td>\n",
       "      <td>-280418.75551</td>\n",
       "      <td>-337815.0</td>\n",
       "      <td>7.863468e+10</td>\n",
       "      <td>1.141190e+11</td>\n",
       "      <td>327317.567436</td>\n",
       "      <td>327659.736546</td>\n",
       "      <td>323087.407355</td>\n",
       "    </tr>\n",
       "    <tr>\n",
       "      <th>11436076</th>\n",
       "      <td>17032.0</td>\n",
       "      <td>389646.24449</td>\n",
       "      <td>332250.0</td>\n",
       "      <td>372614.24449</td>\n",
       "      <td>315218.0</td>\n",
       "      <td>1.388414e+11</td>\n",
       "      <td>9.936239e+10</td>\n",
       "      <td>277349.032519</td>\n",
       "      <td>278063.200275</td>\n",
       "      <td>291358.221301</td>\n",
       "    </tr>\n",
       "    <tr>\n",
       "      <th>12655781</th>\n",
       "      <td>91415.0</td>\n",
       "      <td>389646.24449</td>\n",
       "      <td>332250.0</td>\n",
       "      <td>298231.24449</td>\n",
       "      <td>240835.0</td>\n",
       "      <td>8.894188e+10</td>\n",
       "      <td>5.800150e+10</td>\n",
       "      <td>354144.809611</td>\n",
       "      <td>354705.938379</td>\n",
       "      <td>343400.486000</td>\n",
       "    </tr>\n",
       "    <tr>\n",
       "      <th>10875142</th>\n",
       "      <td>78238.0</td>\n",
       "      <td>389646.24449</td>\n",
       "      <td>332250.0</td>\n",
       "      <td>311408.24449</td>\n",
       "      <td>254012.0</td>\n",
       "      <td>9.697509e+10</td>\n",
       "      <td>6.452210e+10</td>\n",
       "      <td>295454.696526</td>\n",
       "      <td>295834.946777</td>\n",
       "      <td>293303.191304</td>\n",
       "    </tr>\n",
       "  </tbody>\n",
       "</table>\n",
       "</div>"
      ],
      "text/plain": [
       "          tax_value  tax_pred_mean  tax_pred_median  residual_mean  \\\n",
       "parcelid                                                             \n",
       "12607830   297087.0   389646.24449         332250.0    92559.24449   \n",
       "13859990   670065.0   389646.24449         332250.0  -280418.75551   \n",
       "11436076    17032.0   389646.24449         332250.0   372614.24449   \n",
       "12655781    91415.0   389646.24449         332250.0   298231.24449   \n",
       "10875142    78238.0   389646.24449         332250.0   311408.24449   \n",
       "\n",
       "          residual_median  residual_mean^2  residual_median^2    tax_pred_lm  \\\n",
       "parcelid                                                                       \n",
       "12607830          35163.0     8.567214e+09       1.236437e+09  397180.209126   \n",
       "13859990        -337815.0     7.863468e+10       1.141190e+11  327317.567436   \n",
       "11436076         315218.0     1.388414e+11       9.936239e+10  277349.032519   \n",
       "12655781         240835.0     8.894188e+10       5.800150e+10  354144.809611   \n",
       "10875142         254012.0     9.697509e+10       6.452210e+10  295454.696526   \n",
       "\n",
       "          tax_pred_lars   tax_pred_glm  \n",
       "parcelid                                \n",
       "12607830  396174.190201  374630.827477  \n",
       "13859990  327659.736546  323087.407355  \n",
       "11436076  278063.200275  291358.221301  \n",
       "12655781  354705.938379  343400.486000  \n",
       "10875142  295834.946777  293303.191304  "
      ]
     },
     "execution_count": 67,
     "metadata": {},
     "output_type": "execute_result"
    }
   ],
   "source": [
    "# predict validate\n",
    "y_validate['tax_pred_glm'] = glm.predict(validate_scaled)\n",
    "\n",
    "y_validate.head()"
   ]
  },
  {
   "cell_type": "code",
   "execution_count": 68,
   "metadata": {},
   "outputs": [
    {
     "data": {
      "text/plain": [
       "246422.52587515122"
      ]
     },
     "execution_count": 68,
     "metadata": {},
     "output_type": "execute_result"
    }
   ],
   "source": [
    "# evaluate: rmse\n",
    "rmse_validate_glm = mean_squared_error(y_validate.tax_value, y_validate.tax_pred_glm)**(1/2)\n",
    "\n",
    "rmse_validate_glm"
   ]
  },
  {
   "cell_type": "code",
   "execution_count": 69,
   "metadata": {},
   "outputs": [
    {
     "name": "stdout",
     "output_type": "stream",
     "text": [
      "RMSE for GLM using Tweedie, power=1 & alpha=0\n",
      "Training/In-Sample:  240676.28435966163 \n",
      "Validation/Out-of-Sample:  246422.52587515122\n"
     ]
    }
   ],
   "source": [
    "print(\"RMSE for GLM using Tweedie, power=1 & alpha=0\\nTraining/In-Sample: \", rmse_train_glm, \n",
    "      \"\\nValidation/Out-of-Sample: \", rmse_validate_glm)"
   ]
  },
  {
   "cell_type": "markdown",
   "metadata": {},
   "source": [
    "# Polynomial Regression"
   ]
  },
  {
   "cell_type": "markdown",
   "metadata": {},
   "source": [
    "### PolynomialFeatures"
   ]
  },
  {
   "cell_type": "code",
   "execution_count": 70,
   "metadata": {},
   "outputs": [],
   "source": [
    "# make the polynomial features to get a new set of features\n",
    "pf = PolynomialFeatures(degree=2)"
   ]
  },
  {
   "cell_type": "code",
   "execution_count": 71,
   "metadata": {},
   "outputs": [],
   "source": [
    "# fit and transform X_train_scaled\n",
    "X_train_degree2 = pf.fit_transform(train_scaled)"
   ]
  },
  {
   "cell_type": "code",
   "execution_count": 72,
   "metadata": {},
   "outputs": [],
   "source": [
    "# transform X_validate_scaled & X_test_scaled\n",
    "X_validate_degree2 = pf.transform(validate_scaled)\n",
    "X_test_degree2 = pf.transform(test_scaled)"
   ]
  },
  {
   "cell_type": "markdown",
   "metadata": {},
   "source": [
    "### LinearRegression"
   ]
  },
  {
   "cell_type": "code",
   "execution_count": 73,
   "metadata": {},
   "outputs": [],
   "source": [
    "# create the model object\n",
    "lm2 = LinearRegression(normalize=True)"
   ]
  },
  {
   "cell_type": "code",
   "execution_count": 74,
   "metadata": {},
   "outputs": [
    {
     "data": {
      "text/plain": [
       "LinearRegression(normalize=True)"
      ]
     },
     "execution_count": 74,
     "metadata": {},
     "output_type": "execute_result"
    }
   ],
   "source": [
    "# fit the model to our training data. We must specify the column in y_train, \n",
    "# since we have converted it to a dataframe from a series! \n",
    "lm2.fit(X_train_degree2, y_train.tax_value)"
   ]
  },
  {
   "cell_type": "code",
   "execution_count": 75,
   "metadata": {},
   "outputs": [
    {
     "data": {
      "text/html": [
       "<div>\n",
       "<style scoped>\n",
       "    .dataframe tbody tr th:only-of-type {\n",
       "        vertical-align: middle;\n",
       "    }\n",
       "\n",
       "    .dataframe tbody tr th {\n",
       "        vertical-align: top;\n",
       "    }\n",
       "\n",
       "    .dataframe thead th {\n",
       "        text-align: right;\n",
       "    }\n",
       "</style>\n",
       "<table border=\"1\" class=\"dataframe\">\n",
       "  <thead>\n",
       "    <tr style=\"text-align: right;\">\n",
       "      <th></th>\n",
       "      <th>tax_value</th>\n",
       "      <th>tax_pred_mean</th>\n",
       "      <th>tax_pred_median</th>\n",
       "      <th>residual_mean</th>\n",
       "      <th>residual_median</th>\n",
       "      <th>residual_mean^2</th>\n",
       "      <th>residual_median^2</th>\n",
       "      <th>tax_pred_lm</th>\n",
       "      <th>tax_pred_lars</th>\n",
       "      <th>tax_pred_glm</th>\n",
       "      <th>tax_pred_lm2</th>\n",
       "    </tr>\n",
       "    <tr>\n",
       "      <th>parcelid</th>\n",
       "      <th></th>\n",
       "      <th></th>\n",
       "      <th></th>\n",
       "      <th></th>\n",
       "      <th></th>\n",
       "      <th></th>\n",
       "      <th></th>\n",
       "      <th></th>\n",
       "      <th></th>\n",
       "      <th></th>\n",
       "      <th></th>\n",
       "    </tr>\n",
       "  </thead>\n",
       "  <tbody>\n",
       "    <tr>\n",
       "      <th>11201390</th>\n",
       "      <td>69945.0</td>\n",
       "      <td>389646.24449</td>\n",
       "      <td>332250.0</td>\n",
       "      <td>319701.24449</td>\n",
       "      <td>262305.0</td>\n",
       "      <td>1.022089e+11</td>\n",
       "      <td>6.880391e+10</td>\n",
       "      <td>457313.923908</td>\n",
       "      <td>457037.282865</td>\n",
       "      <td>424711.562491</td>\n",
       "      <td>431670.924066</td>\n",
       "    </tr>\n",
       "    <tr>\n",
       "      <th>14125345</th>\n",
       "      <td>294236.0</td>\n",
       "      <td>389646.24449</td>\n",
       "      <td>332250.0</td>\n",
       "      <td>95410.24449</td>\n",
       "      <td>38014.0</td>\n",
       "      <td>9.103115e+09</td>\n",
       "      <td>1.445064e+09</td>\n",
       "      <td>492994.648074</td>\n",
       "      <td>493058.524901</td>\n",
       "      <td>470683.257206</td>\n",
       "      <td>470254.733214</td>\n",
       "    </tr>\n",
       "    <tr>\n",
       "      <th>12621955</th>\n",
       "      <td>565665.0</td>\n",
       "      <td>389646.24449</td>\n",
       "      <td>332250.0</td>\n",
       "      <td>-176018.75551</td>\n",
       "      <td>-233415.0</td>\n",
       "      <td>3.098260e+10</td>\n",
       "      <td>5.448256e+10</td>\n",
       "      <td>501237.847363</td>\n",
       "      <td>501091.931318</td>\n",
       "      <td>477849.714032</td>\n",
       "      <td>481370.883479</td>\n",
       "    </tr>\n",
       "    <tr>\n",
       "      <th>13026675</th>\n",
       "      <td>383116.0</td>\n",
       "      <td>389646.24449</td>\n",
       "      <td>332250.0</td>\n",
       "      <td>6530.24449</td>\n",
       "      <td>-50866.0</td>\n",
       "      <td>4.264409e+07</td>\n",
       "      <td>2.587350e+09</td>\n",
       "      <td>393505.732470</td>\n",
       "      <td>393972.133705</td>\n",
       "      <td>384180.979049</td>\n",
       "      <td>413834.464235</td>\n",
       "    </tr>\n",
       "    <tr>\n",
       "      <th>12395470</th>\n",
       "      <td>416252.0</td>\n",
       "      <td>389646.24449</td>\n",
       "      <td>332250.0</td>\n",
       "      <td>-26605.75551</td>\n",
       "      <td>-84002.0</td>\n",
       "      <td>7.078662e+08</td>\n",
       "      <td>7.056336e+09</td>\n",
       "      <td>342128.081736</td>\n",
       "      <td>342860.358411</td>\n",
       "      <td>335327.321210</td>\n",
       "      <td>365100.934077</td>\n",
       "    </tr>\n",
       "  </tbody>\n",
       "</table>\n",
       "</div>"
      ],
      "text/plain": [
       "          tax_value  tax_pred_mean  tax_pred_median  residual_mean  \\\n",
       "parcelid                                                             \n",
       "11201390    69945.0   389646.24449         332250.0   319701.24449   \n",
       "14125345   294236.0   389646.24449         332250.0    95410.24449   \n",
       "12621955   565665.0   389646.24449         332250.0  -176018.75551   \n",
       "13026675   383116.0   389646.24449         332250.0     6530.24449   \n",
       "12395470   416252.0   389646.24449         332250.0   -26605.75551   \n",
       "\n",
       "          residual_median  residual_mean^2  residual_median^2    tax_pred_lm  \\\n",
       "parcelid                                                                       \n",
       "11201390         262305.0     1.022089e+11       6.880391e+10  457313.923908   \n",
       "14125345          38014.0     9.103115e+09       1.445064e+09  492994.648074   \n",
       "12621955        -233415.0     3.098260e+10       5.448256e+10  501237.847363   \n",
       "13026675         -50866.0     4.264409e+07       2.587350e+09  393505.732470   \n",
       "12395470         -84002.0     7.078662e+08       7.056336e+09  342128.081736   \n",
       "\n",
       "          tax_pred_lars   tax_pred_glm   tax_pred_lm2  \n",
       "parcelid                                               \n",
       "11201390  457037.282865  424711.562491  431670.924066  \n",
       "14125345  493058.524901  470683.257206  470254.733214  \n",
       "12621955  501091.931318  477849.714032  481370.883479  \n",
       "13026675  393972.133705  384180.979049  413834.464235  \n",
       "12395470  342860.358411  335327.321210  365100.934077  "
      ]
     },
     "execution_count": 75,
     "metadata": {},
     "output_type": "execute_result"
    }
   ],
   "source": [
    "# predict train\n",
    "y_train['tax_pred_lm2'] = lm2.predict(X_train_degree2)\n",
    "\n",
    "y_train.head()"
   ]
  },
  {
   "cell_type": "code",
   "execution_count": 76,
   "metadata": {},
   "outputs": [
    {
     "data": {
      "text/plain": [
       "237643.60483755035"
      ]
     },
     "execution_count": 76,
     "metadata": {},
     "output_type": "execute_result"
    }
   ],
   "source": [
    "# evaluate: rmse\n",
    "rmse_train_lm2 = mean_squared_error(y_train.tax_value, y_train.tax_pred_lm2)**(1/2)\n",
    "\n",
    "rmse_train_lm2"
   ]
  },
  {
   "cell_type": "code",
   "execution_count": 77,
   "metadata": {},
   "outputs": [
    {
     "data": {
      "text/html": [
       "<div>\n",
       "<style scoped>\n",
       "    .dataframe tbody tr th:only-of-type {\n",
       "        vertical-align: middle;\n",
       "    }\n",
       "\n",
       "    .dataframe tbody tr th {\n",
       "        vertical-align: top;\n",
       "    }\n",
       "\n",
       "    .dataframe thead th {\n",
       "        text-align: right;\n",
       "    }\n",
       "</style>\n",
       "<table border=\"1\" class=\"dataframe\">\n",
       "  <thead>\n",
       "    <tr style=\"text-align: right;\">\n",
       "      <th></th>\n",
       "      <th>tax_value</th>\n",
       "      <th>tax_pred_mean</th>\n",
       "      <th>tax_pred_median</th>\n",
       "      <th>residual_mean</th>\n",
       "      <th>residual_median</th>\n",
       "      <th>residual_mean^2</th>\n",
       "      <th>residual_median^2</th>\n",
       "      <th>tax_pred_lm</th>\n",
       "      <th>tax_pred_lars</th>\n",
       "      <th>tax_pred_glm</th>\n",
       "      <th>tax_pred_lm2</th>\n",
       "    </tr>\n",
       "    <tr>\n",
       "      <th>parcelid</th>\n",
       "      <th></th>\n",
       "      <th></th>\n",
       "      <th></th>\n",
       "      <th></th>\n",
       "      <th></th>\n",
       "      <th></th>\n",
       "      <th></th>\n",
       "      <th></th>\n",
       "      <th></th>\n",
       "      <th></th>\n",
       "      <th></th>\n",
       "    </tr>\n",
       "  </thead>\n",
       "  <tbody>\n",
       "    <tr>\n",
       "      <th>12607830</th>\n",
       "      <td>297087.0</td>\n",
       "      <td>389646.24449</td>\n",
       "      <td>332250.0</td>\n",
       "      <td>92559.24449</td>\n",
       "      <td>35163.0</td>\n",
       "      <td>8.567214e+09</td>\n",
       "      <td>1.236437e+09</td>\n",
       "      <td>397180.209126</td>\n",
       "      <td>396174.190201</td>\n",
       "      <td>374630.827477</td>\n",
       "      <td>369339.848803</td>\n",
       "    </tr>\n",
       "    <tr>\n",
       "      <th>13859990</th>\n",
       "      <td>670065.0</td>\n",
       "      <td>389646.24449</td>\n",
       "      <td>332250.0</td>\n",
       "      <td>-280418.75551</td>\n",
       "      <td>-337815.0</td>\n",
       "      <td>7.863468e+10</td>\n",
       "      <td>1.141190e+11</td>\n",
       "      <td>327317.567436</td>\n",
       "      <td>327659.736546</td>\n",
       "      <td>323087.407355</td>\n",
       "      <td>309929.569946</td>\n",
       "    </tr>\n",
       "    <tr>\n",
       "      <th>11436076</th>\n",
       "      <td>17032.0</td>\n",
       "      <td>389646.24449</td>\n",
       "      <td>332250.0</td>\n",
       "      <td>372614.24449</td>\n",
       "      <td>315218.0</td>\n",
       "      <td>1.388414e+11</td>\n",
       "      <td>9.936239e+10</td>\n",
       "      <td>277349.032519</td>\n",
       "      <td>278063.200275</td>\n",
       "      <td>291358.221301</td>\n",
       "      <td>265281.565844</td>\n",
       "    </tr>\n",
       "    <tr>\n",
       "      <th>12655781</th>\n",
       "      <td>91415.0</td>\n",
       "      <td>389646.24449</td>\n",
       "      <td>332250.0</td>\n",
       "      <td>298231.24449</td>\n",
       "      <td>240835.0</td>\n",
       "      <td>8.894188e+10</td>\n",
       "      <td>5.800150e+10</td>\n",
       "      <td>354144.809611</td>\n",
       "      <td>354705.938379</td>\n",
       "      <td>343400.486000</td>\n",
       "      <td>360929.718110</td>\n",
       "    </tr>\n",
       "    <tr>\n",
       "      <th>10875142</th>\n",
       "      <td>78238.0</td>\n",
       "      <td>389646.24449</td>\n",
       "      <td>332250.0</td>\n",
       "      <td>311408.24449</td>\n",
       "      <td>254012.0</td>\n",
       "      <td>9.697509e+10</td>\n",
       "      <td>6.452210e+10</td>\n",
       "      <td>295454.696526</td>\n",
       "      <td>295834.946777</td>\n",
       "      <td>293303.191304</td>\n",
       "      <td>306433.268042</td>\n",
       "    </tr>\n",
       "  </tbody>\n",
       "</table>\n",
       "</div>"
      ],
      "text/plain": [
       "          tax_value  tax_pred_mean  tax_pred_median  residual_mean  \\\n",
       "parcelid                                                             \n",
       "12607830   297087.0   389646.24449         332250.0    92559.24449   \n",
       "13859990   670065.0   389646.24449         332250.0  -280418.75551   \n",
       "11436076    17032.0   389646.24449         332250.0   372614.24449   \n",
       "12655781    91415.0   389646.24449         332250.0   298231.24449   \n",
       "10875142    78238.0   389646.24449         332250.0   311408.24449   \n",
       "\n",
       "          residual_median  residual_mean^2  residual_median^2    tax_pred_lm  \\\n",
       "parcelid                                                                       \n",
       "12607830          35163.0     8.567214e+09       1.236437e+09  397180.209126   \n",
       "13859990        -337815.0     7.863468e+10       1.141190e+11  327317.567436   \n",
       "11436076         315218.0     1.388414e+11       9.936239e+10  277349.032519   \n",
       "12655781         240835.0     8.894188e+10       5.800150e+10  354144.809611   \n",
       "10875142         254012.0     9.697509e+10       6.452210e+10  295454.696526   \n",
       "\n",
       "          tax_pred_lars   tax_pred_glm   tax_pred_lm2  \n",
       "parcelid                                               \n",
       "12607830  396174.190201  374630.827477  369339.848803  \n",
       "13859990  327659.736546  323087.407355  309929.569946  \n",
       "11436076  278063.200275  291358.221301  265281.565844  \n",
       "12655781  354705.938379  343400.486000  360929.718110  \n",
       "10875142  295834.946777  293303.191304  306433.268042  "
      ]
     },
     "execution_count": 77,
     "metadata": {},
     "output_type": "execute_result"
    }
   ],
   "source": [
    "# predict validate\n",
    "y_validate['tax_pred_lm2'] = lm2.predict(X_validate_degree2)\n",
    "\n",
    "y_validate.head()"
   ]
  },
  {
   "cell_type": "code",
   "execution_count": 78,
   "metadata": {},
   "outputs": [
    {
     "data": {
      "text/plain": [
       "244384.2941999235"
      ]
     },
     "execution_count": 78,
     "metadata": {},
     "output_type": "execute_result"
    }
   ],
   "source": [
    "# evaluate: rmse\n",
    "rmse_validate_lm2 = mean_squared_error(y_validate.tax_value, y_validate.tax_pred_lm2)**(1/2)\n",
    "\n",
    "rmse_validate_lm2"
   ]
  },
  {
   "cell_type": "code",
   "execution_count": 79,
   "metadata": {},
   "outputs": [
    {
     "name": "stdout",
     "output_type": "stream",
     "text": [
      "RMSE for Polynomial Model, degrees=2\n",
      "Training/In-Sample:  237643.60483755035 \n",
      "Validation/Out-of-Sample:  244384.2941999235\n"
     ]
    }
   ],
   "source": [
    "print(\"RMSE for Polynomial Model, degrees=2\\nTraining/In-Sample: \", rmse_train_lm2, \n",
    "      \"\\nValidation/Out-of-Sample: \", rmse_validate_lm2)"
   ]
  },
  {
   "cell_type": "markdown",
   "metadata": {},
   "source": [
    "# Evaluate"
   ]
  },
  {
   "cell_type": "markdown",
   "metadata": {},
   "source": [
    "### Plotting Actual vs. Predicted Values"
   ]
  },
  {
   "cell_type": "code",
   "execution_count": 80,
   "metadata": {},
   "outputs": [
    {
     "data": {
      "image/png": "[encoded data removed]",
      "text/plain": [
       "<Figure size 1152x576 with 1 Axes>"
      ]
     },
     "metadata": {
      "needs_background": "light"
     },
     "output_type": "display_data"
    }
   ],
   "source": [
    "# y_validate.head()\n",
    "plt.figure(figsize=(16,8))\n",
    "plt.plot(y_validate.tax_value, y_validate.tax_pred_mean, alpha=.5, color=\"gray\", label='_nolegend_')\n",
    "plt.annotate(\"Baseline: Predict Using Mean\", (16, 9.5))\n",
    "plt.plot(y_validate.tax_value, y_validate.tax_value, alpha=.5, color=\"blue\", label='_nolegend_')\n",
    "plt.annotate(\"The Ideal Line: Predicted = Actual\", (.5, 3.5), rotation=15.5)\n",
    "\n",
    "plt.scatter(y_validate.tax_value, y_validate.tax_pred_lm, \n",
    "            alpha=.5, color=\"red\", s=100, label=\"Model: LinearRegression\")\n",
    "plt.scatter(y_validate.tax_value, y_validate.tax_pred_lars, \n",
    "            alpha=.5, color=\"blue\", s=100, label=\"Model: LassoLars\")\n",
    "plt.scatter(y_validate.tax_value, y_validate.tax_pred_glm, \n",
    "            alpha=.5, color=\"yellow\", s=100, label=\"Model: TweedieRegressor\")\n",
    "plt.scatter(y_validate.tax_value, y_validate.tax_pred_lm2, \n",
    "            alpha=.5, color=\"green\", s=100, label=\"Model 2nd degree Polynomial\")\n",
    "plt.legend()\n",
    "plt.xlabel(\"Actual Tax Value\")\n",
    "plt.ylabel(\"Predicted Tax Value\")\n",
    "plt.title(\"Where are predictions more extreme? More modest?\")\n",
    "# plt.annotate(\"The polynomial model appears to overreact to noise\", (2.0, -10))\n",
    "# plt.annotate(\"The OLS model (LinearRegression)\\n appears to be most consistent\", (15.5, 3))\n",
    "plt.show()"
   ]
  },
  {
   "cell_type": "code",
   "execution_count": 81,
   "metadata": {},
   "outputs": [
    {
     "data": {
      "image/png": "[encoded data removed]",
      "text/plain": [
       "<Figure size 1152x576 with 1 Axes>"
      ]
     },
     "metadata": {
      "needs_background": "light"
     },
     "output_type": "display_data"
    }
   ],
   "source": [
    "# y_validate.head()\n",
    "plt.figure(figsize=(16,8))\n",
    "plt.axhline(label=\"No Error\")\n",
    "plt.scatter(y_validate.tax_value, y_validate.tax_pred_lm-y_validate.tax_value, \n",
    "            alpha=.5, color=\"red\", s=100, label=\"Model: LinearRegression\")\n",
    "plt.scatter(y_validate.tax_value, y_validate.tax_pred_lars-y_validate.tax_value, \n",
    "            alpha=.5, color=\"blue\", s=100, label=\"Model: LassoLars\")\n",
    "plt.scatter(y_validate.tax_value, y_validate.tax_pred_glm-y_validate.tax_value, \n",
    "            alpha=.5, color=\"yellow\", s=100, label=\"Model: TweedieRegressor\")\n",
    "plt.scatter(y_validate.tax_value, y_validate.tax_pred_lm2-y_validate.tax_value, \n",
    "            alpha=.5, color=\"green\", s=100, label=\"Model 2nd degree Polynomial\")\n",
    "plt.legend()\n",
    "plt.xlabel(\"Actual Tax Value\")\n",
    "plt.ylabel(\"Residual/Error: Predicted Tax Value - Actual Tax Value\")\n",
    "plt.title(\"Do the size of errors change as the actual value changes?\")\n",
    "plt.show()"
   ]
  },
  {
   "cell_type": "code",
   "execution_count": 82,
   "metadata": {},
   "outputs": [
    {
     "data": {
      "image/png": "[encoded data removed]",
      "text/plain": [
       "<Figure size 1152x576 with 1 Axes>"
      ]
     },
     "metadata": {
      "needs_background": "light"
     },
     "output_type": "display_data"
    }
   ],
   "source": [
    "# plot to visualize actual vs predicted. \n",
    "plt.figure(figsize=(16,8))\n",
    "plt.hist(y_validate.tax_value, color='purple', alpha=.5, label=\"Actual Tax Value\")\n",
    "plt.hist(y_validate.tax_pred_lm, color='red', alpha=.5, label=\"Model: LinearRegression\")\n",
    "plt.hist(y_validate.tax_pred_lars, color='blue', alpha=.5, label=\"Model: LassoLars\")\n",
    "plt.hist(y_validate.tax_pred_glm, color='yellow', alpha=.5, label=\"Model: TweedieRegressor\")\n",
    "plt.hist(y_validate.tax_pred_lm2, color='green', alpha=.5, label=\"Model 2nd degree Polynomial\")\n",
    "plt.xlabel(\"Tax Value\")\n",
    "plt.ylabel(\"Number of Homes\")\n",
    "plt.title(\"Comparing the Distribution of Actual Tax Value to Distributions of Predicted Tax Values for the Top Models\")\n",
    "plt.legend()\n",
    "plt.show()"
   ]
  },
  {
   "cell_type": "code",
   "execution_count": 83,
   "metadata": {},
   "outputs": [
    {
     "name": "stdout",
     "output_type": "stream",
     "text": [
      "RMSE for OLS using LinearRegression\n",
      "Training/In-Sample:  239658.81740285383 \n",
      "Validation/Out-of-Sample:  245632.99167847406\n",
      "------------------------------------------------------------------------------------\n",
      "RMSE for Lasso + Lars\n",
      "Training/In-Sample:  239659.52858695143 \n",
      "Validation/Out-of-Sample:  245635.8013209567\n",
      "------------------------------------------------------------------------------------\n",
      "RMSE for GLM using Tweedie, power=1 & alpha=0\n",
      "Training/In-Sample:  240676.28435966163 \n",
      "Validation/Out-of-Sample:  246422.52587515122\n",
      "------------------------------------------------------------------------------------\n",
      "RMSE for Polynomial Model, degrees=2\n",
      "Training/In-Sample:  237643.60483755035 \n",
      "Validation/Out-of-Sample:  244384.2941999235\n"
     ]
    }
   ],
   "source": [
    "print(\"RMSE for OLS using LinearRegression\\nTraining/In-Sample: \", rmse_train_lm, \n",
    "      \"\\nValidation/Out-of-Sample: \", rmse_validate_lm)\n",
    "\n",
    "print('------------------------------------------------------------------------------------')\n",
    "\n",
    "print(\"RMSE for Lasso + Lars\\nTraining/In-Sample: \", rmse_train_lars, \n",
    "      \"\\nValidation/Out-of-Sample: \", rmse_validate_lars)\n",
    "\n",
    "print('------------------------------------------------------------------------------------')\n",
    "\n",
    "print(\"RMSE for GLM using Tweedie, power=1 & alpha=0\\nTraining/In-Sample: \", rmse_train_glm, \n",
    "      \"\\nValidation/Out-of-Sample: \", rmse_validate_glm)\n",
    "\n",
    "print('------------------------------------------------------------------------------------')\n",
    "\n",
    "print(\"RMSE for Polynomial Model, degrees=2\\nTraining/In-Sample: \", rmse_train_lm2, \n",
    "      \"\\nValidation/Out-of-Sample: \", rmse_validate_lm2)"
   ]
  },
  {
   "cell_type": "code",
   "execution_count": 84,
   "metadata": {},
   "outputs": [],
   "source": [
    "## the polynomial model appears to do marginally better than all the other models"
   ]
  },
  {
   "cell_type": "markdown",
   "metadata": {},
   "source": [
    "# Test Best Model"
   ]
  },
  {
   "cell_type": "code",
   "execution_count": 85,
   "metadata": {},
   "outputs": [],
   "source": [
    "## make y test a dataframe\n",
    "\n",
    "y_test = pd.DataFrame(y_test)"
   ]
  },
  {
   "cell_type": "code",
   "execution_count": 86,
   "metadata": {},
   "outputs": [],
   "source": [
    "# predict on test\n",
    "y_test['tax_pred_lm2'] = lm2.predict(X_test_degree2)"
   ]
  },
  {
   "cell_type": "code",
   "execution_count": 87,
   "metadata": {},
   "outputs": [
    {
     "data": {
      "text/html": [
       "<div>\n",
       "<style scoped>\n",
       "    .dataframe tbody tr th:only-of-type {\n",
       "        vertical-align: middle;\n",
       "    }\n",
       "\n",
       "    .dataframe tbody tr th {\n",
       "        vertical-align: top;\n",
       "    }\n",
       "\n",
       "    .dataframe thead th {\n",
       "        text-align: right;\n",
       "    }\n",
       "</style>\n",
       "<table border=\"1\" class=\"dataframe\">\n",
       "  <thead>\n",
       "    <tr style=\"text-align: right;\">\n",
       "      <th></th>\n",
       "      <th>tax_value</th>\n",
       "      <th>tax_pred_lm2</th>\n",
       "    </tr>\n",
       "    <tr>\n",
       "      <th>parcelid</th>\n",
       "      <th></th>\n",
       "      <th></th>\n",
       "    </tr>\n",
       "  </thead>\n",
       "  <tbody>\n",
       "    <tr>\n",
       "      <th>11108242</th>\n",
       "      <td>49243.0</td>\n",
       "      <td>246122.744037</td>\n",
       "    </tr>\n",
       "    <tr>\n",
       "      <th>11617049</th>\n",
       "      <td>1379880.0</td>\n",
       "      <td>746952.671603</td>\n",
       "    </tr>\n",
       "    <tr>\n",
       "      <th>12784869</th>\n",
       "      <td>388862.0</td>\n",
       "      <td>402492.209631</td>\n",
       "    </tr>\n",
       "    <tr>\n",
       "      <th>12892055</th>\n",
       "      <td>146850.0</td>\n",
       "      <td>294492.505765</td>\n",
       "    </tr>\n",
       "    <tr>\n",
       "      <th>17141638</th>\n",
       "      <td>665000.0</td>\n",
       "      <td>428072.947395</td>\n",
       "    </tr>\n",
       "  </tbody>\n",
       "</table>\n",
       "</div>"
      ],
      "text/plain": [
       "          tax_value   tax_pred_lm2\n",
       "parcelid                          \n",
       "11108242    49243.0  246122.744037\n",
       "11617049  1379880.0  746952.671603\n",
       "12784869   388862.0  402492.209631\n",
       "12892055   146850.0  294492.505765\n",
       "17141638   665000.0  428072.947395"
      ]
     },
     "execution_count": 87,
     "metadata": {},
     "output_type": "execute_result"
    }
   ],
   "source": [
    "y_test.head()"
   ]
  },
  {
   "cell_type": "code",
   "execution_count": 88,
   "metadata": {},
   "outputs": [],
   "source": [
    "\n",
    "# evaluate: rmse\n",
    "rmse_test = mean_squared_error(y_test.tax_value, y_test.tax_pred_lm2)**(1/2)"
   ]
  },
  {
   "cell_type": "code",
   "execution_count": 89,
   "metadata": {},
   "outputs": [
    {
     "name": "stdout",
     "output_type": "stream",
     "text": [
      "RMSE for OLS Model using LinearRegression\n",
      "Out-of-Sample Performance:  240880.65771698716\n"
     ]
    }
   ],
   "source": [
    "print(\"RMSE for OLS Model using LinearRegression\\nOut-of-Sample Performance: \", rmse_test)"
   ]
  },
  {
   "cell_type": "code",
   "execution_count": 90,
   "metadata": {},
   "outputs": [
    {
     "name": "stdout",
     "output_type": "stream",
     "text": [
      "RMSE_mean (Train) =  277211.8073473286\n",
      "RMSE_median (Train) =  283091.3545382028\n"
     ]
    }
   ],
   "source": [
    "print(\"RMSE_mean (Train) = \", RMSE_mean)\n",
    "print(\"RMSE_median (Train) = \", RMSE_median)"
   ]
  },
  {
   "cell_type": "code",
   "execution_count": 91,
   "metadata": {},
   "outputs": [],
   "source": [
    "## My final model did a little better than the baseline model on the final test data "
   ]
  },
  {
   "cell_type": "markdown",
   "metadata": {},
   "source": [
    "# Feature Engineering"
   ]
  },
  {
   "cell_type": "markdown",
   "metadata": {},
   "source": [
    "### SelectKBest"
   ]
  },
  {
   "cell_type": "code",
   "execution_count": 92,
   "metadata": {},
   "outputs": [],
   "source": [
    "from sklearn.feature_selection import SelectKBest, f_regression\n",
    "\n",
    "# parameters: f_regression stats test, give me 3 features\n",
    "f_selector = SelectKBest(f_regression, k=3)"
   ]
  },
  {
   "cell_type": "code",
   "execution_count": 93,
   "metadata": {},
   "outputs": [
    {
     "data": {
      "text/plain": [
       "SelectKBest(k=3, score_func=<function f_regression at 0x7ffe3fcdbdc0>)"
      ]
     },
     "execution_count": 93,
     "metadata": {},
     "output_type": "execute_result"
    }
   ],
   "source": [
    "# find the top 3 X's correlated with y\n",
    "f_selector.fit(train_scaled, y_train.tax_value)"
   ]
  },
  {
   "cell_type": "code",
   "execution_count": 94,
   "metadata": {},
   "outputs": [],
   "source": [
    "# boolean mask of whether the column was selected or not. \n",
    "feature_mask = f_selector.get_support()"
   ]
  },
  {
   "cell_type": "code",
   "execution_count": 95,
   "metadata": {},
   "outputs": [
    {
     "data": {
      "text/plain": [
       "['square_feet', 'bedrooms', 'bathrooms']"
      ]
     },
     "execution_count": 95,
     "metadata": {},
     "output_type": "execute_result"
    }
   ],
   "source": [
    "# get list of top K features. \n",
    "f_feature = train_scaled.iloc[:,feature_mask].columns.tolist()\n",
    "\n",
    "f_feature"
   ]
  },
  {
   "cell_type": "markdown",
   "metadata": {},
   "source": [
    "### Recursive Feature Elimination"
   ]
  },
  {
   "cell_type": "code",
   "execution_count": 96,
   "metadata": {},
   "outputs": [],
   "source": [
    "from sklearn.linear_model import LinearRegression\n",
    "from sklearn.feature_selection import RFE"
   ]
  },
  {
   "cell_type": "code",
   "execution_count": 97,
   "metadata": {},
   "outputs": [],
   "source": [
    "# initialize the ML algorithm\n",
    "lm = LinearRegression()"
   ]
  },
  {
   "cell_type": "code",
   "execution_count": 98,
   "metadata": {},
   "outputs": [],
   "source": [
    "# create the rfe object, indicating the ML object (lm) and the number of features I want to end up with. \n",
    "rfe = RFE(lm, 3)"
   ]
  },
  {
   "cell_type": "code",
   "execution_count": 99,
   "metadata": {},
   "outputs": [
    {
     "data": {
      "text/plain": [
       "RFE(estimator=LinearRegression(), n_features_to_select=3)"
      ]
     },
     "execution_count": 99,
     "metadata": {},
     "output_type": "execute_result"
    }
   ],
   "source": [
    "# fit the data using RFE\n",
    "rfe.fit(train_scaled,y_train)  "
   ]
  },
  {
   "cell_type": "code",
   "execution_count": 100,
   "metadata": {},
   "outputs": [],
   "source": [
    "# get the mask of the columns selected\n",
    "feature_mask = rfe.support_"
   ]
  },
  {
   "cell_type": "code",
   "execution_count": 101,
   "metadata": {},
   "outputs": [
    {
     "data": {
      "text/plain": [
       "['square_feet', 'bedrooms', 'house_age']"
      ]
     },
     "execution_count": 101,
     "metadata": {},
     "output_type": "execute_result"
    }
   ],
   "source": [
    "# get list of the column names. \n",
    "rfe_feature = train_scaled.iloc[:,feature_mask].columns.tolist()\n",
    "\n",
    "rfe_feature"
   ]
  },
  {
   "cell_type": "code",
   "execution_count": 102,
   "metadata": {},
   "outputs": [
    {
     "data": {
      "text/html": [
       "<div>\n",
       "<style scoped>\n",
       "    .dataframe tbody tr th:only-of-type {\n",
       "        vertical-align: middle;\n",
       "    }\n",
       "\n",
       "    .dataframe tbody tr th {\n",
       "        vertical-align: top;\n",
       "    }\n",
       "\n",
       "    .dataframe thead th {\n",
       "        text-align: right;\n",
       "    }\n",
       "</style>\n",
       "<table border=\"1\" class=\"dataframe\">\n",
       "  <thead>\n",
       "    <tr style=\"text-align: right;\">\n",
       "      <th></th>\n",
       "      <th>Var</th>\n",
       "      <th>Rank</th>\n",
       "    </tr>\n",
       "  </thead>\n",
       "  <tbody>\n",
       "    <tr>\n",
       "      <th>0</th>\n",
       "      <td>square_feet</td>\n",
       "      <td>1</td>\n",
       "    </tr>\n",
       "    <tr>\n",
       "      <th>1</th>\n",
       "      <td>bedrooms</td>\n",
       "      <td>1</td>\n",
       "    </tr>\n",
       "    <tr>\n",
       "      <th>3</th>\n",
       "      <td>house_age</td>\n",
       "      <td>1</td>\n",
       "    </tr>\n",
       "    <tr>\n",
       "      <th>2</th>\n",
       "      <td>bathrooms</td>\n",
       "      <td>2</td>\n",
       "    </tr>\n",
       "  </tbody>\n",
       "</table>\n",
       "</div>"
      ],
      "text/plain": [
       "           Var  Rank\n",
       "0  square_feet     1\n",
       "1     bedrooms     1\n",
       "3    house_age     1\n",
       "2    bathrooms     2"
      ]
     },
     "execution_count": 102,
     "metadata": {},
     "output_type": "execute_result"
    }
   ],
   "source": [
    "# view list of columns and their ranking\n",
    "\n",
    "# get the ranks\n",
    "var_ranks = rfe.ranking_\n",
    "# get the variable names\n",
    "var_names = train_scaled.columns.tolist()\n",
    "# combine ranks and names into a df for clean viewing\n",
    "rfe_ranks_df = pd.DataFrame({'Var': var_names, 'Rank': var_ranks})\n",
    "# sort the df by rank\n",
    "rfe_ranks_df.sort_values('Rank')"
   ]
  },
  {
   "cell_type": "code",
   "execution_count": 103,
   "metadata": {},
   "outputs": [],
   "source": [
    "## bedrooms and bathrooms showed up on both SelectKBest and RFE"
   ]
  },
  {
   "cell_type": "code",
   "execution_count": 104,
   "metadata": {},
   "outputs": [],
   "source": [
    "## fips and lot size never showed up on either, they will be removed"
   ]
  },
  {
   "cell_type": "code",
   "execution_count": null,
   "metadata": {},
   "outputs": [],
   "source": []
  }
 ],
 "metadata": {
  "kernelspec": {
   "display_name": "Python 3",
   "language": "python",
   "name": "python3"
  },
  "language_info": {
   "codemirror_mode": {
    "name": "ipython",
    "version": 3
   },
   "file_extension": ".py",
   "mimetype": "text/x-python",
   "name": "python",
   "nbconvert_exporter": "python",
   "pygments_lexer": "ipython3",
   "version": "3.8.5"
  }
 },
 "nbformat": 4,
 "nbformat_minor": 4
}
