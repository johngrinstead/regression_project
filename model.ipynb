{
 "cells": [
  {
   "cell_type": "code",
   "execution_count": 1,
   "metadata": {},
   "outputs": [],
   "source": [
    "import pandas as pd\n",
    "import numpy as np\n",
    "import wrangle\n",
    "import matplotlib.pyplot as plt\n",
    "\n",
    "# modeling methods\n",
    "from sklearn.metrics import mean_squared_error\n",
    "from sklearn.linear_model import LinearRegression, LassoLars, TweedieRegressor\n",
    "from sklearn.preprocessing import PolynomialFeatures\n",
    "\n",
    "import warnings\n",
    "warnings.filterwarnings(\"ignore\")"
   ]
  },
  {
   "cell_type": "markdown",
   "metadata": {},
   "source": [
    "# Wrangle Data"
   ]
  },
  {
   "cell_type": "code",
   "execution_count": 2,
   "metadata": {},
   "outputs": [],
   "source": [
    "import wrangle\n",
    "\n",
    "from wrangle import wrangle_zillow\n",
    "from wrangle import split\n",
    "from wrangle import seperate_y\n",
    "from wrangle import scale_data"
   ]
  },
  {
   "cell_type": "markdown",
   "metadata": {},
   "source": [
    "### Acquire"
   ]
  },
  {
   "cell_type": "code",
   "execution_count": 3,
   "metadata": {},
   "outputs": [],
   "source": [
    "df = wrangle_zillow()"
   ]
  },
  {
   "cell_type": "code",
   "execution_count": 4,
   "metadata": {},
   "outputs": [
    {
     "data": {
      "text/html": [
       "<div>\n",
       "<style scoped>\n",
       "    .dataframe tbody tr th:only-of-type {\n",
       "        vertical-align: middle;\n",
       "    }\n",
       "\n",
       "    .dataframe tbody tr th {\n",
       "        vertical-align: top;\n",
       "    }\n",
       "\n",
       "    .dataframe thead th {\n",
       "        text-align: right;\n",
       "    }\n",
       "</style>\n",
       "<table border=\"1\" class=\"dataframe\">\n",
       "  <thead>\n",
       "    <tr style=\"text-align: right;\">\n",
       "      <th></th>\n",
       "      <th>square_feet</th>\n",
       "      <th>bedrooms</th>\n",
       "      <th>bathrooms</th>\n",
       "      <th>fips</th>\n",
       "      <th>lot_size</th>\n",
       "      <th>tax_value</th>\n",
       "      <th>house_age</th>\n",
       "    </tr>\n",
       "    <tr>\n",
       "      <th>parcelid</th>\n",
       "      <th></th>\n",
       "      <th></th>\n",
       "      <th></th>\n",
       "      <th></th>\n",
       "      <th></th>\n",
       "      <th></th>\n",
       "      <th></th>\n",
       "    </tr>\n",
       "  </thead>\n",
       "  <tbody>\n",
       "    <tr>\n",
       "      <th>12177905</th>\n",
       "      <td>2376.0</td>\n",
       "      <td>4</td>\n",
       "      <td>3</td>\n",
       "      <td>6037</td>\n",
       "      <td>13038.0</td>\n",
       "      <td>145143.0</td>\n",
       "      <td>51</td>\n",
       "    </tr>\n",
       "    <tr>\n",
       "      <th>12069064</th>\n",
       "      <td>738.0</td>\n",
       "      <td>2</td>\n",
       "      <td>1</td>\n",
       "      <td>6037</td>\n",
       "      <td>4214.0</td>\n",
       "      <td>218552.0</td>\n",
       "      <td>99</td>\n",
       "    </tr>\n",
       "    <tr>\n",
       "      <th>12790562</th>\n",
       "      <td>3039.0</td>\n",
       "      <td>4</td>\n",
       "      <td>3</td>\n",
       "      <td>6037</td>\n",
       "      <td>20028.0</td>\n",
       "      <td>220583.0</td>\n",
       "      <td>51</td>\n",
       "    </tr>\n",
       "    <tr>\n",
       "      <th>11104527</th>\n",
       "      <td>2540.0</td>\n",
       "      <td>4</td>\n",
       "      <td>3</td>\n",
       "      <td>6037</td>\n",
       "      <td>10384.0</td>\n",
       "      <td>430108.0</td>\n",
       "      <td>22</td>\n",
       "    </tr>\n",
       "    <tr>\n",
       "      <th>11830315</th>\n",
       "      <td>1146.0</td>\n",
       "      <td>2</td>\n",
       "      <td>1</td>\n",
       "      <td>6037</td>\n",
       "      <td>4657.0</td>\n",
       "      <td>273745.0</td>\n",
       "      <td>82</td>\n",
       "    </tr>\n",
       "  </tbody>\n",
       "</table>\n",
       "</div>"
      ],
      "text/plain": [
       "          square_feet  bedrooms  bathrooms  fips  lot_size  tax_value  \\\n",
       "parcelid                                                                \n",
       "12177905       2376.0         4          3  6037   13038.0   145143.0   \n",
       "12069064        738.0         2          1  6037    4214.0   218552.0   \n",
       "12790562       3039.0         4          3  6037   20028.0   220583.0   \n",
       "11104527       2540.0         4          3  6037   10384.0   430108.0   \n",
       "11830315       1146.0         2          1  6037    4657.0   273745.0   \n",
       "\n",
       "          house_age  \n",
       "parcelid             \n",
       "12177905         51  \n",
       "12069064         99  \n",
       "12790562         51  \n",
       "11104527         22  \n",
       "11830315         82  "
      ]
     },
     "execution_count": 4,
     "metadata": {},
     "output_type": "execute_result"
    }
   ],
   "source": [
    "df.head()"
   ]
  },
  {
   "cell_type": "code",
   "execution_count": 5,
   "metadata": {},
   "outputs": [
    {
     "data": {
      "text/plain": [
       "(44134, 7)"
      ]
     },
     "execution_count": 5,
     "metadata": {},
     "output_type": "execute_result"
    }
   ],
   "source": [
    "df.shape"
   ]
  },
  {
   "cell_type": "code",
   "execution_count": 6,
   "metadata": {},
   "outputs": [
    {
     "name": "stdout",
     "output_type": "stream",
     "text": [
      "<class 'pandas.core.frame.DataFrame'>\n",
      "Int64Index: 44134 entries, 12177905 to 13083743\n",
      "Data columns (total 7 columns):\n",
      " #   Column       Non-Null Count  Dtype  \n",
      "---  ------       --------------  -----  \n",
      " 0   square_feet  44134 non-null  float64\n",
      " 1   bedrooms     44134 non-null  int64  \n",
      " 2   bathrooms    44134 non-null  int64  \n",
      " 3   fips         44134 non-null  int64  \n",
      " 4   lot_size     44134 non-null  float64\n",
      " 5   tax_value    44134 non-null  float64\n",
      " 6   house_age    44134 non-null  int64  \n",
      "dtypes: float64(3), int64(4)\n",
      "memory usage: 2.7 MB\n"
     ]
    }
   ],
   "source": [
    "df.info()"
   ]
  },
  {
   "cell_type": "code",
   "execution_count": 7,
   "metadata": {},
   "outputs": [
    {
     "data": {
      "text/html": [
       "<div>\n",
       "<style scoped>\n",
       "    .dataframe tbody tr th:only-of-type {\n",
       "        vertical-align: middle;\n",
       "    }\n",
       "\n",
       "    .dataframe tbody tr th {\n",
       "        vertical-align: top;\n",
       "    }\n",
       "\n",
       "    .dataframe thead th {\n",
       "        text-align: right;\n",
       "    }\n",
       "</style>\n",
       "<table border=\"1\" class=\"dataframe\">\n",
       "  <thead>\n",
       "    <tr style=\"text-align: right;\">\n",
       "      <th></th>\n",
       "      <th>square_feet</th>\n",
       "      <th>bedrooms</th>\n",
       "      <th>bathrooms</th>\n",
       "      <th>fips</th>\n",
       "      <th>lot_size</th>\n",
       "      <th>tax_value</th>\n",
       "      <th>house_age</th>\n",
       "    </tr>\n",
       "  </thead>\n",
       "  <tbody>\n",
       "    <tr>\n",
       "      <th>count</th>\n",
       "      <td>44134.000000</td>\n",
       "      <td>44134.000000</td>\n",
       "      <td>44134.000000</td>\n",
       "      <td>44134.000000</td>\n",
       "      <td>44134.000000</td>\n",
       "      <td>4.413400e+04</td>\n",
       "      <td>44134.000000</td>\n",
       "    </tr>\n",
       "    <tr>\n",
       "      <th>mean</th>\n",
       "      <td>1660.511828</td>\n",
       "      <td>3.104862</td>\n",
       "      <td>2.087280</td>\n",
       "      <td>6044.832238</td>\n",
       "      <td>7567.313251</td>\n",
       "      <td>3.954958e+05</td>\n",
       "      <td>58.775389</td>\n",
       "    </tr>\n",
       "    <tr>\n",
       "      <th>std</th>\n",
       "      <td>619.006780</td>\n",
       "      <td>0.881571</td>\n",
       "      <td>0.778361</td>\n",
       "      <td>18.275731</td>\n",
       "      <td>3860.952216</td>\n",
       "      <td>2.897003e+05</td>\n",
       "      <td>22.692376</td>\n",
       "    </tr>\n",
       "    <tr>\n",
       "      <th>min</th>\n",
       "      <td>152.000000</td>\n",
       "      <td>1.000000</td>\n",
       "      <td>1.000000</td>\n",
       "      <td>6037.000000</td>\n",
       "      <td>236.000000</td>\n",
       "      <td>3.254000e+03</td>\n",
       "      <td>5.000000</td>\n",
       "    </tr>\n",
       "    <tr>\n",
       "      <th>25%</th>\n",
       "      <td>1204.000000</td>\n",
       "      <td>3.000000</td>\n",
       "      <td>2.000000</td>\n",
       "      <td>6037.000000</td>\n",
       "      <td>5442.250000</td>\n",
       "      <td>1.803428e+05</td>\n",
       "      <td>42.000000</td>\n",
       "    </tr>\n",
       "    <tr>\n",
       "      <th>50%</th>\n",
       "      <td>1534.000000</td>\n",
       "      <td>3.000000</td>\n",
       "      <td>2.000000</td>\n",
       "      <td>6037.000000</td>\n",
       "      <td>6708.500000</td>\n",
       "      <td>3.372200e+05</td>\n",
       "      <td>62.000000</td>\n",
       "    </tr>\n",
       "    <tr>\n",
       "      <th>75%</th>\n",
       "      <td>2019.000000</td>\n",
       "      <td>4.000000</td>\n",
       "      <td>3.000000</td>\n",
       "      <td>6037.000000</td>\n",
       "      <td>8374.750000</td>\n",
       "      <td>5.327890e+05</td>\n",
       "      <td>71.000000</td>\n",
       "    </tr>\n",
       "    <tr>\n",
       "      <th>max</th>\n",
       "      <td>3499.000000</td>\n",
       "      <td>9.000000</td>\n",
       "      <td>7.000000</td>\n",
       "      <td>6111.000000</td>\n",
       "      <td>23772.000000</td>\n",
       "      <td>1.679968e+06</td>\n",
       "      <td>143.000000</td>\n",
       "    </tr>\n",
       "  </tbody>\n",
       "</table>\n",
       "</div>"
      ],
      "text/plain": [
       "        square_feet      bedrooms     bathrooms          fips      lot_size  \\\n",
       "count  44134.000000  44134.000000  44134.000000  44134.000000  44134.000000   \n",
       "mean    1660.511828      3.104862      2.087280   6044.832238   7567.313251   \n",
       "std      619.006780      0.881571      0.778361     18.275731   3860.952216   \n",
       "min      152.000000      1.000000      1.000000   6037.000000    236.000000   \n",
       "25%     1204.000000      3.000000      2.000000   6037.000000   5442.250000   \n",
       "50%     1534.000000      3.000000      2.000000   6037.000000   6708.500000   \n",
       "75%     2019.000000      4.000000      3.000000   6037.000000   8374.750000   \n",
       "max     3499.000000      9.000000      7.000000   6111.000000  23772.000000   \n",
       "\n",
       "          tax_value     house_age  \n",
       "count  4.413400e+04  44134.000000  \n",
       "mean   3.954958e+05     58.775389  \n",
       "std    2.897003e+05     22.692376  \n",
       "min    3.254000e+03      5.000000  \n",
       "25%    1.803428e+05     42.000000  \n",
       "50%    3.372200e+05     62.000000  \n",
       "75%    5.327890e+05     71.000000  \n",
       "max    1.679968e+06    143.000000  "
      ]
     },
     "execution_count": 7,
     "metadata": {},
     "output_type": "execute_result"
    }
   ],
   "source": [
    "df.describe()"
   ]
  },
  {
   "cell_type": "markdown",
   "metadata": {},
   "source": [
    "### Split"
   ]
  },
  {
   "cell_type": "code",
   "execution_count": 8,
   "metadata": {},
   "outputs": [],
   "source": [
    "train, validate, test = split(df)"
   ]
  },
  {
   "cell_type": "code",
   "execution_count": 9,
   "metadata": {},
   "outputs": [
    {
     "data": {
      "text/html": [
       "<div>\n",
       "<style scoped>\n",
       "    .dataframe tbody tr th:only-of-type {\n",
       "        vertical-align: middle;\n",
       "    }\n",
       "\n",
       "    .dataframe tbody tr th {\n",
       "        vertical-align: top;\n",
       "    }\n",
       "\n",
       "    .dataframe thead th {\n",
       "        text-align: right;\n",
       "    }\n",
       "</style>\n",
       "<table border=\"1\" class=\"dataframe\">\n",
       "  <thead>\n",
       "    <tr style=\"text-align: right;\">\n",
       "      <th></th>\n",
       "      <th>square_feet</th>\n",
       "      <th>bedrooms</th>\n",
       "      <th>bathrooms</th>\n",
       "      <th>fips</th>\n",
       "      <th>lot_size</th>\n",
       "      <th>tax_value</th>\n",
       "      <th>house_age</th>\n",
       "    </tr>\n",
       "    <tr>\n",
       "      <th>parcelid</th>\n",
       "      <th></th>\n",
       "      <th></th>\n",
       "      <th></th>\n",
       "      <th></th>\n",
       "      <th></th>\n",
       "      <th></th>\n",
       "      <th></th>\n",
       "    </tr>\n",
       "  </thead>\n",
       "  <tbody>\n",
       "    <tr>\n",
       "      <th>17149884</th>\n",
       "      <td>1913.0</td>\n",
       "      <td>4</td>\n",
       "      <td>2</td>\n",
       "      <td>6111</td>\n",
       "      <td>6418.0</td>\n",
       "      <td>479808.0</td>\n",
       "      <td>39</td>\n",
       "    </tr>\n",
       "    <tr>\n",
       "      <th>17254400</th>\n",
       "      <td>1509.0</td>\n",
       "      <td>3</td>\n",
       "      <td>2</td>\n",
       "      <td>6111</td>\n",
       "      <td>7778.0</td>\n",
       "      <td>461938.0</td>\n",
       "      <td>60</td>\n",
       "    </tr>\n",
       "    <tr>\n",
       "      <th>11183212</th>\n",
       "      <td>2202.0</td>\n",
       "      <td>4</td>\n",
       "      <td>3</td>\n",
       "      <td>6037</td>\n",
       "      <td>22099.0</td>\n",
       "      <td>211036.0</td>\n",
       "      <td>32</td>\n",
       "    </tr>\n",
       "    <tr>\n",
       "      <th>14237595</th>\n",
       "      <td>1314.0</td>\n",
       "      <td>4</td>\n",
       "      <td>2</td>\n",
       "      <td>6059</td>\n",
       "      <td>6025.0</td>\n",
       "      <td>54850.0</td>\n",
       "      <td>62</td>\n",
       "    </tr>\n",
       "    <tr>\n",
       "      <th>11270155</th>\n",
       "      <td>2130.0</td>\n",
       "      <td>3</td>\n",
       "      <td>3</td>\n",
       "      <td>6037</td>\n",
       "      <td>6927.0</td>\n",
       "      <td>277000.0</td>\n",
       "      <td>33</td>\n",
       "    </tr>\n",
       "  </tbody>\n",
       "</table>\n",
       "</div>"
      ],
      "text/plain": [
       "          square_feet  bedrooms  bathrooms  fips  lot_size  tax_value  \\\n",
       "parcelid                                                                \n",
       "17149884       1913.0         4          2  6111    6418.0   479808.0   \n",
       "17254400       1509.0         3          2  6111    7778.0   461938.0   \n",
       "11183212       2202.0         4          3  6037   22099.0   211036.0   \n",
       "14237595       1314.0         4          2  6059    6025.0    54850.0   \n",
       "11270155       2130.0         3          3  6037    6927.0   277000.0   \n",
       "\n",
       "          house_age  \n",
       "parcelid             \n",
       "17149884         39  \n",
       "17254400         60  \n",
       "11183212         32  \n",
       "14237595         62  \n",
       "11270155         33  "
      ]
     },
     "execution_count": 9,
     "metadata": {},
     "output_type": "execute_result"
    }
   ],
   "source": [
    "train.head()"
   ]
  },
  {
   "cell_type": "code",
   "execution_count": 10,
   "metadata": {},
   "outputs": [
    {
     "data": {
      "text/plain": [
       "(24714, 7)"
      ]
     },
     "execution_count": 10,
     "metadata": {},
     "output_type": "execute_result"
    }
   ],
   "source": [
    "train.shape"
   ]
  },
  {
   "cell_type": "code",
   "execution_count": 11,
   "metadata": {},
   "outputs": [
    {
     "data": {
      "text/plain": [
       "(10593, 7)"
      ]
     },
     "execution_count": 11,
     "metadata": {},
     "output_type": "execute_result"
    }
   ],
   "source": [
    "validate.shape"
   ]
  },
  {
   "cell_type": "code",
   "execution_count": 12,
   "metadata": {},
   "outputs": [
    {
     "data": {
      "text/plain": [
       "(8827, 7)"
      ]
     },
     "execution_count": 12,
     "metadata": {},
     "output_type": "execute_result"
    }
   ],
   "source": [
    "test.shape"
   ]
  },
  {
   "cell_type": "markdown",
   "metadata": {},
   "source": [
    "### Seperate Target "
   ]
  },
  {
   "cell_type": "code",
   "execution_count": 13,
   "metadata": {},
   "outputs": [],
   "source": [
    "X_train, y_train, X_validate, y_validate, X_test, y_test = seperate_y(train, validate, test)"
   ]
  },
  {
   "cell_type": "code",
   "execution_count": 14,
   "metadata": {},
   "outputs": [
    {
     "data": {
      "text/plain": [
       "(24714, 6)"
      ]
     },
     "execution_count": 14,
     "metadata": {},
     "output_type": "execute_result"
    }
   ],
   "source": [
    "X_train.shape"
   ]
  },
  {
   "cell_type": "code",
   "execution_count": 15,
   "metadata": {},
   "outputs": [
    {
     "data": {
      "text/plain": [
       "(24714,)"
      ]
     },
     "execution_count": 15,
     "metadata": {},
     "output_type": "execute_result"
    }
   ],
   "source": [
    "y_train.shape"
   ]
  },
  {
   "cell_type": "code",
   "execution_count": 16,
   "metadata": {},
   "outputs": [
    {
     "data": {
      "text/plain": [
       "(10593, 6)"
      ]
     },
     "execution_count": 16,
     "metadata": {},
     "output_type": "execute_result"
    }
   ],
   "source": [
    "X_validate.shape"
   ]
  },
  {
   "cell_type": "code",
   "execution_count": 17,
   "metadata": {},
   "outputs": [
    {
     "data": {
      "text/plain": [
       "(10593,)"
      ]
     },
     "execution_count": 17,
     "metadata": {},
     "output_type": "execute_result"
    }
   ],
   "source": [
    "y_validate.shape"
   ]
  },
  {
   "cell_type": "code",
   "execution_count": 18,
   "metadata": {},
   "outputs": [
    {
     "data": {
      "text/plain": [
       "(8827, 6)"
      ]
     },
     "execution_count": 18,
     "metadata": {},
     "output_type": "execute_result"
    }
   ],
   "source": [
    "X_test.shape"
   ]
  },
  {
   "cell_type": "code",
   "execution_count": 19,
   "metadata": {},
   "outputs": [
    {
     "data": {
      "text/plain": [
       "(8827,)"
      ]
     },
     "execution_count": 19,
     "metadata": {},
     "output_type": "execute_result"
    }
   ],
   "source": [
    "y_test.shape"
   ]
  },
  {
   "cell_type": "markdown",
   "metadata": {},
   "source": [
    "### Scale data"
   ]
  },
  {
   "cell_type": "code",
   "execution_count": 20,
   "metadata": {},
   "outputs": [],
   "source": [
    "train_scaled, validate_scaled, test_scaled = scale_data(X_train, X_validate, X_test)"
   ]
  },
  {
   "cell_type": "code",
   "execution_count": 21,
   "metadata": {},
   "outputs": [
    {
     "data": {
      "text/html": [
       "<div>\n",
       "<style scoped>\n",
       "    .dataframe tbody tr th:only-of-type {\n",
       "        vertical-align: middle;\n",
       "    }\n",
       "\n",
       "    .dataframe tbody tr th {\n",
       "        vertical-align: top;\n",
       "    }\n",
       "\n",
       "    .dataframe thead th {\n",
       "        text-align: right;\n",
       "    }\n",
       "</style>\n",
       "<table border=\"1\" class=\"dataframe\">\n",
       "  <thead>\n",
       "    <tr style=\"text-align: right;\">\n",
       "      <th></th>\n",
       "      <th>square_feet</th>\n",
       "      <th>bedrooms</th>\n",
       "      <th>bathrooms</th>\n",
       "      <th>fips</th>\n",
       "      <th>lot_size</th>\n",
       "      <th>house_age</th>\n",
       "    </tr>\n",
       "    <tr>\n",
       "      <th>parcelid</th>\n",
       "      <th></th>\n",
       "      <th></th>\n",
       "      <th></th>\n",
       "      <th></th>\n",
       "      <th></th>\n",
       "      <th></th>\n",
       "    </tr>\n",
       "  </thead>\n",
       "  <tbody>\n",
       "    <tr>\n",
       "      <th>17149884</th>\n",
       "      <td>1913.0</td>\n",
       "      <td>4</td>\n",
       "      <td>2</td>\n",
       "      <td>6111</td>\n",
       "      <td>6418.0</td>\n",
       "      <td>39</td>\n",
       "    </tr>\n",
       "    <tr>\n",
       "      <th>17254400</th>\n",
       "      <td>1509.0</td>\n",
       "      <td>3</td>\n",
       "      <td>2</td>\n",
       "      <td>6111</td>\n",
       "      <td>7778.0</td>\n",
       "      <td>60</td>\n",
       "    </tr>\n",
       "    <tr>\n",
       "      <th>11183212</th>\n",
       "      <td>2202.0</td>\n",
       "      <td>4</td>\n",
       "      <td>3</td>\n",
       "      <td>6037</td>\n",
       "      <td>22099.0</td>\n",
       "      <td>32</td>\n",
       "    </tr>\n",
       "    <tr>\n",
       "      <th>14237595</th>\n",
       "      <td>1314.0</td>\n",
       "      <td>4</td>\n",
       "      <td>2</td>\n",
       "      <td>6059</td>\n",
       "      <td>6025.0</td>\n",
       "      <td>62</td>\n",
       "    </tr>\n",
       "    <tr>\n",
       "      <th>11270155</th>\n",
       "      <td>2130.0</td>\n",
       "      <td>3</td>\n",
       "      <td>3</td>\n",
       "      <td>6037</td>\n",
       "      <td>6927.0</td>\n",
       "      <td>33</td>\n",
       "    </tr>\n",
       "  </tbody>\n",
       "</table>\n",
       "</div>"
      ],
      "text/plain": [
       "          square_feet  bedrooms  bathrooms  fips  lot_size  house_age\n",
       "parcelid                                                             \n",
       "17149884       1913.0         4          2  6111    6418.0         39\n",
       "17254400       1509.0         3          2  6111    7778.0         60\n",
       "11183212       2202.0         4          3  6037   22099.0         32\n",
       "14237595       1314.0         4          2  6059    6025.0         62\n",
       "11270155       2130.0         3          3  6037    6927.0         33"
      ]
     },
     "execution_count": 21,
     "metadata": {},
     "output_type": "execute_result"
    }
   ],
   "source": [
    "X_train.head()"
   ]
  },
  {
   "cell_type": "code",
   "execution_count": 22,
   "metadata": {},
   "outputs": [
    {
     "data": {
      "text/html": [
       "<div>\n",
       "<style scoped>\n",
       "    .dataframe tbody tr th:only-of-type {\n",
       "        vertical-align: middle;\n",
       "    }\n",
       "\n",
       "    .dataframe tbody tr th {\n",
       "        vertical-align: top;\n",
       "    }\n",
       "\n",
       "    .dataframe thead th {\n",
       "        text-align: right;\n",
       "    }\n",
       "</style>\n",
       "<table border=\"1\" class=\"dataframe\">\n",
       "  <thead>\n",
       "    <tr style=\"text-align: right;\">\n",
       "      <th></th>\n",
       "      <th>square_feet</th>\n",
       "      <th>bedrooms</th>\n",
       "      <th>bathrooms</th>\n",
       "      <th>fips</th>\n",
       "      <th>lot_size</th>\n",
       "      <th>house_age</th>\n",
       "    </tr>\n",
       "  </thead>\n",
       "  <tbody>\n",
       "    <tr>\n",
       "      <th>0</th>\n",
       "      <td>0.526143</td>\n",
       "      <td>0.375</td>\n",
       "      <td>0.166667</td>\n",
       "      <td>1.000000</td>\n",
       "      <td>0.262661</td>\n",
       "      <td>0.259542</td>\n",
       "    </tr>\n",
       "    <tr>\n",
       "      <th>1</th>\n",
       "      <td>0.405438</td>\n",
       "      <td>0.250</td>\n",
       "      <td>0.166667</td>\n",
       "      <td>1.000000</td>\n",
       "      <td>0.320445</td>\n",
       "      <td>0.419847</td>\n",
       "    </tr>\n",
       "    <tr>\n",
       "      <th>2</th>\n",
       "      <td>0.612489</td>\n",
       "      <td>0.375</td>\n",
       "      <td>0.333333</td>\n",
       "      <td>0.000000</td>\n",
       "      <td>0.928917</td>\n",
       "      <td>0.206107</td>\n",
       "    </tr>\n",
       "    <tr>\n",
       "      <th>3</th>\n",
       "      <td>0.347177</td>\n",
       "      <td>0.375</td>\n",
       "      <td>0.166667</td>\n",
       "      <td>0.297297</td>\n",
       "      <td>0.245964</td>\n",
       "      <td>0.435115</td>\n",
       "    </tr>\n",
       "    <tr>\n",
       "      <th>4</th>\n",
       "      <td>0.590977</td>\n",
       "      <td>0.250</td>\n",
       "      <td>0.333333</td>\n",
       "      <td>0.000000</td>\n",
       "      <td>0.284288</td>\n",
       "      <td>0.213740</td>\n",
       "    </tr>\n",
       "  </tbody>\n",
       "</table>\n",
       "</div>"
      ],
      "text/plain": [
       "   square_feet  bedrooms  bathrooms      fips  lot_size  house_age\n",
       "0     0.526143     0.375   0.166667  1.000000  0.262661   0.259542\n",
       "1     0.405438     0.250   0.166667  1.000000  0.320445   0.419847\n",
       "2     0.612489     0.375   0.333333  0.000000  0.928917   0.206107\n",
       "3     0.347177     0.375   0.166667  0.297297  0.245964   0.435115\n",
       "4     0.590977     0.250   0.333333  0.000000  0.284288   0.213740"
      ]
     },
     "execution_count": 22,
     "metadata": {},
     "output_type": "execute_result"
    }
   ],
   "source": [
    "train_scaled.head()"
   ]
  },
  {
   "cell_type": "code",
   "execution_count": 23,
   "metadata": {},
   "outputs": [
    {
     "data": {
      "text/html": [
       "<div>\n",
       "<style scoped>\n",
       "    .dataframe tbody tr th:only-of-type {\n",
       "        vertical-align: middle;\n",
       "    }\n",
       "\n",
       "    .dataframe tbody tr th {\n",
       "        vertical-align: top;\n",
       "    }\n",
       "\n",
       "    .dataframe thead th {\n",
       "        text-align: right;\n",
       "    }\n",
       "</style>\n",
       "<table border=\"1\" class=\"dataframe\">\n",
       "  <thead>\n",
       "    <tr style=\"text-align: right;\">\n",
       "      <th></th>\n",
       "      <th>square_feet</th>\n",
       "      <th>bedrooms</th>\n",
       "      <th>bathrooms</th>\n",
       "      <th>fips</th>\n",
       "      <th>lot_size</th>\n",
       "      <th>house_age</th>\n",
       "    </tr>\n",
       "    <tr>\n",
       "      <th>parcelid</th>\n",
       "      <th></th>\n",
       "      <th></th>\n",
       "      <th></th>\n",
       "      <th></th>\n",
       "      <th></th>\n",
       "      <th></th>\n",
       "    </tr>\n",
       "  </thead>\n",
       "  <tbody>\n",
       "    <tr>\n",
       "      <th>14388104</th>\n",
       "      <td>2394.0</td>\n",
       "      <td>3</td>\n",
       "      <td>2</td>\n",
       "      <td>6059</td>\n",
       "      <td>8800.0</td>\n",
       "      <td>37</td>\n",
       "    </tr>\n",
       "    <tr>\n",
       "      <th>11308022</th>\n",
       "      <td>3209.0</td>\n",
       "      <td>5</td>\n",
       "      <td>3</td>\n",
       "      <td>6037</td>\n",
       "      <td>7208.0</td>\n",
       "      <td>15</td>\n",
       "    </tr>\n",
       "    <tr>\n",
       "      <th>10778757</th>\n",
       "      <td>1525.0</td>\n",
       "      <td>3</td>\n",
       "      <td>2</td>\n",
       "      <td>6037</td>\n",
       "      <td>5812.0</td>\n",
       "      <td>65</td>\n",
       "    </tr>\n",
       "    <tr>\n",
       "      <th>11008335</th>\n",
       "      <td>2051.0</td>\n",
       "      <td>3</td>\n",
       "      <td>3</td>\n",
       "      <td>6037</td>\n",
       "      <td>16993.0</td>\n",
       "      <td>34</td>\n",
       "    </tr>\n",
       "    <tr>\n",
       "      <th>14201151</th>\n",
       "      <td>2453.0</td>\n",
       "      <td>5</td>\n",
       "      <td>3</td>\n",
       "      <td>6059</td>\n",
       "      <td>5720.0</td>\n",
       "      <td>22</td>\n",
       "    </tr>\n",
       "  </tbody>\n",
       "</table>\n",
       "</div>"
      ],
      "text/plain": [
       "          square_feet  bedrooms  bathrooms  fips  lot_size  house_age\n",
       "parcelid                                                             \n",
       "14388104       2394.0         3          2  6059    8800.0         37\n",
       "11308022       3209.0         5          3  6037    7208.0         15\n",
       "10778757       1525.0         3          2  6037    5812.0         65\n",
       "11008335       2051.0         3          3  6037   16993.0         34\n",
       "14201151       2453.0         5          3  6059    5720.0         22"
      ]
     },
     "execution_count": 23,
     "metadata": {},
     "output_type": "execute_result"
    }
   ],
   "source": [
    "X_validate.head()"
   ]
  },
  {
   "cell_type": "code",
   "execution_count": 24,
   "metadata": {},
   "outputs": [
    {
     "data": {
      "text/html": [
       "<div>\n",
       "<style scoped>\n",
       "    .dataframe tbody tr th:only-of-type {\n",
       "        vertical-align: middle;\n",
       "    }\n",
       "\n",
       "    .dataframe tbody tr th {\n",
       "        vertical-align: top;\n",
       "    }\n",
       "\n",
       "    .dataframe thead th {\n",
       "        text-align: right;\n",
       "    }\n",
       "</style>\n",
       "<table border=\"1\" class=\"dataframe\">\n",
       "  <thead>\n",
       "    <tr style=\"text-align: right;\">\n",
       "      <th></th>\n",
       "      <th>square_feet</th>\n",
       "      <th>bedrooms</th>\n",
       "      <th>bathrooms</th>\n",
       "      <th>fips</th>\n",
       "      <th>lot_size</th>\n",
       "      <th>house_age</th>\n",
       "    </tr>\n",
       "  </thead>\n",
       "  <tbody>\n",
       "    <tr>\n",
       "      <th>0</th>\n",
       "      <td>0.669854</td>\n",
       "      <td>0.25</td>\n",
       "      <td>0.166667</td>\n",
       "      <td>0.297297</td>\n",
       "      <td>0.363868</td>\n",
       "      <td>0.244275</td>\n",
       "    </tr>\n",
       "    <tr>\n",
       "      <th>1</th>\n",
       "      <td>0.913355</td>\n",
       "      <td>0.50</td>\n",
       "      <td>0.333333</td>\n",
       "      <td>0.000000</td>\n",
       "      <td>0.296227</td>\n",
       "      <td>0.076336</td>\n",
       "    </tr>\n",
       "    <tr>\n",
       "      <th>2</th>\n",
       "      <td>0.410218</td>\n",
       "      <td>0.25</td>\n",
       "      <td>0.166667</td>\n",
       "      <td>0.000000</td>\n",
       "      <td>0.236914</td>\n",
       "      <td>0.458015</td>\n",
       "    </tr>\n",
       "    <tr>\n",
       "      <th>3</th>\n",
       "      <td>0.567374</td>\n",
       "      <td>0.25</td>\n",
       "      <td>0.333333</td>\n",
       "      <td>0.000000</td>\n",
       "      <td>0.711973</td>\n",
       "      <td>0.221374</td>\n",
       "    </tr>\n",
       "    <tr>\n",
       "      <th>4</th>\n",
       "      <td>0.687481</td>\n",
       "      <td>0.50</td>\n",
       "      <td>0.333333</td>\n",
       "      <td>0.297297</td>\n",
       "      <td>0.233005</td>\n",
       "      <td>0.129771</td>\n",
       "    </tr>\n",
       "  </tbody>\n",
       "</table>\n",
       "</div>"
      ],
      "text/plain": [
       "   square_feet  bedrooms  bathrooms      fips  lot_size  house_age\n",
       "0     0.669854      0.25   0.166667  0.297297  0.363868   0.244275\n",
       "1     0.913355      0.50   0.333333  0.000000  0.296227   0.076336\n",
       "2     0.410218      0.25   0.166667  0.000000  0.236914   0.458015\n",
       "3     0.567374      0.25   0.333333  0.000000  0.711973   0.221374\n",
       "4     0.687481      0.50   0.333333  0.297297  0.233005   0.129771"
      ]
     },
     "execution_count": 24,
     "metadata": {},
     "output_type": "execute_result"
    }
   ],
   "source": [
    "validate_scaled.head()"
   ]
  },
  {
   "cell_type": "code",
   "execution_count": 25,
   "metadata": {},
   "outputs": [
    {
     "data": {
      "text/html": [
       "<div>\n",
       "<style scoped>\n",
       "    .dataframe tbody tr th:only-of-type {\n",
       "        vertical-align: middle;\n",
       "    }\n",
       "\n",
       "    .dataframe tbody tr th {\n",
       "        vertical-align: top;\n",
       "    }\n",
       "\n",
       "    .dataframe thead th {\n",
       "        text-align: right;\n",
       "    }\n",
       "</style>\n",
       "<table border=\"1\" class=\"dataframe\">\n",
       "  <thead>\n",
       "    <tr style=\"text-align: right;\">\n",
       "      <th></th>\n",
       "      <th>square_feet</th>\n",
       "      <th>bedrooms</th>\n",
       "      <th>bathrooms</th>\n",
       "      <th>fips</th>\n",
       "      <th>lot_size</th>\n",
       "      <th>house_age</th>\n",
       "    </tr>\n",
       "    <tr>\n",
       "      <th>parcelid</th>\n",
       "      <th></th>\n",
       "      <th></th>\n",
       "      <th></th>\n",
       "      <th></th>\n",
       "      <th></th>\n",
       "      <th></th>\n",
       "    </tr>\n",
       "  </thead>\n",
       "  <tbody>\n",
       "    <tr>\n",
       "      <th>17238290</th>\n",
       "      <td>1244.0</td>\n",
       "      <td>3</td>\n",
       "      <td>2</td>\n",
       "      <td>6111</td>\n",
       "      <td>8700.0</td>\n",
       "      <td>60</td>\n",
       "    </tr>\n",
       "    <tr>\n",
       "      <th>12265597</th>\n",
       "      <td>1460.0</td>\n",
       "      <td>3</td>\n",
       "      <td>1</td>\n",
       "      <td>6037</td>\n",
       "      <td>5125.0</td>\n",
       "      <td>69</td>\n",
       "    </tr>\n",
       "    <tr>\n",
       "      <th>11312364</th>\n",
       "      <td>1420.0</td>\n",
       "      <td>3</td>\n",
       "      <td>2</td>\n",
       "      <td>6037</td>\n",
       "      <td>8938.0</td>\n",
       "      <td>29</td>\n",
       "    </tr>\n",
       "    <tr>\n",
       "      <th>13000409</th>\n",
       "      <td>1192.0</td>\n",
       "      <td>3</td>\n",
       "      <td>2</td>\n",
       "      <td>6037</td>\n",
       "      <td>5270.0</td>\n",
       "      <td>67</td>\n",
       "    </tr>\n",
       "    <tr>\n",
       "      <th>12267495</th>\n",
       "      <td>1120.0</td>\n",
       "      <td>2</td>\n",
       "      <td>1</td>\n",
       "      <td>6037</td>\n",
       "      <td>6003.0</td>\n",
       "      <td>74</td>\n",
       "    </tr>\n",
       "  </tbody>\n",
       "</table>\n",
       "</div>"
      ],
      "text/plain": [
       "          square_feet  bedrooms  bathrooms  fips  lot_size  house_age\n",
       "parcelid                                                             \n",
       "17238290       1244.0         3          2  6111    8700.0         60\n",
       "12265597       1460.0         3          1  6037    5125.0         69\n",
       "11312364       1420.0         3          2  6037    8938.0         29\n",
       "13000409       1192.0         3          2  6037    5270.0         67\n",
       "12267495       1120.0         2          1  6037    6003.0         74"
      ]
     },
     "execution_count": 25,
     "metadata": {},
     "output_type": "execute_result"
    }
   ],
   "source": [
    "X_test.head()"
   ]
  },
  {
   "cell_type": "code",
   "execution_count": 26,
   "metadata": {},
   "outputs": [
    {
     "data": {
      "text/html": [
       "<div>\n",
       "<style scoped>\n",
       "    .dataframe tbody tr th:only-of-type {\n",
       "        vertical-align: middle;\n",
       "    }\n",
       "\n",
       "    .dataframe tbody tr th {\n",
       "        vertical-align: top;\n",
       "    }\n",
       "\n",
       "    .dataframe thead th {\n",
       "        text-align: right;\n",
       "    }\n",
       "</style>\n",
       "<table border=\"1\" class=\"dataframe\">\n",
       "  <thead>\n",
       "    <tr style=\"text-align: right;\">\n",
       "      <th></th>\n",
       "      <th>square_feet</th>\n",
       "      <th>bedrooms</th>\n",
       "      <th>bathrooms</th>\n",
       "      <th>fips</th>\n",
       "      <th>lot_size</th>\n",
       "      <th>house_age</th>\n",
       "    </tr>\n",
       "  </thead>\n",
       "  <tbody>\n",
       "    <tr>\n",
       "      <th>0</th>\n",
       "      <td>0.326262</td>\n",
       "      <td>0.250</td>\n",
       "      <td>0.166667</td>\n",
       "      <td>1.0</td>\n",
       "      <td>0.359619</td>\n",
       "      <td>0.419847</td>\n",
       "    </tr>\n",
       "    <tr>\n",
       "      <th>1</th>\n",
       "      <td>0.390798</td>\n",
       "      <td>0.250</td>\n",
       "      <td>0.000000</td>\n",
       "      <td>0.0</td>\n",
       "      <td>0.207724</td>\n",
       "      <td>0.488550</td>\n",
       "    </tr>\n",
       "    <tr>\n",
       "      <th>2</th>\n",
       "      <td>0.378847</td>\n",
       "      <td>0.250</td>\n",
       "      <td>0.166667</td>\n",
       "      <td>0.0</td>\n",
       "      <td>0.369731</td>\n",
       "      <td>0.183206</td>\n",
       "    </tr>\n",
       "    <tr>\n",
       "      <th>3</th>\n",
       "      <td>0.310726</td>\n",
       "      <td>0.250</td>\n",
       "      <td>0.166667</td>\n",
       "      <td>0.0</td>\n",
       "      <td>0.213885</td>\n",
       "      <td>0.473282</td>\n",
       "    </tr>\n",
       "    <tr>\n",
       "      <th>4</th>\n",
       "      <td>0.289214</td>\n",
       "      <td>0.125</td>\n",
       "      <td>0.000000</td>\n",
       "      <td>0.0</td>\n",
       "      <td>0.245029</td>\n",
       "      <td>0.526718</td>\n",
       "    </tr>\n",
       "  </tbody>\n",
       "</table>\n",
       "</div>"
      ],
      "text/plain": [
       "   square_feet  bedrooms  bathrooms  fips  lot_size  house_age\n",
       "0     0.326262     0.250   0.166667   1.0  0.359619   0.419847\n",
       "1     0.390798     0.250   0.000000   0.0  0.207724   0.488550\n",
       "2     0.378847     0.250   0.166667   0.0  0.369731   0.183206\n",
       "3     0.310726     0.250   0.166667   0.0  0.213885   0.473282\n",
       "4     0.289214     0.125   0.000000   0.0  0.245029   0.526718"
      ]
     },
     "execution_count": 26,
     "metadata": {},
     "output_type": "execute_result"
    }
   ],
   "source": [
    "test_scaled.head()"
   ]
  },
  {
   "cell_type": "markdown",
   "metadata": {},
   "source": [
    "## Target Distribution"
   ]
  },
  {
   "cell_type": "code",
   "execution_count": 27,
   "metadata": {},
   "outputs": [
    {
     "data": {
      "image/png": "[encoded data removed]",
      "text/plain": [
       "<Figure size 432x288 with 1 Axes>"
      ]
     },
     "metadata": {
      "needs_background": "light"
     },
     "output_type": "display_data"
    }
   ],
   "source": [
    "plt.hist(y_train)\n",
    "plt.xlabel(\"Tax Value\")\n",
    "plt.ylabel(\"Number of Homes\")\n",
    "plt.show()"
   ]
  },
  {
   "cell_type": "markdown",
   "metadata": {},
   "source": [
    "# Baseline"
   ]
  },
  {
   "cell_type": "code",
   "execution_count": 28,
   "metadata": {},
   "outputs": [],
   "source": [
    "# We need y_train and y_validate to be dataframes to append the new columns with predicted values. \n",
    "y_train = pd.DataFrame(y_train)\n",
    "y_validate = pd.DataFrame(y_validate)"
   ]
  },
  {
   "cell_type": "code",
   "execution_count": 29,
   "metadata": {},
   "outputs": [],
   "source": [
    "# 1. Predict tax_pred_mean\n",
    "tax_pred_mean = y_train['tax_value'].mean()\n",
    "y_train['tax_pred_mean'] = tax_pred_mean\n",
    "y_validate['tax_pred_mean'] = tax_pred_mean"
   ]
  },
  {
   "cell_type": "code",
   "execution_count": 30,
   "metadata": {},
   "outputs": [
    {
     "data": {
      "text/plain": [
       "394161.5018208303"
      ]
     },
     "execution_count": 30,
     "metadata": {},
     "output_type": "execute_result"
    }
   ],
   "source": [
    "tax_pred_mean"
   ]
  },
  {
   "cell_type": "code",
   "execution_count": 31,
   "metadata": {},
   "outputs": [],
   "source": [
    "# 2. compute tax_pred_median\n",
    "tax_pred_median = y_train['tax_value'].median()\n",
    "y_train['tax_pred_median'] = tax_pred_median\n",
    "y_validate['tax_pred_median'] = tax_pred_median"
   ]
  },
  {
   "cell_type": "code",
   "execution_count": 32,
   "metadata": {},
   "outputs": [
    {
     "data": {
      "text/plain": [
       "338000.0"
      ]
     },
     "execution_count": 32,
     "metadata": {},
     "output_type": "execute_result"
    }
   ],
   "source": [
    "tax_pred_median"
   ]
  },
  {
   "cell_type": "code",
   "execution_count": 33,
   "metadata": {},
   "outputs": [
    {
     "data": {
      "text/html": [
       "<div>\n",
       "<style scoped>\n",
       "    .dataframe tbody tr th:only-of-type {\n",
       "        vertical-align: middle;\n",
       "    }\n",
       "\n",
       "    .dataframe tbody tr th {\n",
       "        vertical-align: top;\n",
       "    }\n",
       "\n",
       "    .dataframe thead th {\n",
       "        text-align: right;\n",
       "    }\n",
       "</style>\n",
       "<table border=\"1\" class=\"dataframe\">\n",
       "  <thead>\n",
       "    <tr style=\"text-align: right;\">\n",
       "      <th></th>\n",
       "      <th>tax_value</th>\n",
       "      <th>tax_pred_mean</th>\n",
       "      <th>tax_pred_median</th>\n",
       "    </tr>\n",
       "    <tr>\n",
       "      <th>parcelid</th>\n",
       "      <th></th>\n",
       "      <th></th>\n",
       "      <th></th>\n",
       "    </tr>\n",
       "  </thead>\n",
       "  <tbody>\n",
       "    <tr>\n",
       "      <th>17149884</th>\n",
       "      <td>479808.0</td>\n",
       "      <td>394161.501821</td>\n",
       "      <td>338000.0</td>\n",
       "    </tr>\n",
       "    <tr>\n",
       "      <th>17254400</th>\n",
       "      <td>461938.0</td>\n",
       "      <td>394161.501821</td>\n",
       "      <td>338000.0</td>\n",
       "    </tr>\n",
       "    <tr>\n",
       "      <th>11183212</th>\n",
       "      <td>211036.0</td>\n",
       "      <td>394161.501821</td>\n",
       "      <td>338000.0</td>\n",
       "    </tr>\n",
       "    <tr>\n",
       "      <th>14237595</th>\n",
       "      <td>54850.0</td>\n",
       "      <td>394161.501821</td>\n",
       "      <td>338000.0</td>\n",
       "    </tr>\n",
       "    <tr>\n",
       "      <th>11270155</th>\n",
       "      <td>277000.0</td>\n",
       "      <td>394161.501821</td>\n",
       "      <td>338000.0</td>\n",
       "    </tr>\n",
       "  </tbody>\n",
       "</table>\n",
       "</div>"
      ],
      "text/plain": [
       "          tax_value  tax_pred_mean  tax_pred_median\n",
       "parcelid                                           \n",
       "17149884   479808.0  394161.501821         338000.0\n",
       "17254400   461938.0  394161.501821         338000.0\n",
       "11183212   211036.0  394161.501821         338000.0\n",
       "14237595    54850.0  394161.501821         338000.0\n",
       "11270155   277000.0  394161.501821         338000.0"
      ]
     },
     "execution_count": 33,
     "metadata": {},
     "output_type": "execute_result"
    }
   ],
   "source": [
    "y_train.head()"
   ]
  },
  {
   "cell_type": "code",
   "execution_count": 34,
   "metadata": {},
   "outputs": [
    {
     "data": {
      "text/html": [
       "<div>\n",
       "<style scoped>\n",
       "    .dataframe tbody tr th:only-of-type {\n",
       "        vertical-align: middle;\n",
       "    }\n",
       "\n",
       "    .dataframe tbody tr th {\n",
       "        vertical-align: top;\n",
       "    }\n",
       "\n",
       "    .dataframe thead th {\n",
       "        text-align: right;\n",
       "    }\n",
       "</style>\n",
       "<table border=\"1\" class=\"dataframe\">\n",
       "  <thead>\n",
       "    <tr style=\"text-align: right;\">\n",
       "      <th></th>\n",
       "      <th>tax_value</th>\n",
       "      <th>tax_pred_mean</th>\n",
       "      <th>tax_pred_median</th>\n",
       "    </tr>\n",
       "    <tr>\n",
       "      <th>parcelid</th>\n",
       "      <th></th>\n",
       "      <th></th>\n",
       "      <th></th>\n",
       "    </tr>\n",
       "  </thead>\n",
       "  <tbody>\n",
       "    <tr>\n",
       "      <th>14388104</th>\n",
       "      <td>328194.0</td>\n",
       "      <td>394161.501821</td>\n",
       "      <td>338000.0</td>\n",
       "    </tr>\n",
       "    <tr>\n",
       "      <th>11308022</th>\n",
       "      <td>302543.0</td>\n",
       "      <td>394161.501821</td>\n",
       "      <td>338000.0</td>\n",
       "    </tr>\n",
       "    <tr>\n",
       "      <th>10778757</th>\n",
       "      <td>330324.0</td>\n",
       "      <td>394161.501821</td>\n",
       "      <td>338000.0</td>\n",
       "    </tr>\n",
       "    <tr>\n",
       "      <th>11008335</th>\n",
       "      <td>463069.0</td>\n",
       "      <td>394161.501821</td>\n",
       "      <td>338000.0</td>\n",
       "    </tr>\n",
       "    <tr>\n",
       "      <th>14201151</th>\n",
       "      <td>711277.0</td>\n",
       "      <td>394161.501821</td>\n",
       "      <td>338000.0</td>\n",
       "    </tr>\n",
       "  </tbody>\n",
       "</table>\n",
       "</div>"
      ],
      "text/plain": [
       "          tax_value  tax_pred_mean  tax_pred_median\n",
       "parcelid                                           \n",
       "14388104   328194.0  394161.501821         338000.0\n",
       "11308022   302543.0  394161.501821         338000.0\n",
       "10778757   330324.0  394161.501821         338000.0\n",
       "11008335   463069.0  394161.501821         338000.0\n",
       "14201151   711277.0  394161.501821         338000.0"
      ]
     },
     "execution_count": 34,
     "metadata": {},
     "output_type": "execute_result"
    }
   ],
   "source": [
    "y_validate.head()"
   ]
  },
  {
   "cell_type": "code",
   "execution_count": 35,
   "metadata": {},
   "outputs": [],
   "source": [
    "# find residuals\n",
    "\n",
    "y_train['residual_mean'] = y_train['tax_pred_mean'] - y_train['tax_value']\n",
    "y_train['residual_median'] = y_train['tax_pred_median'] - y_train['tax_value']\n",
    "\n",
    "y_validate['residual_mean'] = y_validate['tax_pred_mean'] - y_validate['tax_value']\n",
    "y_validate['residual_median'] = y_validate['tax_pred_median'] - y_validate['tax_value']"
   ]
  },
  {
   "cell_type": "code",
   "execution_count": 36,
   "metadata": {},
   "outputs": [
    {
     "data": {
      "text/html": [
       "<div>\n",
       "<style scoped>\n",
       "    .dataframe tbody tr th:only-of-type {\n",
       "        vertical-align: middle;\n",
       "    }\n",
       "\n",
       "    .dataframe tbody tr th {\n",
       "        vertical-align: top;\n",
       "    }\n",
       "\n",
       "    .dataframe thead th {\n",
       "        text-align: right;\n",
       "    }\n",
       "</style>\n",
       "<table border=\"1\" class=\"dataframe\">\n",
       "  <thead>\n",
       "    <tr style=\"text-align: right;\">\n",
       "      <th></th>\n",
       "      <th>tax_value</th>\n",
       "      <th>tax_pred_mean</th>\n",
       "      <th>tax_pred_median</th>\n",
       "      <th>residual_mean</th>\n",
       "      <th>residual_median</th>\n",
       "    </tr>\n",
       "    <tr>\n",
       "      <th>parcelid</th>\n",
       "      <th></th>\n",
       "      <th></th>\n",
       "      <th></th>\n",
       "      <th></th>\n",
       "      <th></th>\n",
       "    </tr>\n",
       "  </thead>\n",
       "  <tbody>\n",
       "    <tr>\n",
       "      <th>17149884</th>\n",
       "      <td>479808.0</td>\n",
       "      <td>394161.501821</td>\n",
       "      <td>338000.0</td>\n",
       "      <td>-85646.498179</td>\n",
       "      <td>-141808.0</td>\n",
       "    </tr>\n",
       "    <tr>\n",
       "      <th>17254400</th>\n",
       "      <td>461938.0</td>\n",
       "      <td>394161.501821</td>\n",
       "      <td>338000.0</td>\n",
       "      <td>-67776.498179</td>\n",
       "      <td>-123938.0</td>\n",
       "    </tr>\n",
       "    <tr>\n",
       "      <th>11183212</th>\n",
       "      <td>211036.0</td>\n",
       "      <td>394161.501821</td>\n",
       "      <td>338000.0</td>\n",
       "      <td>183125.501821</td>\n",
       "      <td>126964.0</td>\n",
       "    </tr>\n",
       "    <tr>\n",
       "      <th>14237595</th>\n",
       "      <td>54850.0</td>\n",
       "      <td>394161.501821</td>\n",
       "      <td>338000.0</td>\n",
       "      <td>339311.501821</td>\n",
       "      <td>283150.0</td>\n",
       "    </tr>\n",
       "    <tr>\n",
       "      <th>11270155</th>\n",
       "      <td>277000.0</td>\n",
       "      <td>394161.501821</td>\n",
       "      <td>338000.0</td>\n",
       "      <td>117161.501821</td>\n",
       "      <td>61000.0</td>\n",
       "    </tr>\n",
       "  </tbody>\n",
       "</table>\n",
       "</div>"
      ],
      "text/plain": [
       "          tax_value  tax_pred_mean  tax_pred_median  residual_mean  \\\n",
       "parcelid                                                             \n",
       "17149884   479808.0  394161.501821         338000.0  -85646.498179   \n",
       "17254400   461938.0  394161.501821         338000.0  -67776.498179   \n",
       "11183212   211036.0  394161.501821         338000.0  183125.501821   \n",
       "14237595    54850.0  394161.501821         338000.0  339311.501821   \n",
       "11270155   277000.0  394161.501821         338000.0  117161.501821   \n",
       "\n",
       "          residual_median  \n",
       "parcelid                   \n",
       "17149884        -141808.0  \n",
       "17254400        -123938.0  \n",
       "11183212         126964.0  \n",
       "14237595         283150.0  \n",
       "11270155          61000.0  "
      ]
     },
     "execution_count": 36,
     "metadata": {},
     "output_type": "execute_result"
    }
   ],
   "source": [
    "y_train.head()"
   ]
  },
  {
   "cell_type": "code",
   "execution_count": 37,
   "metadata": {},
   "outputs": [
    {
     "data": {
      "text/html": [
       "<div>\n",
       "<style scoped>\n",
       "    .dataframe tbody tr th:only-of-type {\n",
       "        vertical-align: middle;\n",
       "    }\n",
       "\n",
       "    .dataframe tbody tr th {\n",
       "        vertical-align: top;\n",
       "    }\n",
       "\n",
       "    .dataframe thead th {\n",
       "        text-align: right;\n",
       "    }\n",
       "</style>\n",
       "<table border=\"1\" class=\"dataframe\">\n",
       "  <thead>\n",
       "    <tr style=\"text-align: right;\">\n",
       "      <th></th>\n",
       "      <th>tax_value</th>\n",
       "      <th>tax_pred_mean</th>\n",
       "      <th>tax_pred_median</th>\n",
       "      <th>residual_mean</th>\n",
       "      <th>residual_median</th>\n",
       "    </tr>\n",
       "    <tr>\n",
       "      <th>parcelid</th>\n",
       "      <th></th>\n",
       "      <th></th>\n",
       "      <th></th>\n",
       "      <th></th>\n",
       "      <th></th>\n",
       "    </tr>\n",
       "  </thead>\n",
       "  <tbody>\n",
       "    <tr>\n",
       "      <th>14388104</th>\n",
       "      <td>328194.0</td>\n",
       "      <td>394161.501821</td>\n",
       "      <td>338000.0</td>\n",
       "      <td>65967.501821</td>\n",
       "      <td>9806.0</td>\n",
       "    </tr>\n",
       "    <tr>\n",
       "      <th>11308022</th>\n",
       "      <td>302543.0</td>\n",
       "      <td>394161.501821</td>\n",
       "      <td>338000.0</td>\n",
       "      <td>91618.501821</td>\n",
       "      <td>35457.0</td>\n",
       "    </tr>\n",
       "    <tr>\n",
       "      <th>10778757</th>\n",
       "      <td>330324.0</td>\n",
       "      <td>394161.501821</td>\n",
       "      <td>338000.0</td>\n",
       "      <td>63837.501821</td>\n",
       "      <td>7676.0</td>\n",
       "    </tr>\n",
       "    <tr>\n",
       "      <th>11008335</th>\n",
       "      <td>463069.0</td>\n",
       "      <td>394161.501821</td>\n",
       "      <td>338000.0</td>\n",
       "      <td>-68907.498179</td>\n",
       "      <td>-125069.0</td>\n",
       "    </tr>\n",
       "    <tr>\n",
       "      <th>14201151</th>\n",
       "      <td>711277.0</td>\n",
       "      <td>394161.501821</td>\n",
       "      <td>338000.0</td>\n",
       "      <td>-317115.498179</td>\n",
       "      <td>-373277.0</td>\n",
       "    </tr>\n",
       "  </tbody>\n",
       "</table>\n",
       "</div>"
      ],
      "text/plain": [
       "          tax_value  tax_pred_mean  tax_pred_median  residual_mean  \\\n",
       "parcelid                                                             \n",
       "14388104   328194.0  394161.501821         338000.0   65967.501821   \n",
       "11308022   302543.0  394161.501821         338000.0   91618.501821   \n",
       "10778757   330324.0  394161.501821         338000.0   63837.501821   \n",
       "11008335   463069.0  394161.501821         338000.0  -68907.498179   \n",
       "14201151   711277.0  394161.501821         338000.0 -317115.498179   \n",
       "\n",
       "          residual_median  \n",
       "parcelid                   \n",
       "14388104           9806.0  \n",
       "11308022          35457.0  \n",
       "10778757           7676.0  \n",
       "11008335        -125069.0  \n",
       "14201151        -373277.0  "
      ]
     },
     "execution_count": 37,
     "metadata": {},
     "output_type": "execute_result"
    }
   ],
   "source": [
    "y_validate.head()"
   ]
  },
  {
   "cell_type": "code",
   "execution_count": 38,
   "metadata": {},
   "outputs": [
    {
     "data": {
      "text/html": [
       "<div>\n",
       "<style scoped>\n",
       "    .dataframe tbody tr th:only-of-type {\n",
       "        vertical-align: middle;\n",
       "    }\n",
       "\n",
       "    .dataframe tbody tr th {\n",
       "        vertical-align: top;\n",
       "    }\n",
       "\n",
       "    .dataframe thead th {\n",
       "        text-align: right;\n",
       "    }\n",
       "</style>\n",
       "<table border=\"1\" class=\"dataframe\">\n",
       "  <thead>\n",
       "    <tr style=\"text-align: right;\">\n",
       "      <th></th>\n",
       "      <th>tax_value</th>\n",
       "      <th>tax_pred_mean</th>\n",
       "      <th>tax_pred_median</th>\n",
       "      <th>residual_mean</th>\n",
       "      <th>residual_median</th>\n",
       "      <th>residual_mean^2</th>\n",
       "      <th>residual_median^2</th>\n",
       "    </tr>\n",
       "    <tr>\n",
       "      <th>parcelid</th>\n",
       "      <th></th>\n",
       "      <th></th>\n",
       "      <th></th>\n",
       "      <th></th>\n",
       "      <th></th>\n",
       "      <th></th>\n",
       "      <th></th>\n",
       "    </tr>\n",
       "  </thead>\n",
       "  <tbody>\n",
       "    <tr>\n",
       "      <th>17149884</th>\n",
       "      <td>479808.0</td>\n",
       "      <td>394161.501821</td>\n",
       "      <td>338000.0</td>\n",
       "      <td>-85646.498179</td>\n",
       "      <td>-141808.0</td>\n",
       "      <td>7.335323e+09</td>\n",
       "      <td>2.010951e+10</td>\n",
       "    </tr>\n",
       "    <tr>\n",
       "      <th>17254400</th>\n",
       "      <td>461938.0</td>\n",
       "      <td>394161.501821</td>\n",
       "      <td>338000.0</td>\n",
       "      <td>-67776.498179</td>\n",
       "      <td>-123938.0</td>\n",
       "      <td>4.593654e+09</td>\n",
       "      <td>1.536063e+10</td>\n",
       "    </tr>\n",
       "    <tr>\n",
       "      <th>11183212</th>\n",
       "      <td>211036.0</td>\n",
       "      <td>394161.501821</td>\n",
       "      <td>338000.0</td>\n",
       "      <td>183125.501821</td>\n",
       "      <td>126964.0</td>\n",
       "      <td>3.353495e+10</td>\n",
       "      <td>1.611986e+10</td>\n",
       "    </tr>\n",
       "  </tbody>\n",
       "</table>\n",
       "</div>"
      ],
      "text/plain": [
       "          tax_value  tax_pred_mean  tax_pred_median  residual_mean  \\\n",
       "parcelid                                                             \n",
       "17149884   479808.0  394161.501821         338000.0  -85646.498179   \n",
       "17254400   461938.0  394161.501821         338000.0  -67776.498179   \n",
       "11183212   211036.0  394161.501821         338000.0  183125.501821   \n",
       "\n",
       "          residual_median  residual_mean^2  residual_median^2  \n",
       "parcelid                                                       \n",
       "17149884        -141808.0     7.335323e+09       2.010951e+10  \n",
       "17254400        -123938.0     4.593654e+09       1.536063e+10  \n",
       "11183212         126964.0     3.353495e+10       1.611986e+10  "
      ]
     },
     "execution_count": 38,
     "metadata": {},
     "output_type": "execute_result"
    }
   ],
   "source": [
    "# square each residual value\n",
    "y_train['residual_mean^2'] = y_train.residual_mean ** 2\n",
    "y_train['residual_median^2'] = y_train.residual_median ** 2\n",
    "\n",
    "y_validate['residual_mean^2'] = y_validate.residual_mean ** 2\n",
    "y_validate['residual_median^2'] = y_validate.residual_median ** 2\n",
    "\n",
    "y_train.head(3)"
   ]
  },
  {
   "cell_type": "code",
   "execution_count": 39,
   "metadata": {},
   "outputs": [
    {
     "data": {
      "text/html": [
       "<div>\n",
       "<style scoped>\n",
       "    .dataframe tbody tr th:only-of-type {\n",
       "        vertical-align: middle;\n",
       "    }\n",
       "\n",
       "    .dataframe tbody tr th {\n",
       "        vertical-align: top;\n",
       "    }\n",
       "\n",
       "    .dataframe thead th {\n",
       "        text-align: right;\n",
       "    }\n",
       "</style>\n",
       "<table border=\"1\" class=\"dataframe\">\n",
       "  <thead>\n",
       "    <tr style=\"text-align: right;\">\n",
       "      <th></th>\n",
       "      <th>tax_value</th>\n",
       "      <th>tax_pred_mean</th>\n",
       "      <th>tax_pred_median</th>\n",
       "      <th>residual_mean</th>\n",
       "      <th>residual_median</th>\n",
       "      <th>residual_mean^2</th>\n",
       "      <th>residual_median^2</th>\n",
       "    </tr>\n",
       "    <tr>\n",
       "      <th>parcelid</th>\n",
       "      <th></th>\n",
       "      <th></th>\n",
       "      <th></th>\n",
       "      <th></th>\n",
       "      <th></th>\n",
       "      <th></th>\n",
       "      <th></th>\n",
       "    </tr>\n",
       "  </thead>\n",
       "  <tbody>\n",
       "    <tr>\n",
       "      <th>14388104</th>\n",
       "      <td>328194.0</td>\n",
       "      <td>394161.501821</td>\n",
       "      <td>338000.0</td>\n",
       "      <td>65967.501821</td>\n",
       "      <td>9806.0</td>\n",
       "      <td>4.351711e+09</td>\n",
       "      <td>9.615764e+07</td>\n",
       "    </tr>\n",
       "    <tr>\n",
       "      <th>11308022</th>\n",
       "      <td>302543.0</td>\n",
       "      <td>394161.501821</td>\n",
       "      <td>338000.0</td>\n",
       "      <td>91618.501821</td>\n",
       "      <td>35457.0</td>\n",
       "      <td>8.393950e+09</td>\n",
       "      <td>1.257199e+09</td>\n",
       "    </tr>\n",
       "    <tr>\n",
       "      <th>10778757</th>\n",
       "      <td>330324.0</td>\n",
       "      <td>394161.501821</td>\n",
       "      <td>338000.0</td>\n",
       "      <td>63837.501821</td>\n",
       "      <td>7676.0</td>\n",
       "      <td>4.075227e+09</td>\n",
       "      <td>5.892098e+07</td>\n",
       "    </tr>\n",
       "  </tbody>\n",
       "</table>\n",
       "</div>"
      ],
      "text/plain": [
       "          tax_value  tax_pred_mean  tax_pred_median  residual_mean  \\\n",
       "parcelid                                                             \n",
       "14388104   328194.0  394161.501821         338000.0   65967.501821   \n",
       "11308022   302543.0  394161.501821         338000.0   91618.501821   \n",
       "10778757   330324.0  394161.501821         338000.0   63837.501821   \n",
       "\n",
       "          residual_median  residual_mean^2  residual_median^2  \n",
       "parcelid                                                       \n",
       "14388104           9806.0     4.351711e+09       9.615764e+07  \n",
       "11308022          35457.0     8.393950e+09       1.257199e+09  \n",
       "10778757           7676.0     4.075227e+09       5.892098e+07  "
      ]
     },
     "execution_count": 39,
     "metadata": {},
     "output_type": "execute_result"
    }
   ],
   "source": [
    "y_validate.head(3)"
   ]
  },
  {
   "cell_type": "code",
   "execution_count": 40,
   "metadata": {},
   "outputs": [
    {
     "name": "stdout",
     "output_type": "stream",
     "text": [
      "SSE of Mean (Train) =  2038538074236233.2\n",
      "SSE of Median (Train) =  2116488854719490.0\n"
     ]
    }
   ],
   "source": [
    "# SSE\n",
    "SSE_mean = sum(y_train['residual_mean^2'])\n",
    "SSE_median = sum(y_train['residual_median^2'])\n",
    "\n",
    "print(\"SSE of Mean (Train) = \", SSE_mean)\n",
    "print(\"SSE of Median (Train) = \", SSE_median)"
   ]
  },
  {
   "cell_type": "code",
   "execution_count": 41,
   "metadata": {},
   "outputs": [
    {
     "name": "stdout",
     "output_type": "stream",
     "text": [
      "SSE of Mean (Validate) =  919440865627532.0\n",
      "SSE of Median (Validate) =  959894358260441.0\n"
     ]
    }
   ],
   "source": [
    "# SSE\n",
    "SSE_mean_v = sum(y_validate['residual_mean^2'])\n",
    "SSE_median_v = sum(y_validate['residual_median^2'])\n",
    "\n",
    "print(\"SSE of Mean (Validate) = \", SSE_mean_v)\n",
    "print(\"SSE of Median (Validate) = \", SSE_median_v)"
   ]
  },
  {
   "cell_type": "code",
   "execution_count": 42,
   "metadata": {},
   "outputs": [
    {
     "name": "stdout",
     "output_type": "stream",
     "text": [
      "MSE_mean (Train) =  82485153121.15535\n",
      "MSE_median (Train) =  85639267407.92627\n"
     ]
    }
   ],
   "source": [
    "MSE_mean = SSE_mean/len(y_train)\n",
    "MSE_median = SSE_median/len(y_train)\n",
    "\n",
    "print(\"MSE_mean (Train) = \", MSE_mean)\n",
    "print(\"MSE_median (Train) = \", MSE_median)"
   ]
  },
  {
   "cell_type": "code",
   "execution_count": 43,
   "metadata": {},
   "outputs": [
    {
     "name": "stdout",
     "output_type": "stream",
     "text": [
      "MSE_mean (Validate)=  37203239687.121956\n",
      "MSE_median (Validate)=  38840105133.14077\n"
     ]
    }
   ],
   "source": [
    "MSE_mean_v = SSE_mean_v/len(y_train)\n",
    "MSE_median_v = SSE_median_v/len(y_train)\n",
    "\n",
    "print(\"MSE_mean (Validate)= \", MSE_mean_v)\n",
    "print(\"MSE_median (Validate)= \", MSE_median_v)"
   ]
  },
  {
   "cell_type": "code",
   "execution_count": 44,
   "metadata": {},
   "outputs": [
    {
     "name": "stdout",
     "output_type": "stream",
     "text": [
      "RMSE_mean (Train) =  287202.28606533643\n",
      "RMSE_median (Train) =  292641.8756909651\n"
     ]
    }
   ],
   "source": [
    "from math import sqrt\n",
    "RMSE_mean = sqrt(MSE_mean)\n",
    "RMSE_median = sqrt(MSE_median)\n",
    "\n",
    "print(\"RMSE_mean (Train) = \", RMSE_mean)\n",
    "print(\"RMSE_median (Train) = \", RMSE_median)"
   ]
  },
  {
   "cell_type": "code",
   "execution_count": 45,
   "metadata": {},
   "outputs": [
    {
     "name": "stdout",
     "output_type": "stream",
     "text": [
      "RMSE_mean (Validate) =  192881.41353464298\n",
      "RMSE_median (Validate) =  197078.93122589428\n"
     ]
    }
   ],
   "source": [
    "RMSE_mean_v = sqrt(MSE_mean_v)\n",
    "RMSE_median_v = sqrt(MSE_median_v)\n",
    "\n",
    "print(\"RMSE_mean (Validate) = \", RMSE_mean_v)\n",
    "print(\"RMSE_median (Validate) = \", RMSE_median_v)"
   ]
  },
  {
   "cell_type": "markdown",
   "metadata": {},
   "source": [
    "# LinearRegression (OLS)"
   ]
  },
  {
   "cell_type": "code",
   "execution_count": 46,
   "metadata": {},
   "outputs": [],
   "source": [
    "# create the model object\n",
    "lm = LinearRegression(normalize=True)"
   ]
  },
  {
   "cell_type": "code",
   "execution_count": 47,
   "metadata": {},
   "outputs": [
    {
     "data": {
      "text/plain": [
       "LinearRegression(normalize=True)"
      ]
     },
     "execution_count": 47,
     "metadata": {},
     "output_type": "execute_result"
    }
   ],
   "source": [
    "# fit the model to our training data. We must specify the column in y_train, \n",
    "# since we have converted it to a dataframe from a series! \n",
    "lm.fit(X_train, y_train.tax_value)"
   ]
  },
  {
   "cell_type": "code",
   "execution_count": 48,
   "metadata": {},
   "outputs": [],
   "source": [
    "# predict train\n",
    "y_train['tax_pred_lm'] = lm.predict(X_train)"
   ]
  },
  {
   "cell_type": "code",
   "execution_count": 49,
   "metadata": {},
   "outputs": [
    {
     "data": {
      "text/html": [
       "<div>\n",
       "<style scoped>\n",
       "    .dataframe tbody tr th:only-of-type {\n",
       "        vertical-align: middle;\n",
       "    }\n",
       "\n",
       "    .dataframe tbody tr th {\n",
       "        vertical-align: top;\n",
       "    }\n",
       "\n",
       "    .dataframe thead th {\n",
       "        text-align: right;\n",
       "    }\n",
       "</style>\n",
       "<table border=\"1\" class=\"dataframe\">\n",
       "  <thead>\n",
       "    <tr style=\"text-align: right;\">\n",
       "      <th></th>\n",
       "      <th>tax_value</th>\n",
       "      <th>tax_pred_mean</th>\n",
       "      <th>tax_pred_median</th>\n",
       "      <th>residual_mean</th>\n",
       "      <th>residual_median</th>\n",
       "      <th>residual_mean^2</th>\n",
       "      <th>residual_median^2</th>\n",
       "      <th>tax_pred_lm</th>\n",
       "    </tr>\n",
       "    <tr>\n",
       "      <th>parcelid</th>\n",
       "      <th></th>\n",
       "      <th></th>\n",
       "      <th></th>\n",
       "      <th></th>\n",
       "      <th></th>\n",
       "      <th></th>\n",
       "      <th></th>\n",
       "      <th></th>\n",
       "    </tr>\n",
       "  </thead>\n",
       "  <tbody>\n",
       "    <tr>\n",
       "      <th>17149884</th>\n",
       "      <td>479808.0</td>\n",
       "      <td>394161.501821</td>\n",
       "      <td>338000.0</td>\n",
       "      <td>-85646.498179</td>\n",
       "      <td>-141808.0</td>\n",
       "      <td>7.335323e+09</td>\n",
       "      <td>2.010951e+10</td>\n",
       "      <td>417469.083166</td>\n",
       "    </tr>\n",
       "    <tr>\n",
       "      <th>17254400</th>\n",
       "      <td>461938.0</td>\n",
       "      <td>394161.501821</td>\n",
       "      <td>338000.0</td>\n",
       "      <td>-67776.498179</td>\n",
       "      <td>-123938.0</td>\n",
       "      <td>4.593654e+09</td>\n",
       "      <td>1.536063e+10</td>\n",
       "      <td>408017.774506</td>\n",
       "    </tr>\n",
       "    <tr>\n",
       "      <th>11183212</th>\n",
       "      <td>211036.0</td>\n",
       "      <td>394161.501821</td>\n",
       "      <td>338000.0</td>\n",
       "      <td>183125.501821</td>\n",
       "      <td>126964.0</td>\n",
       "      <td>3.353495e+10</td>\n",
       "      <td>1.611986e+10</td>\n",
       "      <td>465705.706799</td>\n",
       "    </tr>\n",
       "    <tr>\n",
       "      <th>14237595</th>\n",
       "      <td>54850.0</td>\n",
       "      <td>394161.501821</td>\n",
       "      <td>338000.0</td>\n",
       "      <td>339311.501821</td>\n",
       "      <td>283150.0</td>\n",
       "      <td>1.151323e+11</td>\n",
       "      <td>8.017392e+10</td>\n",
       "      <td>264148.356803</td>\n",
       "    </tr>\n",
       "    <tr>\n",
       "      <th>11270155</th>\n",
       "      <td>277000.0</td>\n",
       "      <td>394161.501821</td>\n",
       "      <td>338000.0</td>\n",
       "      <td>117161.501821</td>\n",
       "      <td>61000.0</td>\n",
       "      <td>1.372682e+10</td>\n",
       "      <td>3.721000e+09</td>\n",
       "      <td>532306.322998</td>\n",
       "    </tr>\n",
       "  </tbody>\n",
       "</table>\n",
       "</div>"
      ],
      "text/plain": [
       "          tax_value  tax_pred_mean  tax_pred_median  residual_mean  \\\n",
       "parcelid                                                             \n",
       "17149884   479808.0  394161.501821         338000.0  -85646.498179   \n",
       "17254400   461938.0  394161.501821         338000.0  -67776.498179   \n",
       "11183212   211036.0  394161.501821         338000.0  183125.501821   \n",
       "14237595    54850.0  394161.501821         338000.0  339311.501821   \n",
       "11270155   277000.0  394161.501821         338000.0  117161.501821   \n",
       "\n",
       "          residual_median  residual_mean^2  residual_median^2    tax_pred_lm  \n",
       "parcelid                                                                      \n",
       "17149884        -141808.0     7.335323e+09       2.010951e+10  417469.083166  \n",
       "17254400        -123938.0     4.593654e+09       1.536063e+10  408017.774506  \n",
       "11183212         126964.0     3.353495e+10       1.611986e+10  465705.706799  \n",
       "14237595         283150.0     1.151323e+11       8.017392e+10  264148.356803  \n",
       "11270155          61000.0     1.372682e+10       3.721000e+09  532306.322998  "
      ]
     },
     "execution_count": 49,
     "metadata": {},
     "output_type": "execute_result"
    }
   ],
   "source": [
    "y_train.head()"
   ]
  },
  {
   "cell_type": "code",
   "execution_count": 50,
   "metadata": {},
   "outputs": [
    {
     "data": {
      "text/plain": [
       "251226.53695358292"
      ]
     },
     "execution_count": 50,
     "metadata": {},
     "output_type": "execute_result"
    }
   ],
   "source": [
    "# evaluate: rmse\n",
    "rmse_train_lm = sqrt(mean_squared_error(y_train.tax_value, y_train.tax_pred_lm))\n",
    "\n",
    "rmse_train_lm"
   ]
  },
  {
   "cell_type": "code",
   "execution_count": 51,
   "metadata": {},
   "outputs": [
    {
     "data": {
      "text/html": [
       "<div>\n",
       "<style scoped>\n",
       "    .dataframe tbody tr th:only-of-type {\n",
       "        vertical-align: middle;\n",
       "    }\n",
       "\n",
       "    .dataframe tbody tr th {\n",
       "        vertical-align: top;\n",
       "    }\n",
       "\n",
       "    .dataframe thead th {\n",
       "        text-align: right;\n",
       "    }\n",
       "</style>\n",
       "<table border=\"1\" class=\"dataframe\">\n",
       "  <thead>\n",
       "    <tr style=\"text-align: right;\">\n",
       "      <th></th>\n",
       "      <th>tax_value</th>\n",
       "      <th>tax_pred_mean</th>\n",
       "      <th>tax_pred_median</th>\n",
       "      <th>residual_mean</th>\n",
       "      <th>residual_median</th>\n",
       "      <th>residual_mean^2</th>\n",
       "      <th>residual_median^2</th>\n",
       "      <th>tax_pred_lm</th>\n",
       "    </tr>\n",
       "    <tr>\n",
       "      <th>parcelid</th>\n",
       "      <th></th>\n",
       "      <th></th>\n",
       "      <th></th>\n",
       "      <th></th>\n",
       "      <th></th>\n",
       "      <th></th>\n",
       "      <th></th>\n",
       "      <th></th>\n",
       "    </tr>\n",
       "  </thead>\n",
       "  <tbody>\n",
       "    <tr>\n",
       "      <th>14388104</th>\n",
       "      <td>328194.0</td>\n",
       "      <td>394161.501821</td>\n",
       "      <td>338000.0</td>\n",
       "      <td>65967.501821</td>\n",
       "      <td>9806.0</td>\n",
       "      <td>4.351711e+09</td>\n",
       "      <td>9.615764e+07</td>\n",
       "      <td>557094.169444</td>\n",
       "    </tr>\n",
       "    <tr>\n",
       "      <th>11308022</th>\n",
       "      <td>302543.0</td>\n",
       "      <td>394161.501821</td>\n",
       "      <td>338000.0</td>\n",
       "      <td>91618.501821</td>\n",
       "      <td>35457.0</td>\n",
       "      <td>8.393950e+09</td>\n",
       "      <td>1.257199e+09</td>\n",
       "      <td>634989.594658</td>\n",
       "    </tr>\n",
       "    <tr>\n",
       "      <th>10778757</th>\n",
       "      <td>330324.0</td>\n",
       "      <td>394161.501821</td>\n",
       "      <td>338000.0</td>\n",
       "      <td>63837.501821</td>\n",
       "      <td>7676.0</td>\n",
       "      <td>4.075227e+09</td>\n",
       "      <td>5.892098e+07</td>\n",
       "      <td>368366.700034</td>\n",
       "    </tr>\n",
       "    <tr>\n",
       "      <th>11008335</th>\n",
       "      <td>463069.0</td>\n",
       "      <td>394161.501821</td>\n",
       "      <td>338000.0</td>\n",
       "      <td>-68907.498179</td>\n",
       "      <td>-125069.0</td>\n",
       "      <td>4.748243e+09</td>\n",
       "      <td>1.564225e+10</td>\n",
       "      <td>504071.344232</td>\n",
       "    </tr>\n",
       "    <tr>\n",
       "      <th>14201151</th>\n",
       "      <td>711277.0</td>\n",
       "      <td>394161.501821</td>\n",
       "      <td>338000.0</td>\n",
       "      <td>-317115.498179</td>\n",
       "      <td>-373277.0</td>\n",
       "      <td>1.005622e+11</td>\n",
       "      <td>1.393357e+11</td>\n",
       "      <td>480759.897099</td>\n",
       "    </tr>\n",
       "  </tbody>\n",
       "</table>\n",
       "</div>"
      ],
      "text/plain": [
       "          tax_value  tax_pred_mean  tax_pred_median  residual_mean  \\\n",
       "parcelid                                                             \n",
       "14388104   328194.0  394161.501821         338000.0   65967.501821   \n",
       "11308022   302543.0  394161.501821         338000.0   91618.501821   \n",
       "10778757   330324.0  394161.501821         338000.0   63837.501821   \n",
       "11008335   463069.0  394161.501821         338000.0  -68907.498179   \n",
       "14201151   711277.0  394161.501821         338000.0 -317115.498179   \n",
       "\n",
       "          residual_median  residual_mean^2  residual_median^2    tax_pred_lm  \n",
       "parcelid                                                                      \n",
       "14388104           9806.0     4.351711e+09       9.615764e+07  557094.169444  \n",
       "11308022          35457.0     8.393950e+09       1.257199e+09  634989.594658  \n",
       "10778757           7676.0     4.075227e+09       5.892098e+07  368366.700034  \n",
       "11008335        -125069.0     4.748243e+09       1.564225e+10  504071.344232  \n",
       "14201151        -373277.0     1.005622e+11       1.393357e+11  480759.897099  "
      ]
     },
     "execution_count": 51,
     "metadata": {},
     "output_type": "execute_result"
    }
   ],
   "source": [
    "# predict validate\n",
    "y_validate['tax_pred_lm'] = lm.predict(X_validate)\n",
    "\n",
    "y_validate.head()"
   ]
  },
  {
   "cell_type": "code",
   "execution_count": 52,
   "metadata": {},
   "outputs": [
    {
     "data": {
      "text/plain": [
       "260839.94337525286"
      ]
     },
     "execution_count": 52,
     "metadata": {},
     "output_type": "execute_result"
    }
   ],
   "source": [
    "# evaluate: rmse\n",
    "rmse_validate_lm = sqrt(mean_squared_error(y_validate.tax_value, y_validate.tax_pred_lm))\n",
    "\n",
    "rmse_validate_lm"
   ]
  },
  {
   "cell_type": "code",
   "execution_count": 53,
   "metadata": {},
   "outputs": [
    {
     "name": "stdout",
     "output_type": "stream",
     "text": [
      "RMSE for OLS using LinearRegression\n",
      "Training/In-Sample:  251226.53695358292 \n",
      "Validation/Out-of-Sample:  260839.94337525286\n"
     ]
    }
   ],
   "source": [
    "print(\"RMSE for OLS using LinearRegression\\nTraining/In-Sample: \", rmse_train_lm, \n",
    "      \"\\nValidation/Out-of-Sample: \", rmse_validate_lm)"
   ]
  },
  {
   "cell_type": "markdown",
   "metadata": {},
   "source": [
    "# LassoLars"
   ]
  },
  {
   "cell_type": "code",
   "execution_count": 54,
   "metadata": {},
   "outputs": [],
   "source": [
    "# create the model object\n",
    "lars = LassoLars(alpha=1.0)"
   ]
  },
  {
   "cell_type": "code",
   "execution_count": 55,
   "metadata": {},
   "outputs": [
    {
     "data": {
      "text/plain": [
       "LassoLars()"
      ]
     },
     "execution_count": 55,
     "metadata": {},
     "output_type": "execute_result"
    }
   ],
   "source": [
    "# fit the model to our training data. We must specify the column in y_train, \n",
    "# since we have converted it to a dataframe from a series! \n",
    "lars.fit(X_train, y_train.tax_value)"
   ]
  },
  {
   "cell_type": "code",
   "execution_count": 56,
   "metadata": {},
   "outputs": [
    {
     "data": {
      "text/html": [
       "<div>\n",
       "<style scoped>\n",
       "    .dataframe tbody tr th:only-of-type {\n",
       "        vertical-align: middle;\n",
       "    }\n",
       "\n",
       "    .dataframe tbody tr th {\n",
       "        vertical-align: top;\n",
       "    }\n",
       "\n",
       "    .dataframe thead th {\n",
       "        text-align: right;\n",
       "    }\n",
       "</style>\n",
       "<table border=\"1\" class=\"dataframe\">\n",
       "  <thead>\n",
       "    <tr style=\"text-align: right;\">\n",
       "      <th></th>\n",
       "      <th>tax_value</th>\n",
       "      <th>tax_pred_mean</th>\n",
       "      <th>tax_pred_median</th>\n",
       "      <th>residual_mean</th>\n",
       "      <th>residual_median</th>\n",
       "      <th>residual_mean^2</th>\n",
       "      <th>residual_median^2</th>\n",
       "      <th>tax_pred_lm</th>\n",
       "      <th>tax_pred_lars</th>\n",
       "    </tr>\n",
       "    <tr>\n",
       "      <th>parcelid</th>\n",
       "      <th></th>\n",
       "      <th></th>\n",
       "      <th></th>\n",
       "      <th></th>\n",
       "      <th></th>\n",
       "      <th></th>\n",
       "      <th></th>\n",
       "      <th></th>\n",
       "      <th></th>\n",
       "    </tr>\n",
       "  </thead>\n",
       "  <tbody>\n",
       "    <tr>\n",
       "      <th>17149884</th>\n",
       "      <td>479808.0</td>\n",
       "      <td>394161.501821</td>\n",
       "      <td>338000.0</td>\n",
       "      <td>-85646.498179</td>\n",
       "      <td>-141808.0</td>\n",
       "      <td>7.335323e+09</td>\n",
       "      <td>2.010951e+10</td>\n",
       "      <td>417469.083166</td>\n",
       "      <td>417316.706911</td>\n",
       "    </tr>\n",
       "    <tr>\n",
       "      <th>17254400</th>\n",
       "      <td>461938.0</td>\n",
       "      <td>394161.501821</td>\n",
       "      <td>338000.0</td>\n",
       "      <td>-67776.498179</td>\n",
       "      <td>-123938.0</td>\n",
       "      <td>4.593654e+09</td>\n",
       "      <td>1.536063e+10</td>\n",
       "      <td>408017.774506</td>\n",
       "      <td>407228.896215</td>\n",
       "    </tr>\n",
       "    <tr>\n",
       "      <th>11183212</th>\n",
       "      <td>211036.0</td>\n",
       "      <td>394161.501821</td>\n",
       "      <td>338000.0</td>\n",
       "      <td>183125.501821</td>\n",
       "      <td>126964.0</td>\n",
       "      <td>3.353495e+10</td>\n",
       "      <td>1.611986e+10</td>\n",
       "      <td>465705.706799</td>\n",
       "      <td>466863.894923</td>\n",
       "    </tr>\n",
       "    <tr>\n",
       "      <th>14237595</th>\n",
       "      <td>54850.0</td>\n",
       "      <td>394161.501821</td>\n",
       "      <td>338000.0</td>\n",
       "      <td>339311.501821</td>\n",
       "      <td>283150.0</td>\n",
       "      <td>1.151323e+11</td>\n",
       "      <td>8.017392e+10</td>\n",
       "      <td>264148.356803</td>\n",
       "      <td>264617.373093</td>\n",
       "    </tr>\n",
       "    <tr>\n",
       "      <th>11270155</th>\n",
       "      <td>277000.0</td>\n",
       "      <td>394161.501821</td>\n",
       "      <td>338000.0</td>\n",
       "      <td>117161.501821</td>\n",
       "      <td>61000.0</td>\n",
       "      <td>1.372682e+10</td>\n",
       "      <td>3.721000e+09</td>\n",
       "      <td>532306.322998</td>\n",
       "      <td>531988.470452</td>\n",
       "    </tr>\n",
       "  </tbody>\n",
       "</table>\n",
       "</div>"
      ],
      "text/plain": [
       "          tax_value  tax_pred_mean  tax_pred_median  residual_mean  \\\n",
       "parcelid                                                             \n",
       "17149884   479808.0  394161.501821         338000.0  -85646.498179   \n",
       "17254400   461938.0  394161.501821         338000.0  -67776.498179   \n",
       "11183212   211036.0  394161.501821         338000.0  183125.501821   \n",
       "14237595    54850.0  394161.501821         338000.0  339311.501821   \n",
       "11270155   277000.0  394161.501821         338000.0  117161.501821   \n",
       "\n",
       "          residual_median  residual_mean^2  residual_median^2    tax_pred_lm  \\\n",
       "parcelid                                                                       \n",
       "17149884        -141808.0     7.335323e+09       2.010951e+10  417469.083166   \n",
       "17254400        -123938.0     4.593654e+09       1.536063e+10  408017.774506   \n",
       "11183212         126964.0     3.353495e+10       1.611986e+10  465705.706799   \n",
       "14237595         283150.0     1.151323e+11       8.017392e+10  264148.356803   \n",
       "11270155          61000.0     1.372682e+10       3.721000e+09  532306.322998   \n",
       "\n",
       "          tax_pred_lars  \n",
       "parcelid                 \n",
       "17149884  417316.706911  \n",
       "17254400  407228.896215  \n",
       "11183212  466863.894923  \n",
       "14237595  264617.373093  \n",
       "11270155  531988.470452  "
      ]
     },
     "execution_count": 56,
     "metadata": {},
     "output_type": "execute_result"
    }
   ],
   "source": [
    "# predict train\n",
    "y_train['tax_pred_lars'] = lars.predict(X_train)\n",
    "\n",
    "y_train.head()"
   ]
  },
  {
   "cell_type": "code",
   "execution_count": 57,
   "metadata": {},
   "outputs": [
    {
     "data": {
      "text/plain": [
       "251227.22308993991"
      ]
     },
     "execution_count": 57,
     "metadata": {},
     "output_type": "execute_result"
    }
   ],
   "source": [
    "# evaluate: rmse\n",
    "rmse_train_lars = sqrt(mean_squared_error(y_train.tax_value, y_train.tax_pred_lars))\n",
    "\n",
    "rmse_train_lars"
   ]
  },
  {
   "cell_type": "code",
   "execution_count": 58,
   "metadata": {},
   "outputs": [
    {
     "data": {
      "text/html": [
       "<div>\n",
       "<style scoped>\n",
       "    .dataframe tbody tr th:only-of-type {\n",
       "        vertical-align: middle;\n",
       "    }\n",
       "\n",
       "    .dataframe tbody tr th {\n",
       "        vertical-align: top;\n",
       "    }\n",
       "\n",
       "    .dataframe thead th {\n",
       "        text-align: right;\n",
       "    }\n",
       "</style>\n",
       "<table border=\"1\" class=\"dataframe\">\n",
       "  <thead>\n",
       "    <tr style=\"text-align: right;\">\n",
       "      <th></th>\n",
       "      <th>tax_value</th>\n",
       "      <th>tax_pred_mean</th>\n",
       "      <th>tax_pred_median</th>\n",
       "      <th>residual_mean</th>\n",
       "      <th>residual_median</th>\n",
       "      <th>residual_mean^2</th>\n",
       "      <th>residual_median^2</th>\n",
       "      <th>tax_pred_lm</th>\n",
       "      <th>tax_pred_lars</th>\n",
       "    </tr>\n",
       "    <tr>\n",
       "      <th>parcelid</th>\n",
       "      <th></th>\n",
       "      <th></th>\n",
       "      <th></th>\n",
       "      <th></th>\n",
       "      <th></th>\n",
       "      <th></th>\n",
       "      <th></th>\n",
       "      <th></th>\n",
       "      <th></th>\n",
       "    </tr>\n",
       "  </thead>\n",
       "  <tbody>\n",
       "    <tr>\n",
       "      <th>14388104</th>\n",
       "      <td>328194.0</td>\n",
       "      <td>394161.501821</td>\n",
       "      <td>338000.0</td>\n",
       "      <td>65967.501821</td>\n",
       "      <td>9806.0</td>\n",
       "      <td>4.351711e+09</td>\n",
       "      <td>9.615764e+07</td>\n",
       "      <td>557094.169444</td>\n",
       "      <td>556877.661718</td>\n",
       "    </tr>\n",
       "    <tr>\n",
       "      <th>11308022</th>\n",
       "      <td>302543.0</td>\n",
       "      <td>394161.501821</td>\n",
       "      <td>338000.0</td>\n",
       "      <td>91618.501821</td>\n",
       "      <td>35457.0</td>\n",
       "      <td>8.393950e+09</td>\n",
       "      <td>1.257199e+09</td>\n",
       "      <td>634989.594658</td>\n",
       "      <td>635523.759355</td>\n",
       "    </tr>\n",
       "    <tr>\n",
       "      <th>10778757</th>\n",
       "      <td>330324.0</td>\n",
       "      <td>394161.501821</td>\n",
       "      <td>338000.0</td>\n",
       "      <td>63837.501821</td>\n",
       "      <td>7676.0</td>\n",
       "      <td>4.075227e+09</td>\n",
       "      <td>5.892098e+07</td>\n",
       "      <td>368366.700034</td>\n",
       "      <td>368315.080147</td>\n",
       "    </tr>\n",
       "    <tr>\n",
       "      <th>11008335</th>\n",
       "      <td>463069.0</td>\n",
       "      <td>394161.501821</td>\n",
       "      <td>338000.0</td>\n",
       "      <td>-68907.498179</td>\n",
       "      <td>-125069.0</td>\n",
       "      <td>4.748243e+09</td>\n",
       "      <td>1.564225e+10</td>\n",
       "      <td>504071.344232</td>\n",
       "      <td>504384.238194</td>\n",
       "    </tr>\n",
       "    <tr>\n",
       "      <th>14201151</th>\n",
       "      <td>711277.0</td>\n",
       "      <td>394161.501821</td>\n",
       "      <td>338000.0</td>\n",
       "      <td>-317115.498179</td>\n",
       "      <td>-373277.0</td>\n",
       "      <td>1.005622e+11</td>\n",
       "      <td>1.393357e+11</td>\n",
       "      <td>480759.897099</td>\n",
       "      <td>481281.763787</td>\n",
       "    </tr>\n",
       "  </tbody>\n",
       "</table>\n",
       "</div>"
      ],
      "text/plain": [
       "          tax_value  tax_pred_mean  tax_pred_median  residual_mean  \\\n",
       "parcelid                                                             \n",
       "14388104   328194.0  394161.501821         338000.0   65967.501821   \n",
       "11308022   302543.0  394161.501821         338000.0   91618.501821   \n",
       "10778757   330324.0  394161.501821         338000.0   63837.501821   \n",
       "11008335   463069.0  394161.501821         338000.0  -68907.498179   \n",
       "14201151   711277.0  394161.501821         338000.0 -317115.498179   \n",
       "\n",
       "          residual_median  residual_mean^2  residual_median^2    tax_pred_lm  \\\n",
       "parcelid                                                                       \n",
       "14388104           9806.0     4.351711e+09       9.615764e+07  557094.169444   \n",
       "11308022          35457.0     8.393950e+09       1.257199e+09  634989.594658   \n",
       "10778757           7676.0     4.075227e+09       5.892098e+07  368366.700034   \n",
       "11008335        -125069.0     4.748243e+09       1.564225e+10  504071.344232   \n",
       "14201151        -373277.0     1.005622e+11       1.393357e+11  480759.897099   \n",
       "\n",
       "          tax_pred_lars  \n",
       "parcelid                 \n",
       "14388104  556877.661718  \n",
       "11308022  635523.759355  \n",
       "10778757  368315.080147  \n",
       "11008335  504384.238194  \n",
       "14201151  481281.763787  "
      ]
     },
     "execution_count": 58,
     "metadata": {},
     "output_type": "execute_result"
    }
   ],
   "source": [
    "# predict validate\n",
    "y_validate['tax_pred_lars'] = lars.predict(X_validate)\n",
    "\n",
    "y_validate.head()"
   ]
  },
  {
   "cell_type": "code",
   "execution_count": 59,
   "metadata": {},
   "outputs": [
    {
     "data": {
      "text/plain": [
       "260828.69067498902"
      ]
     },
     "execution_count": 59,
     "metadata": {},
     "output_type": "execute_result"
    }
   ],
   "source": [
    "# evaluate: rmse\n",
    "rmse_validate_lars = sqrt(mean_squared_error(y_validate.tax_value, y_validate.tax_pred_lars))\n",
    "\n",
    "rmse_validate_lars"
   ]
  },
  {
   "cell_type": "code",
   "execution_count": 60,
   "metadata": {},
   "outputs": [
    {
     "name": "stdout",
     "output_type": "stream",
     "text": [
      "RMSE for Lasso + Lars\n",
      "Training/In-Sample:  251227.22308993991 \n",
      "Validation/Out-of-Sample:  260828.69067498902\n"
     ]
    }
   ],
   "source": [
    "print(\"RMSE for Lasso + Lars\\nTraining/In-Sample: \", rmse_train_lars, \n",
    "      \"\\nValidation/Out-of-Sample: \", rmse_validate_lars)"
   ]
  },
  {
   "cell_type": "markdown",
   "metadata": {},
   "source": [
    "# TweedieRegressor (GLM)"
   ]
  },
  {
   "cell_type": "code",
   "execution_count": 61,
   "metadata": {},
   "outputs": [],
   "source": [
    "# create the model object\n",
    "glm = TweedieRegressor(power=1, alpha=0)"
   ]
  },
  {
   "cell_type": "code",
   "execution_count": 62,
   "metadata": {},
   "outputs": [
    {
     "data": {
      "text/plain": [
       "TweedieRegressor(alpha=0, power=1)"
      ]
     },
     "execution_count": 62,
     "metadata": {},
     "output_type": "execute_result"
    }
   ],
   "source": [
    "# fit the model to our training data. We must specify the column in y_train, \n",
    "# since we have converted it to a dataframe from a series! \n",
    "glm.fit(X_train, y_train.tax_value)"
   ]
  },
  {
   "cell_type": "code",
   "execution_count": 63,
   "metadata": {},
   "outputs": [
    {
     "data": {
      "text/html": [
       "<div>\n",
       "<style scoped>\n",
       "    .dataframe tbody tr th:only-of-type {\n",
       "        vertical-align: middle;\n",
       "    }\n",
       "\n",
       "    .dataframe tbody tr th {\n",
       "        vertical-align: top;\n",
       "    }\n",
       "\n",
       "    .dataframe thead th {\n",
       "        text-align: right;\n",
       "    }\n",
       "</style>\n",
       "<table border=\"1\" class=\"dataframe\">\n",
       "  <thead>\n",
       "    <tr style=\"text-align: right;\">\n",
       "      <th></th>\n",
       "      <th>tax_value</th>\n",
       "      <th>tax_pred_mean</th>\n",
       "      <th>tax_pred_median</th>\n",
       "      <th>residual_mean</th>\n",
       "      <th>residual_median</th>\n",
       "      <th>residual_mean^2</th>\n",
       "      <th>residual_median^2</th>\n",
       "      <th>tax_pred_lm</th>\n",
       "      <th>tax_pred_lars</th>\n",
       "      <th>tax_pred_glm</th>\n",
       "    </tr>\n",
       "    <tr>\n",
       "      <th>parcelid</th>\n",
       "      <th></th>\n",
       "      <th></th>\n",
       "      <th></th>\n",
       "      <th></th>\n",
       "      <th></th>\n",
       "      <th></th>\n",
       "      <th></th>\n",
       "      <th></th>\n",
       "      <th></th>\n",
       "      <th></th>\n",
       "    </tr>\n",
       "  </thead>\n",
       "  <tbody>\n",
       "    <tr>\n",
       "      <th>17149884</th>\n",
       "      <td>479808.0</td>\n",
       "      <td>394161.501821</td>\n",
       "      <td>338000.0</td>\n",
       "      <td>-85646.498179</td>\n",
       "      <td>-141808.0</td>\n",
       "      <td>7.335323e+09</td>\n",
       "      <td>2.010951e+10</td>\n",
       "      <td>417469.083166</td>\n",
       "      <td>417316.706911</td>\n",
       "      <td>394161.501821</td>\n",
       "    </tr>\n",
       "    <tr>\n",
       "      <th>17254400</th>\n",
       "      <td>461938.0</td>\n",
       "      <td>394161.501821</td>\n",
       "      <td>338000.0</td>\n",
       "      <td>-67776.498179</td>\n",
       "      <td>-123938.0</td>\n",
       "      <td>4.593654e+09</td>\n",
       "      <td>1.536063e+10</td>\n",
       "      <td>408017.774506</td>\n",
       "      <td>407228.896215</td>\n",
       "      <td>394161.501821</td>\n",
       "    </tr>\n",
       "    <tr>\n",
       "      <th>11183212</th>\n",
       "      <td>211036.0</td>\n",
       "      <td>394161.501821</td>\n",
       "      <td>338000.0</td>\n",
       "      <td>183125.501821</td>\n",
       "      <td>126964.0</td>\n",
       "      <td>3.353495e+10</td>\n",
       "      <td>1.611986e+10</td>\n",
       "      <td>465705.706799</td>\n",
       "      <td>466863.894923</td>\n",
       "      <td>394161.501821</td>\n",
       "    </tr>\n",
       "    <tr>\n",
       "      <th>14237595</th>\n",
       "      <td>54850.0</td>\n",
       "      <td>394161.501821</td>\n",
       "      <td>338000.0</td>\n",
       "      <td>339311.501821</td>\n",
       "      <td>283150.0</td>\n",
       "      <td>1.151323e+11</td>\n",
       "      <td>8.017392e+10</td>\n",
       "      <td>264148.356803</td>\n",
       "      <td>264617.373093</td>\n",
       "      <td>394161.501821</td>\n",
       "    </tr>\n",
       "    <tr>\n",
       "      <th>11270155</th>\n",
       "      <td>277000.0</td>\n",
       "      <td>394161.501821</td>\n",
       "      <td>338000.0</td>\n",
       "      <td>117161.501821</td>\n",
       "      <td>61000.0</td>\n",
       "      <td>1.372682e+10</td>\n",
       "      <td>3.721000e+09</td>\n",
       "      <td>532306.322998</td>\n",
       "      <td>531988.470452</td>\n",
       "      <td>394161.501821</td>\n",
       "    </tr>\n",
       "  </tbody>\n",
       "</table>\n",
       "</div>"
      ],
      "text/plain": [
       "          tax_value  tax_pred_mean  tax_pred_median  residual_mean  \\\n",
       "parcelid                                                             \n",
       "17149884   479808.0  394161.501821         338000.0  -85646.498179   \n",
       "17254400   461938.0  394161.501821         338000.0  -67776.498179   \n",
       "11183212   211036.0  394161.501821         338000.0  183125.501821   \n",
       "14237595    54850.0  394161.501821         338000.0  339311.501821   \n",
       "11270155   277000.0  394161.501821         338000.0  117161.501821   \n",
       "\n",
       "          residual_median  residual_mean^2  residual_median^2    tax_pred_lm  \\\n",
       "parcelid                                                                       \n",
       "17149884        -141808.0     7.335323e+09       2.010951e+10  417469.083166   \n",
       "17254400        -123938.0     4.593654e+09       1.536063e+10  408017.774506   \n",
       "11183212         126964.0     3.353495e+10       1.611986e+10  465705.706799   \n",
       "14237595         283150.0     1.151323e+11       8.017392e+10  264148.356803   \n",
       "11270155          61000.0     1.372682e+10       3.721000e+09  532306.322998   \n",
       "\n",
       "          tax_pred_lars   tax_pred_glm  \n",
       "parcelid                                \n",
       "17149884  417316.706911  394161.501821  \n",
       "17254400  407228.896215  394161.501821  \n",
       "11183212  466863.894923  394161.501821  \n",
       "14237595  264617.373093  394161.501821  \n",
       "11270155  531988.470452  394161.501821  "
      ]
     },
     "execution_count": 63,
     "metadata": {},
     "output_type": "execute_result"
    }
   ],
   "source": [
    "# predict train\n",
    "y_train['tax_pred_glm'] = glm.predict(X_train)\n",
    "\n",
    "y_train.head()"
   ]
  },
  {
   "cell_type": "code",
   "execution_count": 64,
   "metadata": {},
   "outputs": [
    {
     "data": {
      "text/plain": [
       "287202.2860653361"
      ]
     },
     "execution_count": 64,
     "metadata": {},
     "output_type": "execute_result"
    }
   ],
   "source": [
    "# evaluate: rmse\n",
    "rmse_train_glm = sqrt(mean_squared_error(y_train.tax_value, y_train.tax_pred_glm))\n",
    "\n",
    "rmse_train_glm"
   ]
  },
  {
   "cell_type": "code",
   "execution_count": 65,
   "metadata": {},
   "outputs": [
    {
     "data": {
      "text/html": [
       "<div>\n",
       "<style scoped>\n",
       "    .dataframe tbody tr th:only-of-type {\n",
       "        vertical-align: middle;\n",
       "    }\n",
       "\n",
       "    .dataframe tbody tr th {\n",
       "        vertical-align: top;\n",
       "    }\n",
       "\n",
       "    .dataframe thead th {\n",
       "        text-align: right;\n",
       "    }\n",
       "</style>\n",
       "<table border=\"1\" class=\"dataframe\">\n",
       "  <thead>\n",
       "    <tr style=\"text-align: right;\">\n",
       "      <th></th>\n",
       "      <th>tax_value</th>\n",
       "      <th>tax_pred_mean</th>\n",
       "      <th>tax_pred_median</th>\n",
       "      <th>residual_mean</th>\n",
       "      <th>residual_median</th>\n",
       "      <th>residual_mean^2</th>\n",
       "      <th>residual_median^2</th>\n",
       "      <th>tax_pred_lm</th>\n",
       "      <th>tax_pred_lars</th>\n",
       "      <th>tax_pred_glm</th>\n",
       "    </tr>\n",
       "    <tr>\n",
       "      <th>parcelid</th>\n",
       "      <th></th>\n",
       "      <th></th>\n",
       "      <th></th>\n",
       "      <th></th>\n",
       "      <th></th>\n",
       "      <th></th>\n",
       "      <th></th>\n",
       "      <th></th>\n",
       "      <th></th>\n",
       "      <th></th>\n",
       "    </tr>\n",
       "  </thead>\n",
       "  <tbody>\n",
       "    <tr>\n",
       "      <th>14388104</th>\n",
       "      <td>328194.0</td>\n",
       "      <td>394161.501821</td>\n",
       "      <td>338000.0</td>\n",
       "      <td>65967.501821</td>\n",
       "      <td>9806.0</td>\n",
       "      <td>4.351711e+09</td>\n",
       "      <td>9.615764e+07</td>\n",
       "      <td>557094.169444</td>\n",
       "      <td>556877.661718</td>\n",
       "      <td>394161.501821</td>\n",
       "    </tr>\n",
       "    <tr>\n",
       "      <th>11308022</th>\n",
       "      <td>302543.0</td>\n",
       "      <td>394161.501821</td>\n",
       "      <td>338000.0</td>\n",
       "      <td>91618.501821</td>\n",
       "      <td>35457.0</td>\n",
       "      <td>8.393950e+09</td>\n",
       "      <td>1.257199e+09</td>\n",
       "      <td>634989.594658</td>\n",
       "      <td>635523.759355</td>\n",
       "      <td>394161.501821</td>\n",
       "    </tr>\n",
       "    <tr>\n",
       "      <th>10778757</th>\n",
       "      <td>330324.0</td>\n",
       "      <td>394161.501821</td>\n",
       "      <td>338000.0</td>\n",
       "      <td>63837.501821</td>\n",
       "      <td>7676.0</td>\n",
       "      <td>4.075227e+09</td>\n",
       "      <td>5.892098e+07</td>\n",
       "      <td>368366.700034</td>\n",
       "      <td>368315.080147</td>\n",
       "      <td>394161.501821</td>\n",
       "    </tr>\n",
       "    <tr>\n",
       "      <th>11008335</th>\n",
       "      <td>463069.0</td>\n",
       "      <td>394161.501821</td>\n",
       "      <td>338000.0</td>\n",
       "      <td>-68907.498179</td>\n",
       "      <td>-125069.0</td>\n",
       "      <td>4.748243e+09</td>\n",
       "      <td>1.564225e+10</td>\n",
       "      <td>504071.344232</td>\n",
       "      <td>504384.238194</td>\n",
       "      <td>394161.501821</td>\n",
       "    </tr>\n",
       "    <tr>\n",
       "      <th>14201151</th>\n",
       "      <td>711277.0</td>\n",
       "      <td>394161.501821</td>\n",
       "      <td>338000.0</td>\n",
       "      <td>-317115.498179</td>\n",
       "      <td>-373277.0</td>\n",
       "      <td>1.005622e+11</td>\n",
       "      <td>1.393357e+11</td>\n",
       "      <td>480759.897099</td>\n",
       "      <td>481281.763787</td>\n",
       "      <td>394161.501821</td>\n",
       "    </tr>\n",
       "  </tbody>\n",
       "</table>\n",
       "</div>"
      ],
      "text/plain": [
       "          tax_value  tax_pred_mean  tax_pred_median  residual_mean  \\\n",
       "parcelid                                                             \n",
       "14388104   328194.0  394161.501821         338000.0   65967.501821   \n",
       "11308022   302543.0  394161.501821         338000.0   91618.501821   \n",
       "10778757   330324.0  394161.501821         338000.0   63837.501821   \n",
       "11008335   463069.0  394161.501821         338000.0  -68907.498179   \n",
       "14201151   711277.0  394161.501821         338000.0 -317115.498179   \n",
       "\n",
       "          residual_median  residual_mean^2  residual_median^2    tax_pred_lm  \\\n",
       "parcelid                                                                       \n",
       "14388104           9806.0     4.351711e+09       9.615764e+07  557094.169444   \n",
       "11308022          35457.0     8.393950e+09       1.257199e+09  634989.594658   \n",
       "10778757           7676.0     4.075227e+09       5.892098e+07  368366.700034   \n",
       "11008335        -125069.0     4.748243e+09       1.564225e+10  504071.344232   \n",
       "14201151        -373277.0     1.005622e+11       1.393357e+11  480759.897099   \n",
       "\n",
       "          tax_pred_lars   tax_pred_glm  \n",
       "parcelid                                \n",
       "14388104  556877.661718  394161.501821  \n",
       "11308022  635523.759355  394161.501821  \n",
       "10778757  368315.080147  394161.501821  \n",
       "11008335  504384.238194  394161.501821  \n",
       "14201151  481281.763787  394161.501821  "
      ]
     },
     "execution_count": 65,
     "metadata": {},
     "output_type": "execute_result"
    }
   ],
   "source": [
    "# predict validate\n",
    "y_validate['tax_pred_glm'] = glm.predict(X_validate)\n",
    "\n",
    "y_validate.head()"
   ]
  },
  {
   "cell_type": "code",
   "execution_count": 66,
   "metadata": {},
   "outputs": [
    {
     "data": {
      "text/plain": [
       "294613.3450699734"
      ]
     },
     "execution_count": 66,
     "metadata": {},
     "output_type": "execute_result"
    }
   ],
   "source": [
    "# evaluate: rmse\n",
    "rmse_validate_glm = mean_squared_error(y_validate.tax_value, y_validate.tax_pred_glm)**(1/2)\n",
    "\n",
    "rmse_validate_glm"
   ]
  },
  {
   "cell_type": "code",
   "execution_count": 67,
   "metadata": {},
   "outputs": [
    {
     "name": "stdout",
     "output_type": "stream",
     "text": [
      "RMSE for GLM using Tweedie, power=1 & alpha=0\n",
      "Training/In-Sample:  287202.2860653361 \n",
      "Validation/Out-of-Sample:  294613.3450699734\n"
     ]
    }
   ],
   "source": [
    "print(\"RMSE for GLM using Tweedie, power=1 & alpha=0\\nTraining/In-Sample: \", rmse_train_glm, \n",
    "      \"\\nValidation/Out-of-Sample: \", rmse_validate_glm)"
   ]
  },
  {
   "cell_type": "markdown",
   "metadata": {},
   "source": [
    "# Polynomial Regression"
   ]
  },
  {
   "cell_type": "markdown",
   "metadata": {},
   "source": [
    "### PolynomialFeatures"
   ]
  },
  {
   "cell_type": "code",
   "execution_count": 68,
   "metadata": {},
   "outputs": [],
   "source": [
    "# make the polynomial features to get a new set of features\n",
    "pf = PolynomialFeatures(degree=2)"
   ]
  },
  {
   "cell_type": "code",
   "execution_count": 69,
   "metadata": {},
   "outputs": [],
   "source": [
    "# fit and transform X_train_scaled\n",
    "X_train_degree2 = pf.fit_transform(X_train)"
   ]
  },
  {
   "cell_type": "code",
   "execution_count": 70,
   "metadata": {},
   "outputs": [],
   "source": [
    "# transform X_validate_scaled & X_test_scaled\n",
    "X_validate_degree2 = pf.transform(X_validate)\n",
    "X_test_degree2 = pf.transform(X_test)"
   ]
  },
  {
   "cell_type": "markdown",
   "metadata": {},
   "source": [
    "### LinearRegression"
   ]
  },
  {
   "cell_type": "code",
   "execution_count": 71,
   "metadata": {},
   "outputs": [],
   "source": [
    "# create the model object\n",
    "lm2 = LinearRegression(normalize=True)"
   ]
  },
  {
   "cell_type": "code",
   "execution_count": 72,
   "metadata": {},
   "outputs": [
    {
     "data": {
      "text/plain": [
       "LinearRegression(normalize=True)"
      ]
     },
     "execution_count": 72,
     "metadata": {},
     "output_type": "execute_result"
    }
   ],
   "source": [
    "# fit the model to our training data. We must specify the column in y_train, \n",
    "# since we have converted it to a dataframe from a series! \n",
    "lm2.fit(X_train_degree2, y_train.tax_value)"
   ]
  },
  {
   "cell_type": "code",
   "execution_count": 73,
   "metadata": {},
   "outputs": [
    {
     "data": {
      "text/html": [
       "<div>\n",
       "<style scoped>\n",
       "    .dataframe tbody tr th:only-of-type {\n",
       "        vertical-align: middle;\n",
       "    }\n",
       "\n",
       "    .dataframe tbody tr th {\n",
       "        vertical-align: top;\n",
       "    }\n",
       "\n",
       "    .dataframe thead th {\n",
       "        text-align: right;\n",
       "    }\n",
       "</style>\n",
       "<table border=\"1\" class=\"dataframe\">\n",
       "  <thead>\n",
       "    <tr style=\"text-align: right;\">\n",
       "      <th></th>\n",
       "      <th>tax_value</th>\n",
       "      <th>tax_pred_mean</th>\n",
       "      <th>tax_pred_median</th>\n",
       "      <th>residual_mean</th>\n",
       "      <th>residual_median</th>\n",
       "      <th>residual_mean^2</th>\n",
       "      <th>residual_median^2</th>\n",
       "      <th>tax_pred_lm</th>\n",
       "      <th>tax_pred_lars</th>\n",
       "      <th>tax_pred_glm</th>\n",
       "      <th>tax_pred_lm2</th>\n",
       "    </tr>\n",
       "    <tr>\n",
       "      <th>parcelid</th>\n",
       "      <th></th>\n",
       "      <th></th>\n",
       "      <th></th>\n",
       "      <th></th>\n",
       "      <th></th>\n",
       "      <th></th>\n",
       "      <th></th>\n",
       "      <th></th>\n",
       "      <th></th>\n",
       "      <th></th>\n",
       "      <th></th>\n",
       "    </tr>\n",
       "  </thead>\n",
       "  <tbody>\n",
       "    <tr>\n",
       "      <th>17149884</th>\n",
       "      <td>479808.0</td>\n",
       "      <td>394161.501821</td>\n",
       "      <td>338000.0</td>\n",
       "      <td>-85646.498179</td>\n",
       "      <td>-141808.0</td>\n",
       "      <td>7.335323e+09</td>\n",
       "      <td>2.010951e+10</td>\n",
       "      <td>417469.083166</td>\n",
       "      <td>417316.706911</td>\n",
       "      <td>394161.501821</td>\n",
       "      <td>442921.370363</td>\n",
       "    </tr>\n",
       "    <tr>\n",
       "      <th>17254400</th>\n",
       "      <td>461938.0</td>\n",
       "      <td>394161.501821</td>\n",
       "      <td>338000.0</td>\n",
       "      <td>-67776.498179</td>\n",
       "      <td>-123938.0</td>\n",
       "      <td>4.593654e+09</td>\n",
       "      <td>1.536063e+10</td>\n",
       "      <td>408017.774506</td>\n",
       "      <td>407228.896215</td>\n",
       "      <td>394161.501821</td>\n",
       "      <td>281151.998872</td>\n",
       "    </tr>\n",
       "    <tr>\n",
       "      <th>11183212</th>\n",
       "      <td>211036.0</td>\n",
       "      <td>394161.501821</td>\n",
       "      <td>338000.0</td>\n",
       "      <td>183125.501821</td>\n",
       "      <td>126964.0</td>\n",
       "      <td>3.353495e+10</td>\n",
       "      <td>1.611986e+10</td>\n",
       "      <td>465705.706799</td>\n",
       "      <td>466863.894923</td>\n",
       "      <td>394161.501821</td>\n",
       "      <td>501324.965024</td>\n",
       "    </tr>\n",
       "    <tr>\n",
       "      <th>14237595</th>\n",
       "      <td>54850.0</td>\n",
       "      <td>394161.501821</td>\n",
       "      <td>338000.0</td>\n",
       "      <td>339311.501821</td>\n",
       "      <td>283150.0</td>\n",
       "      <td>1.151323e+11</td>\n",
       "      <td>8.017392e+10</td>\n",
       "      <td>264148.356803</td>\n",
       "      <td>264617.373093</td>\n",
       "      <td>394161.501821</td>\n",
       "      <td>310845.623316</td>\n",
       "    </tr>\n",
       "    <tr>\n",
       "      <th>11270155</th>\n",
       "      <td>277000.0</td>\n",
       "      <td>394161.501821</td>\n",
       "      <td>338000.0</td>\n",
       "      <td>117161.501821</td>\n",
       "      <td>61000.0</td>\n",
       "      <td>1.372682e+10</td>\n",
       "      <td>3.721000e+09</td>\n",
       "      <td>532306.322998</td>\n",
       "      <td>531988.470452</td>\n",
       "      <td>394161.501821</td>\n",
       "      <td>517439.715361</td>\n",
       "    </tr>\n",
       "  </tbody>\n",
       "</table>\n",
       "</div>"
      ],
      "text/plain": [
       "          tax_value  tax_pred_mean  tax_pred_median  residual_mean  \\\n",
       "parcelid                                                             \n",
       "17149884   479808.0  394161.501821         338000.0  -85646.498179   \n",
       "17254400   461938.0  394161.501821         338000.0  -67776.498179   \n",
       "11183212   211036.0  394161.501821         338000.0  183125.501821   \n",
       "14237595    54850.0  394161.501821         338000.0  339311.501821   \n",
       "11270155   277000.0  394161.501821         338000.0  117161.501821   \n",
       "\n",
       "          residual_median  residual_mean^2  residual_median^2    tax_pred_lm  \\\n",
       "parcelid                                                                       \n",
       "17149884        -141808.0     7.335323e+09       2.010951e+10  417469.083166   \n",
       "17254400        -123938.0     4.593654e+09       1.536063e+10  408017.774506   \n",
       "11183212         126964.0     3.353495e+10       1.611986e+10  465705.706799   \n",
       "14237595         283150.0     1.151323e+11       8.017392e+10  264148.356803   \n",
       "11270155          61000.0     1.372682e+10       3.721000e+09  532306.322998   \n",
       "\n",
       "          tax_pred_lars   tax_pred_glm   tax_pred_lm2  \n",
       "parcelid                                               \n",
       "17149884  417316.706911  394161.501821  442921.370363  \n",
       "17254400  407228.896215  394161.501821  281151.998872  \n",
       "11183212  466863.894923  394161.501821  501324.965024  \n",
       "14237595  264617.373093  394161.501821  310845.623316  \n",
       "11270155  531988.470452  394161.501821  517439.715361  "
      ]
     },
     "execution_count": 73,
     "metadata": {},
     "output_type": "execute_result"
    }
   ],
   "source": [
    "# predict train\n",
    "y_train['tax_pred_lm2'] = lm2.predict(X_train_degree2)\n",
    "\n",
    "y_train.head()"
   ]
  },
  {
   "cell_type": "code",
   "execution_count": 74,
   "metadata": {},
   "outputs": [
    {
     "data": {
      "text/plain": [
       "247855.3049842007"
      ]
     },
     "execution_count": 74,
     "metadata": {},
     "output_type": "execute_result"
    }
   ],
   "source": [
    "# evaluate: rmse\n",
    "rmse_train_lm2 = mean_squared_error(y_train.tax_value, y_train.tax_pred_lm2)**(1/2)\n",
    "\n",
    "rmse_train_lm2"
   ]
  },
  {
   "cell_type": "code",
   "execution_count": 75,
   "metadata": {},
   "outputs": [
    {
     "data": {
      "text/html": [
       "<div>\n",
       "<style scoped>\n",
       "    .dataframe tbody tr th:only-of-type {\n",
       "        vertical-align: middle;\n",
       "    }\n",
       "\n",
       "    .dataframe tbody tr th {\n",
       "        vertical-align: top;\n",
       "    }\n",
       "\n",
       "    .dataframe thead th {\n",
       "        text-align: right;\n",
       "    }\n",
       "</style>\n",
       "<table border=\"1\" class=\"dataframe\">\n",
       "  <thead>\n",
       "    <tr style=\"text-align: right;\">\n",
       "      <th></th>\n",
       "      <th>tax_value</th>\n",
       "      <th>tax_pred_mean</th>\n",
       "      <th>tax_pred_median</th>\n",
       "      <th>residual_mean</th>\n",
       "      <th>residual_median</th>\n",
       "      <th>residual_mean^2</th>\n",
       "      <th>residual_median^2</th>\n",
       "      <th>tax_pred_lm</th>\n",
       "      <th>tax_pred_lars</th>\n",
       "      <th>tax_pred_glm</th>\n",
       "      <th>tax_pred_lm2</th>\n",
       "    </tr>\n",
       "    <tr>\n",
       "      <th>parcelid</th>\n",
       "      <th></th>\n",
       "      <th></th>\n",
       "      <th></th>\n",
       "      <th></th>\n",
       "      <th></th>\n",
       "      <th></th>\n",
       "      <th></th>\n",
       "      <th></th>\n",
       "      <th></th>\n",
       "      <th></th>\n",
       "      <th></th>\n",
       "    </tr>\n",
       "  </thead>\n",
       "  <tbody>\n",
       "    <tr>\n",
       "      <th>14388104</th>\n",
       "      <td>328194.0</td>\n",
       "      <td>394161.501821</td>\n",
       "      <td>338000.0</td>\n",
       "      <td>65967.501821</td>\n",
       "      <td>9806.0</td>\n",
       "      <td>4.351711e+09</td>\n",
       "      <td>9.615764e+07</td>\n",
       "      <td>557094.169444</td>\n",
       "      <td>556877.661718</td>\n",
       "      <td>394161.501821</td>\n",
       "      <td>585608.961253</td>\n",
       "    </tr>\n",
       "    <tr>\n",
       "      <th>11308022</th>\n",
       "      <td>302543.0</td>\n",
       "      <td>394161.501821</td>\n",
       "      <td>338000.0</td>\n",
       "      <td>91618.501821</td>\n",
       "      <td>35457.0</td>\n",
       "      <td>8.393950e+09</td>\n",
       "      <td>1.257199e+09</td>\n",
       "      <td>634989.594658</td>\n",
       "      <td>635523.759355</td>\n",
       "      <td>394161.501821</td>\n",
       "      <td>564736.386155</td>\n",
       "    </tr>\n",
       "    <tr>\n",
       "      <th>10778757</th>\n",
       "      <td>330324.0</td>\n",
       "      <td>394161.501821</td>\n",
       "      <td>338000.0</td>\n",
       "      <td>63837.501821</td>\n",
       "      <td>7676.0</td>\n",
       "      <td>4.075227e+09</td>\n",
       "      <td>5.892098e+07</td>\n",
       "      <td>368366.700034</td>\n",
       "      <td>368315.080147</td>\n",
       "      <td>394161.501821</td>\n",
       "      <td>349896.478461</td>\n",
       "    </tr>\n",
       "    <tr>\n",
       "      <th>11008335</th>\n",
       "      <td>463069.0</td>\n",
       "      <td>394161.501821</td>\n",
       "      <td>338000.0</td>\n",
       "      <td>-68907.498179</td>\n",
       "      <td>-125069.0</td>\n",
       "      <td>4.748243e+09</td>\n",
       "      <td>1.564225e+10</td>\n",
       "      <td>504071.344232</td>\n",
       "      <td>504384.238194</td>\n",
       "      <td>394161.501821</td>\n",
       "      <td>513571.903511</td>\n",
       "    </tr>\n",
       "    <tr>\n",
       "      <th>14201151</th>\n",
       "      <td>711277.0</td>\n",
       "      <td>394161.501821</td>\n",
       "      <td>338000.0</td>\n",
       "      <td>-317115.498179</td>\n",
       "      <td>-373277.0</td>\n",
       "      <td>1.005622e+11</td>\n",
       "      <td>1.393357e+11</td>\n",
       "      <td>480759.897099</td>\n",
       "      <td>481281.763787</td>\n",
       "      <td>394161.501821</td>\n",
       "      <td>526776.100178</td>\n",
       "    </tr>\n",
       "  </tbody>\n",
       "</table>\n",
       "</div>"
      ],
      "text/plain": [
       "          tax_value  tax_pred_mean  tax_pred_median  residual_mean  \\\n",
       "parcelid                                                             \n",
       "14388104   328194.0  394161.501821         338000.0   65967.501821   \n",
       "11308022   302543.0  394161.501821         338000.0   91618.501821   \n",
       "10778757   330324.0  394161.501821         338000.0   63837.501821   \n",
       "11008335   463069.0  394161.501821         338000.0  -68907.498179   \n",
       "14201151   711277.0  394161.501821         338000.0 -317115.498179   \n",
       "\n",
       "          residual_median  residual_mean^2  residual_median^2    tax_pred_lm  \\\n",
       "parcelid                                                                       \n",
       "14388104           9806.0     4.351711e+09       9.615764e+07  557094.169444   \n",
       "11308022          35457.0     8.393950e+09       1.257199e+09  634989.594658   \n",
       "10778757           7676.0     4.075227e+09       5.892098e+07  368366.700034   \n",
       "11008335        -125069.0     4.748243e+09       1.564225e+10  504071.344232   \n",
       "14201151        -373277.0     1.005622e+11       1.393357e+11  480759.897099   \n",
       "\n",
       "          tax_pred_lars   tax_pred_glm   tax_pred_lm2  \n",
       "parcelid                                               \n",
       "14388104  556877.661718  394161.501821  585608.961253  \n",
       "11308022  635523.759355  394161.501821  564736.386155  \n",
       "10778757  368315.080147  394161.501821  349896.478461  \n",
       "11008335  504384.238194  394161.501821  513571.903511  \n",
       "14201151  481281.763787  394161.501821  526776.100178  "
      ]
     },
     "execution_count": 75,
     "metadata": {},
     "output_type": "execute_result"
    }
   ],
   "source": [
    "# predict validate\n",
    "y_validate['tax_pred_lm2'] = lm2.predict(X_validate_degree2)\n",
    "\n",
    "y_validate.head()"
   ]
  },
  {
   "cell_type": "code",
   "execution_count": 76,
   "metadata": {},
   "outputs": [
    {
     "data": {
      "text/plain": [
       "257359.9213461035"
      ]
     },
     "execution_count": 76,
     "metadata": {},
     "output_type": "execute_result"
    }
   ],
   "source": [
    "# evaluate: rmse\n",
    "rmse_validate_lm2 = mean_squared_error(y_validate.tax_value, y_validate.tax_pred_lm2)**(1/2)\n",
    "\n",
    "rmse_validate_lm2"
   ]
  },
  {
   "cell_type": "code",
   "execution_count": 77,
   "metadata": {},
   "outputs": [
    {
     "name": "stdout",
     "output_type": "stream",
     "text": [
      "RMSE for Polynomial Model, degrees=2\n",
      "Training/In-Sample:  247855.3049842007 \n",
      "Validation/Out-of-Sample:  257359.9213461035\n"
     ]
    }
   ],
   "source": [
    "print(\"RMSE for Polynomial Model, degrees=2\\nTraining/In-Sample: \", rmse_train_lm2, \n",
    "      \"\\nValidation/Out-of-Sample: \", rmse_validate_lm2)"
   ]
  },
  {
   "cell_type": "markdown",
   "metadata": {},
   "source": [
    "# Evaluate"
   ]
  },
  {
   "cell_type": "markdown",
   "metadata": {},
   "source": [
    "### Plotting Actual vs. Predicted Values"
   ]
  },
  {
   "cell_type": "code",
   "execution_count": 78,
   "metadata": {},
   "outputs": [
    {
     "data": {
      "image/png": "[encoded data removed]",
      "text/plain": [
       "<Figure size 1152x576 with 1 Axes>"
      ]
     },
     "metadata": {
      "needs_background": "light"
     },
     "output_type": "display_data"
    }
   ],
   "source": [
    "# y_validate.head()\n",
    "plt.figure(figsize=(16,8))\n",
    "plt.plot(y_validate.tax_value, y_validate.tax_pred_mean, alpha=.5, color=\"gray\", label='_nolegend_')\n",
    "plt.annotate(\"Baseline: Predict Using Mean\", (16, 9.5))\n",
    "plt.plot(y_validate.tax_value, y_validate.tax_value, alpha=.5, color=\"blue\", label='_nolegend_')\n",
    "plt.annotate(\"The Ideal Line: Predicted = Actual\", (.5, 3.5), rotation=15.5)\n",
    "\n",
    "plt.scatter(y_validate.tax_value, y_validate.tax_pred_lm, \n",
    "            alpha=.5, color=\"red\", s=100, label=\"Model: LinearRegression\")\n",
    "plt.scatter(y_validate.tax_value, y_validate.tax_pred_lars, \n",
    "            alpha=.5, color=\"blue\", s=100, label=\"Model: LassoLars\")\n",
    "plt.scatter(y_validate.tax_value, y_validate.tax_pred_glm, \n",
    "            alpha=.5, color=\"yellow\", s=100, label=\"Model: TweedieRegressor\")\n",
    "plt.scatter(y_validate.tax_value, y_validate.tax_pred_lm2, \n",
    "            alpha=.5, color=\"green\", s=100, label=\"Model 2nd degree Polynomial\")\n",
    "plt.legend()\n",
    "plt.xlabel(\"Actual Tax Value\")\n",
    "plt.ylabel(\"Predicted Tax Value\")\n",
    "plt.title(\"Where are predictions more extreme? More modest?\")\n",
    "# plt.annotate(\"The polynomial model appears to overreact to noise\", (2.0, -10))\n",
    "# plt.annotate(\"The OLS model (LinearRegression)\\n appears to be most consistent\", (15.5, 3))\n",
    "plt.show()"
   ]
  },
  {
   "cell_type": "code",
   "execution_count": 79,
   "metadata": {},
   "outputs": [
    {
     "data": {
      "image/png": "[encoded data removed]",
      "text/plain": [
       "<Figure size 1152x576 with 1 Axes>"
      ]
     },
     "metadata": {
      "needs_background": "light"
     },
     "output_type": "display_data"
    }
   ],
   "source": [
    "# y_validate.head()\n",
    "plt.figure(figsize=(16,8))\n",
    "plt.axhline(label=\"No Error\")\n",
    "plt.scatter(y_validate.tax_value, y_validate.tax_pred_lm-y_validate.tax_value, \n",
    "            alpha=.5, color=\"red\", s=100, label=\"Model: LinearRegression\")\n",
    "plt.scatter(y_validate.tax_value, y_validate.tax_pred_lars-y_validate.tax_value, \n",
    "            alpha=.5, color=\"blue\", s=100, label=\"Model: LassoLars\")\n",
    "plt.scatter(y_validate.tax_value, y_validate.tax_pred_glm-y_validate.tax_value, \n",
    "            alpha=.5, color=\"yellow\", s=100, label=\"Model: TweedieRegressor\")\n",
    "plt.scatter(y_validate.tax_value, y_validate.tax_pred_lm2-y_validate.tax_value, \n",
    "            alpha=.5, color=\"green\", s=100, label=\"Model 2nd degree Polynomial\")\n",
    "plt.legend()\n",
    "plt.xlabel(\"Actual Tax Value\")\n",
    "plt.ylabel(\"Residual/Error: Predicted Tax Value - Actual Tax Value\")\n",
    "plt.title(\"Do the size of errors change as the actual value changes?\")\n",
    "plt.show()"
   ]
  },
  {
   "cell_type": "code",
   "execution_count": 80,
   "metadata": {},
   "outputs": [
    {
     "data": {
      "image/png": "[encoded data removed]",
      "text/plain": [
       "<Figure size 1152x576 with 1 Axes>"
      ]
     },
     "metadata": {
      "needs_background": "light"
     },
     "output_type": "display_data"
    }
   ],
   "source": [
    "# plot to visualize actual vs predicted. \n",
    "plt.figure(figsize=(16,8))\n",
    "plt.hist(y_validate.tax_value, color='purple', alpha=.5, label=\"Actual Tax Value\")\n",
    "plt.hist(y_validate.tax_pred_lm, color='red', alpha=.5, label=\"Model: LinearRegression\")\n",
    "plt.hist(y_validate.tax_pred_lars, color='blue', alpha=.5, label=\"Model: LassoLars\")\n",
    "plt.hist(y_validate.tax_pred_glm, color='yellow', alpha=.5, label=\"Model: TweedieRegressor\")\n",
    "plt.hist(y_validate.tax_pred_lm2, color='green', alpha=.5, label=\"Model 2nd degree Polynomial\")\n",
    "plt.xlabel(\"Tax Value\")\n",
    "plt.ylabel(\"Number of Homes\")\n",
    "plt.title(\"Comparing the Distribution of Actual Tax Value to Distributions of Predicted Tax Values for the Top Models\")\n",
    "plt.legend()\n",
    "plt.show()"
   ]
  },
  {
   "cell_type": "code",
   "execution_count": 81,
   "metadata": {},
   "outputs": [
    {
     "name": "stdout",
     "output_type": "stream",
     "text": [
      "RMSE for OLS using LinearRegression\n",
      "Training/In-Sample:  251226.53695358292 \n",
      "Validation/Out-of-Sample:  260839.94337525286\n",
      "------------------------------------------------------------------------------------\n",
      "RMSE for Lasso + Lars\n",
      "Training/In-Sample:  251227.22308993991 \n",
      "Validation/Out-of-Sample:  260828.69067498902\n",
      "------------------------------------------------------------------------------------\n",
      "RMSE for GLM using Tweedie, power=1 & alpha=0\n",
      "Training/In-Sample:  287202.2860653361 \n",
      "Validation/Out-of-Sample:  294613.3450699734\n",
      "------------------------------------------------------------------------------------\n",
      "RMSE for Polynomial Model, degrees=2\n",
      "Training/In-Sample:  247855.3049842007 \n",
      "Validation/Out-of-Sample:  257359.9213461035\n"
     ]
    }
   ],
   "source": [
    "print(\"RMSE for OLS using LinearRegression\\nTraining/In-Sample: \", rmse_train_lm, \n",
    "      \"\\nValidation/Out-of-Sample: \", rmse_validate_lm)\n",
    "\n",
    "print('------------------------------------------------------------------------------------')\n",
    "\n",
    "print(\"RMSE for Lasso + Lars\\nTraining/In-Sample: \", rmse_train_lars, \n",
    "      \"\\nValidation/Out-of-Sample: \", rmse_validate_lars)\n",
    "\n",
    "print('------------------------------------------------------------------------------------')\n",
    "\n",
    "print(\"RMSE for GLM using Tweedie, power=1 & alpha=0\\nTraining/In-Sample: \", rmse_train_glm, \n",
    "      \"\\nValidation/Out-of-Sample: \", rmse_validate_glm)\n",
    "\n",
    "print('------------------------------------------------------------------------------------')\n",
    "\n",
    "print(\"RMSE for Polynomial Model, degrees=2\\nTraining/In-Sample: \", rmse_train_lm2, \n",
    "      \"\\nValidation/Out-of-Sample: \", rmse_validate_lm2)"
   ]
  },
  {
   "cell_type": "code",
   "execution_count": 82,
   "metadata": {},
   "outputs": [],
   "source": [
    "## the polynomial model appears to do marginally better than all the other models"
   ]
  },
  {
   "cell_type": "markdown",
   "metadata": {},
   "source": [
    "# Test Best Model"
   ]
  },
  {
   "cell_type": "code",
   "execution_count": 83,
   "metadata": {},
   "outputs": [],
   "source": [
    "## make y test a dataframe\n",
    "\n",
    "y_test = pd.DataFrame(y_test)"
   ]
  },
  {
   "cell_type": "code",
   "execution_count": 84,
   "metadata": {},
   "outputs": [],
   "source": [
    "# predict on test\n",
    "y_test['tax_pred_lm2'] = lm2.predict(X_test_degree2)"
   ]
  },
  {
   "cell_type": "code",
   "execution_count": 85,
   "metadata": {},
   "outputs": [
    {
     "data": {
      "text/html": [
       "<div>\n",
       "<style scoped>\n",
       "    .dataframe tbody tr th:only-of-type {\n",
       "        vertical-align: middle;\n",
       "    }\n",
       "\n",
       "    .dataframe tbody tr th {\n",
       "        vertical-align: top;\n",
       "    }\n",
       "\n",
       "    .dataframe thead th {\n",
       "        text-align: right;\n",
       "    }\n",
       "</style>\n",
       "<table border=\"1\" class=\"dataframe\">\n",
       "  <thead>\n",
       "    <tr style=\"text-align: right;\">\n",
       "      <th></th>\n",
       "      <th>tax_value</th>\n",
       "      <th>tax_pred_lm2</th>\n",
       "    </tr>\n",
       "    <tr>\n",
       "      <th>parcelid</th>\n",
       "      <th></th>\n",
       "      <th></th>\n",
       "    </tr>\n",
       "  </thead>\n",
       "  <tbody>\n",
       "    <tr>\n",
       "      <th>17238290</th>\n",
       "      <td>136868.0</td>\n",
       "      <td>235565.543899</td>\n",
       "    </tr>\n",
       "    <tr>\n",
       "      <th>12265597</th>\n",
       "      <td>180374.0</td>\n",
       "      <td>306617.714716</td>\n",
       "    </tr>\n",
       "    <tr>\n",
       "      <th>11312364</th>\n",
       "      <td>167666.0</td>\n",
       "      <td>279629.402283</td>\n",
       "    </tr>\n",
       "    <tr>\n",
       "      <th>13000409</th>\n",
       "      <td>54624.0</td>\n",
       "      <td>282785.522205</td>\n",
       "    </tr>\n",
       "    <tr>\n",
       "      <th>12267495</th>\n",
       "      <td>204169.0</td>\n",
       "      <td>280730.260832</td>\n",
       "    </tr>\n",
       "  </tbody>\n",
       "</table>\n",
       "</div>"
      ],
      "text/plain": [
       "          tax_value   tax_pred_lm2\n",
       "parcelid                          \n",
       "17238290   136868.0  235565.543899\n",
       "12265597   180374.0  306617.714716\n",
       "11312364   167666.0  279629.402283\n",
       "13000409    54624.0  282785.522205\n",
       "12267495   204169.0  280730.260832"
      ]
     },
     "execution_count": 85,
     "metadata": {},
     "output_type": "execute_result"
    }
   ],
   "source": [
    "y_test.head()"
   ]
  },
  {
   "cell_type": "code",
   "execution_count": 86,
   "metadata": {},
   "outputs": [],
   "source": [
    "\n",
    "# evaluate: rmse\n",
    "rmse_test = mean_squared_error(y_test.tax_value, y_test.tax_pred_lm2)**(1/2)"
   ]
  },
  {
   "cell_type": "code",
   "execution_count": 87,
   "metadata": {},
   "outputs": [
    {
     "name": "stdout",
     "output_type": "stream",
     "text": [
      "RMSE for OLS Model using LinearRegression\n",
      "Out-of-Sample Performance:  253431.95397904594\n"
     ]
    }
   ],
   "source": [
    "print(\"RMSE for OLS Model using LinearRegression\\nOut-of-Sample Performance: \", rmse_test)"
   ]
  },
  {
   "cell_type": "code",
   "execution_count": 100,
   "metadata": {},
   "outputs": [
    {
     "name": "stdout",
     "output_type": "stream",
     "text": [
      "RMSE_mean (Train) =  287202.28606533643\n",
      "RMSE_median (Train) =  292641.8756909651\n"
     ]
    }
   ],
   "source": [
    "print(\"RMSE_mean (Train) = \", RMSE_mean)\n",
    "print(\"RMSE_median (Train) = \", RMSE_median)"
   ]
  },
  {
   "cell_type": "markdown",
   "metadata": {},
   "source": [
    "# Feature Engineering"
   ]
  },
  {
   "cell_type": "markdown",
   "metadata": {},
   "source": [
    "### SelectKBest"
   ]
  },
  {
   "cell_type": "code",
   "execution_count": 88,
   "metadata": {},
   "outputs": [],
   "source": [
    "from sklearn.feature_selection import SelectKBest, f_regression\n",
    "\n",
    "# parameters: f_regression stats test, give me 3 features\n",
    "f_selector = SelectKBest(f_regression, k=3)"
   ]
  },
  {
   "cell_type": "code",
   "execution_count": 89,
   "metadata": {},
   "outputs": [
    {
     "data": {
      "text/plain": [
       "SelectKBest(k=3, score_func=<function f_regression at 0x7fe0f5350dc0>)"
      ]
     },
     "execution_count": 89,
     "metadata": {},
     "output_type": "execute_result"
    }
   ],
   "source": [
    "# find the top 3 X's correlated with y\n",
    "f_selector.fit(X_train, y_train.tax_value)"
   ]
  },
  {
   "cell_type": "code",
   "execution_count": 90,
   "metadata": {},
   "outputs": [],
   "source": [
    "# boolean mask of whether the column was selected or not. \n",
    "feature_mask = f_selector.get_support()"
   ]
  },
  {
   "cell_type": "code",
   "execution_count": 91,
   "metadata": {},
   "outputs": [
    {
     "data": {
      "text/plain": [
       "['square_feet', 'bedrooms', 'bathrooms']"
      ]
     },
     "execution_count": 91,
     "metadata": {},
     "output_type": "execute_result"
    }
   ],
   "source": [
    "# get list of top K features. \n",
    "f_feature = X_train.iloc[:,feature_mask].columns.tolist()\n",
    "\n",
    "f_feature"
   ]
  },
  {
   "cell_type": "markdown",
   "metadata": {},
   "source": [
    "### Recursive Feature Elimination"
   ]
  },
  {
   "cell_type": "code",
   "execution_count": 92,
   "metadata": {},
   "outputs": [],
   "source": [
    "from sklearn.linear_model import LinearRegression\n",
    "from sklearn.feature_selection import RFE"
   ]
  },
  {
   "cell_type": "code",
   "execution_count": 93,
   "metadata": {},
   "outputs": [],
   "source": [
    "# initialize the ML algorithm\n",
    "lm = LinearRegression()"
   ]
  },
  {
   "cell_type": "code",
   "execution_count": 94,
   "metadata": {},
   "outputs": [],
   "source": [
    "# create the rfe object, indicating the ML object (lm) and the number of features I want to end up with. \n",
    "rfe = RFE(lm, 3)"
   ]
  },
  {
   "cell_type": "code",
   "execution_count": 95,
   "metadata": {},
   "outputs": [
    {
     "data": {
      "text/plain": [
       "RFE(estimator=LinearRegression(), n_features_to_select=3)"
      ]
     },
     "execution_count": 95,
     "metadata": {},
     "output_type": "execute_result"
    }
   ],
   "source": [
    "# fit the data using RFE\n",
    "rfe.fit(X_train,y_train)  "
   ]
  },
  {
   "cell_type": "code",
   "execution_count": 96,
   "metadata": {},
   "outputs": [],
   "source": [
    "# get the mask of the columns selected\n",
    "feature_mask = rfe.support_"
   ]
  },
  {
   "cell_type": "code",
   "execution_count": 97,
   "metadata": {},
   "outputs": [
    {
     "data": {
      "text/plain": [
       "['bedrooms', 'bathrooms', 'house_age']"
      ]
     },
     "execution_count": 97,
     "metadata": {},
     "output_type": "execute_result"
    }
   ],
   "source": [
    "# get list of the column names. \n",
    "rfe_feature = X_train.iloc[:,feature_mask].columns.tolist()\n",
    "\n",
    "rfe_feature"
   ]
  },
  {
   "cell_type": "code",
   "execution_count": 98,
   "metadata": {},
   "outputs": [
    {
     "data": {
      "text/html": [
       "<div>\n",
       "<style scoped>\n",
       "    .dataframe tbody tr th:only-of-type {\n",
       "        vertical-align: middle;\n",
       "    }\n",
       "\n",
       "    .dataframe tbody tr th {\n",
       "        vertical-align: top;\n",
       "    }\n",
       "\n",
       "    .dataframe thead th {\n",
       "        text-align: right;\n",
       "    }\n",
       "</style>\n",
       "<table border=\"1\" class=\"dataframe\">\n",
       "  <thead>\n",
       "    <tr style=\"text-align: right;\">\n",
       "      <th></th>\n",
       "      <th>Var</th>\n",
       "      <th>Rank</th>\n",
       "    </tr>\n",
       "  </thead>\n",
       "  <tbody>\n",
       "    <tr>\n",
       "      <th>1</th>\n",
       "      <td>bedrooms</td>\n",
       "      <td>1</td>\n",
       "    </tr>\n",
       "    <tr>\n",
       "      <th>2</th>\n",
       "      <td>bathrooms</td>\n",
       "      <td>1</td>\n",
       "    </tr>\n",
       "    <tr>\n",
       "      <th>5</th>\n",
       "      <td>house_age</td>\n",
       "      <td>1</td>\n",
       "    </tr>\n",
       "    <tr>\n",
       "      <th>3</th>\n",
       "      <td>fips</td>\n",
       "      <td>2</td>\n",
       "    </tr>\n",
       "    <tr>\n",
       "      <th>0</th>\n",
       "      <td>square_feet</td>\n",
       "      <td>3</td>\n",
       "    </tr>\n",
       "    <tr>\n",
       "      <th>4</th>\n",
       "      <td>lot_size</td>\n",
       "      <td>4</td>\n",
       "    </tr>\n",
       "  </tbody>\n",
       "</table>\n",
       "</div>"
      ],
      "text/plain": [
       "           Var  Rank\n",
       "1     bedrooms     1\n",
       "2    bathrooms     1\n",
       "5    house_age     1\n",
       "3         fips     2\n",
       "0  square_feet     3\n",
       "4     lot_size     4"
      ]
     },
     "execution_count": 98,
     "metadata": {},
     "output_type": "execute_result"
    }
   ],
   "source": [
    "# view list of columns and their ranking\n",
    "\n",
    "# get the ranks\n",
    "var_ranks = rfe.ranking_\n",
    "# get the variable names\n",
    "var_names = X_train.columns.tolist()\n",
    "# combine ranks and names into a df for clean viewing\n",
    "rfe_ranks_df = pd.DataFrame({'Var': var_names, 'Rank': var_ranks})\n",
    "# sort the df by rank\n",
    "rfe_ranks_df.sort_values('Rank')"
   ]
  },
  {
   "cell_type": "code",
   "execution_count": 99,
   "metadata": {},
   "outputs": [],
   "source": [
    "## bedrooms and bathrooms showed up on both SelectKBest and RFE"
   ]
  },
  {
   "cell_type": "code",
   "execution_count": null,
   "metadata": {},
   "outputs": [],
   "source": []
  }
 ],
 "metadata": {
  "kernelspec": {
   "display_name": "Python 3",
   "language": "python",
   "name": "python3"
  },
  "language_info": {
   "codemirror_mode": {
    "name": "ipython",
    "version": 3
   },
   "file_extension": ".py",
   "mimetype": "text/x-python",
   "name": "python",
   "nbconvert_exporter": "python",
   "pygments_lexer": "ipython3",
   "version": "3.8.5"
  }
 },
 "nbformat": 4,
 "nbformat_minor": 4
}
