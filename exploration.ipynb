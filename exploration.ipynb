{
 "cells": [
  {
   "cell_type": "code",
   "execution_count": 1,
   "metadata": {},
   "outputs": [],
   "source": [
    "import matplotlib.pyplot as plt\n",
    "import seaborn as sns\n",
    "\n",
    "import pandas as pd\n",
    "import numpy as np\n",
    "import matplotlib.pyplot as plt\n",
    "import seaborn as sns\n",
    "from sklearn.model_selection import train_test_split\n",
    "import warnings\n",
    "warnings.filterwarnings(\"ignore\")\n",
    "\n",
    "import env\n",
    "import wrangle\n",
    "\n",
    "from wrangle import wrangle_zillow\n",
    "from wrangle import split\n"
   ]
  },
  {
   "cell_type": "code",
   "execution_count": 2,
   "metadata": {},
   "outputs": [],
   "source": [
    "from wrangle import scale_data\n",
    "from wrangle import seperate_y"
   ]
  },
  {
   "cell_type": "code",
   "execution_count": 3,
   "metadata": {},
   "outputs": [],
   "source": [
    "df = wrangle_zillow()"
   ]
  },
  {
   "cell_type": "code",
   "execution_count": 4,
   "metadata": {},
   "outputs": [
    {
     "data": {
      "text/html": [
       "<div>\n",
       "<style scoped>\n",
       "    .dataframe tbody tr th:only-of-type {\n",
       "        vertical-align: middle;\n",
       "    }\n",
       "\n",
       "    .dataframe tbody tr th {\n",
       "        vertical-align: top;\n",
       "    }\n",
       "\n",
       "    .dataframe thead th {\n",
       "        text-align: right;\n",
       "    }\n",
       "</style>\n",
       "<table border=\"1\" class=\"dataframe\">\n",
       "  <thead>\n",
       "    <tr style=\"text-align: right;\">\n",
       "      <th></th>\n",
       "      <th>square_feet</th>\n",
       "      <th>bedrooms</th>\n",
       "      <th>bathrooms</th>\n",
       "      <th>taxes</th>\n",
       "      <th>yearbuilt</th>\n",
       "      <th>county</th>\n",
       "      <th>lot_size</th>\n",
       "      <th>tax_value</th>\n",
       "    </tr>\n",
       "    <tr>\n",
       "      <th>parcelid</th>\n",
       "      <th></th>\n",
       "      <th></th>\n",
       "      <th></th>\n",
       "      <th></th>\n",
       "      <th></th>\n",
       "      <th></th>\n",
       "      <th></th>\n",
       "      <th></th>\n",
       "    </tr>\n",
       "  </thead>\n",
       "  <tbody>\n",
       "    <tr>\n",
       "      <th>12177905</th>\n",
       "      <td>2376.0</td>\n",
       "      <td>4.0</td>\n",
       "      <td>3.0</td>\n",
       "      <td>1777.51</td>\n",
       "      <td>1970.0</td>\n",
       "      <td>3101.0</td>\n",
       "      <td>13038.0</td>\n",
       "      <td>145143.0</td>\n",
       "    </tr>\n",
       "    <tr>\n",
       "      <th>10887214</th>\n",
       "      <td>1312.0</td>\n",
       "      <td>3.0</td>\n",
       "      <td>3.0</td>\n",
       "      <td>1533.89</td>\n",
       "      <td>1964.0</td>\n",
       "      <td>3101.0</td>\n",
       "      <td>278581.0</td>\n",
       "      <td>119407.0</td>\n",
       "    </tr>\n",
       "    <tr>\n",
       "      <th>12095076</th>\n",
       "      <td>2962.0</td>\n",
       "      <td>4.0</td>\n",
       "      <td>3.0</td>\n",
       "      <td>9516.26</td>\n",
       "      <td>1950.0</td>\n",
       "      <td>3101.0</td>\n",
       "      <td>63000.0</td>\n",
       "      <td>773303.0</td>\n",
       "    </tr>\n",
       "    <tr>\n",
       "      <th>12069064</th>\n",
       "      <td>738.0</td>\n",
       "      <td>2.0</td>\n",
       "      <td>1.0</td>\n",
       "      <td>2366.08</td>\n",
       "      <td>1922.0</td>\n",
       "      <td>3101.0</td>\n",
       "      <td>4214.0</td>\n",
       "      <td>218552.0</td>\n",
       "    </tr>\n",
       "    <tr>\n",
       "      <th>12790562</th>\n",
       "      <td>3039.0</td>\n",
       "      <td>4.0</td>\n",
       "      <td>3.0</td>\n",
       "      <td>3104.19</td>\n",
       "      <td>1970.0</td>\n",
       "      <td>3101.0</td>\n",
       "      <td>20028.0</td>\n",
       "      <td>220583.0</td>\n",
       "    </tr>\n",
       "  </tbody>\n",
       "</table>\n",
       "</div>"
      ],
      "text/plain": [
       "          square_feet  bedrooms  bathrooms    taxes  yearbuilt  county  \\\n",
       "parcelid                                                                 \n",
       "12177905       2376.0       4.0        3.0  1777.51     1970.0  3101.0   \n",
       "10887214       1312.0       3.0        3.0  1533.89     1964.0  3101.0   \n",
       "12095076       2962.0       4.0        3.0  9516.26     1950.0  3101.0   \n",
       "12069064        738.0       2.0        1.0  2366.08     1922.0  3101.0   \n",
       "12790562       3039.0       4.0        3.0  3104.19     1970.0  3101.0   \n",
       "\n",
       "          lot_size  tax_value  \n",
       "parcelid                       \n",
       "12177905   13038.0   145143.0  \n",
       "10887214  278581.0   119407.0  \n",
       "12095076   63000.0   773303.0  \n",
       "12069064    4214.0   218552.0  \n",
       "12790562   20028.0   220583.0  "
      ]
     },
     "execution_count": 4,
     "metadata": {},
     "output_type": "execute_result"
    }
   ],
   "source": [
    "df.head()"
   ]
  },
  {
   "cell_type": "code",
   "execution_count": 6,
   "metadata": {},
   "outputs": [
    {
     "data": {
      "text/plain": [
       "(57057, 8)"
      ]
     },
     "execution_count": 6,
     "metadata": {},
     "output_type": "execute_result"
    }
   ],
   "source": [
    "df.shape"
   ]
  },
  {
   "cell_type": "code",
   "execution_count": 5,
   "metadata": {},
   "outputs": [],
   "source": [
    "train, validate, test = split(df)"
   ]
  },
  {
   "cell_type": "code",
   "execution_count": 7,
   "metadata": {},
   "outputs": [
    {
     "data": {
      "text/plain": [
       "(31951, 8)"
      ]
     },
     "execution_count": 7,
     "metadata": {},
     "output_type": "execute_result"
    }
   ],
   "source": [
    "train.shape"
   ]
  },
  {
   "cell_type": "code",
   "execution_count": 8,
   "metadata": {},
   "outputs": [
    {
     "data": {
      "text/plain": [
       "(13694, 8)"
      ]
     },
     "execution_count": 8,
     "metadata": {},
     "output_type": "execute_result"
    }
   ],
   "source": [
    "validate.shape"
   ]
  },
  {
   "cell_type": "code",
   "execution_count": 9,
   "metadata": {},
   "outputs": [
    {
     "data": {
      "text/plain": [
       "(11412, 8)"
      ]
     },
     "execution_count": 9,
     "metadata": {},
     "output_type": "execute_result"
    }
   ],
   "source": [
    "test.shape"
   ]
  },
  {
   "cell_type": "code",
   "execution_count": 10,
   "metadata": {},
   "outputs": [],
   "source": [
    "X_train, y_train, X_validate, y_validate, X_test, y_test = seperate_y(train, validate, test)"
   ]
  },
  {
   "cell_type": "code",
   "execution_count": 11,
   "metadata": {},
   "outputs": [
    {
     "data": {
      "text/html": [
       "<div>\n",
       "<style scoped>\n",
       "    .dataframe tbody tr th:only-of-type {\n",
       "        vertical-align: middle;\n",
       "    }\n",
       "\n",
       "    .dataframe tbody tr th {\n",
       "        vertical-align: top;\n",
       "    }\n",
       "\n",
       "    .dataframe thead th {\n",
       "        text-align: right;\n",
       "    }\n",
       "</style>\n",
       "<table border=\"1\" class=\"dataframe\">\n",
       "  <thead>\n",
       "    <tr style=\"text-align: right;\">\n",
       "      <th></th>\n",
       "      <th>square_feet</th>\n",
       "      <th>bedrooms</th>\n",
       "      <th>bathrooms</th>\n",
       "      <th>taxes</th>\n",
       "      <th>yearbuilt</th>\n",
       "      <th>county</th>\n",
       "      <th>lot_size</th>\n",
       "    </tr>\n",
       "    <tr>\n",
       "      <th>parcelid</th>\n",
       "      <th></th>\n",
       "      <th></th>\n",
       "      <th></th>\n",
       "      <th></th>\n",
       "      <th></th>\n",
       "      <th></th>\n",
       "      <th></th>\n",
       "    </tr>\n",
       "  </thead>\n",
       "  <tbody>\n",
       "    <tr>\n",
       "      <th>12794645</th>\n",
       "      <td>1467.0</td>\n",
       "      <td>3.0</td>\n",
       "      <td>2.0</td>\n",
       "      <td>1206.35</td>\n",
       "      <td>1958.0</td>\n",
       "      <td>3101.0</td>\n",
       "      <td>9743.0</td>\n",
       "    </tr>\n",
       "    <tr>\n",
       "      <th>11150935</th>\n",
       "      <td>2086.0</td>\n",
       "      <td>3.0</td>\n",
       "      <td>3.0</td>\n",
       "      <td>7874.20</td>\n",
       "      <td>2005.0</td>\n",
       "      <td>3101.0</td>\n",
       "      <td>19215.0</td>\n",
       "    </tr>\n",
       "    <tr>\n",
       "      <th>12819463</th>\n",
       "      <td>1472.0</td>\n",
       "      <td>4.0</td>\n",
       "      <td>3.0</td>\n",
       "      <td>3693.69</td>\n",
       "      <td>1954.0</td>\n",
       "      <td>3101.0</td>\n",
       "      <td>5517.0</td>\n",
       "    </tr>\n",
       "    <tr>\n",
       "      <th>11621154</th>\n",
       "      <td>1800.0</td>\n",
       "      <td>2.0</td>\n",
       "      <td>2.0</td>\n",
       "      <td>8455.09</td>\n",
       "      <td>1974.0</td>\n",
       "      <td>3101.0</td>\n",
       "      <td>25059.0</td>\n",
       "    </tr>\n",
       "    <tr>\n",
       "      <th>12772236</th>\n",
       "      <td>968.0</td>\n",
       "      <td>3.0</td>\n",
       "      <td>1.0</td>\n",
       "      <td>4954.28</td>\n",
       "      <td>1954.0</td>\n",
       "      <td>3101.0</td>\n",
       "      <td>5118.0</td>\n",
       "    </tr>\n",
       "  </tbody>\n",
       "</table>\n",
       "</div>"
      ],
      "text/plain": [
       "          square_feet  bedrooms  bathrooms    taxes  yearbuilt  county  \\\n",
       "parcelid                                                                 \n",
       "12794645       1467.0       3.0        2.0  1206.35     1958.0  3101.0   \n",
       "11150935       2086.0       3.0        3.0  7874.20     2005.0  3101.0   \n",
       "12819463       1472.0       4.0        3.0  3693.69     1954.0  3101.0   \n",
       "11621154       1800.0       2.0        2.0  8455.09     1974.0  3101.0   \n",
       "12772236        968.0       3.0        1.0  4954.28     1954.0  3101.0   \n",
       "\n",
       "          lot_size  \n",
       "parcelid            \n",
       "12794645    9743.0  \n",
       "11150935   19215.0  \n",
       "12819463    5517.0  \n",
       "11621154   25059.0  \n",
       "12772236    5118.0  "
      ]
     },
     "execution_count": 11,
     "metadata": {},
     "output_type": "execute_result"
    }
   ],
   "source": [
    "X_train.head()"
   ]
  },
  {
   "cell_type": "code",
   "execution_count": 12,
   "metadata": {},
   "outputs": [
    {
     "data": {
      "text/plain": [
       "parcelid\n",
       "12794645     71187.0\n",
       "11150935    500000.0\n",
       "12819463    305838.0\n",
       "11621154    698985.0\n",
       "12772236    406217.0\n",
       "Name: tax_value, dtype: float64"
      ]
     },
     "execution_count": 12,
     "metadata": {},
     "output_type": "execute_result"
    }
   ],
   "source": [
    "y_train.head()"
   ]
  },
  {
   "cell_type": "code",
   "execution_count": 13,
   "metadata": {},
   "outputs": [],
   "source": [
    "train_scaled, validate_scaled, test_scaled = scale_data(X_train, X_validate, X_test)"
   ]
  },
  {
   "cell_type": "code",
   "execution_count": 14,
   "metadata": {},
   "outputs": [
    {
     "data": {
      "text/html": [
       "<div>\n",
       "<style scoped>\n",
       "    .dataframe tbody tr th:only-of-type {\n",
       "        vertical-align: middle;\n",
       "    }\n",
       "\n",
       "    .dataframe tbody tr th {\n",
       "        vertical-align: top;\n",
       "    }\n",
       "\n",
       "    .dataframe thead th {\n",
       "        text-align: right;\n",
       "    }\n",
       "</style>\n",
       "<table border=\"1\" class=\"dataframe\">\n",
       "  <thead>\n",
       "    <tr style=\"text-align: right;\">\n",
       "      <th></th>\n",
       "      <th>square_feet</th>\n",
       "      <th>bedrooms</th>\n",
       "      <th>bathrooms</th>\n",
       "      <th>taxes</th>\n",
       "      <th>yearbuilt</th>\n",
       "      <th>county</th>\n",
       "      <th>lot_size</th>\n",
       "    </tr>\n",
       "  </thead>\n",
       "  <tbody>\n",
       "    <tr>\n",
       "      <th>0</th>\n",
       "      <td>0.056572</td>\n",
       "      <td>0.3</td>\n",
       "      <td>0.153846</td>\n",
       "      <td>0.003970</td>\n",
       "      <td>0.579710</td>\n",
       "      <td>1.0</td>\n",
       "      <td>0.001335</td>\n",
       "    </tr>\n",
       "    <tr>\n",
       "      <th>1</th>\n",
       "      <td>0.085112</td>\n",
       "      <td>0.3</td>\n",
       "      <td>0.230769</td>\n",
       "      <td>0.026888</td>\n",
       "      <td>0.920290</td>\n",
       "      <td>1.0</td>\n",
       "      <td>0.002694</td>\n",
       "    </tr>\n",
       "    <tr>\n",
       "      <th>2</th>\n",
       "      <td>0.056803</td>\n",
       "      <td>0.4</td>\n",
       "      <td>0.230769</td>\n",
       "      <td>0.012519</td>\n",
       "      <td>0.550725</td>\n",
       "      <td>1.0</td>\n",
       "      <td>0.000729</td>\n",
       "    </tr>\n",
       "    <tr>\n",
       "      <th>3</th>\n",
       "      <td>0.071926</td>\n",
       "      <td>0.2</td>\n",
       "      <td>0.153846</td>\n",
       "      <td>0.028884</td>\n",
       "      <td>0.695652</td>\n",
       "      <td>1.0</td>\n",
       "      <td>0.003533</td>\n",
       "    </tr>\n",
       "    <tr>\n",
       "      <th>4</th>\n",
       "      <td>0.033565</td>\n",
       "      <td>0.3</td>\n",
       "      <td>0.076923</td>\n",
       "      <td>0.016852</td>\n",
       "      <td>0.550725</td>\n",
       "      <td>1.0</td>\n",
       "      <td>0.000672</td>\n",
       "    </tr>\n",
       "  </tbody>\n",
       "</table>\n",
       "</div>"
      ],
      "text/plain": [
       "   square_feet  bedrooms  bathrooms     taxes  yearbuilt  county  lot_size\n",
       "0     0.056572       0.3   0.153846  0.003970   0.579710     1.0  0.001335\n",
       "1     0.085112       0.3   0.230769  0.026888   0.920290     1.0  0.002694\n",
       "2     0.056803       0.4   0.230769  0.012519   0.550725     1.0  0.000729\n",
       "3     0.071926       0.2   0.153846  0.028884   0.695652     1.0  0.003533\n",
       "4     0.033565       0.3   0.076923  0.016852   0.550725     1.0  0.000672"
      ]
     },
     "execution_count": 14,
     "metadata": {},
     "output_type": "execute_result"
    }
   ],
   "source": [
    "train_scaled.head()"
   ]
  },
  {
   "cell_type": "code",
   "execution_count": 22,
   "metadata": {},
   "outputs": [
    {
     "data": {
      "text/plain": [
       "(array([2.195e+04, 7.215e+03, 1.462e+03, 6.060e+02, 2.650e+02, 1.600e+02,\n",
       "        9.100e+01, 5.000e+01, 3.200e+01, 2.300e+01, 1.600e+01, 1.600e+01,\n",
       "        1.100e+01, 1.500e+01, 5.000e+00, 3.000e+00, 2.000e+00, 5.000e+00,\n",
       "        2.000e+00, 2.000e+00, 5.000e+00, 1.000e+00, 2.000e+00, 1.000e+00,\n",
       "        0.000e+00, 2.000e+00, 1.000e+00, 1.000e+00, 0.000e+00, 0.000e+00,\n",
       "        0.000e+00, 1.000e+00, 1.000e+00, 0.000e+00, 1.000e+00, 0.000e+00,\n",
       "        0.000e+00, 0.000e+00, 1.000e+00, 0.000e+00, 0.000e+00, 1.000e+00,\n",
       "        0.000e+00, 0.000e+00, 0.000e+00, 0.000e+00, 1.000e+00, 0.000e+00,\n",
       "        0.000e+00, 1.000e+00]),\n",
       " array([1.00000000e+03, 4.87893900e+05, 9.74787800e+05, 1.46168170e+06,\n",
       "        1.94857560e+06, 2.43546950e+06, 2.92236340e+06, 3.40925730e+06,\n",
       "        3.89615120e+06, 4.38304510e+06, 4.86993900e+06, 5.35683290e+06,\n",
       "        5.84372680e+06, 6.33062070e+06, 6.81751460e+06, 7.30440850e+06,\n",
       "        7.79130240e+06, 8.27819630e+06, 8.76509020e+06, 9.25198410e+06,\n",
       "        9.73887800e+06, 1.02257719e+07, 1.07126658e+07, 1.11995597e+07,\n",
       "        1.16864536e+07, 1.21733475e+07, 1.26602414e+07, 1.31471353e+07,\n",
       "        1.36340292e+07, 1.41209231e+07, 1.46078170e+07, 1.50947109e+07,\n",
       "        1.55816048e+07, 1.60684987e+07, 1.65553926e+07, 1.70422865e+07,\n",
       "        1.75291804e+07, 1.80160743e+07, 1.85029682e+07, 1.89898621e+07,\n",
       "        1.94767560e+07, 1.99636499e+07, 2.04505438e+07, 2.09374377e+07,\n",
       "        2.14243316e+07, 2.19112255e+07, 2.23981194e+07, 2.28850133e+07,\n",
       "        2.33719072e+07, 2.38588011e+07, 2.43456950e+07]),\n",
       " <BarContainer object of 50 artists>)"
      ]
     },
     "execution_count": 22,
     "metadata": {},
     "output_type": "execute_result"
    },
    {
     "data": {
      "image/png": "[encoded data removed]",
      "text/plain": [
       "<Figure size 432x288 with 1 Axes>"
      ]
     },
     "metadata": {
      "needs_background": "light"
     },
     "output_type": "display_data"
    }
   ],
   "source": [
    "plt.hist(y_train, bins = 50)"
   ]
  },
  {
   "cell_type": "code",
   "execution_count": null,
   "metadata": {},
   "outputs": [],
   "source": []
  }
 ],
 "metadata": {
  "kernelspec": {
   "display_name": "Python 3",
   "language": "python",
   "name": "python3"
  },
  "language_info": {
   "codemirror_mode": {
    "name": "ipython",
    "version": 3
   },
   "file_extension": ".py",
   "mimetype": "text/x-python",
   "name": "python",
   "nbconvert_exporter": "python",
   "pygments_lexer": "ipython3",
   "version": "3.8.5"
  }
 },
 "nbformat": 4,
 "nbformat_minor": 4
}
